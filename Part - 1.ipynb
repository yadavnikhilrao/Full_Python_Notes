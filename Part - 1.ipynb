{
 "cells": [
  {
   "cell_type": "markdown",
   "id": "02f042f2",
   "metadata": {},
   "source": [
    "# Introduction"
   ]
  },
  {
   "cell_type": "markdown",
   "id": "b3747f1a",
   "metadata": {},
   "source": [
    "- Python is a general purpose high level programming language.\n",
    "- Python was developed by __Guido Van Rossam in 1989__ while working at National\n",
    "  Research Institute at Netherlands.\n",
    "- But officially Python was made available to public in 1991.\n",
    "- The official Date of Birth for Python is : Feb 20th 1991.\n",
    "- Python is recommended as first programming language for beginners.\n"
   ]
  },
  {
   "cell_type": "raw",
   "id": "49c80715",
   "metadata": {},
   "source": [
    "Eg1: To print Helloworld:\n",
    "\n",
    "In C:\n",
    "\n",
    "1) #include<stdio.h>\n",
    "2) void main()\n",
    "3) {\n",
    "4) print(\"Hello world\");\n",
    "5) } \n",
    "\n",
    "In Python:\n",
    "\n",
    "1) print(\"Hello World\")"
   ]
  },
  {
   "cell_type": "raw",
   "id": "6c68d588",
   "metadata": {},
   "source": [
    "Eg2: To print the sum of 2 numbers\n",
    "\n",
    "In C:\n",
    "\n",
    "1) #include <stdio.h>\n",
    "2)\n",
    "3) void main()\n",
    "4) {\n",
    "5) int a,b;\n",
    "6) a =10;\n",
    "7) b=20;\n",
    "8) printf(\"The Sum:%d\",(a+b));\n",
    "9) }\n",
    "\n",
    "In Python:\n",
    "\n",
    "1) a=10\n",
    "2) b=20\n",
    "3) print(\"The Sum:\",(a+b))"
   ]
  },
  {
   "cell_type": "markdown",
   "id": "817983db",
   "metadata": {},
   "source": [
    "The name Python was selected from the TV Show\n",
    "__\"The Complete Monty Python's Circus\"__, which was broadcasted in BBC from 1969 to 1974.\n",
    "Guido developed Python language by taking almost all programming features from\n",
    "different languages\n",
    "1. Functional Programming Features from C\n",
    "2. Object Oriented Programming Features from C++\n",
    "3. Scripting Language Features from Perl and Shell Script\n",
    "4. Modular Programming Features from Modula-3\n",
    "\n",
    "\n",
    "Most of syntax in Python Derived from C and ABC languages."
   ]
  },
  {
   "cell_type": "markdown",
   "id": "c7595355",
   "metadata": {},
   "source": [
    "Where we can use Python:\n",
    "We can use everywhere. The most common important application areas are\n",
    "1. For developing Desktop Applications\n",
    "2. For developing web Applications\n",
    "3. For developing database Applications\n",
    "4. For Network Programming\n",
    "5. For developing games\n",
    "6. For Data Analysis Applications\n",
    "7. For Machine Learning\n",
    "8. For developing Artificial Intelligence Applications\n",
    "9. For IOT\n",
    "\n",
    "...\n",
    "\n",
    "\n",
    "Note:\n",
    "Internally Google and Youtube use Python coding\n",
    "NASA and Nework Stock Exchange Applications developed by Python.\n",
    "Top Software companies like Google, Microsoft, IBM, Yahoo using Python.\n"
   ]
  },
  {
   "cell_type": "markdown",
   "id": "c60909fb",
   "metadata": {},
   "source": [
    "### Features of Python:\n",
    "___1. Simple and easy to learn:___\n",
    "\n",
    "Python is a simple programming language. When we read Python program,we can feel like reading english statements.\n",
    "The syntaxes are very simple and only 30+ kerywords are available.\n",
    "\n",
    "When compared with other languages, we can write programs with very less number of lines. Hence more simplicity.\n",
    "We can reduce development and cost of the project.\n",
    "\n",
    "\n",
    "___2. Freeware and Open Source:___\n",
    "\n",
    "We can use Python software without any licence and it is freeware.\n",
    "Its source code is open,so that we can we can customize based on our requirement.\n",
    "\n",
    "Eg: Jython is customized version of Python to work with Java Applications.\n",
    "\n",
    "\n",
    "___3. High Level Programming language:___\n",
    "\n",
    "Python is high level programming language and hence it is programmer friendly language.\n",
    "\n",
    "Being a programmer we are not required to concentrate low level activities like memory management and security etc..\n",
    "\n",
    "\n",
    "___4. Platform Independent:___\n",
    "\n",
    "Once we write a Python program,it can run on any platform without rewriting once again.\n",
    "\n",
    "Internally PVM is responsible to convert into machine understandable form.\n",
    "\n",
    "\n",
    "___5. Portability:___\n",
    "\n",
    "Python programs are portable. ie we can migrate from one platform to another platform very easily.\n",
    "\n",
    "Python programs will provide same results on any paltform.\n",
    "\n",
    "\n",
    "___6. Dynamically Typed:___\n",
    "\n",
    "In Python we are not required to declare type for variables. Whenever we are assigning the value, based on value, type \n",
    "will be allocated automatically. Hence Python is considered as dynamically typed language. But Java,C etc are Statically Typed Languages b'z we have to provide type at the beginning only.\n",
    "\n",
    "This dynamic typing nature will provide more flexibility to the programmer.\n",
    "\n",
    "\n",
    "___7. Both Procedure Oriented and Object Oriented:___\n",
    "\n",
    "Python language supports both Procedure oriented (like C, pascal etc) and object oriented (like C++,Java) features. \n",
    "\n",
    "Hence we can get benefits of both like security and reusability etc.\n",
    "\n",
    "\n",
    "___8. Interpreted:___\n",
    "\n",
    "We are not required to compile Python programs explcitly. Internally Python interpreter will take care that compilation.\n",
    "If compilation fails interpreter raised syntax errors. Once compilation success then PVM (Python Virtual Machine) is responsible to execute.\n",
    "\n",
    "\n",
    "___9. Extensible:___\n",
    "\n",
    "We can use other language programs in Python.\n",
    "The main advantages of this approach are:\n",
    "1. We can use already existing legacy non-Python code\n",
    "2. We can improve performance of the application\n",
    "\n",
    "\n",
    "___10. Embedded:___\n",
    "\n",
    "We can use Python programs in any other language programs.\n",
    "\n",
    "i.e we can embedd Python programs anywhere.\n",
    "\n",
    "\n",
    "___11. Extensive Library:___\n",
    "\n",
    "Python has a rich inbuilt library.\n",
    "\n",
    "Being a programmer we can use this library directly and we are not responsible to\n",
    "implement the functionality.\n",
    "\n",
    "etc...\n",
    "\n",
    "__Limitations of Python:__\n",
    "\n",
    "1. Performance wise not up to the mark b'z it is interpreted language.\n",
    "2. Not using for mobile Applications\n"
   ]
  },
  {
   "cell_type": "raw",
   "id": "e1a6f0a9",
   "metadata": {},
   "source": [
    "Python Versions:\n",
    "\n",
    "Python 1.0V introduced in Jan 1994\n",
    "Python 2.0V introduced in October 2000\n",
    "Python 3.0V introduced in December 2008\n",
    "Note: Python 3 won't provide backward compatibility to Python2\n",
    "i.e there is no guarantee that Python2 programs will run in Python3.\n",
    "\n",
    "Current versions\n",
    "Python 3.6.1 Python 2.7.13"
   ]
  },
  {
   "cell_type": "markdown",
   "id": "5e8f3777",
   "metadata": {},
   "source": [
    "# Identifiers"
   ]
  },
  {
   "cell_type": "markdown",
   "id": "207b268a",
   "metadata": {},
   "source": [
    "A name in Python program is called identifier.\n",
    "It can be class name or function name or module name or variable name.\n",
    "\n",
    "a = 10\n",
    "\n",
    "___Rules to define identifiers in Python:___\n",
    "\n",
    "1. The only allowed characters in Python are-\n",
    "\n",
    "- alphabet symbols(either lower case or upper case)\n",
    "- digits(0 to 9)\n",
    "- underscore symbol(_)\n",
    "\n",
    "By mistake if we are using any other symbol like $ then we will get syntax error.\n",
    "\n",
    "- cash = 10 √\n",
    "- ca$h =20 *\n",
    "\n",
    "2. Identifier should not starts with digit\n",
    "\n",
    "- 123total *\n",
    "- total123 √\n",
    "\n",
    "3. Identifiers are case sensitive. Of course Python language is case sensitive language.\n",
    "\n",
    "-  total=10\n",
    "-  TOTAL=999\n",
    "-  print(total) __#10__\n",
    "-  print(TOTAL) __#999__"
   ]
  },
  {
   "cell_type": "markdown",
   "id": "fecd2763",
   "metadata": {},
   "source": [
    "__Rules :-__ \n",
    "    \n",
    "1. Alphabet Symbols (Either Upper case OR Lower case)\n",
    "2. Identifier should not start with Digits.\n",
    "3. Identifiers are case sensitive.\n",
    "4. We cannot use reserved words as identifiers\n",
    "Eg: def=10 *\n",
    "    \n",
    "5. There is no length limit for Python identifiers. But not recommended to use too lengthy\n",
    "identifiers.\n",
    "\n",
    "6. Dollor ($) Symbol is not allowed in Python.\n",
    "\n",
    "Q. Which of the following are valid Python identifiers?\n",
    "\n",
    "- 123total *\n",
    "- total123 √\n",
    "- java2share √\n",
    "- ca$h *\n",
    "- _abc_abc_ √\n",
    "- def *\n",
    "- if *\n",
    "\n",
    "___Note:___\n",
    "    \n",
    "1. If identifier starts with _ symbol then it indicates that it is private\n",
    "2. If identifier starts with __(two under score symbols) indicating that strongly private\n",
    "identifier.\n",
    "3.If the identifier starts and ends with two underscore symbols then the identifier is\n",
    "language defined special name,which is also known as magic methods.\n",
    "\n",
    "Eg: __add"
   ]
  },
  {
   "cell_type": "markdown",
   "id": "b90c4ad5",
   "metadata": {},
   "source": [
    "### Reserved Words :\n",
    "\n",
    "In Python some words are reserved to represent some meaning or functionality. Such type\n",
    "of words are called Reserved words.\n",
    "\n",
    "___Note:___\n",
    "\n",
    "1. All Reserved words in Python contain only alphabet symbols.\n",
    "2. Except the following 3 reserved words, all contain only lower case alphabet symbols.\n",
    "- True\n",
    "- False\n",
    "- None\n",
    "\n",
    "Eg: \n",
    "\n",
    "- a= true *\n",
    "- a=True √\n",
    "\n",
    "__There are 33 reserved words available in Python.__"
   ]
  },
  {
   "cell_type": "code",
   "execution_count": 1,
   "id": "672ef61e",
   "metadata": {},
   "outputs": [
    {
     "name": "stdout",
     "output_type": "stream",
     "text": [
      "\n",
      "Here is a list of the Python keywords.  Enter any keyword to get more help.\n",
      "\n",
      "False               break               for                 not\n",
      "None                class               from                or\n",
      "True                continue            global              pass\n",
      "__peg_parser__      def                 if                  raise\n",
      "and                 del                 import              return\n",
      "as                  elif                in                  try\n",
      "assert              else                is                  while\n",
      "async               except              lambda              with\n",
      "await               finally             nonlocal            yield\n",
      "\n"
     ]
    }
   ],
   "source": [
    "help('keywords')"
   ]
  },
  {
   "cell_type": "markdown",
   "id": "4256d2fb",
   "metadata": {},
   "source": [
    "### Data Types :"
   ]
  },
  {
   "cell_type": "markdown",
   "id": "fe2f4c4c",
   "metadata": {},
   "source": [
    "Data Type represent the type of data present inside a variable.\n",
    "In Python we are not required to specify the type explicitly. Based on value provided,the\n",
    "type will be assigned automatically.Hence Python is Dynamically Typed Language.\n",
    "\n",
    "___Python contains the following inbuilt data types.___\n",
    "\n",
    "1. int\n",
    "2. float\n",
    "3. complex\n",
    "4. bool\n",
    "5. str\n",
    "6. bytes\n",
    "7. bytearray\n",
    "8. range\n",
    "9. list\n",
    "10. tuple\n",
    "11. set\n",
    "12. frozenset\n",
    "13. dict\n",
    "14. None\n",
    "\n",
    "___Note: Python contains several inbuilt functions___\n",
    "1. type() - \n",
    " to check the type of variable\n",
    "2. id() - \n",
    " to get address of object\n",
    "3. print() - \n",
    " to print the value\n",
    " \n",
    "In Python everything is object. "
   ]
  },
  {
   "cell_type": "markdown",
   "id": "51ca19cc",
   "metadata": {},
   "source": [
    "![](images\\Datatype.jpg)"
   ]
  },
  {
   "cell_type": "markdown",
   "id": "eb8b3338",
   "metadata": {},
   "source": [
    "### 1) Int data type:\n",
    "\n",
    "We can use int data type to represent whole numbers (integral values)\n",
    "\n",
    "Eg:\n",
    "- a=10\n",
    "\n",
    " type(a) __#int__\n",
    " \n",
    "***Note:\n",
    "In Python2 we have long data type to represent very large integral values.\n",
    "But in Python3 there is no long type explicitly and we can represent long values also by\n",
    "using int type only.***\n",
    "\n",
    "We can represent int values in the following ways\n",
    "\n",
    "1. Decimal form\n",
    "2. Binary form\n",
    "3. Octal form\n",
    "4. Hexa decimal form\n",
    "\n",
    "***Note: Being a programmer we can specify literal values in decimal, binary, octal and hexa\n",
    "decimal forms. But PVM will always provide values only in decimal form.***\n",
    "\n",
    "    1) a=10          Decimal\n",
    "    2) b=0o10        Octal\n",
    "    3) c=0X10        Hexa\n",
    "    4) d=0B10        Binary\n",
    "    5) print(a)10\n",
    "    6) print(c)16\n",
    "    8) print(d)2"
   ]
  },
  {
   "cell_type": "markdown",
   "id": "7b52dfe0",
   "metadata": {},
   "source": [
    "### 2) Float data type :\n",
    "\n",
    "We can use float data type to represent floating point values (decimal values)\n",
    "\n",
    "Eg: \n",
    "\n",
    "    f=1.234\n",
    "    type(f) float\n",
    " \n",
    "We can also represent floating point values by using exponential form (scientific notation)\n",
    "\n",
    "Eg: \n",
    "\n",
    "    f=1.2e3\n",
    "    print(f) 1200.0\n",
    "\n",
    "instead of 'e' we can use 'E'\n",
    "\n",
    "The main advantage of exponential form is we can represent big values in less memory.\n",
    "\n",
    "***Note:\n",
    "We can represent int values in decimal, binary, octal and hexa decimal forms. But we can\n",
    "represent float values only by using decimal form.***\n"
   ]
  },
  {
   "cell_type": "code",
   "execution_count": 2,
   "id": "00615c3c",
   "metadata": {},
   "outputs": [
    {
     "data": {
      "text/plain": [
       "float"
      ]
     },
     "execution_count": 2,
     "metadata": {},
     "output_type": "execute_result"
    }
   ],
   "source": [
    "# Example\n",
    "f = 11.5\n",
    "type(f)"
   ]
  },
  {
   "cell_type": "code",
   "execution_count": 3,
   "id": "d9068826",
   "metadata": {},
   "outputs": [
    {
     "name": "stdout",
     "output_type": "stream",
     "text": [
      "120000.0\n"
     ]
    }
   ],
   "source": [
    "f = 1.2E5\n",
    "print(f)"
   ]
  },
  {
   "cell_type": "markdown",
   "id": "b93a30aa",
   "metadata": {},
   "source": [
    "### 3) Complex Data Type :\n",
    "\n",
    "A complex number is of the form a and b contain intergers or floating point values\n",
    "\n",
    "Complex numbers are the numbers that are expressed in the form of a+ib where, a,b are real numbers and 'i' is an imaginary number called “iota”. The value of i = (√-1).\n",
    "\n",
    "For example, 2+3i is a complex number, where 2 is a real number (Re) and 3i is an imaginary number (Im).\n",
    "\n",
    "Eg:\n",
    "\n",
    "    3+5j\n",
    "    10+5.5j\n",
    "    0.5+0.1j\n",
    "\n",
    "In the real part if we use int value then we can specify that either by decimal,octal,binary\n",
    "or hexa decimal form.\n",
    "\n",
    "But imaginary part should be specified only by using decimal form.\n",
    "\n",
    "***Note: Complex data type has some inbuilt attributes to retrieve the real part and\n",
    "imaginary part***\n",
    "\n",
    "We can use complex type generally in scientific Applications and electrical engineering\n",
    "Applications."
   ]
  },
  {
   "cell_type": "code",
   "execution_count": 4,
   "id": "5dfc8ce8",
   "metadata": {},
   "outputs": [
    {
     "data": {
      "text/plain": [
       "complex"
      ]
     },
     "execution_count": 4,
     "metadata": {},
     "output_type": "execute_result"
    }
   ],
   "source": [
    "# Example\n",
    "c = 5+3j\n",
    "type(c)"
   ]
  },
  {
   "cell_type": "markdown",
   "id": "7a4d543b",
   "metadata": {},
   "source": [
    "### 4) Bool data type :\n",
    "\n",
    "We can use this data type to represent boolean values.\n",
    "\n",
    "The only allowed values for this data type are:\n",
    "\n",
    "True and False\n",
    "\n",
    "Internally Python represents True as 1 and False as 0\n",
    "\n",
    "Eg:\n",
    "\n",
    "    b=True\n",
    "    type(b) =>bool\n",
    "  \n",
    "Eg:\n",
    "\n",
    "    a=10\n",
    "    b=20\n",
    "    c=a<b\n",
    "    print(c)==>True\n",
    "    True+True==>2\n",
    "    True-False==>1\n"
   ]
  },
  {
   "cell_type": "code",
   "execution_count": 5,
   "id": "38c1f406",
   "metadata": {},
   "outputs": [
    {
     "name": "stdout",
     "output_type": "stream",
     "text": [
      "True\n"
     ]
    }
   ],
   "source": [
    "a=10\n",
    "b=20\n",
    "c=a<b\n",
    "print(c)"
   ]
  },
  {
   "cell_type": "markdown",
   "id": "2e1ed3f5",
   "metadata": {},
   "source": [
    "### 5) Str type :\n",
    "\n",
    "str represents String data type.\n",
    "\n",
    "A String is a sequence of characters enclosed within single quotes or double quotes.\n",
    "\n",
    "    s1='nikhil'\n",
    "    s1=\"nikhil\"\n",
    "    \n",
    "By using single quotes or double quotes we cannot represent multi line string literals.\n",
    "    \n",
    "    s1=\"nikhil yadav\"\n",
    "    \n",
    "For this requirement we should go for triple single quotes(''') or triple double quotes(\"\"\")\n",
    "    \n",
    "    s1='''nikhil\n",
    "        yadav'''\n",
    "        \n",
    "    s1=\"\"\"nikhil\n",
    "        yadav\"\"\"\n",
    "        \n",
    "We can also use triple quotes to use single quote or double quote in our String.\n",
    "\n",
    "    ''' This is \" character'''\n",
    "    ' This i \" Character '\n",
    "\n",
    "We can embed one string in another string\n",
    "\n",
    "    '''This \"Python class very helpful\" for C students'''\n",
    "    \n",
    "    "
   ]
  },
  {
   "cell_type": "markdown",
   "id": "5e0cc543",
   "metadata": {},
   "source": [
    "### Slicing of Strings :\n",
    "\n",
    "Slice means a piece\n",
    "[ ] operator is called slice operator,which can be used to retrieve parts of String.\n",
    "\n",
    "In Python Strings follows zero based index.\n",
    "\n",
    "The index can be either +ve or -ve.\n",
    "\n",
    "    +ve index means forward direction from Left to Right\n",
    "    -ve index means backward direction from Right to Left\n"
   ]
  },
  {
   "cell_type": "raw",
   "id": "b020dacb",
   "metadata": {},
   "source": [
    "A string in python can be sliced for getting a part of the string.\n",
    "- consider the following string:-\n",
    "\n",
    "    ------>012345\n",
    "   name = 'nikhil'\n",
    "        -6-5-4-3-2-1<------\n",
    "==> length = 6\n",
    "\n",
    "The index is a string starts from 0 to (length -1) in python.\n",
    "We use the following syntax:\n",
    "\n",
    "name = prakriti\n",
    "\n",
    "sl ==> name[index_start : ind_end : step value]\n",
    "  sl[0:3] returns \"pra\"\n",
    "  sl[1:3] returns \"ra\"\n",
    "  \n",
    "- NEGATIVE INDEXING\n",
    "  Negative indices can also be used as shown in the figure above -1 corresponds to the (length -1) index, -2 to (length -2).\n",
    "\n",
    "- Slicing with skip value\n",
    "  we can provide a skip value as a part of our slice like this:-\n",
    "\n",
    "name = \"prakriti\"\n",
    "name[1:8:2] ---> 'rkii'\n",
    "\n",
    "Note:\n",
    "\n",
    "1. In Python the following data types are considered as Fundamental Data types\n",
    "\n",
    "- int\n",
    "- float\n",
    "- complex\n",
    "- bool\n",
    "- str\n",
    "\n",
    "2. In Python,we can represent char values also by using str type and explicitly char type is not available."
   ]
  },
  {
   "cell_type": "code",
   "execution_count": 6,
   "id": "a325996e",
   "metadata": {},
   "outputs": [
    {
     "data": {
      "text/plain": [
       "str"
      ]
     },
     "execution_count": 6,
     "metadata": {},
     "output_type": "execute_result"
    }
   ],
   "source": [
    "# example\n",
    "name = 'nikhil'\n",
    "type(name)"
   ]
  },
  {
   "cell_type": "code",
   "execution_count": 7,
   "id": "2a93f707",
   "metadata": {},
   "outputs": [
    {
     "data": {
      "text/plain": [
       "'ihl'"
      ]
     },
     "execution_count": 7,
     "metadata": {},
     "output_type": "execute_result"
    }
   ],
   "source": [
    "# Slicing\n",
    "name = \"nikhil\"\n",
    "name[1:8:2]"
   ]
  },
  {
   "cell_type": "code",
   "execution_count": 8,
   "id": "f59c0777",
   "metadata": {},
   "outputs": [
    {
     "data": {
      "text/plain": [
       "'k'"
      ]
     },
     "execution_count": 8,
     "metadata": {},
     "output_type": "execute_result"
    }
   ],
   "source": [
    "# Indexing\n",
    "name = 'prakriti'\n",
    "name[3]"
   ]
  },
  {
   "cell_type": "markdown",
   "id": "418af9ea",
   "metadata": {},
   "source": [
    "### Type Casting\n",
    "\n",
    "We can convert one type value to another type. This conversion is called Typecasting or Type coersion.\n",
    "\n",
    "The following are various inbuilt functions for type casting.\n",
    "\n",
    "1. int() -  We can convert from any type to int except complex type.\n",
    "2. float() -  We can convert any type value to float type except complex type.\n",
    "3. complex()\n",
    "4. bool()\n",
    "5. str()\n",
    "\n",
    "___Fundamental Data Types vs Immutability:___\n",
    "\n",
    "All Fundamental Data types are immutable. i.e once we creates an object,we cannot\n",
    "perform any changes in that object. If we are trying to change then with those changes a\n",
    "new object will be created. This non-chageable behaviour is called immutability."
   ]
  },
  {
   "cell_type": "markdown",
   "id": "d3388473",
   "metadata": {},
   "source": [
    "### 6) Bytes Data Type :\n",
    "\n",
    "Bytes data type represens a group of byte numbers just like an array."
   ]
  },
  {
   "cell_type": "code",
   "execution_count": 9,
   "id": "e3a003bc",
   "metadata": {},
   "outputs": [
    {
     "data": {
      "text/plain": [
       "bytes"
      ]
     },
     "execution_count": 9,
     "metadata": {},
     "output_type": "execute_result"
    }
   ],
   "source": [
    "x = [10,20,30,40]\n",
    "b = bytes(x)\n",
    "type(b)\n"
   ]
  },
  {
   "cell_type": "code",
   "execution_count": 10,
   "id": "601f18a1",
   "metadata": {},
   "outputs": [
    {
     "name": "stdout",
     "output_type": "stream",
     "text": [
      "10\n"
     ]
    }
   ],
   "source": [
    "print(b[0])"
   ]
  },
  {
   "cell_type": "code",
   "execution_count": 11,
   "id": "fd7fc593",
   "metadata": {},
   "outputs": [
    {
     "name": "stdout",
     "output_type": "stream",
     "text": [
      "10\n",
      "20\n",
      "30\n",
      "40\n"
     ]
    }
   ],
   "source": [
    "for i in b : \n",
    "    print(i)"
   ]
  },
  {
   "cell_type": "markdown",
   "id": "6019a61b",
   "metadata": {},
   "source": [
    "___Conclusion 1:___\n",
    "    \n",
    "The only allowed values for byte data type are 0 to 256. By mistake if we are trying to\n",
    "provide any other values then we will get value error.\n",
    "\n",
    "___Conclusion 2:___\n",
    "    \n",
    "Once we creates bytes data type value, we cannot change its values,otherwise we will get\n",
    "TypeError."
   ]
  },
  {
   "cell_type": "raw",
   "id": "6156ed89",
   "metadata": {},
   "source": [
    "# 'bytes' object does not support item assignment\n",
    "\n",
    "x=[10,20,30,40]\n",
    "b=bytes(x)\n",
    "b[0]=100 "
   ]
  },
  {
   "cell_type": "markdown",
   "id": "38eeb83b",
   "metadata": {},
   "source": [
    "### 7) Bytearray Data type :\n",
    "\n",
    "Bytearray is exactly same as bytes data type except that its elements can be modified."
   ]
  },
  {
   "cell_type": "code",
   "execution_count": 12,
   "id": "9c941911",
   "metadata": {},
   "outputs": [
    {
     "name": "stdout",
     "output_type": "stream",
     "text": [
      "10\n",
      "20\n",
      "30\n",
      "40\n"
     ]
    }
   ],
   "source": [
    "# example\n",
    "x=[10,20,30,40]\n",
    "b = bytearray(x)\n",
    "for i in b :\n",
    "    print(i)"
   ]
  },
  {
   "cell_type": "code",
   "execution_count": 13,
   "id": "201a7cb1",
   "metadata": {},
   "outputs": [
    {
     "name": "stdout",
     "output_type": "stream",
     "text": [
      "100\n",
      "20\n",
      "30\n",
      "40\n"
     ]
    }
   ],
   "source": [
    "b[0]=100\n",
    "for i in b: \n",
    "    print(i) "
   ]
  },
  {
   "cell_type": "markdown",
   "id": "c37106cc",
   "metadata": {},
   "source": [
    "### 8) Range Data Type :\n",
    "\n",
    "Range Data Type represents a sequence of numbers.\n",
    "\n",
    "The elements present in range Data type are not modifiable. i.e range Data type is\n",
    "immutable."
   ]
  },
  {
   "cell_type": "raw",
   "id": "880e697e",
   "metadata": {},
   "source": [
    "Form-1: range(10)\n",
    "generate numbers from 0 to 9\n",
    "Eg:\n",
    "r=range(10)\n",
    "for i in r : print(i) 0 to 9\n",
    "\n",
    "Form-2: range(10,20)\n",
    "generate numbers from 10 to 19\n",
    "Eg:\n",
    "r = range(10,20)\n",
    "for i in r : print(i) 10 to 19\n",
    "\n",
    "Form-3: range(10,20,2)\n",
    "2 means increment value\n",
    "Eg:\n",
    "r = range(10,20,2)\n",
    "for i in r : print(i) 10,12,14,16,18\n",
    "\n",
    "We can access elements present in the range Data Type by using index.\n",
    "r=range(10,20)\n",
    "r[0]==>10\n",
    "r[15]==>IndexError: range object index out of range\n",
    "\n",
    "We cannot modify the values of range data type\n",
    "Eg:\n",
    "r[0]=100\n",
    "TypeError: 'range' object does not support item assignment\n",
    "\n",
    "We can create a list of values with range data type\n",
    "Eg:\n",
    "l = list(range(10))\n",
    "l\n",
    "[0, 1, 2, 3, 4, 5, 6, 7, 8, 9]"
   ]
  },
  {
   "cell_type": "code",
   "execution_count": 14,
   "id": "4c23cfd5",
   "metadata": {},
   "outputs": [
    {
     "name": "stdout",
     "output_type": "stream",
     "text": [
      "0\n",
      "1\n",
      "2\n",
      "3\n",
      "4\n",
      "5\n",
      "6\n",
      "7\n",
      "8\n",
      "9\n"
     ]
    }
   ],
   "source": [
    "# example\n",
    "range(10)\n",
    "for i in range(10):\n",
    "    print(i)"
   ]
  },
  {
   "cell_type": "markdown",
   "id": "8485b678",
   "metadata": {},
   "source": [
    "### 9) List data type :\n",
    "\n",
    "If we want to represent a group of values as a single entity where insertion order required to preserve and duplicates are allowed then we should go for list data type.\n",
    "\n",
    "1. insertion order is preserved\n",
    "2. heterogeneous objects are allowed\n",
    "3. duplicates are allowed\n",
    "4. Growable in nature\n",
    "5. values should be enclosed within square brackets."
   ]
  },
  {
   "cell_type": "code",
   "execution_count": 15,
   "id": "2ef14a36",
   "metadata": {},
   "outputs": [
    {
     "name": "stdout",
     "output_type": "stream",
     "text": [
      "[10, 10.5, 'nikhil', True, 10]\n"
     ]
    }
   ],
   "source": [
    "# example\n",
    "list=[10,10.5,'nikhil',True,10]\n",
    "print(list)"
   ]
  },
  {
   "cell_type": "code",
   "execution_count": 16,
   "id": "553b8931",
   "metadata": {},
   "outputs": [
    {
     "data": {
      "text/plain": [
       "30"
      ]
     },
     "execution_count": 16,
     "metadata": {},
     "output_type": "execute_result"
    }
   ],
   "source": [
    "list=[10,20,30,40] \n",
    "list[2]"
   ]
  },
  {
   "cell_type": "markdown",
   "id": "95da50a5",
   "metadata": {},
   "source": [
    "List is growable in nature. i.e based on our requirement we can increase or decrease the\n",
    "size.\n",
    "\n",
    "___Note: An ordered, mutable, heterogenous collection of eleemnts is nothing but list, where\n",
    "duplicates also allowed.___"
   ]
  },
  {
   "cell_type": "code",
   "execution_count": 17,
   "id": "0e1f458f",
   "metadata": {},
   "outputs": [
    {
     "data": {
      "text/plain": [
       "[10, 20, 30, 'nikhil']"
      ]
     },
     "execution_count": 17,
     "metadata": {},
     "output_type": "execute_result"
    }
   ],
   "source": [
    "list=[10,20,30]\n",
    "list.append(\"nikhil\")\n",
    "list"
   ]
  },
  {
   "cell_type": "code",
   "execution_count": 18,
   "id": "12781fb4",
   "metadata": {},
   "outputs": [
    {
     "data": {
      "text/plain": [
       "[10, 20, 30, 'nikhil', 10, 20, 30, 'nikhil']"
      ]
     },
     "execution_count": 18,
     "metadata": {},
     "output_type": "execute_result"
    }
   ],
   "source": [
    "[10, 30, 'nikhil']\n",
    "list2=list*2\n",
    "list2"
   ]
  },
  {
   "cell_type": "code",
   "execution_count": 19,
   "id": "3c8d4ab5",
   "metadata": {},
   "outputs": [
    {
     "data": {
      "text/plain": [
       "[10, 30, 'nikhil']"
      ]
     },
     "execution_count": 19,
     "metadata": {},
     "output_type": "execute_result"
    }
   ],
   "source": [
    "[10, 20, 30, 'nikhil']\n",
    "list.remove(20)\n",
    "list"
   ]
  },
  {
   "cell_type": "markdown",
   "id": "1feccb02",
   "metadata": {},
   "source": [
    "### 10) Tuple data type :\n",
    "\n",
    "Tuple data type is exactly same as list data type except that it is immutable.i.e we cannot\n",
    "chage values.\n",
    "\n",
    "Tuple elements can be represented within parenthesis."
   ]
  },
  {
   "cell_type": "code",
   "execution_count": 20,
   "id": "3f611b3e",
   "metadata": {},
   "outputs": [
    {
     "data": {
      "text/plain": [
       "tuple"
      ]
     },
     "execution_count": 20,
     "metadata": {},
     "output_type": "execute_result"
    }
   ],
   "source": [
    "# example\n",
    "t = (10,20,30,40)\n",
    "type(t)"
   ]
  },
  {
   "cell_type": "raw",
   "id": "bbb44705",
   "metadata": {},
   "source": [
    "1) t[0]=100\n",
    "2) TypeError: 'tuple' object does not support item assignment\n",
    "3) >>> t.append(\"nikhil\")\n",
    "4) AttributeError: 'tuple' object has no attribute 'append'\n",
    "5) >>> t.remove(10)\n",
    "6) AttributeError: 'tuple' object has no attribute 'remove' \n",
    "\n",
    "Note: tuple is the read only version of list"
   ]
  },
  {
   "cell_type": "markdown",
   "id": "5882e578",
   "metadata": {},
   "source": [
    "### 11) Set Data Type :\n",
    "\n",
    "If we want to represent a group of values without duplicates where order is not important\n",
    "then we should go for set Data Type.\n",
    "\n",
    "1. insertion order is not preserved\n",
    "2. duplicates are not allowed\n",
    "3. heterogeneous objects are allowed\n",
    "4. index concept is not applicable\n",
    "5. It is mutable collection\n",
    "6. Growable in nature"
   ]
  },
  {
   "cell_type": "raw",
   "id": "c241cc8e",
   "metadata": {},
   "source": [
    "Eg:\n",
    "1) s={100,0,10,200,10,'nikhil'}\n",
    "2) s # {0, 100, 'nikhil', 200, 10}\n",
    "3) s[0] ==>TypeError: 'set' object does not support indexing\n",
    "4)\n",
    "5) set is growable in nature, based on our requirement we can increase or decrease the size.\n",
    "6)\n",
    "7) >>> s.add(60)\n",
    "8) >>> s\n",
    "9) {0, 100, 'nikhil', 200, 10, 60}\n",
    "10) >>> s.remove(100)\n",
    "11) >>> s\n",
    "12) {0, 'nikhil', 200, 10, 60} "
   ]
  },
  {
   "cell_type": "code",
   "execution_count": 21,
   "id": "987e01c2",
   "metadata": {},
   "outputs": [
    {
     "name": "stdout",
     "output_type": "stream",
     "text": [
      "{0, 'nikhil', 100, 200, 10, 15}\n"
     ]
    }
   ],
   "source": [
    "# example\n",
    "s={100,0,100,200,10,'nikhil',10,15}\n",
    "print(s)"
   ]
  },
  {
   "cell_type": "markdown",
   "id": "b84ae4b5",
   "metadata": {},
   "source": [
    "### 12) Frozenset Data Type :\n",
    "\n",
    "It is exactly same as set except that it is immutable.\n",
    "Hence we cannot use add or remove functions."
   ]
  },
  {
   "cell_type": "raw",
   "id": "5d9a4793",
   "metadata": {},
   "source": [
    "1) s={10,20,30,40}\n",
    "2) fs=frozenset(s)\n",
    "3) type(fs)\n",
    "4) <class 'frozenset'>\n",
    "5) fs\n",
    "6) frozenset({40, 10, 20, 30})\n",
    "7) for i in fs:\n",
    "8) print(i)\n",
    "9)  40\n",
    "10) 10\n",
    "11) 20\n",
    "12) 30\n",
    "13)\n",
    "14) fs.add(70)\n",
    "15) AttributeError: 'frozenset' object has no attribute 'add'\n",
    "16) fs.remove(10)\n",
    "17) AttributeError: 'frozenset' object has no attribute 'remove' "
   ]
  },
  {
   "cell_type": "code",
   "execution_count": 22,
   "id": "7d4ef49a",
   "metadata": {},
   "outputs": [
    {
     "data": {
      "text/plain": [
       "set"
      ]
     },
     "execution_count": 22,
     "metadata": {},
     "output_type": "execute_result"
    }
   ],
   "source": [
    "# erxample\n",
    "s={10,20,30,40}\n",
    "fs=frozenset(s)\n",
    "type(s)"
   ]
  },
  {
   "cell_type": "markdown",
   "id": "61aeae6a",
   "metadata": {},
   "source": [
    "### 13) Dict Data Type :\n",
    "\n",
    "If we want to represent a group of values as key-value pairs then we should go for dict\n",
    "data type.\n",
    "\n",
    "Eg:\n",
    "\n",
    "    d={101:'nikhil',102:'ravi',103:'shiva'}\n",
    "\n",
    "Duplicate keys are not allowed but values can be duplicated. If we are trying to insert an\n",
    "entry with duplicate key then old value will be replaced with new value.\n",
    "\n",
    "___Note: dict is mutable and the order wont be preserved.___\n",
    "\n",
    "Note:\n",
    "1. In general we can use bytes and bytearray data types to represent binary information\n",
    "like images,video files etc\n",
    "2. In Python2 long data type is available. But in Python3 it is not available and we can\n",
    "represent long values also by using int type only.\n",
    "3. In Python there is no char data type. Hence we can represent char values also by using\n",
    "str type."
   ]
  },
  {
   "cell_type": "code",
   "execution_count": 23,
   "id": "7078a9af",
   "metadata": {},
   "outputs": [
    {
     "data": {
      "text/plain": [
       "{101: 'sunny', 102: 'ravi', 103: 'shiva'}"
      ]
     },
     "execution_count": 23,
     "metadata": {},
     "output_type": "execute_result"
    }
   ],
   "source": [
    "# example\n",
    "d={101:'nikhil',102:'ravi',103:'shiva'}\n",
    "d[101]='sunny'\n",
    "d"
   ]
  },
  {
   "cell_type": "code",
   "execution_count": 24,
   "id": "a49bf01e",
   "metadata": {},
   "outputs": [
    {
     "name": "stdout",
     "output_type": "stream",
     "text": [
      "{'a': 'apple', 'b': 'banana'}\n"
     ]
    }
   ],
   "source": [
    "# We can create empty dictionary as follows\n",
    "d={ }\n",
    "\n",
    "#We can add key-value pairs as follows\n",
    "\n",
    "d['a']='apple'\n",
    "d['b']='banana'\n",
    "print(d)"
   ]
  },
  {
   "cell_type": "markdown",
   "id": "ef9ee146",
   "metadata": {},
   "source": [
    "### 14) None Data Type :\n",
    "\n",
    "None means Nothing or No value associated.\n",
    "\n",
    "If the value is not available,then to handle such type of cases None introduced.\n",
    "\n",
    "It is something like null value in Java.\n",
    "\n",
    "Eg:\n",
    "\n",
    "    def m1():\n",
    "     a=10\n",
    "    print(m1())\n",
    "     None\n"
   ]
  },
  {
   "cell_type": "markdown",
   "id": "53e7f223",
   "metadata": {},
   "source": [
    "----------------------------------------------------------------------------------------------------------------"
   ]
  },
  {
   "cell_type": "markdown",
   "id": "6bc5d83e",
   "metadata": {},
   "source": [
    "## Escape Characters :\n",
    "\n",
    "In String literals we can use esacpe characters to associate a special meaning.\n",
    "\n",
    "The following are various important escape characters in Python\n",
    "    \n",
    "    1) \\n ==> New Line\n",
    "    2) \\t ===> Horizontal tab\n",
    "    3) \\r ==> Carriage Return\n",
    "    4) \\b ===> Back space\n",
    "    5) \\f ===> Form Feed\n",
    "    6) \\v ==> Vertical tab\n",
    "    7) \\' ===> Single quote\n",
    "    8) \\\" ===> Double quote\n",
    "    9) \\\\ ===> back slash symbol\n"
   ]
  },
  {
   "cell_type": "code",
   "execution_count": 25,
   "id": "120dc8f8",
   "metadata": {},
   "outputs": [
    {
     "name": "stdout",
     "output_type": "stream",
     "text": [
      "nikhil\n",
      "yadav\n"
     ]
    }
   ],
   "source": [
    "# example\n",
    "s = 'nikhil\\nyadav'\n",
    "print(s)"
   ]
  },
  {
   "cell_type": "code",
   "execution_count": 26,
   "id": "40789def",
   "metadata": {},
   "outputs": [
    {
     "name": "stdout",
     "output_type": "stream",
     "text": [
      "prakriti\tyadav\n"
     ]
    }
   ],
   "source": [
    "s = 'prakriti\\tyadav'\n",
    "print(s)"
   ]
  },
  {
   "cell_type": "markdown",
   "id": "a271cb37",
   "metadata": {},
   "source": [
    "## Constants :\n",
    "\n",
    "Constants concept is not applicable in Python.\n",
    "\n",
    "But it is convention to use only uppercase characters if we don’t want to change value.\n",
    "\n",
    "MAX_VALUE=10\n",
    "\n",
    "It is just convention but we can change the value."
   ]
  },
  {
   "cell_type": "markdown",
   "id": "44387a0c",
   "metadata": {},
   "source": [
    "## Operators :\n",
    "\n",
    "Operator is a symbol that performs certain operations.\n",
    "Python provides the following set of operators\n",
    "1. Arithmetic Operators\n",
    "2. Relational Operators or Comparison Operators\n",
    "3. Logical operators\n",
    "4. Bitwise oeprators\n",
    "5. Assignment operators\n",
    "6. Special operators\n"
   ]
  },
  {
   "cell_type": "raw",
   "id": "62917373",
   "metadata": {},
   "source": [
    "Python divides the operators in the following groups:\n",
    "-Arithmetic operators ==>  +,-,*,/ etc..\n",
    "-Assignment operators ==>  ==,-=,+= etc.\n",
    "-Comparison operators ==>  ==,<,>=,>,!= etc.\n",
    "-Logical operators ==>  and,or,not"
   ]
  },
  {
   "cell_type": "markdown",
   "id": "681cd94e",
   "metadata": {},
   "source": [
    "#### 1. Arithmetic Operators:"
   ]
  },
  {
   "cell_type": "raw",
   "id": "c821df0e",
   "metadata": {},
   "source": [
    "+ ==> Addition\n",
    "- ==> Subtraction\n",
    "* ==> Multiplication\n",
    "/ ==> Division operator\n",
    "% ===> Modulo operator\n",
    "// ==> Floor Division operator\n",
    "** ==> Exponent operator or power operator"
   ]
  },
  {
   "cell_type": "code",
   "execution_count": 27,
   "id": "03eae401",
   "metadata": {},
   "outputs": [
    {
     "name": "stdout",
     "output_type": "stream",
     "text": [
      "a+b = 12\n",
      "a-b = 8\n",
      "a*b = 20\n",
      "a/b = 5.0\n",
      "a//b = 5\n",
      "a%b = 0\n",
      "a**b = 100\n"
     ]
    }
   ],
   "source": [
    "# example\n",
    "a=10\n",
    "b=2\n",
    "print('a+b =',a+b)\n",
    "print('a-b =',a-b)\n",
    "print('a*b =',a*b)\n",
    "print('a/b =',a/b)\n",
    "print('a//b =',a//b)\n",
    "print('a%b =',a%b)\n",
    "print('a**b =',a**b) "
   ]
  },
  {
   "cell_type": "raw",
   "id": "f12bf1b0",
   "metadata": {},
   "source": [
    "Eg:\n",
    "    \n",
    "10/2 ==> 5.0\n",
    "10//2 ==> 5\n",
    "10.0/2 ===> 5.0\n",
    "10.0//2 ===> 5.0"
   ]
  },
  {
   "cell_type": "markdown",
   "id": "265f0156",
   "metadata": {},
   "source": [
    "___Note: / operator always performs floating point arithmetic. Hence it will always returns\n",
    "float value.___\n",
    "\n",
    "___But Floor division (//) can perform both floating point and integral arithmetic. If\n",
    "arguments are int type then result is int type. If atleast one argument is float type then\n",
    "result is float type___"
   ]
  },
  {
   "cell_type": "raw",
   "id": "4b95c539",
   "metadata": {},
   "source": [
    "Note:\n",
    "    \n",
    "We can use +,* operators for str type also.\n",
    "If we want to use + operator for str type then compulsory both arguments should be str\n",
    "type only otherwise we will get error.\n",
    "\n",
    "1) >>> \"nikhil\"+10\n",
    "2) TypeError: must be str, not int\n",
    "3) >>> \"nikhil\"+\"10\"\n",
    "4) 'nikhil10' \n",
    "\n",
    "If we use * operator for str type then compulsory one argument should be int and other\n",
    "argument should be str type.\n",
    "\n",
    "2*\"nikhil\"\n",
    "\"nikhil\"*2\n",
    "\n",
    "2.5*\"nikhil\" ==> TypeError: can't multiply sequence by non-int of type 'float'\n",
    "\"nikhil\"*\"nikhil\" ==> TypeError: can't multiply sequence by non-int of type 'str'\n",
    "\n",
    "+ ====> String concatenation operator\n",
    "* ===> String multiplication operator\n",
    "\n",
    "Note: For any number x, x/0 and x%0 always raises \"ZeroDivisionError\"\n",
    "\n",
    "10/0\n",
    "10.0/0\n"
   ]
  },
  {
   "cell_type": "markdown",
   "id": "0caf7941",
   "metadata": {},
   "source": [
    "#### 2. Relational Operators:"
   ]
  },
  {
   "cell_type": "code",
   "execution_count": 28,
   "id": "ddf08e4d",
   "metadata": {},
   "outputs": [
    {
     "name": "stdout",
     "output_type": "stream",
     "text": [
      "a > b is  False\n",
      "a >= b is  False\n",
      "a < b is  True\n",
      "a <= b is  True\n"
     ]
    }
   ],
   "source": [
    "# >,>=,<,<=\n",
    "\n",
    "a=10\n",
    "b=20\n",
    "\n",
    "print(\"a > b is \",a>b)\n",
    "print(\"a >= b is \",a>=b)\n",
    "print(\"a < b is \",a<b)\n",
    "print(\"a <= b is \",a<=b) "
   ]
  },
  {
   "cell_type": "markdown",
   "id": "e85f341a",
   "metadata": {},
   "source": [
    "___Equality operators:___"
   ]
  },
  {
   "cell_type": "code",
   "execution_count": 29,
   "id": "9a6bfc49",
   "metadata": {},
   "outputs": [
    {
     "data": {
      "text/plain": [
       "False"
      ]
     },
     "execution_count": 29,
     "metadata": {},
     "output_type": "execute_result"
    }
   ],
   "source": [
    "# == , !=\n",
    "# We can apply these operators for any type even for incompatible types also.\n",
    "\n",
    "10==20"
   ]
  },
  {
   "cell_type": "code",
   "execution_count": 30,
   "id": "1c0d43bb",
   "metadata": {},
   "outputs": [
    {
     "data": {
      "text/plain": [
       "True"
      ]
     },
     "execution_count": 30,
     "metadata": {},
     "output_type": "execute_result"
    }
   ],
   "source": [
    "10!= 20"
   ]
  },
  {
   "cell_type": "code",
   "execution_count": 31,
   "id": "4d1c3eef",
   "metadata": {},
   "outputs": [
    {
     "data": {
      "text/plain": [
       "True"
      ]
     },
     "execution_count": 31,
     "metadata": {},
     "output_type": "execute_result"
    }
   ],
   "source": [
    "False==False"
   ]
  },
  {
   "cell_type": "code",
   "execution_count": 32,
   "id": "5b88184b",
   "metadata": {},
   "outputs": [
    {
     "data": {
      "text/plain": [
       "False"
      ]
     },
     "execution_count": 32,
     "metadata": {},
     "output_type": "execute_result"
    }
   ],
   "source": [
    "10==\"nikhil\""
   ]
  },
  {
   "cell_type": "markdown",
   "id": "186a59bb",
   "metadata": {},
   "source": [
    "#### 3. Logical Operators:\n",
    "\n",
    "and, or ,not\n",
    "\n",
    "We can apply for all types.\n",
    "\n",
    "For boolean types behaviour:\n",
    "\n",
    "    and ==> If both arguments are True then only result is True\n",
    "    or ====> If atleast one arugemnt is True then result is True\n",
    "    not ==> complement\n",
    "    \n",
    "    True and False ==> False\n",
    "    True or False ===> True\n",
    "    not False ==> True\n",
    "    \n",
    "For non-boolean types behaviour:\n",
    "\n",
    "    0 means False\n",
    "    non-zero means True\n",
    "    empty string is always treated as False\n"
   ]
  },
  {
   "cell_type": "markdown",
   "id": "195e378d",
   "metadata": {},
   "source": [
    "#### 4. Bitwise Operators:\n",
    "\n",
    "We can apply these operators bitwise.\n",
    "\n",
    "These operators are applicable only for int and boolean types.\n",
    "\n",
    "By mistake if we are trying to apply for any other type then we will get Error.\n",
    "\n",
    "&,|,^,~,<<,>>\n"
   ]
  },
  {
   "cell_type": "raw",
   "id": "adf9ee32",
   "metadata": {},
   "source": [
    "print(4&5) ==>valid\n",
    "print(10.5 & 5.6) ==>\n",
    " TypeError: unsupported operand type(s) for &: 'float' and 'float'\n",
    "print(True & True) ==>valid"
   ]
  },
  {
   "cell_type": "code",
   "execution_count": 33,
   "id": "1cae4db3",
   "metadata": {},
   "outputs": [
    {
     "name": "stdout",
     "output_type": "stream",
     "text": [
      "4\n"
     ]
    }
   ],
   "source": [
    "print(4&5)"
   ]
  },
  {
   "cell_type": "raw",
   "id": "9e17ed5c",
   "metadata": {},
   "source": [
    "& ==> If both bits are 1 then only result is 1 otherwise result is 0\n",
    "| ==> If atleast one bit is 1 then result is 1 otherwise result is 0\n",
    "^ ==>If bits are different then only result is 1 otherwise result is 0\n",
    "~ ==>bitwise complement operator\n",
    "\n",
    " 1==>0 & 0==>1\n",
    " \n",
    "<< ==>Bitwise Left shift\n",
    ">> ==>Bitwise Right Shift\n",
    "\n",
    "print(4&5) ==>4\n",
    "print(4|5) ==>5\n",
    "print(4^5) ==>1\n"
   ]
  },
  {
   "cell_type": "markdown",
   "id": "8ee32f2a",
   "metadata": {},
   "source": [
    "#### 5. Assignment Operators:\n",
    "\n",
    "We can use assignment operator to assign value to the variable.\n",
    "\n",
    "Eg:\n",
    "- x=10\n",
    "We can combine asignment operator with some other operator to form compound assignment operator.\n",
    "\n",
    "Eg: x+=10 ====> x = x+10\n",
    "\n",
    " The following is the list of all possible compound assignment operators in Python\n",
    " \n",
    "    +=\n",
    "    -=\n",
    "    *=\n",
    "    /=\n",
    "    %=\n",
    "    //=\n",
    "    **=\n",
    "    &=\n",
    "    |=\n",
    "    ^=\n",
    "    >>=\n",
    "    <<="
   ]
  },
  {
   "cell_type": "code",
   "execution_count": 34,
   "id": "459e345e",
   "metadata": {},
   "outputs": [
    {
     "name": "stdout",
     "output_type": "stream",
     "text": [
      "30\n",
      "4\n"
     ]
    }
   ],
   "source": [
    "# example\n",
    "x=10\n",
    "x+=20\n",
    "print(x)\n",
    "\n",
    "x&=5\n",
    "print(x)"
   ]
  },
  {
   "cell_type": "markdown",
   "id": "0fbaef13",
   "metadata": {},
   "source": [
    "#### 6. Special operators:\n",
    "\n",
    "Python defines the following 2 special operators\n",
    "1. Identity Operators\n",
    "2. Membership operators"
   ]
  },
  {
   "cell_type": "markdown",
   "id": "eb24ccc3",
   "metadata": {},
   "source": [
    "___a. Identity Operators___\n",
    "\n",
    "We can use identity operators for address comparison.\n",
    "\n",
    "2 identity operators are available\n",
    "\n",
    "1. is\n",
    "2. is not\n",
    "\n",
    "- r1 is r2 returns True if both r1 and r2 are pointing to the same object\n",
    "- r1 is not r2 returns True if both r1 and r2 are not pointing to the same object"
   ]
  },
  {
   "cell_type": "code",
   "execution_count": 35,
   "id": "837ce4ab",
   "metadata": {},
   "outputs": [
    {
     "name": "stdout",
     "output_type": "stream",
     "text": [
      "True\n",
      "True\n"
     ]
    }
   ],
   "source": [
    "# example\n",
    "a=10\n",
    "b=10\n",
    "print(a is b)\n",
    "x=True\n",
    "y=True\n",
    "print( x is y) "
   ]
  },
  {
   "cell_type": "code",
   "execution_count": 36,
   "id": "ecb1d9ac",
   "metadata": {},
   "outputs": [
    {
     "name": "stdout",
     "output_type": "stream",
     "text": [
      "2467379758208\n",
      "2467379704704\n",
      "False\n",
      "True\n",
      "True\n"
     ]
    }
   ],
   "source": [
    "# Note: We can use is operator for address comparison where as == operator for content comparison.\n",
    "list1=[\"one\",\"two\",\"three\"]\n",
    "list2=[\"one\",\"two\",\"three\"]\n",
    "print(id(list1))\n",
    "print(id(list2))\n",
    "print(list1 is list2)  \n",
    "print(list1 is not list2)  \n",
    "print(list1 == list2) "
   ]
  },
  {
   "cell_type": "markdown",
   "id": "7d5cab88",
   "metadata": {},
   "source": [
    "___b. Membership operators:___\n",
    "\n",
    "We can use Membership operators to check whether the given object present in the given collection.(It may be String,List,Set,Tuple or Dict) \n",
    "\n",
    "    in -->  Returns True if the given object present in the specified Collection \n",
    "    not in --> Retruns True if the given object not present in the specified Collection\n"
   ]
  },
  {
   "cell_type": "raw",
   "id": "e83421aa",
   "metadata": {},
   "source": [
    "# example\n",
    "x=\"hello learning Python is very easy!!!\"\n",
    "print('h' in x) \n",
    "print('d' in x) \n",
    "print('d' not in x) \n",
    "print('Python' in x)  "
   ]
  },
  {
   "cell_type": "code",
   "execution_count": 37,
   "id": "2c083871",
   "metadata": {},
   "outputs": [
    {
     "name": "stdout",
     "output_type": "stream",
     "text": [
      "True\n",
      "False\n",
      "True\n"
     ]
    }
   ],
   "source": [
    "list1=[\"sunny\",\"bunny\",\"chinny\",\"pinny\"]\n",
    "print(\"sunny\" in list1) \n",
    "print(\"tunny\" in list1) \n",
    "print(\"tunny\" not in list1)  "
   ]
  },
  {
   "cell_type": "markdown",
   "id": "26d2ef8e",
   "metadata": {},
   "source": [
    "## Ternary Operator :\n",
    "\n",
    "Syntax:\n",
    "\n",
    "x = firstValue if condition else secondValue\n",
    "\n",
    "If condition is True then firstValue will be considered else secondValue will be considered."
   ]
  },
  {
   "cell_type": "code",
   "execution_count": 38,
   "id": "5d9a7b17",
   "metadata": {},
   "outputs": [
    {
     "name": "stdout",
     "output_type": "stream",
     "text": [
      "30\n"
     ]
    }
   ],
   "source": [
    "# Eg 1:\n",
    "a,b=10,20\n",
    "x=30 if a<b else 40\n",
    "print(x)"
   ]
  },
  {
   "cell_type": "code",
   "execution_count": 39,
   "id": "93db473e",
   "metadata": {},
   "outputs": [
    {
     "name": "stdout",
     "output_type": "stream",
     "text": [
      "Enter First Number:5\n",
      "Enter Second Number:9\n",
      "Minimum Value: 5\n"
     ]
    }
   ],
   "source": [
    "# Eg 2: Read two numbers from the keyboard and print minimum value\n",
    "a=int(input(\"Enter First Number:\"))\n",
    "b=int(input(\"Enter Second Number:\"))\n",
    "if a<b:\n",
    "    print(\"Minimum Value:\",a)\n",
    "else:\n",
    "    print(\"Minimum Value:\",b)"
   ]
  },
  {
   "cell_type": "markdown",
   "id": "1f1c67ff",
   "metadata": {},
   "source": [
    "### Operator Precedence:\n",
    "\n",
    "If multiple operators present then which operator will be evaluated first is decided by\n",
    "operator precedence.\n",
    "\n",
    "Eg:\n",
    "- print(3+10*2) --> 23\n",
    "- print((3+10)*2) --> 26\n",
    " \n",
    "The following list describes operator precedence in Python\n",
    "\n",
    "    () --> Parenthesis\n",
    "    ** --> exponential operator\n",
    "    ~,- --> Bitwise complement operator,unary minus operator\n",
    "    *,/,%,// --> multiplication,division,modulo,floor division\n",
    "    +,- --> addition,subtraction\n",
    "    <<,>> --> Left and Right Shift\n",
    "    & --> bitwise And\n",
    "    ^ --> Bitwise X-OR\n",
    "    | --> Bitwise OR\n",
    "\n",
    "    >,>=,<,<=, ==, != --> Relational or Comparison operators\n",
    "    =,+=,-=,*= --> Assignment operators\n",
    "    is , is not --> Identity Operators\n",
    "    in , not in --> Membership operators\n",
    "    not --> Logical not\n",
    "    and --> Logical and\n",
    "    or --> Logical or\n"
   ]
  },
  {
   "cell_type": "code",
   "execution_count": 40,
   "id": "a2e2483a",
   "metadata": {},
   "outputs": [
    {
     "name": "stdout",
     "output_type": "stream",
     "text": [
      "100.0\n",
      "100.0\n",
      "70.0\n"
     ]
    }
   ],
   "source": [
    "#example\n",
    "a=30\n",
    "b=20\n",
    "c=10\n",
    "d=5\n",
    "print((a+b)*c/d) \n",
    "print((a+b)*(c/d)) \n",
    "print(a+(b*c)/d)  "
   ]
  }
 ],
 "metadata": {
  "kernelspec": {
   "display_name": "Python 3 (ipykernel)",
   "language": "python",
   "name": "python3"
  },
  "language_info": {
   "codemirror_mode": {
    "name": "ipython",
    "version": 3
   },
   "file_extension": ".py",
   "mimetype": "text/x-python",
   "name": "python",
   "nbconvert_exporter": "python",
   "pygments_lexer": "ipython3",
   "version": "3.9.13"
  }
 },
 "nbformat": 4,
 "nbformat_minor": 5
}
