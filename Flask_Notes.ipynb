{
 "cells": [
  {
   "cell_type": "markdown",
   "id": "30fcfef7",
   "metadata": {},
   "source": [
    "## Flask"
   ]
  },
  {
   "cell_type": "markdown",
   "id": "fc9083e1",
   "metadata": {},
   "source": [
    "First, you need to install Flask. You can do this by running the following command in your terminal or command prompt:\n",
    "\n",
    "\tpip install Flask"
   ]
  },
  {
   "cell_type": "code",
   "execution_count": null,
   "id": "e7bcf52f",
   "metadata": {},
   "outputs": [],
   "source": [
    "# Create a Flask Application\n",
    "# Create a new Python file, for example, app.py, and import the Flask module:"
   ]
  },
  {
   "cell_type": "code",
   "execution_count": null,
   "id": "41f9029a",
   "metadata": {},
   "outputs": [],
   "source": [
    "from flask import Flask\n",
    "\n",
    "# Create an instance of the Flask class:\n",
    "app = Flask(__name__)\n",
    "\n",
    "# Define Routes and Views\n",
    "# In Flask, routes define the URLs or paths that the application can handle. \n",
    "# Each route is associated with a view function that is executed when a user visits that particular URL.\n",
    "\n",
    "# Create a simple route that displays \"Hello, World!\" when the root URL is accessed:\n",
    "\n",
    "@app.route('/')\n",
    "def hello():\n",
    "    return 'Hello, World!'\n",
    "# Run the Application \n",
    "# At the end of your app.py file, add the following code to run the application:\n",
    "\n",
    "if __name__ == '__main__':\n",
    "    app.run()\n"
   ]
  },
  {
   "cell_type": "markdown",
   "id": "12523099",
   "metadata": {},
   "source": [
    "#### Routes and URL Building"
   ]
  },
  {
   "cell_type": "code",
   "execution_count": null,
   "id": "57f2831a",
   "metadata": {},
   "outputs": [],
   "source": [
    "from flask import Flask\n",
    "\n",
    "app = Flask(__name__)\n",
    "\n",
    "@app.route('/')\n",
    "def hello():\n",
    "    return 'Hello, World!'\n",
    "\n",
    "@app.route('/about')\n",
    "def about():\n",
    "    return 'This is the about page.'\n",
    "\n",
    "@app.route('/user/<username>')\n",
    "def show_user(username):\n",
    "    return f'Hello, {username}!'\n",
    "\n",
    "if __name__ == '__main__':\n",
    "    app.run()\n"
   ]
  },
  {
   "cell_type": "markdown",
   "id": "797f8147",
   "metadata": {},
   "source": [
    "####  HTML Templates"
   ]
  },
  {
   "cell_type": "markdown",
   "id": "cc24b38b",
   "metadata": {},
   "source": [
    "Flask allows you to use HTML templates to separate the presentation logic from the application logic. Create a new folder called templates in the same directory as your app.py file. Inside the templates folder, create an HTML file, for example, index.html.\n",
    "\n",
    "Add some HTML code to the index.html file:"
   ]
  },
  {
   "cell_type": "raw",
   "id": "e0569a25",
   "metadata": {},
   "source": [
    "<!DOCTYPE html>\n",
    "<html>\n",
    "<head>\n",
    "    <title>Flask App</title>\n",
    "</head>\n",
    "<body>\n",
    "    <h1>Welcome to Flask!</h1>\n",
    "</body>\n",
    "</html>\n"
   ]
  },
  {
   "cell_type": "code",
   "execution_count": null,
   "id": "6a67bd27",
   "metadata": {},
   "outputs": [],
   "source": [
    "from flask import Flask, render_template\n",
    "\n",
    "@app.route('/')\n",
    "def hello():\n",
    "    return render_template('index.html')\n"
   ]
  },
  {
   "cell_type": "markdown",
   "id": "c7d7aa12",
   "metadata": {},
   "source": [
    "#### Static Files\n",
    "Flask can also serve static files such as CSS stylesheets, JavaScript files, and images. Create a new folder called static in the same directory as your app.py file. Inside the static folder, you can add your static files.\n",
    "\n",
    "For example, create a CSS file called styles.css inside the static folder:"
   ]
  },
  {
   "cell_type": "raw",
   "id": "fe5000c5",
   "metadata": {},
   "source": [
    "/* styles.css */\n",
    "body {\n",
    "    background-color: #f0f0f0;\n",
    "    font-family: Arial, sans-serif;\n",
    "}\n",
    "\n",
    "h1 {\n",
    "    color: #333333;\n",
    "}\n"
   ]
  },
  {
   "cell_type": "raw",
   "id": "6aebe7c5",
   "metadata": {},
   "source": [
    "# Link the CSS file to the HTML template by updating the index.html file:\n",
    "    \n",
    "<!DOCTYPE html>\n",
    "<html>\n",
    "<head>\n",
    "    <title>Flask App</title>\n",
    "    <link rel=\"stylesheet\" type=\"text/css\" href=\"{{ url_for('static', filename='styles.css') }}\">\n",
    "</head>\n",
    "<body>\n",
    "    <h1>Welcome to Flask!</h1>\n",
    "</body>\n",
    "</html>\n"
   ]
  },
  {
   "cell_type": "markdown",
   "id": "559a5b76",
   "metadata": {},
   "source": [
    "#### Request Handling\n",
    "Flask allows you to handle different types of HTTP requests, such as GET and POST, and access the data sent by the client.\n",
    "\n",
    "To handle a POST request and retrieve data from a form, you can update the app.py file:"
   ]
  },
  {
   "cell_type": "code",
   "execution_count": null,
   "id": "200cfa8a",
   "metadata": {},
   "outputs": [],
   "source": [
    "from flask import Flask, render_template, request\n",
    "\n",
    "@app.route('/submit', methods=['POST'])\n",
    "def submit():\n",
    "    name = request.form.get('name')\n",
    "    return f'Hello, {name}!'\n"
   ]
  },
  {
   "cell_type": "raw",
   "id": "9d3a4318",
   "metadata": {},
   "source": [
    "# Update the index.html file to include a form:\n",
    "\n",
    "<!DOCTYPE html>\n",
    "<html>\n",
    "<head>\n",
    "    <title>Flask App</title>\n",
    "    <link rel=\"stylesheet\" type=\"text/css\" href=\"{{ url_for('static', filename='styles.css') }}\">\n",
    "</head>\n",
    "<body>\n",
    "    <h1>Welcome to Flask!</h1>\n",
    "    <form action=\"{{ url_for('submit') }}\" method=\"POST\">\n",
    "        <input type=\"text\" name=\"name\" placeholder=\"Enter your name\">\n",
    "        <input type=\"submit\" value=\"Submit\">\n",
    "    </form>\n",
    "</body>\n",
    "</html>\n"
   ]
  },
  {
   "cell_type": "markdown",
   "id": "58c0b7e5",
   "metadata": {},
   "source": [
    "#### Flask Templates and Variables\n",
    "You can pass variables from your Python code to the HTML templates using the Flask render_template function.\n",
    "\n",
    "Update the app.py file to pass a variable to the template:"
   ]
  },
  {
   "cell_type": "code",
   "execution_count": null,
   "id": "4fa2f47e",
   "metadata": {},
   "outputs": [],
   "source": [
    "from flask import Flask, render_template\n",
    "\n",
    "@app.route('/')\n",
    "def hello():\n",
    "    name = 'Nikhil'\n",
    "    return render_template('index.html', name=name)\n"
   ]
  },
  {
   "cell_type": "raw",
   "id": "4ebfe134",
   "metadata": {},
   "source": [
    "Update the index.html file to display the variable:\n",
    "\n",
    "<!DOCTYPE html>\n",
    "<html>\n",
    "<head>\n",
    "    <title>Flask App</title>\n",
    "    <link rel=\"stylesheet\" type=\"text/css\" href=\"{{ url_for('static', filename='styles.css') }}\">\n",
    "</head>\n",
    "<body>\n",
    "    <h1>Welcome to Flask, {{ name }}!</h1>\n",
    "</body>\n",
    "</html>\n"
   ]
  },
  {
   "cell_type": "markdown",
   "id": "de159fc6",
   "metadata": {},
   "source": [
    "#### HTTP Methods\n",
    "\n",
    "- The methods parameter in @app.route() decorator specifies the allowed methods for the route.\n",
    "- Inside the route function, we can use request.method to check the HTTP method and provide different responses accordingly.\n",
    "- Feel free to try different methods by using tools like curl or HTML forms to send requests.\n",
    "\n",
    "Flask supports different HTTP methods (GET, POST, PUT, DELETE, etc.) and provides convenient ways to handle form submissions. Here's an example:"
   ]
  },
  {
   "cell_type": "code",
   "execution_count": null,
   "id": "c1d2bd47",
   "metadata": {},
   "outputs": [],
   "source": [
    "from flask import Flask, request\n",
    "\n",
    "app = Flask(__name__)\n",
    "\n",
    "@app.route('/', methods=['GET', 'POST'])\n",
    "def hello():\n",
    "    if request.method == 'POST':\n",
    "        return 'Hello, POST request!'\n",
    "    else:\n",
    "        return 'Hello, GET request!'\n",
    "\n",
    "if __name__ == '__main__':\n",
    "    app.run()\n"
   ]
  },
  {
   "cell_type": "code",
   "execution_count": null,
   "id": "39d54b46",
   "metadata": {},
   "outputs": [],
   "source": [
    "from flask import Flask, request\n",
    "\n",
    "app = Flask(__name__)\n",
    "\n",
    "@app.route('/login', methods=['GET', 'POST'])\n",
    "def login():\n",
    "    if request.method == 'POST':\n",
    "        username = request.form.get('username')\n",
    "        password = request.form.get('password')\n",
    "        # Validate username and password\n",
    "        # Perform login logic\n",
    "        return f'Logged in as {username}'\n",
    "    else:\n",
    "        return '''\n",
    "        <form action=\"/login\" method=\"post\">\n",
    "            <input type=\"text\" name=\"username\" placeholder=\"Username\"><br>\n",
    "            <input type=\"password\" name=\"password\" placeholder=\"Password\"><br>\n",
    "            <input type=\"submit\" value=\"Log In\">\n",
    "        </form>\n",
    "        '''\n",
    "\n",
    "if __name__ == '__main__':\n",
    "    app.run()\n"
   ]
  },
  {
   "cell_type": "markdown",
   "id": "150d5002",
   "metadata": {},
   "source": [
    "- We specify the allowed HTTP methods for the /login route using the methods argument.\n",
    "- Inside the view function, we check the request method (request.method) to differentiate between GET and POST requests.\n",
    "- If the request method is POST, we retrieve the form data using request.form.get() and perform the login logic.\n",
    "- If the request method is GET, we render a login form."
   ]
  },
  {
   "cell_type": "markdown",
   "id": "c6295219",
   "metadata": {},
   "source": [
    "#### Request Data\n",
    "\n",
    "Flask allows you to access data sent in the request, such as form data or query parameters. Here's an example:\n",
    "\n",
    "Update your index.html template to include a form:"
   ]
  },
  {
   "cell_type": "code",
   "execution_count": null,
   "id": "0e29d914",
   "metadata": {},
   "outputs": [],
   "source": [
    "from flask import Flask, render_template, request\n",
    "\n",
    "app = Flask(__name__)\n",
    "\n",
    "@app.route('/')\n",
    "def index():\n",
    "    return render_template('index.html')\n",
    "\n",
    "@app.route('/greet', methods=['POST'])\n",
    "def greet():\n",
    "    name = request.form.get('name')\n",
    "    return f'Hello, {name}!'\n",
    "\n",
    "if __name__ == '__main__':\n",
    "    app.run()\n"
   ]
  },
  {
   "cell_type": "raw",
   "id": "766b165d",
   "metadata": {},
   "source": [
    "<!DOCTYPE html>\n",
    "<html>\n",
    "<head>\n",
    "    <title>Flask App</title>\n",
    "</head>\n",
    "<body>\n",
    "    <h1>Welcome to Flask!</h1>\n",
    "    <p>This is a dynamic web page.</p>\n",
    "\n",
    "    <form action=\"{{ url_for('greet') }}\" method=\"POST\">\n",
    "        <label for=\"name\">Enter your name:</label>\n",
    "        <input type=\"text\" name=\"name\" id=\"name\">\n",
    "        <input type=\"submit\" value=\"Submit\">\n",
    "    </form>\n",
    "</body>\n",
    "</html>\n"
   ]
  },
  {
   "cell_type": "markdown",
   "id": "ecc947f0",
   "metadata": {},
   "source": [
    "We modify the index.html template to include a form that submits the data to the /greet route using the POST method.\n",
    "\n",
    "The /greet route now handles the form submission. We use request.form.get('name') to retrieve the value of the input field with the name \"name\"."
   ]
  },
  {
   "cell_type": "markdown",
   "id": "a9ed774d",
   "metadata": {},
   "source": [
    "#### URL Parameters\n",
    "You can capture dynamic values from the URL by defining route parameters.\n",
    "\n",
    "Update the app.py file to capture a dynamic value from the URL:"
   ]
  },
  {
   "cell_type": "code",
   "execution_count": null,
   "id": "03220e47",
   "metadata": {},
   "outputs": [],
   "source": [
    "from flask import Flask, render_template\n",
    "\n",
    "@app.route('/user/<username>')\n",
    "def profile(username):\n",
    "    return f'Hello, {username}!'\n",
    "\n",
    "# Visit http://127.0.0.1:5000/user/yadavnikhilrao in your web browser, and you should see \"Hello, Nikhil!\" displayed."
   ]
  },
  {
   "cell_type": "markdown",
   "id": "f6612379",
   "metadata": {},
   "source": [
    "#### Error Handling\n",
    "Flask provides error handling capabilities to handle different types of errors, such as 404 Not Found.\n",
    "\n",
    "Update the app.py file to handle a 404 error:"
   ]
  },
  {
   "cell_type": "code",
   "execution_count": null,
   "id": "7632b67a",
   "metadata": {},
   "outputs": [],
   "source": [
    "from flask import Flask, render_template\n",
    "\n",
    "@app.errorhandler(404)\n",
    "def not_found(error):\n",
    "    return 'Page not found', 404\n"
   ]
  },
  {
   "cell_type": "markdown",
   "id": "84577e01",
   "metadata": {},
   "source": [
    "#### Flask Templates and Jinja2\n",
    "\n",
    "Flask uses the Jinja2 template engine for rendering dynamic HTML templates. Here's an example:\n",
    "\n",
    "First, create a template file named index.html in a folder called templates:"
   ]
  },
  {
   "cell_type": "code",
   "execution_count": null,
   "id": "58419e0a",
   "metadata": {},
   "outputs": [],
   "source": [
    "from flask import Flask, render_template\n",
    "\n",
    "app = Flask(__name__)\n",
    "\n",
    "@app.route('/')\n",
    "def index():\n",
    "    name = 'Nikhil'\n",
    "    return render_template('index.html', name=name)\n",
    "\n",
    "if __name__ == '__main__':\n",
    "    app.run()\n"
   ]
  },
  {
   "cell_type": "raw",
   "id": "9f2d0122",
   "metadata": {},
   "source": [
    "<!DOCTYPE html>\n",
    "<html>\n",
    "<head>\n",
    "    <title>Flask Template Example</title>\n",
    "</head>\n",
    "<body>\n",
    "    <h1>Welcome to Flask</h1>\n",
    "    <p>Hello, {{ name }}!</p>\n",
    "</body>\n",
    "</html>\n"
   ]
  },
  {
   "cell_type": "markdown",
   "id": "c95a84df",
   "metadata": {},
   "source": [
    "- We import the render_template function from Flask.\n",
    "- In the view function, we pass the name variable to the render_template() function as an argument.\n",
    "- The render_template() function takes care of loading the template file and rendering it with the provided variables."
   ]
  },
  {
   "cell_type": "markdown",
   "id": "a9f624b2",
   "metadata": {},
   "source": [
    "####  Flask Sessions and Cookies\n",
    "\n",
    "Flask provides a session object that allows you to store user-specific data across requests. Here's an example:"
   ]
  },
  {
   "cell_type": "code",
   "execution_count": null,
   "id": "e774853b",
   "metadata": {},
   "outputs": [],
   "source": [
    "from flask import Flask, session, redirect, url_for, request\n",
    "\n",
    "app = Flask(__name__)\n",
    "app.secret_key = 'your_secret_key'\n",
    "\n",
    "@app.route('/')\n",
    "def index():\n",
    "    if 'username' in session:\n",
    "        return f'Logged in as {session[\"username\"]}'\n",
    "    return 'You are not logged in'\n",
    "\n",
    "@app.route('/login', methods=['GET', 'POST'])\n",
    "def login():\n",
    "    if request.method == 'POST':\n",
    "        session['username'] = request.form['username']\n",
    "        return redirect(url_for('index'))\n",
    "    return '''\n",
    "    <form action=\"/login\" method=\"post\">\n",
    "        <input type=\"text\" name=\"username\" placeholder=\"Username\">\n",
    "        <input type=\"submit\" value=\"Log In\">\n",
    "    </form>\n",
    "    '''\n",
    "\n",
    "@app.route('/logout')\n",
    "def logout():\n",
    "    session.pop('username', None)\n",
    "    return redirect(url_for('index'))\n",
    "\n",
    "if __name__ == '__main__':\n",
    "    app.run()\n"
   ]
  },
  {
   "cell_type": "markdown",
   "id": "a88b4da9",
   "metadata": {},
   "source": [
    "- We set the secret key for the application (app.secret_key) to securely sign the session cookie.\n",
    "- In the /login route, we store the username in the session (session['username']) when the user submits the form.\n",
    "- In the /logout route, we remove the username from the session using session.pop().\n",
    "- In the / route, we check if the username exists in the session to determine if the user is logged in."
   ]
  },
  {
   "cell_type": "markdown",
   "id": "b206f25a",
   "metadata": {},
   "source": [
    "#### Flask Error Handling\n",
    "\n",
    "Flask allows you to handle different types of errors and customize the error pages. Here's an example:"
   ]
  },
  {
   "cell_type": "code",
   "execution_count": null,
   "id": "ec37fae5",
   "metadata": {},
   "outputs": [],
   "source": [
    "from flask import Flask, render_template\n",
    "\n",
    "app = Flask(__name__)\n",
    "\n",
    "@app.route('/')\n",
    "def index():\n",
    "    return render_template('index.html')\n",
    "\n",
    "@app.errorhandler(404)\n",
    "def page_not_found(error):\n",
    "    return render_template('404.html'), 404\n",
    "\n",
    "@app.errorhandler(500)\n",
    "def internal_server_error(error):\n",
    "    return render_template('500.html'), 500\n",
    "\n",
    "if __name__ == '__main__':\n",
    "    app.run()\n"
   ]
  },
  {
   "cell_type": "markdown",
   "id": "84dd42a8",
   "metadata": {},
   "source": [
    "- We define error handler functions using the @app.errorhandler decorator.\n",
    "- The error handler functions take the error as an argument and return the corresponding error page template.\n",
    "- In this example, we have error handlers for 404 (Page Not Found) and 500 (Internal Server Error) errors."
   ]
  },
  {
   "cell_type": "markdown",
   "id": "6cb74f3c",
   "metadata": {},
   "source": [
    "#### Integrating MySQL with Flask \n",
    "Flask Allows you to build web applications that interact with a MySQL database. Here's an overview of using MySQL with Flask, along with some code examples:\n",
    "\n",
    "\tpip install flask-mysql\n",
    "#### Import Required Modules:"
   ]
  },
  {
   "cell_type": "code",
   "execution_count": null,
   "id": "c41c9fbc",
   "metadata": {},
   "outputs": [],
   "source": [
    "from flask import Flask, render_template, request\n",
    "from flask_mysqldb import MySQL\n"
   ]
  },
  {
   "cell_type": "markdown",
   "id": "0b993108",
   "metadata": {},
   "source": [
    "#### Set Up Flask Application:"
   ]
  },
  {
   "cell_type": "code",
   "execution_count": null,
   "id": "12277426",
   "metadata": {},
   "outputs": [],
   "source": [
    "app = Flask(__name__)\n",
    "app.config['MYSQL_HOST'] = 'localhost'\n",
    "app.config['MYSQL_USER'] = 'your_username'\n",
    "app.config['MYSQL_PASSWORD'] = 'your_password'\n",
    "app.config['MYSQL_DB'] = 'your_database_name'\n",
    "\n",
    "mysql = MySQL(app)\n"
   ]
  },
  {
   "cell_type": "markdown",
   "id": "5833c8b9",
   "metadata": {},
   "source": [
    "#### Create Database Connection and Cursor:"
   ]
  },
  {
   "cell_type": "code",
   "execution_count": null,
   "id": "dfa7d46b",
   "metadata": {},
   "outputs": [],
   "source": [
    "conn = mysql.connection\n",
    "cursor = conn.cursor()"
   ]
  },
  {
   "cell_type": "markdown",
   "id": "7cc4ea65",
   "metadata": {},
   "source": [
    "#### Execute SQL Queries:"
   ]
  },
  {
   "cell_type": "code",
   "execution_count": null,
   "id": "3d6c953d",
   "metadata": {},
   "outputs": [],
   "source": [
    "# SELECT Query:\n",
    "@app.route('/users')\n",
    "def users():\n",
    "    cursor.execute(\"SELECT * FROM users\")\n",
    "    data = cursor.fetchall()\n",
    "    return render_template('users.html', users=data)\n"
   ]
  },
  {
   "cell_type": "code",
   "execution_count": null,
   "id": "fc8ea573",
   "metadata": {},
   "outputs": [],
   "source": [
    "# INSERT Query:\n",
    "\n",
    "@app.route('/add_user', methods=['POST'])\n",
    "def add_user():\n",
    "    username = request.form['username']\n",
    "    email = request.form['email']\n",
    "    \n",
    "    cursor.execute(\"INSERT INTO users (username, email) VALUES (%s, %s)\", (username, email))\n",
    "    conn.commit()\n",
    "    \n",
    "    return 'User added successfully'\n"
   ]
  },
  {
   "cell_type": "code",
   "execution_count": null,
   "id": "2dd6a8e9",
   "metadata": {},
   "outputs": [],
   "source": [
    "# UPDATE Query:\n",
    "\n",
    "@app.route('/update_user', methods=['POST'])\n",
    "def update_user():\n",
    "    user_id = request.form['user_id']\n",
    "    email = request.form['email']\n",
    "    \n",
    "    cursor.execute(\"UPDATE users SET email = %s WHERE id = %s\", (email, user_id))\n",
    "    conn.commit()\n",
    "    \n",
    "    return 'User updated successfully'\n"
   ]
  },
  {
   "cell_type": "code",
   "execution_count": null,
   "id": "994029c5",
   "metadata": {},
   "outputs": [],
   "source": [
    "# DELETE Query:\n",
    "\n",
    "@app.route('/delete_user', methods=['POST'])\n",
    "def delete_user():\n",
    "    user_id = request.form['user_id']\n",
    "    \n",
    "    cursor.execute(\"DELETE FROM users WHERE id = %s\", (user_id,))\n",
    "    conn.commit()\n",
    "    \n",
    "    return 'User deleted successfully'\n"
   ]
  },
  {
   "cell_type": "code",
   "execution_count": null,
   "id": "e53540b1",
   "metadata": {},
   "outputs": [],
   "source": [
    "# Close Database Connection:\n",
    "\n",
    "conn.close()\n"
   ]
  },
  {
   "cell_type": "code",
   "execution_count": null,
   "id": "e23edf75",
   "metadata": {},
   "outputs": [],
   "source": [
    "# Run the Flask Application:\n",
    "\n",
    "if __name__ == '__main__':\n",
    "    app.run(debug=True)\n"
   ]
  },
  {
   "cell_type": "code",
   "execution_count": 7,
   "id": "80455528",
   "metadata": {},
   "outputs": [],
   "source": [
    "# Here's the HTML code for the Flask SQL examples mentioned earlier:"
   ]
  },
  {
   "cell_type": "raw",
   "id": "23892d8e",
   "metadata": {},
   "source": [
    "# Template for displaying users (users.html):\n",
    "\n",
    "<html>\n",
    "<head>\n",
    "    <title>User List</title>\n",
    "</head>\n",
    "<body>\n",
    "    <h1>User List</h1>\n",
    "    <table>\n",
    "        <thead>\n",
    "            <tr>\n",
    "                <th>ID</th>\n",
    "                <th>Username</th>\n",
    "                <th>Email</th>\n",
    "            </tr>\n",
    "        </thead>\n",
    "        <tbody>\n",
    "            {% for user in users %}\n",
    "            <tr>\n",
    "                <td>{{ user[0] }}</td>\n",
    "                <td>{{ user[1] }}</td>\n",
    "                <td>{{ user[2] }}</td>\n",
    "            </tr>\n",
    "            {% endfor %}\n",
    "        </tbody>\n",
    "    </table>\n",
    "</body>\n",
    "</html>\n"
   ]
  },
  {
   "cell_type": "raw",
   "id": "9a957d75",
   "metadata": {},
   "source": [
    "# Form for adding a user:\n",
    "\n",
    "<html>\n",
    "<head>\n",
    "    <title>Add User</title>\n",
    "</head>\n",
    "<body>\n",
    "    <h1>Add User</h1>\n",
    "    <form action=\"/add_user\" method=\"POST\">\n",
    "        <label for=\"username\">Username:</label>\n",
    "        <input type=\"text\" name=\"username\" id=\"username\" required><br>\n",
    "        \n",
    "        <label for=\"email\">Email:</label>\n",
    "        <input type=\"email\" name=\"email\" id=\"email\" required><br>\n",
    "        \n",
    "        <input type=\"submit\" value=\"Add User\">\n",
    "    </form>\n",
    "</body>\n",
    "</html>\n"
   ]
  },
  {
   "cell_type": "raw",
   "id": "f6778532",
   "metadata": {},
   "source": [
    "# Form for updating a user:\n",
    "\n",
    "<html>\n",
    "<head>\n",
    "    <title>Update User</title>\n",
    "</head>\n",
    "<body>\n",
    "    <h1>Update User</h1>\n",
    "    <form action=\"/update_user\" method=\"POST\">\n",
    "        <label for=\"user_id\">User ID:</label>\n",
    "        <input type=\"number\" name=\"user_id\" id=\"user_id\" required><br>\n",
    "        \n",
    "        <label for=\"email\">New Email:</label>\n",
    "        <input type=\"email\" name=\"email\" id=\"email\" required><br>\n",
    "        \n",
    "        <input type=\"submit\" value=\"Update User\">\n",
    "    </form>\n",
    "</body>\n",
    "</html>\n"
   ]
  },
  {
   "cell_type": "raw",
   "id": "a57dc196",
   "metadata": {},
   "source": [
    "# Form for deleting a user:\n",
    "\n",
    "<html>\n",
    "<head>\n",
    "    <title>Delete User</title>\n",
    "</head>\n",
    "<body>\n",
    "    <h1>Delete User</h1>\n",
    "    <form action=\"/delete_user\" method=\"POST\">\n",
    "        <label for=\"user_id\">User ID:</label>\n",
    "        <input type=\"number\" name=\"user_id\" id=\"user_id\" required><br>\n",
    "        \n",
    "        <input type=\"submit\" value=\"Delete User\">\n",
    "    </form>\n",
    "</body>\n",
    "</html>\n"
   ]
  },
  {
   "cell_type": "markdown",
   "id": "4f1cabb7",
   "metadata": {},
   "source": [
    "You can create separate HTML files for each template and adjust the form actions to match your Flask routes. Customize the HTML structure, styles, and form fields as per your requirements.\n",
    "\n",
    "Remember to save these HTML templates in a directory named \"templates\" in your Flask project directory for Flask to locate them correctly."
   ]
  },
  {
   "cell_type": "markdown",
   "id": "156c106e",
   "metadata": {},
   "source": [
    "### Certainly! Here are some additional topics you can explore to further enhance your knowledge of Flask:\n",
    "\n",
    "1. Flask Blueprints: \n",
    "\n",
    "Blueprints allow you to organize your Flask application into reusable modules or components, making it easier to manage large-scale applications.\n",
    "\n",
    "\n",
    "2. Flask Extensions: \n",
    "\n",
    "\n",
    "Flask has a vibrant ecosystem of extensions that provide additional functionality and integrations with other libraries. Some popular extensions include Flask-SQLAlchemy (database ORM), Flask-WTF (form handling), Flask-Login (user authentication), Flask-Caching (caching), and Flask-RESTful (building RESTful APIs).\n",
    "\n",
    "\n",
    "3. Flask-SQLAlchemy: \n",
    "\n",
    "\n",
    "SQLAlchemy is a powerful SQL toolkit and Object-Relational Mapping (ORM) library. Flask-SQLAlchemy is a Flask extension that integrates SQLAlchemy with Flask, providing an easy way to interact with databases in your Flask application.\n",
    "\n",
    "\n",
    "4. Flask-Migrate: \n",
    "\n",
    "\n",
    "Flask-Migrate is an extension that provides database migration support using Alembic. It allows you to manage changes to your database schema over time, making it easier to evolve your application's database structure.\n",
    "\n",
    "\n",
    "5. Flask-RESTful: \n",
    "\n",
    "\n",
    "If you're building a RESTful API, Flask-RESTful provides a convenient way to define API resources, handle request parsing and validation, and handle common HTTP methods (GET, POST, PUT, DELETE).\n",
    "\n",
    "\n",
    "6. Flask-Testing: \n",
    "\n",
    "\n",
    "Flask-Testing is a Flask extension that provides tools for writing unit tests and integration tests for your Flask application. It allows you to simulate requests, test routes and views, and assert expected behavior.\n",
    "\n",
    "\n",
    "7. Flask-Security: \n",
    "\n",
    "\n",
    "Flask-Security is an extension that provides authentication, authorization, and role-based access control for your Flask application. It simplifies the process of managing user authentication and protecting routes based on user roles and permissions.\n",
    "\n",
    "\n",
    "8. Flask-Cache: \n",
    "\n",
    "\n",
    "Flask-Cache is a Flask extension that adds caching support to your application. It allows you to cache expensive computations, database queries, or API responses, improving the performance of your application.\n",
    "\n",
    "\n",
    "9. Flask-Admin: \n",
    "\n",
    "\n",
    "Flask-Admin is an extension that generates an administrative interface for your Flask application. It provides an easy way to manage and interact with your application's data models through a web-based interface.\n",
    "\n",
    "\n",
    "10. Flask-WebSocket: \n",
    "\n",
    "\n",
    "Flask-WebSocket is an extension that adds WebSocket support to your Flask application. It allows you to build real-time, bidirectional communication between the server and the client using the WebSocket protocol.\n",
    "\n",
    "\n",
    "11. Flask-GraphQL: \n",
    "\n",
    "\n",
    "If you're interested in GraphQL, Flask-GraphQL is an extension that integrates GraphQL into your Flask application. It provides tools to define GraphQL schemas, execute queries, and handle mutations using the GraphQL language.\n",
    "\n",
    "\n",
    "12. Flask-Sse: \n",
    "\n",
    "\n",
    "Flask-Sse is an extension that adds Server-Sent Events (SSE) support to your Flask application. SSE allows the server to push real-time updates to the client over a single HTTP connection.\n",
    "\n",
    "\n",
    "13. Flask-SocketIO: \n",
    "\n",
    "\n",
    "Flask-SocketIO is an extension that adds WebSocket and Socket.IO support to your Flask application. It enables real-time bidirectional communication between the server and the client using the Socket.IO protocol.\n",
    "\n",
    "\n",
    "14. Flask-Babel: \n",
    "\n",
    "\n",
    "Flask-Babel is an extension that adds internationalization (i18n) and localization (l10n) support to your Flask application. It allows you to handle translations and provide localized versions of your application's content.\n",
    "\n",
    "\n",
    "15. Flask-Images: \n",
    "\n",
    "\n",
    "Flask-Images is an extension that simplifies image handling in your Flask application. It provides tools for resizing, cropping, and serving images with different configurations.\n",
    "\n",
    "\n",
    "These are just a few additional topics to explore in the world of Flask. Each topic opens up new possibilities and capabilities for building robust and feature-rich web applications. As you progress, you can dive deeper into these topics and explore other Flask extensions and libraries based on your specific project requirements. Happy learning!"
   ]
  },
  {
   "cell_type": "markdown",
   "id": "0189cc2c",
   "metadata": {},
   "source": [
    "#### Example of Flask with MySQL"
   ]
  },
  {
   "cell_type": "code",
   "execution_count": null,
   "id": "746b19e0",
   "metadata": {},
   "outputs": [],
   "source": [
    "# featch details from the MySQL database\n",
    "\n",
    "from flask import Flask, render_template\n",
    "from flask_mysqldb import MySQL\n",
    "\n",
    "app = Flask(__name__)\n",
    "\n",
    "# MySQL configurations\n",
    "app.config['MYSQL_HOST'] = 'localhost'\n",
    "app.config['MYSQL_USER'] = 'root'\n",
    "app.config['MYSQL_PASSWORD'] = '0000'\n",
    "app.config['MYSQL_DB'] = 'Assignments'\n",
    "app.config['MYSQL_CURSORCLASS'] = 'DictCursor'\n",
    "\n",
    "# Initialize MySQL\n",
    "mysql = MySQL(app)\n",
    "\n",
    "# Sample route to query the database and render the template\n",
    "@app.route('/')\n",
    "def get_users():\n",
    "    cur = mysql.connection.cursor()\n",
    "    cur.execute(\"SELECT * FROM users\")\n",
    "    users = cur.fetchall()\n",
    "    cur.close()\n",
    "    return render_template('index.html', users=users)\n",
    "\n",
    "if __name__ == '__main__':\n",
    "    app.run()\n"
   ]
  },
  {
   "cell_type": "markdown",
   "id": "d511d417",
   "metadata": {},
   "source": [
    "#### HTML file of given flask code"
   ]
  },
  {
   "cell_type": "raw",
   "id": "2c06c977",
   "metadata": {},
   "source": [
    "<!DOCTYPE html>\n",
    "<html>\n",
    "<head>\n",
    "    <title>User List</title>\n",
    "</head>\n",
    "<body>\n",
    "    <h1>User List</h1>\n",
    "    <ul>\n",
    "        {% for user in users %}\n",
    "        <li>{{ user.username }}</li>\n",
    "        {% endfor %}\n",
    "    </ul>\n",
    "</body>\n",
    "</html>\n"
   ]
  },
  {
   "cell_type": "markdown",
   "id": "b99a74e3",
   "metadata": {},
   "source": [
    "#### MySQL  file for given flask code"
   ]
  },
  {
   "cell_type": "raw",
   "id": "452f19b2",
   "metadata": {},
   "source": [
    "use assignments;\n",
    "\n",
    "CREATE TABLE users (\n",
    "    id INT PRIMARY KEY AUTO_INCREMENT,\n",
    "    username VARCHAR(50) NOT NULL,\n",
    "    email VARCHAR(100) NOT NULL,\n",
    "    created_at TIMESTAMP DEFAULT CURRENT_TIMESTAMP\n",
    ");\n",
    "\n",
    "INSERT INTO users (username, email) VALUES\n",
    "    ('Akhil', 'akhil@example.com'),\n",
    "    ('Nikhil', 'nikhil@example.com'),\n",
    "    ('Prakriti', 'prakriti@example.com');\n",
    "\n",
    "select * from users;"
   ]
  },
  {
   "cell_type": "code",
   "execution_count": null,
   "id": "ae567ac7",
   "metadata": {},
   "outputs": [],
   "source": [
    "# input data from html page and featch details from the MySQL database\n",
    "\n",
    "from flask import Flask, render_template, request\n",
    "from flask_mysqldb import MySQL\n",
    "\n",
    "app = Flask(__name__)\n",
    "\n",
    "# MySQL configurations\n",
    "app.config['MYSQL_HOST'] = 'localhost'\n",
    "app.config['MYSQL_USER'] = 'root'\n",
    "app.config['MYSQL_PASSWORD'] = '0000'\n",
    "app.config['MYSQL_DB'] = 'Assignments'\n",
    "app.config['MYSQL_CURSORCLASS'] = 'DictCursor'\n",
    "\n",
    "# Initialize MySQL\n",
    "mysql = MySQL(app)\n",
    "\n",
    "@app.route('/', methods=['GET', 'POST'])\n",
    "def home():\n",
    "    if request.method == 'POST':\n",
    "        # Retrieve data from the form\n",
    "        name = request.form['name']\n",
    "        email = request.form['email']\n",
    "\n",
    "        # Create a cursor and execute the query\n",
    "        cur = mysql.connection.cursor()\n",
    "        cur.execute(\"INSERT INTO users (name, email) VALUES (%s, %s)\", (name, email))\n",
    "\n",
    "        # Commit the transaction and close the cursor\n",
    "        mysql.connection.commit()\n",
    "        cur.close()\n",
    "\n",
    "    return render_template(\"index.html\")\n",
    "\n",
    "@app.route('/info')\n",
    "def info():\n",
    "    cur = mysql.connection.cursor()\n",
    "    cur.execute(\"SELECT * FROM users\")\n",
    "    users = cur.fetchall()\n",
    "    cur.close()\n",
    "    return render_template('hii.html', users=users)\n",
    "\n",
    "if __name__ == \"__main__\":\n",
    "    app.run()\n"
   ]
  },
  {
   "cell_type": "raw",
   "id": "e7ee53ee",
   "metadata": {},
   "source": [
    "#index.html\n",
    "\n",
    "<!DOCTYPE html>\n",
    "<html>\n",
    "<head>\n",
    "    <title>Insert Data</title>\n",
    "</head>\n",
    "<body>\n",
    "    <h1>Insert Data</h1>\n",
    "    <form method=\"POST\" action=\"/\">\n",
    "        <label for=\"name\">Name:</label>\n",
    "        <input type=\"text\" name=\"name\" id=\"name\" required><br><br>\n",
    "        <label for=\"email\">Email:</label>\n",
    "        <input type=\"email\" name=\"email\" id=\"email\" required><br><br>\n",
    "        <input type=\"submit\" value=\"Submit\">\n",
    "    </form>\n",
    "</body>\n",
    "</html>\n",
    "\n",
    "\n",
    "# hii.html \n",
    "<!DOCTYPE html>\n",
    "<html>\n",
    "<head>\n",
    "    <title>User List</title>\n",
    "</head>\n",
    "<body>\n",
    "    <h1>User List</h1>\n",
    "    <ul>\n",
    "        {% for user in users %}\n",
    "        <li>{{ user.name }}</li>\n",
    "        <li>{{ user.email }}</li>\n",
    "        {% endfor %}\n",
    "    </ul>\n",
    "</body>\n",
    "</html>\n"
   ]
  },
  {
   "cell_type": "raw",
   "id": "7c13b0a5",
   "metadata": {},
   "source": [
    "#old table drop and create new with same name\n",
    "drop table users;\n",
    "\n",
    "CREATE TABLE users (\n",
    "    id INT AUTO_INCREMENT PRIMARY KEY,\n",
    "    name VARCHAR(255) NOT NULL,\n",
    "    email VARCHAR(255) NOT NULL\n",
    ");"
   ]
  }
 ],
 "metadata": {
  "kernelspec": {
   "display_name": "Python 3 (ipykernel)",
   "language": "python",
   "name": "python3"
  },
  "language_info": {
   "codemirror_mode": {
    "name": "ipython",
    "version": 3
   },
   "file_extension": ".py",
   "mimetype": "text/x-python",
   "name": "python",
   "nbconvert_exporter": "python",
   "pygments_lexer": "ipython3",
   "version": "3.10.9"
  }
 },
 "nbformat": 4,
 "nbformat_minor": 5
}
