{
 "cells": [
  {
   "cell_type": "markdown",
   "id": "009a06de",
   "metadata": {},
   "source": [
    "## Built in Functions:\n",
    "The functions which are coming along with Python software automatically, are called built in functions or pre defined functions\n",
    "\n",
    "    Eg:\n",
    "    id()\n",
    "    type()\n",
    "    input()\n",
    "    eval()\n",
    "    etc.."
   ]
  },
  {
   "cell_type": "markdown",
   "id": "c6908030",
   "metadata": {},
   "source": [
    "## a. input()\n",
    "This function always reads the data from the keyboard in the form of String Format. We\n",
    "have to convert that string type to our required type by using the corresponding type\n",
    "casting methods.\n",
    "\n",
    "    The input() method reads the user's input and returns it as a string\n",
    "    "
   ]
  },
  {
   "cell_type": "code",
   "execution_count": 1,
   "id": "cccb5de1",
   "metadata": {},
   "outputs": [
    {
     "name": "stdout",
     "output_type": "stream",
     "text": [
      "Enter your name: Nikhil Yadav\n",
      "Nikhil Yadav\n"
     ]
    }
   ],
   "source": [
    "# example\n",
    "name = input('Enter your name: ')\n",
    "print(name)\n",
    "\n",
    "# It will always print str type only for any input type"
   ]
  },
  {
   "cell_type": "code",
   "execution_count": 2,
   "id": "3f99f080",
   "metadata": {},
   "outputs": [
    {
     "name": "stdout",
     "output_type": "stream",
     "text": [
      "Please enter the age: 20\n",
      "20\n",
      "<class 'str'>\n"
     ]
    }
   ],
   "source": [
    "Age  = input('Please enter the age: ')\n",
    "print(Age)\n",
    "print(type(Age))"
   ]
  },
  {
   "cell_type": "code",
   "execution_count": 3,
   "id": "91de51ef",
   "metadata": {},
   "outputs": [
    {
     "name": "stdout",
     "output_type": "stream",
     "text": [
      "Nikhil Yadav --- 20\n"
     ]
    }
   ],
   "source": [
    "print(name,Age, sep=' --- ')"
   ]
  },
  {
   "cell_type": "code",
   "execution_count": 4,
   "id": "08c685ed",
   "metadata": {},
   "outputs": [
    {
     "name": "stdout",
     "output_type": "stream",
     "text": [
      "<class 'int'>\n"
     ]
    }
   ],
   "source": [
    "# type casting\n",
    "age = int(Age)\n",
    "print(type(age))"
   ]
  },
  {
   "cell_type": "markdown",
   "id": "20f7a782",
   "metadata": {},
   "source": [
    "#### Q. Write a program to read 2 numbers from the keyboard and print sum."
   ]
  },
  {
   "cell_type": "code",
   "execution_count": 5,
   "id": "dec05457",
   "metadata": {},
   "outputs": [
    {
     "name": "stdout",
     "output_type": "stream",
     "text": [
      "Enter the first number: 12\n",
      "Enter the second number: 24\n",
      "Sum of two numbers:  36\n"
     ]
    }
   ],
   "source": [
    "n1 = int(input('Enter the first number: '))\n",
    "n2 = int(input('Enter the second number: '))\n",
    "print('Sum of two numbers: ', n1+n2)"
   ]
  },
  {
   "cell_type": "markdown",
   "id": "b1a14231",
   "metadata": {},
   "source": [
    "#### Q. Write a program to read Student data from the keyboard and print that data."
   ]
  },
  {
   "cell_type": "code",
   "execution_count": 6,
   "id": "e94ca2bd",
   "metadata": {},
   "outputs": [
    {
     "name": "stdout",
     "output_type": "stream",
     "text": [
      "Enter the student's name: Nikhil Yadav\n",
      "Roll number: 34\n",
      "Enter the address: Bulandshahr\n",
      "Enter the course: MCA\n",
      "---------------------------------\n",
      "Please Confirm Information\n",
      "Student Name Nikhil Yadav\n",
      "Student Roll no. 34\n",
      "Student Address Bulandshahr\n",
      "Course Name MCA\n"
     ]
    }
   ],
   "source": [
    "name = input(\"Enter the student's name: \")\n",
    "roll_number = int(input('Roll number: '))\n",
    "address = input('Enter the address: ')\n",
    "course = input('Enter the course: ')\n",
    "print('---------------------------------')\n",
    "\n",
    "print(\"Please Confirm Information\") \n",
    "print('Student Name',name)\n",
    "print('Student Roll no.',roll_number)\n",
    "print('Student Address',address)\n",
    "print('Course Name',course)"
   ]
  },
  {
   "cell_type": "markdown",
   "id": "74be5599",
   "metadata": {},
   "source": [
    "## b. split()\n",
    "\n",
    "The split() method splits a string into a list. You can specify the separator, default separator is any whitespace.\n",
    "\n",
    "#### How to read multiple values from the keyboard in a single line:"
   ]
  },
  {
   "cell_type": "code",
   "execution_count": 7,
   "id": "6a589d8f",
   "metadata": {},
   "outputs": [
    {
     "name": "stdout",
     "output_type": "stream",
     "text": [
      "Enter 2 numbers: 8 5\n",
      "Product is : 40\n"
     ]
    }
   ],
   "source": [
    "a,b= [int(x) for x in input(\"Enter 2 numbers: \").split()]\n",
    "print(\"Product is :\", a*b) "
   ]
  },
  {
   "cell_type": "markdown",
   "id": "11e27663",
   "metadata": {},
   "source": [
    "Note: split() function can take space as seperator by default .But we can pass anything as seperator.\n"
   ]
  },
  {
   "cell_type": "markdown",
   "id": "7324f8f4",
   "metadata": {},
   "source": [
    "#### Q. Write a program to read 3 float numbers from the keyboard with , seperator and print their sum.\n"
   ]
  },
  {
   "cell_type": "code",
   "execution_count": 8,
   "id": "1cbb7c36",
   "metadata": {},
   "outputs": [
    {
     "name": "stdout",
     "output_type": "stream",
     "text": [
      "Enter 3 float numbers :12.4,5.4,6.5\n",
      "The Sum is : 24.3\n"
     ]
    }
   ],
   "source": [
    "a,b,c= [float(x) for x in input(\"Enter 3 float numbers :\").split(',')]\n",
    "print(\"The Sum is :\", a+b+c) "
   ]
  },
  {
   "cell_type": "markdown",
   "id": "ce543390",
   "metadata": {},
   "source": [
    "#### Q: \"how are you dear\" print this string in the given five ways. "
   ]
  },
  {
   "cell_type": "raw",
   "id": "bea8e306",
   "metadata": {},
   "source": [
    "x = how are you dear\n",
    "x1 = \"dear you are how\"\n",
    "x2 = \"woh era uoy read\"\n",
    "x3 = \"hoW arE yoU deaR\"\n",
    "x4 = \"hOw aRe yOu dEAr\"\n",
    "x5 = \"HoW ArE YoU DeaR\""
   ]
  },
  {
   "cell_type": "code",
   "execution_count": 9,
   "id": "bfb30b5e",
   "metadata": {},
   "outputs": [
    {
     "name": "stdout",
     "output_type": "stream",
     "text": [
      "dear you are how "
     ]
    }
   ],
   "source": [
    "x1 = \"how are you dear\"\n",
    "for i  in x1.split()[::-1]:\n",
    "    print(i,end=\" \")"
   ]
  },
  {
   "cell_type": "code",
   "execution_count": 10,
   "id": "6adec322",
   "metadata": {},
   "outputs": [
    {
     "name": "stdout",
     "output_type": "stream",
     "text": [
      "woh era uoy raed "
     ]
    }
   ],
   "source": [
    "x2 = \"how are you dear\"\n",
    "for i in x2.split():\n",
    "    print(i[::-1],end=\" \")"
   ]
  },
  {
   "cell_type": "code",
   "execution_count": 11,
   "id": "7fa65aba",
   "metadata": {},
   "outputs": [
    {
     "name": "stdout",
     "output_type": "stream",
     "text": [
      "hoW arE yoU deaR "
     ]
    }
   ],
   "source": [
    "x3 = \"how are you dear\"\n",
    "for i in x3.split():\n",
    "    print(i[:-1]+i[-1].upper(),end=\" \")"
   ]
  },
  {
   "cell_type": "code",
   "execution_count": 12,
   "id": "ce0cd3fa",
   "metadata": {},
   "outputs": [
    {
     "name": "stdout",
     "output_type": "stream",
     "text": [
      "hOw aRe yOu deAr "
     ]
    }
   ],
   "source": [
    "x4 = \"how are you dear\"\n",
    "for i in x4.split():\n",
    "    print(i[:-2]+i[-2].upper()+i[-1],end=\" \")"
   ]
  },
  {
   "cell_type": "code",
   "execution_count": 13,
   "id": "802994d1",
   "metadata": {},
   "outputs": [
    {
     "name": "stdout",
     "output_type": "stream",
     "text": [
      "HoW ArE YoU DeaR "
     ]
    }
   ],
   "source": [
    "x5 = \"how are you dear\"\n",
    "for i in x5.split():\n",
    "    print(i[0].upper()+i[1:-1]+i[-1].upper(),end=\" \")"
   ]
  },
  {
   "cell_type": "markdown",
   "id": "ff4b5b21",
   "metadata": {},
   "source": [
    "#### Q: Sum of all marks in given string"
   ]
  },
  {
   "cell_type": "code",
   "execution_count": 14,
   "id": "48a76aca",
   "metadata": {},
   "outputs": [
    {
     "data": {
      "text/plain": [
       "274"
      ]
     },
     "execution_count": 14,
     "metadata": {},
     "output_type": "execute_result"
    }
   ],
   "source": [
    "s = \"English 70 Physics 65 Chemistry 77 Mathematics 62 \"\n",
    "x = 0\n",
    "for i in s.split():\n",
    "    if i.isdigit():\n",
    "        x  = x + int(i)\n",
    "x"
   ]
  },
  {
   "cell_type": "markdown",
   "id": "7d4f9c1e",
   "metadata": {},
   "source": [
    "## c. eval():\n",
    "\n",
    "Eval Function take a String and evaluate the Result.\n"
   ]
  },
  {
   "cell_type": "code",
   "execution_count": 15,
   "id": "c987cfb1",
   "metadata": {},
   "outputs": [
    {
     "name": "stdout",
     "output_type": "stream",
     "text": [
      "60\n"
     ]
    }
   ],
   "source": [
    "# example\n",
    "x = eval('10+20+30')\n",
    "print(x)"
   ]
  },
  {
   "cell_type": "code",
   "execution_count": 16,
   "id": "47a4e0b6",
   "metadata": {},
   "outputs": [
    {
     "name": "stdout",
     "output_type": "stream",
     "text": [
      "Enter Expression2*5/6**2+9\n",
      "9.277777777777779\n"
     ]
    }
   ],
   "source": [
    "x = eval(input('Enter Expression'))\n",
    "print(x)"
   ]
  },
  {
   "cell_type": "markdown",
   "id": "35ed4c49",
   "metadata": {},
   "source": [
    "eval() can evaluate the Input to list, tuple, set, etc based the provided Input.\n",
    "#### Eg: Write a Program to accept list from the keynboard on the display"
   ]
  },
  {
   "cell_type": "code",
   "execution_count": 17,
   "id": "bcd66df1",
   "metadata": {},
   "outputs": [
    {
     "name": "stdout",
     "output_type": "stream",
     "text": [
      "Enter list: 12,34,5,3,2,1,3,5\n",
      "<class 'tuple'>\n",
      "(12, 34, 5, 3, 2, 1, 3, 5)\n"
     ]
    }
   ],
   "source": [
    "l = eval(input('Enter list: '))\n",
    "print (type(l))\n",
    "print(l)"
   ]
  },
  {
   "cell_type": "markdown",
   "id": "2148574b",
   "metadata": {},
   "source": [
    "## Output statements:\n",
    "\n",
    "We can use print() function to display output.\n"
   ]
  },
  {
   "cell_type": "markdown",
   "id": "e9e999cd",
   "metadata": {},
   "source": [
    "#### Form-1: print() without any argument\n",
    "Just it prints new line character"
   ]
  },
  {
   "cell_type": "markdown",
   "id": "4eac7adf",
   "metadata": {},
   "source": [
    "#### Form-2: print('string')"
   ]
  },
  {
   "cell_type": "code",
   "execution_count": 18,
   "id": "1536b184",
   "metadata": {},
   "outputs": [
    {
     "name": "stdout",
     "output_type": "stream",
     "text": [
      "Hello World\n",
      "Hello \n",
      " World\n",
      "Hello\tWorld\n",
      "HelloHelloHello\n",
      "HelloHello\n",
      "HelloWorld\n"
     ]
    }
   ],
   "source": [
    "# example\n",
    "print(\"Hello World\")\n",
    "\n",
    "# We can use escape characters also\n",
    "print(\"Hello \\n World\")\n",
    "print(\"Hello\\tWorld\")\n",
    "\n",
    "# We can use repetetion operator (*) in the string\n",
    "print(3*\"Hello\")\n",
    "print(\"Hello\"*2)\n",
    "\n",
    "# We can use + operator also\n",
    "print(\"Hello\"+\"World\") "
   ]
  },
  {
   "cell_type": "markdown",
   "id": "aaee0275",
   "metadata": {},
   "source": [
    "#### Note:\n",
    "\n",
    "    If both arguments are String type then + operator acts as concatenation operator.\n",
    "    If one argument is string type and second is any other type like int then we will get Error\n",
    "    If both arguments are number type then + operator acts as arithmetic addition operator\n",
    "#### Note:"
   ]
  },
  {
   "cell_type": "code",
   "execution_count": 19,
   "id": "06cc62b8",
   "metadata": {},
   "outputs": [
    {
     "name": "stdout",
     "output_type": "stream",
     "text": [
      "HelloWorld\n",
      "Hello World\n"
     ]
    }
   ],
   "source": [
    "print(\"Hello\"+\"World\")\n",
    "print(\"Hello\",\"World\")"
   ]
  },
  {
   "cell_type": "markdown",
   "id": "81102bbf",
   "metadata": {},
   "source": [
    "#### Form-3: print() with variable number of arguments:\n"
   ]
  },
  {
   "cell_type": "code",
   "execution_count": 20,
   "id": "36bda5fb",
   "metadata": {},
   "outputs": [
    {
     "name": "stdout",
     "output_type": "stream",
     "text": [
      "The Values are : 10 20 30\n"
     ]
    }
   ],
   "source": [
    "# example\n",
    "a,b,c=10,20,30\n",
    "print(\"The Values are :\",a,b,c) "
   ]
  },
  {
   "cell_type": "markdown",
   "id": "3a59d0c2",
   "metadata": {},
   "source": [
    "#### By default output values are seperated by space. If we want we can specify seperator by using \"sep\" attribute:"
   ]
  },
  {
   "cell_type": "code",
   "execution_count": 21,
   "id": "cda4e8d2",
   "metadata": {},
   "outputs": [
    {
     "name": "stdout",
     "output_type": "stream",
     "text": [
      "10,20,30\n",
      "10:20:30\n"
     ]
    }
   ],
   "source": [
    "# example\n",
    "a,b,c=10,20,30\n",
    "print(a,b,c,sep=',')\n",
    "print(a,b,c,sep=':') "
   ]
  },
  {
   "cell_type": "markdown",
   "id": "ff9bf959",
   "metadata": {},
   "source": [
    "#### Form-4: print() with end attribute:"
   ]
  },
  {
   "cell_type": "code",
   "execution_count": 22,
   "id": "d6fdca06",
   "metadata": {},
   "outputs": [
    {
     "name": "stdout",
     "output_type": "stream",
     "text": [
      "Hello\n",
      "Nikhil\n",
      "Yadav\n"
     ]
    }
   ],
   "source": [
    "print(\"Hello\")\n",
    "print(\"Nikhil\")\n",
    "print(\"Yadav\") "
   ]
  },
  {
   "cell_type": "markdown",
   "id": "a523e9fe",
   "metadata": {},
   "source": [
    "If we want output in the same line with space"
   ]
  },
  {
   "cell_type": "code",
   "execution_count": 23,
   "id": "aaf36a66",
   "metadata": {},
   "outputs": [
    {
     "name": "stdout",
     "output_type": "stream",
     "text": [
      "Hello Nikhil Yadav\n"
     ]
    }
   ],
   "source": [
    "# example\n",
    "print(\"Hello\",end=' ')\n",
    "print(\"Nikhil\",end=' ')\n",
    "print(\"Yadav\") "
   ]
  },
  {
   "cell_type": "markdown",
   "id": "a64e40d6",
   "metadata": {},
   "source": [
    "Note: The default value for end attribute is \\n,which is nothing but new line character."
   ]
  },
  {
   "cell_type": "markdown",
   "id": "ae9ae4c6",
   "metadata": {},
   "source": [
    "#### Form-5: print(object) statement:\n",
    "We can pass any object (like list,tuple,set etc)as argument to the print() statement. "
   ]
  },
  {
   "cell_type": "code",
   "execution_count": 24,
   "id": "d5fc6a57",
   "metadata": {},
   "outputs": [
    {
     "name": "stdout",
     "output_type": "stream",
     "text": [
      "[10, 20, 30, 40]\n",
      "(10, 20, 30, 40)\n"
     ]
    }
   ],
   "source": [
    "l=[10,20,30,40]\n",
    "t=(10,20,30,40)\n",
    "print(l)\n",
    "print(t) "
   ]
  },
  {
   "cell_type": "markdown",
   "id": "5623c79f",
   "metadata": {},
   "source": [
    "#### Form-6: print(String,variable list):\n",
    "We can use print() statement with String and any number of arguments."
   ]
  },
  {
   "cell_type": "code",
   "execution_count": 25,
   "id": "c381bce2",
   "metadata": {},
   "outputs": [
    {
     "name": "stdout",
     "output_type": "stream",
     "text": [
      "Hello Nikhil Your Age is 20\n",
      "You are teaching Machine Learning and Python\n"
     ]
    }
   ],
   "source": [
    "# example\n",
    "s=\"Nikhil\"\n",
    "a=20\n",
    "s1=\"Machine Learning\"\n",
    "s2=\"Python\"\n",
    "print(\"Hello\",s,\"Your Age is\",a)\n",
    "print(\"You are teaching\",s1,\"and\",s2)"
   ]
  },
  {
   "cell_type": "markdown",
   "id": "9ba1bba3",
   "metadata": {},
   "source": [
    "#### Form-7: print(formatted string):\n",
    "    %i====>int\n",
    "    %d====>int\n",
    "    %f=====>float\n",
    "    %s======>String type\n"
   ]
  },
  {
   "cell_type": "code",
   "execution_count": 26,
   "id": "74386679",
   "metadata": {},
   "outputs": [
    {
     "name": "stdout",
     "output_type": "stream",
     "text": [
      "a value is 10\n",
      "b value is 20 and c value is 30\n"
     ]
    }
   ],
   "source": [
    "# Syntax:\n",
    "\n",
    "#print(\"formatted string\" %(variable list))\n",
    "\n",
    "# Eg 1:\n",
    "a=10\n",
    "b=20\n",
    "c=30\n",
    "print(\"a value is %i\" %a)\n",
    "print(\"b value is %d and c value is %d\" %(b,c))\n"
   ]
  },
  {
   "cell_type": "code",
   "execution_count": 27,
   "id": "161b1b45",
   "metadata": {},
   "outputs": [
    {
     "name": "stdout",
     "output_type": "stream",
     "text": [
      "Hello Nikhil ...The List of Items are [10, 20, 30, 40]\n"
     ]
    }
   ],
   "source": [
    "# Eg 2:\n",
    "s=\"Nikhil\"\n",
    "list=[10,20,30,40]\n",
    "print(\"Hello %s ...The List of Items are %s\" %(s,list))"
   ]
  },
  {
   "cell_type": "markdown",
   "id": "301985f3",
   "metadata": {},
   "source": [
    "#### Form-8: print() with replacement operator { }"
   ]
  },
  {
   "cell_type": "code",
   "execution_count": 28,
   "id": "4f217cef",
   "metadata": {},
   "outputs": [
    {
     "name": "stdout",
     "output_type": "stream",
     "text": [
      "Hello Nikhil your salary is 10000 and Your Friend Prakriti is waiting\n",
      "Hello Nikhil your salary is 10000 and Your Friend Prakriti is waiting\n",
      "Hello Nikhil your salary is 10000 and Your Friend Prakriti is waiting\n",
      "Hello Nikhil your salary is 10000 and Your Friend Prakriti is waiting\n"
     ]
    }
   ],
   "source": [
    "name=\"Nikhil\"\n",
    "salary=10000\n",
    "gf=\"Prakriti\"\n",
    "\n",
    "print(f\"Hello {name} your salary is {salary} and Your Friend {gf} is waiting\")\n",
    "print(\"Hello {} your salary is {} and Your Friend {} is waiting\".format(name,salary,gf))\n",
    "print(\"Hello {0} your salary is {1} and Your Friend {2} is waiting\".format(name,salary,gf))\n",
    "print(\"Hello {x} your salary is {y} and Your Friend {z} is waiting\".format(x=name,y=salary,z=gf))"
   ]
  },
  {
   "cell_type": "markdown",
   "id": "004b059a",
   "metadata": {},
   "source": [
    "__________________________________________________________________________________________________"
   ]
  },
  {
   "cell_type": "markdown",
   "id": "392517b7",
   "metadata": {},
   "source": [
    "![](images\\flow_control.png)"
   ]
  },
  {
   "cell_type": "markdown",
   "id": "7ce44e7b",
   "metadata": {},
   "source": [
    "### I. Conditional Statements\n",
    "\n",
    "### 1) if\n",
    "    if condition : statement\n",
    "     or\n",
    "    if condition :\n",
    "     statement-1\n",
    "     statement-2\n",
    "     statement-3\n",
    "    If condition is true then statements will be executed.\n"
   ]
  },
  {
   "cell_type": "code",
   "execution_count": 29,
   "id": "75aedaf2",
   "metadata": {},
   "outputs": [
    {
     "name": "stdout",
     "output_type": "stream",
     "text": [
      "Enter Name: Nikhil Yadav\n",
      "How are you!!!\n"
     ]
    }
   ],
   "source": [
    "# example\n",
    "name=input(\"Enter Name: \")\n",
    "if name==\"Nikhil\" :\n",
    "    print(\"Hello Nikhil Good Morning\")\n",
    "print(\"How are you!!!\") "
   ]
  },
  {
   "cell_type": "markdown",
   "id": "6cb41da5",
   "metadata": {},
   "source": [
    "### 2) if - else:\n",
    "\n",
    "    if condition :\n",
    "     Action-1\n",
    "    else :\n",
    "     Action-2\n",
    "If condition is true then Action-1 will be executed otherwise Action-2 will be executed."
   ]
  },
  {
   "cell_type": "code",
   "execution_count": 30,
   "id": "a7c4762f",
   "metadata": {},
   "outputs": [
    {
     "name": "stdout",
     "output_type": "stream",
     "text": [
      "Enter Name: Prakriti\n",
      "Hello Good Moring\n",
      "How are you!!!\n"
     ]
    }
   ],
   "source": [
    "# example\n",
    "name=input(\"Enter Name: \")\n",
    "if name==\"nikhil\" :\n",
    "    print(\"Hello Nikhil Good Morning\")\n",
    "else:\n",
    "    print(\"Hello Good Moring\")\n",
    "    print(\"How are you!!!\")"
   ]
  },
  {
   "cell_type": "markdown",
   "id": "5cc7b867",
   "metadata": {},
   "source": [
    "___elif in python means [else if].___\n",
    "\n"
   ]
  },
  {
   "cell_type": "raw",
   "id": "e48a81df",
   "metadata": {},
   "source": [
    "An if statement can be chained together with a lot of these elif statements followed by an else statement.\n",
    "    \n",
    "    - if (condition 1): \n",
    "        #code\n",
    "    - elif (condition 2):   -----> this ladder will stop once a condition in an If or elif is met.\n",
    "        #code\n",
    "    - elif (condition 3):\n",
    "        #code\n",
    "    - else:\n",
    "        #code"
   ]
  },
  {
   "cell_type": "markdown",
   "id": "1cbb5414",
   "metadata": {},
   "source": [
    "### 3) if - elif - else:\n",
    "#### Syntax:\n",
    "    if (condition 1):  ----> if condition 1 is true.\n",
    "        print(\"yes\")\n",
    "\n",
    "    elif (condition 2):  ----> if condition 2 is true.\n",
    "    print(\"no\")\n",
    "    \n",
    "    else:\n",
    "        print(\"may be\")\n",
    "    \n",
    "    OR\n",
    "\n",
    "    if condition1:\n",
    "     Action-1\n",
    "    elif condition2:\n",
    "     Action-2\n",
    "    elif condition3:\n",
    "     Action-3\n",
    "    elif condition4:\n",
    "     Action-4\n",
    "     ...\n",
    "    else:\n",
    "     Default Action\n",
    "\n",
    "Based condition the corresponding action will be executed."
   ]
  },
  {
   "cell_type": "code",
   "execution_count": 31,
   "id": "16385124",
   "metadata": {},
   "outputs": [
    {
     "name": "stdout",
     "output_type": "stream",
     "text": [
      "Enter Your Favourite Subject: ML\n",
      "Machine learning (ML) is a field of inquiry devoted to understanding and building methods\n"
     ]
    }
   ],
   "source": [
    "# example\n",
    "subject = input(\"Enter Your Favourite Subject: \")\n",
    "\n",
    "if subject==\"Python\" :\n",
    "    print(\"Python is a popular programming language.\")\n",
    "elif subject==\"ML\":\n",
    "    print(\"Machine learning (ML) is a field of inquiry devoted to understanding and building methods\")\n",
    "elif subject==\"AI\":\n",
    "    print('''Artificial intelligence (AI) is intelligence demonstrated by machines, \n",
    "      as opposed to the natural intelligence displayed by animals including humans.''')\n",
    "else :\n",
    "    print(\"Other Subject are not recommended\") "
   ]
  },
  {
   "cell_type": "markdown",
   "id": "239cf599",
   "metadata": {},
   "source": [
    "#### Note:\n",
    "\n",
    "1. else part is always optional\n",
    " Hence the following are various possible syntaxes.\n",
    " 1. if\n",
    " 2. if - else\n",
    " 3. if-elif-else\n",
    " 4.if-elif\n",
    " \n",
    "2. There is no switch statement in Python\n",
    "\n",
    "#### Q. Write a program to find biggest of given 2 numbers from the commad prompt?"
   ]
  },
  {
   "cell_type": "code",
   "execution_count": 32,
   "id": "3e8b8fa0",
   "metadata": {},
   "outputs": [
    {
     "name": "stdout",
     "output_type": "stream",
     "text": [
      "Enter First Number:12\n",
      "Enter Second Number:8\n",
      "Biggest Number is: 12\n"
     ]
    }
   ],
   "source": [
    "n1=int(input(\"Enter First Number:\"))\n",
    "n2=int(input(\"Enter Second Number:\"))\n",
    "if n1>n2:\n",
    "    print(\"Biggest Number is:\",n1)\n",
    "else :\n",
    "    print(\"Biggest Number is:\",n2) "
   ]
  },
  {
   "cell_type": "markdown",
   "id": "c24245fe",
   "metadata": {},
   "source": [
    "#### Q. Write a program to find biggest of given 3 numbers from the commad prompt?"
   ]
  },
  {
   "cell_type": "code",
   "execution_count": 33,
   "id": "7db17722",
   "metadata": {},
   "outputs": [
    {
     "name": "stdout",
     "output_type": "stream",
     "text": [
      "Enter the number 2\n",
      "Enter the number 3\n",
      "Enter the number 4\n",
      "Enter the number 5\n",
      "d is greater 5\n"
     ]
    }
   ],
   "source": [
    "a = int(input(\"Enter the number \"))\n",
    "b = int(input(\"Enter the number \"))\n",
    "c = int(input(\"Enter the number \"))\n",
    "d = int(input(\"Enter the number \"))\n",
    "\n",
    "if a>b and a>c and a>d:\n",
    "    print(\"a is greater\",a)\n",
    "elif b>a and b>c and b>d:\n",
    "    print(\"b is greater\",b)\n",
    "elif  c>a and c>b and c>d:\n",
    "    print(\"c is greater\",c)\n",
    "else:\n",
    "    print(\"d is greater\",d)"
   ]
  },
  {
   "cell_type": "markdown",
   "id": "236ab222",
   "metadata": {},
   "source": [
    "Q. Write a program to find smallest of given 2 numbers?\n",
    "\n",
    "Q. Write a program to find smallest of given 3 numbers?\n",
    "\n",
    "Q. Write a program to check whether the given number is even or odd?\n",
    "\n",
    "Q. Write a program to check whether the given number is in between 1 and 100?"
   ]
  },
  {
   "cell_type": "markdown",
   "id": "af521973",
   "metadata": {},
   "source": [
    "## II. Iterative Statements\n",
    "If we want to execute a group of statements multiple times then we should go for Iterative statements.\n",
    "\n",
    "Python supports 2 types of iterative statements.\n",
    "1. for loop\n",
    "2. while loop\n"
   ]
  },
  {
   "cell_type": "markdown",
   "id": "b349a9df",
   "metadata": {},
   "source": [
    "### 1) for loop:\n",
    "If we want to execute some action for every element present in some sequence(it may be string or collection)then we should go for for loop.\n",
    "\n",
    "    THe syntax of a loop looks like this.\n",
    "        for x in sequence :\n",
    "            body\n",
    "Where sequence can be string or any collection.\n",
    "Body will be executed for every element present in the sequence."
   ]
  },
  {
   "cell_type": "markdown",
   "id": "33463682",
   "metadata": {},
   "source": [
    "#### Eg 1: To print characters present in the given string"
   ]
  },
  {
   "cell_type": "code",
   "execution_count": 34,
   "id": "1a92b3b8",
   "metadata": {},
   "outputs": [
    {
     "name": "stdout",
     "output_type": "stream",
     "text": [
      "P\n",
      "r\n",
      "a\n",
      "k\n",
      "r\n",
      "i\n",
      "t\n",
      "i\n"
     ]
    }
   ],
   "source": [
    "s=\"Prakriti\"\n",
    "for x in s :\n",
    "    print(x)"
   ]
  },
  {
   "cell_type": "markdown",
   "id": "b09114e5",
   "metadata": {},
   "source": [
    "#### Eg 2: To print characters present in string index wise:"
   ]
  },
  {
   "cell_type": "code",
   "execution_count": 35,
   "id": "e2832386",
   "metadata": {},
   "outputs": [
    {
     "name": "stdout",
     "output_type": "stream",
     "text": [
      "0 ---> n\n",
      "1 ---> i\n",
      "2 ---> k\n",
      "3 ---> h\n",
      "4 ---> i\n",
      "5 ---> l\n"
     ]
    }
   ],
   "source": [
    "name = \"nikhil\"\n",
    "for i in range(len(name)):\n",
    "    print(i,\"--->\",name[i])"
   ]
  },
  {
   "cell_type": "raw",
   "id": "476ae7f3",
   "metadata": {},
   "source": [
    "# Eg 3: To print Hello 10 times\n",
    "for x in range(10) :\n",
    "    print(\"Hello\")\n",
    "\n",
    "# Eg 4: To display numbers from 0 to 10\n",
    "for x in range(11) :\n",
    "    print(x)\n",
    "    \n",
    "# Eg 5: To display odd numbers from 0 to 20\n",
    "for x in range(21) :\n",
    "    if (x%2!=0):\n",
    "    print(x)\n",
    "    \n",
    "# Eg 6: To display numbers from 10 to 1 in descending order\n",
    "for x in range(10,0,-1) :\n",
    "    print(x) "
   ]
  },
  {
   "cell_type": "markdown",
   "id": "04029f82",
   "metadata": {},
   "source": [
    "### 2) while loop:\n",
    "If we want to execute a group of statements iteratively until some condition false, then we should go for while loop.\n",
    "\n",
    "The syntax of a while loop looks like this:\n",
    "\n",
    "    while condition:     -------> the block keeps executing until the conndition is true.\n",
    "            #body of the loop\n",
    "In while loop, the condition is checked first. If it evolutes to true, the body of the loop is executed, otherwise not!\n",
    "\n",
    "If the loop is entered, the process of [condition check and execution] is continued until the condition become false.\n",
    "    \n",
    "#### Eg 1: To print numbers from 1 to 10 by using while loop"
   ]
  },
  {
   "cell_type": "code",
   "execution_count": 36,
   "id": "555c8016",
   "metadata": {},
   "outputs": [
    {
     "name": "stdout",
     "output_type": "stream",
     "text": [
      "1\n",
      "2\n",
      "3\n",
      "4\n",
      "5\n",
      "6\n",
      "7\n",
      "8\n",
      "9\n",
      "10\n"
     ]
    }
   ],
   "source": [
    "x=1\n",
    "while x <=10:\n",
    "    print(x)\n",
    "    x=x+1"
   ]
  },
  {
   "cell_type": "markdown",
   "id": "a4891d84",
   "metadata": {},
   "source": [
    "#### Eg 2: To display the sum of first n numbers\n"
   ]
  },
  {
   "cell_type": "code",
   "execution_count": 37,
   "id": "06ba8790",
   "metadata": {},
   "outputs": [
    {
     "name": "stdout",
     "output_type": "stream",
     "text": [
      "Enter number:14\n",
      "The sum of first 14 numbers is : 105\n"
     ]
    }
   ],
   "source": [
    "n=int(input(\"Enter number:\"))\n",
    "sum=0\n",
    "i=1\n",
    "while i<=n:\n",
    "    sum=sum+i\n",
    "    i=i+1\n",
    "print(\"The sum of first\",n,\"numbers is :\",sum)"
   ]
  },
  {
   "cell_type": "markdown",
   "id": "57d76f82",
   "metadata": {},
   "source": [
    "#### Eg 3: write a program to prompt user to enter some name until entering Prakriti: "
   ]
  },
  {
   "cell_type": "code",
   "execution_count": 38,
   "id": "3ff9c14f",
   "metadata": {},
   "outputs": [
    {
     "name": "stdout",
     "output_type": "stream",
     "text": [
      "Enter Name:Nikhil\n",
      "Enter Name:Akhil\n",
      "Enter Name:Prakriti\n",
      "Thanks for confirmation\n"
     ]
    }
   ],
   "source": [
    "name=\"\"\n",
    "while name!=\"Prakriti\":\n",
    "    name=input(\"Enter Name:\")\n",
    "print(\"Thanks for confirmation\") "
   ]
  },
  {
   "cell_type": "raw",
   "id": "65839939",
   "metadata": {},
   "source": [
    "# Infinite Loops:\n",
    "\n",
    "i=0;\n",
    "while True :\n",
    "    i=i+1;\n",
    "    print(\"Hello\",i)"
   ]
  },
  {
   "cell_type": "markdown",
   "id": "9d3e4ffd",
   "metadata": {},
   "source": [
    "### Nested Loops:\n",
    "Sometimes we can take a loop inside another loop,which are also known as nested loops."
   ]
  },
  {
   "cell_type": "code",
   "execution_count": 39,
   "id": "f10b1537",
   "metadata": {},
   "outputs": [
    {
     "name": "stdout",
     "output_type": "stream",
     "text": [
      "i= 0  j= 0\n",
      "i= 0  j= 1\n",
      "i= 0  j= 2\n",
      "i= 0  j= 3\n",
      "i= 1  j= 0\n",
      "i= 1  j= 1\n",
      "i= 1  j= 2\n",
      "i= 1  j= 3\n",
      "i= 2  j= 0\n",
      "i= 2  j= 1\n",
      "i= 2  j= 2\n",
      "i= 2  j= 3\n",
      "i= 3  j= 0\n",
      "i= 3  j= 1\n",
      "i= 3  j= 2\n",
      "i= 3  j= 3\n"
     ]
    }
   ],
   "source": [
    "# Eg:\n",
    "for i in range(4):\n",
    "    for j in range(4):\n",
    "        print(\"i=\",i,\" j=\",j) "
   ]
  },
  {
   "cell_type": "raw",
   "id": "43dbfabe",
   "metadata": {},
   "source": [
    "- Range Function in python:-\n",
    "    The range function in python is used to generate a sequence of numbers.\n",
    "    We can also specify the start,stop and step-size as follows.\n",
    "    \n",
    "        range(start,stop,step-size)   ----> step-size is usually not used with range.\n",
    "        an example-\n",
    "        \n",
    "        for i in range(0,7):  ------> range (7) can also be used\n",
    "            print(i)    ------> print 0 to 6"
   ]
  },
  {
   "cell_type": "markdown",
   "id": "abea22f7",
   "metadata": {},
   "source": [
    "#### Q. Write a program to dispaly *'s in Right angled triangled form"
   ]
  },
  {
   "cell_type": "code",
   "execution_count": 40,
   "id": "258693e9",
   "metadata": {},
   "outputs": [
    {
     "name": "stdout",
     "output_type": "stream",
     "text": [
      "Enter number of rows:6\n",
      "* \n",
      "* * \n",
      "* * * \n",
      "* * * * \n",
      "* * * * * \n",
      "* * * * * * \n"
     ]
    }
   ],
   "source": [
    "n = int(input(\"Enter number of rows:\"))\n",
    "for i in range(1,n+1):\n",
    "    for j in range(1,i+1):\n",
    "        print(\"*\",end=\" \")\n",
    "    print() "
   ]
  },
  {
   "cell_type": "code",
   "execution_count": 41,
   "id": "28a08ad1",
   "metadata": {},
   "outputs": [
    {
     "name": "stdout",
     "output_type": "stream",
     "text": [
      "Enter number of rows:6\n",
      "* \n",
      "* * \n",
      "* * * \n",
      "* * * * \n",
      "* * * * * \n",
      "* * * * * * \n"
     ]
    }
   ],
   "source": [
    "# Alternative way:\n",
    "n = int(input(\"Enter number of rows:\"))\n",
    "for i in range(1,n+1):\n",
    "    print(\"* \" * i)"
   ]
  },
  {
   "cell_type": "markdown",
   "id": "69bae42e",
   "metadata": {},
   "source": [
    "#### Q. Write a program to display *'s in pyramid style(also known as equivalent triangle)"
   ]
  },
  {
   "cell_type": "code",
   "execution_count": 42,
   "id": "0c9f4b35",
   "metadata": {},
   "outputs": [
    {
     "name": "stdout",
     "output_type": "stream",
     "text": [
      "Enter number of rows:6\n",
      "     * \n",
      "    * * \n",
      "   * * * \n",
      "  * * * * \n",
      " * * * * * \n",
      "* * * * * * \n"
     ]
    }
   ],
   "source": [
    "n = int(input(\"Enter number of rows:\"))\n",
    "for i in range(1,n+1):\n",
    "    print(\" \" * (n-i),end=\"\")\n",
    "    print(\"* \"*i) "
   ]
  },
  {
   "cell_type": "markdown",
   "id": "510a43f8",
   "metadata": {},
   "source": [
    "## III. Transfer Statements\n",
    "\n",
    "### 1) Break:\n",
    "'break' is used to come out of the loop when encountered. It instructs the program to- Exit the loop now."
   ]
  },
  {
   "cell_type": "code",
   "execution_count": 43,
   "id": "0d033912",
   "metadata": {},
   "outputs": [
    {
     "name": "stdout",
     "output_type": "stream",
     "text": [
      "0\n",
      "1\n",
      "2\n",
      "3\n",
      "4\n",
      "5\n",
      "6\n",
      "Mission Successful: \n"
     ]
    }
   ],
   "source": [
    "# Eg:\n",
    "for i in range(10):\n",
    "    if i==7:\n",
    "        print(\"Mission Successful: \")\n",
    "        break\n",
    "    print(i) "
   ]
  },
  {
   "cell_type": "code",
   "execution_count": 44,
   "id": "5e65c66e",
   "metadata": {},
   "outputs": [
    {
     "name": "stdout",
     "output_type": "stream",
     "text": [
      "0\n",
      "1\n",
      "2\n",
      "3\n",
      "4\n",
      "5\n"
     ]
    }
   ],
   "source": [
    "for i in range(0,80):\n",
    "    print(i)  # -----> this will print 0,1,2,3,4,5\n",
    "    if i == 5:\n",
    "        break"
   ]
  },
  {
   "cell_type": "markdown",
   "id": "b137b01a",
   "metadata": {},
   "source": [
    "## 2) Continue:\n",
    "'continue' is used to stop the current iteration of the loop and continue with the next one. It instructs the program to \"skin this iteration\""
   ]
  },
  {
   "cell_type": "code",
   "execution_count": 45,
   "id": "5846760f",
   "metadata": {},
   "outputs": [
    {
     "name": "stdout",
     "output_type": "stream",
     "text": [
      "0\n",
      "1\n",
      "3\n"
     ]
    }
   ],
   "source": [
    "for i in range(4):\n",
    "    if i == 2:  # ----> if i is 2, the tertion is skipped\n",
    "        continue\n",
    "    print(i)"
   ]
  },
  {
   "cell_type": "code",
   "execution_count": 46,
   "id": "1ff2f406",
   "metadata": {},
   "outputs": [
    {
     "name": "stdout",
     "output_type": "stream",
     "text": [
      "10\n",
      "We cannot process this item : 800\n",
      "400\n",
      "We cannot process this item : 500\n",
      "30\n"
     ]
    }
   ],
   "source": [
    "items = [10,800,400,500,30]\n",
    "for item in items:\n",
    "    if item>=500:\n",
    "        print(\"We cannot process this item :\",item)\n",
    "        continue\n",
    "    print(item) "
   ]
  },
  {
   "cell_type": "code",
   "execution_count": 47,
   "id": "012536d9",
   "metadata": {},
   "outputs": [
    {
     "name": "stdout",
     "output_type": "stream",
     "text": [
      "100/10 = 10.0\n",
      "100/20 = 5.0\n",
      "We can't divide with zero... So, just skipping\n",
      "100/5 = 20.0\n",
      "We can't divide with zero... So, just skipping\n",
      "100/30 = 3.3333333333333335\n"
     ]
    }
   ],
   "source": [
    "numbers=[10,20,0,5,0,30]\n",
    "for n in numbers:\n",
    "    if n==0:\n",
    "        print(\"We can't divide with zero... So, just skipping\")\n",
    "        continue\n",
    "    print(\"100/{} = {}\".format(n,100/n)) "
   ]
  },
  {
   "cell_type": "markdown",
   "id": "4e583d63",
   "metadata": {},
   "source": [
    "### loops with else block:\n",
    "Inside loop execution,if break statement not executed ,then only else part will be\n",
    "executed.\n",
    "\n",
    "else means loop without break"
   ]
  },
  {
   "cell_type": "code",
   "execution_count": 48,
   "id": "e2a41044",
   "metadata": {},
   "outputs": [
    {
     "name": "stdout",
     "output_type": "stream",
     "text": [
      "Congrats ...all items processed successfully\n",
      "Congrats ...all items processed successfully\n",
      "Congrats ...all items processed successfully\n",
      "Congrats ...all items processed successfully\n",
      "Congrats ...all items processed successfully\n"
     ]
    }
   ],
   "source": [
    "cart=[10,20,30,40,50]\n",
    "for item in cart:\n",
    "    if item>=500:\n",
    "        print(\"We cannot process this order\")\n",
    "        break\n",
    "        print(item)\n",
    "    else:\n",
    "        print(\"Congrats ...all items processed successfully\")"
   ]
  },
  {
   "cell_type": "markdown",
   "id": "a7019031",
   "metadata": {},
   "source": [
    "#### Q. What is the difference between for loop and while loop in Python?\n",
    " \n",
    "    We can use loops to repeat code execution\n",
    "    Repeat code for every item in sequence ==>for loop\n",
    "    Repeat code as long as condition is true ==>while loop\n",
    "#### Q. How to exit from the loop?\n",
    "    by using break statement\n",
    "#### Q. How to skip some iterations inside loop?\n",
    "    by using continue statement.\n",
    "#### Q. When else part will be executed wrt loops?\n",
    "    If loop executed without break\n"
   ]
  },
  {
   "cell_type": "markdown",
   "id": "ed6dc6bb",
   "metadata": {},
   "source": [
    "## 3) pass statement:\n",
    "pass is a keyword in Python.In our programming syntactically if block is required which won't do anything then we can define that empty block with pass keyword.\n",
    "        \n",
    "    pass\n",
    "     |- It is an empty statement\n",
    "     |- It is null statement\n",
    "     |- It won't do anything\n",
    "\n",
    "    Eg:\n",
    "    if True:\n",
    "    SyntaxError: unexpected EOF while parsing\n",
    "    if True: pass\n",
    "    ==>valid\n",
    "    def m1():\n",
    "    SyntaxError: unexpected EOF while parsing"
   ]
  },
  {
   "cell_type": "markdown",
   "id": "422107e2",
   "metadata": {},
   "source": [
    "## Use case of pass:\n",
    "Sometimes in the parent class we have to declare a function with empty body and child class responsible to provide proper implementation. Such type of empty body we can define by using pass keyword. (It is something like abstract method in java)"
   ]
  },
  {
   "cell_type": "code",
   "execution_count": 49,
   "id": "30b50789",
   "metadata": {},
   "outputs": [
    {
     "name": "stdout",
     "output_type": "stream",
     "text": [
      "0\n",
      "9\n",
      "18\n",
      "27\n",
      "36\n",
      "45\n",
      "54\n",
      "63\n",
      "72\n",
      "81\n",
      "90\n",
      "99\n"
     ]
    }
   ],
   "source": [
    "#Eg:\n",
    "for i in range(100):\n",
    "    if i%9==0:\n",
    "        print(i)\n",
    "    else:\n",
    "        pass "
   ]
  },
  {
   "cell_type": "markdown",
   "id": "42bf4c51",
   "metadata": {},
   "source": [
    "## Assert Statement\n",
    "The assert statemant is useful to check if a particular condition is fulfilled or not.\n",
    "    \n",
    "    The syntax is as follows:\n",
    "        \n",
    "        assert expression, message\n",
    "        \n",
    "In the above syntax, the 'message' is not compulsory. Let's take an example. If we want to assure that the user should enter only a number greater than 0, we can use assert statement as: "
   ]
  },
  {
   "cell_type": "code",
   "execution_count": 50,
   "id": "043d50aa",
   "metadata": {},
   "outputs": [
    {
     "name": "stdout",
     "output_type": "stream",
     "text": [
      "Enter the number: 3\n"
     ]
    }
   ],
   "source": [
    "n = int(input(\"Enter the number: \")) \n",
    "assert n>0, \"Wrong input entered\""
   ]
  },
  {
   "cell_type": "code",
   "execution_count": 51,
   "id": "1c1845fb",
   "metadata": {},
   "outputs": [
    {
     "name": "stdout",
     "output_type": "stream",
     "text": [
      "Enter the number: -1\n"
     ]
    },
    {
     "ename": "AssertionError",
     "evalue": "Wrong input entered",
     "output_type": "error",
     "traceback": [
      "\u001b[1;31m---------------------------------------------------------------------------\u001b[0m",
      "\u001b[1;31mAssertionError\u001b[0m                            Traceback (most recent call last)",
      "Input \u001b[1;32mIn [51]\u001b[0m, in \u001b[0;36m<cell line: 2>\u001b[1;34m()\u001b[0m\n\u001b[0;32m      1\u001b[0m n \u001b[38;5;241m=\u001b[39m \u001b[38;5;28mint\u001b[39m(\u001b[38;5;28minput\u001b[39m(\u001b[38;5;124m\"\u001b[39m\u001b[38;5;124mEnter the number: \u001b[39m\u001b[38;5;124m\"\u001b[39m)) \n\u001b[1;32m----> 2\u001b[0m \u001b[38;5;28;01massert\u001b[39;00m n\u001b[38;5;241m>\u001b[39m\u001b[38;5;241m0\u001b[39m, \u001b[38;5;124m\"\u001b[39m\u001b[38;5;124mWrong input entered\u001b[39m\u001b[38;5;124m\"\u001b[39m\n",
      "\u001b[1;31mAssertionError\u001b[0m: Wrong input entered"
     ]
    }
   ],
   "source": [
    "n = int(input(\"Enter the number: \")) \n",
    "assert n>0, \"Wrong input entered\""
   ]
  },
  {
   "cell_type": "markdown",
   "id": "27ac25e3",
   "metadata": {},
   "source": [
    "The 'AssertionError' shown in the above output is called an expection. An expection is an error that occurs during runtime. To avoid such type of expections, we can handel them using 'try ... expect' statement. After 'try', we use 'assert' and after 'except', we write the expection name to be handel. In the expect block, we write the statement that are executed in case of exception. "
   ]
  },
  {
   "cell_type": "code",
   "execution_count": 52,
   "id": "b617efc9",
   "metadata": {},
   "outputs": [
    {
     "name": "stdout",
     "output_type": "stream",
     "text": [
      "Enter the number: -3\n",
      "Wrong Input Entered\n"
     ]
    }
   ],
   "source": [
    "# To handel AssertionError raised by assert\n",
    "n = int(input(\"Enter the number: \"))\n",
    "try:\n",
    "    assert n>0       # exception may occur here\n",
    "    print(\"You Entered: \", n)\n",
    "except AssertionError:\n",
    "    print(\"Wrong Input Entered\")      # this is executed in case of exception"
   ]
  },
  {
   "cell_type": "markdown",
   "id": "454fe676",
   "metadata": {},
   "source": [
    "## del statement:\n",
    "    del is a keyword in Python.\n",
    "After using a variable, it is highly recommended to delete that variable if it is no longer\n",
    "required,so that the corresponding object is eligible for Garbage Collection.\n",
    "\n",
    "We can delete variable by using del keyword."
   ]
  },
  {
   "cell_type": "code",
   "execution_count": 53,
   "id": "d80c57d8",
   "metadata": {},
   "outputs": [
    {
     "name": "stdout",
     "output_type": "stream",
     "text": [
      "10\n"
     ]
    }
   ],
   "source": [
    "#Eg:\n",
    "x=10\n",
    "print(x)\n",
    "del x"
   ]
  },
  {
   "cell_type": "markdown",
   "id": "9b455666",
   "metadata": {},
   "source": [
    "After deleting a variable we cannot access that variable otherwise we will get NameError.\n",
    "\n",
    "    Eg:\n",
    "       x=10\n",
    "       del x\n",
    "       print(x)\n",
    "NameError: name 'x' is not defined."
   ]
  },
  {
   "cell_type": "markdown",
   "id": "bba1c469",
   "metadata": {},
   "source": [
    "___Note:\n",
    "We can delete variables which are pointing to immutable objects.But we cannot delete\n",
    "the elements present inside immutable object.___\n",
    "    \n",
    "    Eg:\n",
    "        s=\"nikhil\"\n",
    "        print(s)\n",
    "        del s==>valid\n",
    "        del s[0] ==>TypeError: 'str' object doesn't support item deletion"
   ]
  },
  {
   "cell_type": "markdown",
   "id": "baa65572",
   "metadata": {},
   "source": [
    "### Difference between del and None:\n",
    "In the case del, the variable will be removed and we cannot access that variable(unbind operation)\n",
    "\n",
    "       s=\"nikhil\"\n",
    "       del s\n",
    "       print(s) ==>NameError: name 's' is not defined.\n",
    "\n",
    "But in the case of None assignment the variable won't be removed but the corresponding object is eligible for Garbage Collection(re bind operation). Hence after assigning with None value,we can access that variable.\n",
    "\n",
    "    s=\"nikhil\"\n",
    "    s=None\n",
    "    print(s) # None "
   ]
  },
  {
   "cell_type": "markdown",
   "id": "f30fe0e8",
   "metadata": {},
   "source": [
    "## FUNCTIONS\n",
    "\n",
    "If a group of statements is repeatedly required then it is not recommended to write these statements everytime seperately.We have to define these statements as a single unit and we can call that unit any number of times based on our requirement without rewriting.\n",
    "\n",
    "This unit is nothing but function.\n",
    "The main advantage of functions is code Reusability.\n",
    "\n",
    "___Note: In other languages functions are known as methods, procedures, subroutines etc.. Python supports 2 types of functions___\n",
    "1. Built in Functions\n",
    "2. User Defined Functions\n"
   ]
  },
  {
   "cell_type": "markdown",
   "id": "d542a11d",
   "metadata": {},
   "source": [
    "### 1. Built in Functions:\n",
    "The functions which are coming along with Python software automatically, are called built in functions or pre defined functions\n",
    "\n",
    "    Eg:\n",
    "    id()\n",
    "    type()\n",
    "    input()\n",
    "    eval()\n",
    "    etc..\n",
    "    \n",
    "### 2. User Defined Functions:\n",
    "The functions which are developed by programmer explicitly according to business requirements, are called user defined functions.\n",
    "\n",
    "Syntax to create user defined functions:\n",
    "    \n",
    "    def function_name(parameters) :\n",
    "\n",
    "    \"\"\" doc string\"\"\"\n",
    "     ----\n",
    "     -----\n",
    "     return value"
   ]
  },
  {
   "cell_type": "markdown",
   "id": "9eab4789",
   "metadata": {},
   "source": [
    "___Note: While creating functions we can use 2 keywords___\n",
    "\n",
    "1. def (mandatory)\n",
    "2. return (optional)\n"
   ]
  },
  {
   "cell_type": "code",
   "execution_count": 56,
   "id": "46c69611",
   "metadata": {},
   "outputs": [
    {
     "name": "stdout",
     "output_type": "stream",
     "text": [
      "Hello Good Morning\n",
      "Hello Good Morning\n",
      "Hello Good Morning\n"
     ]
    }
   ],
   "source": [
    "# Eg 1: Write a function to print Hello\n",
    "# test.py:\n",
    "def wish():\n",
    "    print(\"Hello Good Morning\")\n",
    "\n",
    "wish()\n",
    "wish()\n",
    "wish() "
   ]
  },
  {
   "cell_type": "markdown",
   "id": "197673b6",
   "metadata": {},
   "source": [
    "### Parameters :\n",
    "\n",
    "Parameters are inputs to the function. If a function contains parameters,then at the time of calling,compulsory we should provide values otherwise,otherwise we will get error."
   ]
  },
  {
   "cell_type": "markdown",
   "id": "b7eafeb8",
   "metadata": {},
   "source": [
    "#### Eg: Write a function to take name of the student as input and print wish message by name."
   ]
  },
  {
   "cell_type": "code",
   "execution_count": 57,
   "id": "3cca8742",
   "metadata": {},
   "outputs": [
    {
     "name": "stdout",
     "output_type": "stream",
     "text": [
      "Hello Nikhil Good Morning\n",
      "Hello Yadav Good Morning\n"
     ]
    }
   ],
   "source": [
    "def wish(name):\n",
    "    print(\"Hello\",name,\"Good Morning\")\n",
    "wish(\"Nikhil\")\n",
    "wish(\"Yadav\")"
   ]
  },
  {
   "cell_type": "markdown",
   "id": "59d61cf3",
   "metadata": {},
   "source": [
    "#### Eg: Write a function to take number as input and print its square value"
   ]
  },
  {
   "cell_type": "code",
   "execution_count": 58,
   "id": "aaf07fe6",
   "metadata": {},
   "outputs": [
    {
     "name": "stdout",
     "output_type": "stream",
     "text": [
      "The Square of 4 is 16\n",
      "The Square of 5 is 25\n"
     ]
    }
   ],
   "source": [
    "def squareIt(number):\n",
    "    print(\"The Square of\",number,\"is\", number*number)\n",
    "squareIt(4)\n",
    "squareIt(5) "
   ]
  },
  {
   "cell_type": "markdown",
   "id": "9862ebd1",
   "metadata": {},
   "source": [
    "### Return Statement:\n",
    "Function can take input values as parameters and executes business logic, and returns output to the caller with return statement."
   ]
  },
  {
   "cell_type": "markdown",
   "id": "7de1e4e1",
   "metadata": {},
   "source": [
    "#### Q. Write a function to accept 2 numbers as input and return sum."
   ]
  },
  {
   "cell_type": "code",
   "execution_count": 59,
   "id": "ddb65d8f",
   "metadata": {},
   "outputs": [
    {
     "name": "stdout",
     "output_type": "stream",
     "text": [
      "The sum is 30\n",
      "The sum is 300\n"
     ]
    }
   ],
   "source": [
    "def add(x,y):\n",
    "    return x+y\n",
    "result=add(10,20)\n",
    "print(\"The sum is\",result)\n",
    "print(\"The sum is\",add(100,200)) "
   ]
  },
  {
   "cell_type": "markdown",
   "id": "e5fe406d",
   "metadata": {},
   "source": [
    "#### If we are not writing return statement then default return value is None"
   ]
  },
  {
   "cell_type": "code",
   "execution_count": 60,
   "id": "f53c531a",
   "metadata": {},
   "outputs": [
    {
     "name": "stdout",
     "output_type": "stream",
     "text": [
      "Hello\n",
      "Hello\n",
      "None\n"
     ]
    }
   ],
   "source": [
    "def f1():\n",
    "    print(\"Hello\")\n",
    "f1()\n",
    "print(f1()) "
   ]
  },
  {
   "cell_type": "markdown",
   "id": "c1bbc464",
   "metadata": {},
   "source": [
    "#### Q. Write a function to check whether the given number is even or odd?"
   ]
  },
  {
   "cell_type": "code",
   "execution_count": 61,
   "id": "622e4ec3",
   "metadata": {},
   "outputs": [
    {
     "name": "stdout",
     "output_type": "stream",
     "text": [
      "10 is Even Number\n",
      "15 is Odd Number\n"
     ]
    }
   ],
   "source": [
    "def even_odd(num):\n",
    "    if num%2==0:\n",
    "        print(num,\"is Even Number\")\n",
    "    else:\n",
    "        print(num,\"is Odd Number\")\n",
    "even_odd(10)\n",
    "even_odd(15) "
   ]
  },
  {
   "cell_type": "markdown",
   "id": "99ff8009",
   "metadata": {},
   "source": [
    "#### Q. Write a function to find factorial of given number?"
   ]
  },
  {
   "cell_type": "code",
   "execution_count": 62,
   "id": "d8454c2a",
   "metadata": {},
   "outputs": [
    {
     "name": "stdout",
     "output_type": "stream",
     "text": [
      "The Factorial of 1 is : 1\n",
      "The Factorial of 2 is : 2\n",
      "The Factorial of 3 is : 6\n",
      "The Factorial of 4 is : 24\n"
     ]
    }
   ],
   "source": [
    "def fact(num):\n",
    "    result=1\n",
    "    while num>=1:\n",
    "        result=result*num\n",
    "        num=num-1\n",
    "    return result\n",
    "for i in range(1,5):\n",
    "    print(\"The Factorial of\",i,\"is :\",fact(i)) "
   ]
  },
  {
   "cell_type": "markdown",
   "id": "1d3e1810",
   "metadata": {},
   "source": [
    "### Returning multiple values from a function:"
   ]
  },
  {
   "cell_type": "markdown",
   "id": "fb016484",
   "metadata": {},
   "source": [
    "In other languages like C,C++ and Java, function can return atmost one value. But in Python, a function can return any number of values."
   ]
  },
  {
   "cell_type": "code",
   "execution_count": 63,
   "id": "8f363cd6",
   "metadata": {},
   "outputs": [
    {
     "name": "stdout",
     "output_type": "stream",
     "text": [
      "The Sum is : 150\n",
      "The Subtraction is : 50\n"
     ]
    }
   ],
   "source": [
    "# Eg 1:\n",
    "def sum_sub(a,b):\n",
    "    sum=a+b\n",
    "    sub=a-b\n",
    "    return sum,sub\n",
    "x,y=sum_sub(100,50)\n",
    "print(\"The Sum is :\",x)\n",
    "print(\"The Subtraction is :\",y) "
   ]
  },
  {
   "cell_type": "code",
   "execution_count": 64,
   "id": "1f25f3c3",
   "metadata": {},
   "outputs": [
    {
     "name": "stdout",
     "output_type": "stream",
     "text": [
      "The Results are\n",
      "150\n",
      "50\n",
      "5000\n",
      "2.0\n"
     ]
    }
   ],
   "source": [
    "# Eg 2:\n",
    "def calc(a,b):\n",
    "    sum=a+b\n",
    "    sub=a-b\n",
    "    mul=a*b\n",
    "    div=a/b\n",
    "    return sum,sub,mul,div\n",
    "t=calc(100,50)\n",
    "print(\"The Results are\") \n",
    "for i in t:\n",
    "    print(i)"
   ]
  },
  {
   "cell_type": "markdown",
   "id": "441b0fbb",
   "metadata": {},
   "source": [
    "### Types of arguments\n",
    "\n",
    "    def f1(a,b):\n",
    "     ------\n",
    "     ------\n",
    "     ------\n",
    "    f1(10,20)\n",
    "    \n",
    "    a,b are formal arguments where as 10,20 are actual arguments\n",
    "    \n",
    "There are 4 types are actual arguments are allowed in Python.\n",
    "1. positional arguments\n",
    "2. keyword arguments\n",
    "3. default arguments\n",
    "4. Variable length arguments"
   ]
  },
  {
   "cell_type": "markdown",
   "id": "b078469f",
   "metadata": {},
   "source": [
    "### 1. positional arguments:\n",
    "These are the arguments passed to function in correct positional order.\n",
    "\n",
    "    def sub(a,b):\n",
    "     print(a-b)\n",
    "    sub(100,200)\n",
    "    sub(200,100)\n",
    "The number of arguments and position of arguments must be matched. If we change the order then result may be changed.\n",
    "\n",
    "If we change the number of arguments then we will get error."
   ]
  },
  {
   "cell_type": "markdown",
   "id": "c0720f91",
   "metadata": {},
   "source": [
    "### 2. keyword arguments:\n",
    "We can pass argument values by keyword i.e by parameter name."
   ]
  },
  {
   "cell_type": "code",
   "execution_count": 65,
   "id": "b3a74324",
   "metadata": {},
   "outputs": [
    {
     "name": "stdout",
     "output_type": "stream",
     "text": [
      "Hello Nikhil Good Morning\n",
      "Hello Nikhil Good Morning\n"
     ]
    }
   ],
   "source": [
    "def wish(name,msg):\n",
    "    print(\"Hello\",name,msg)\n",
    "wish(name=\"Nikhil\",msg=\"Good Morning\")\n",
    "wish(msg=\"Good Morning\",name=\"Nikhil\") "
   ]
  },
  {
   "cell_type": "markdown",
   "id": "4986cc4e",
   "metadata": {},
   "source": [
    "___Here the order of arguments is not important but number of arguments must be matched___"
   ]
  },
  {
   "cell_type": "markdown",
   "id": "a578f886",
   "metadata": {},
   "source": [
    "#### Note: \n",
    "We can use both positional and keyword arguments simultaneously. But first we have totake positional arguments and then keyword arguments,otherwise we will get syntaxerror.\n",
    "\n",
    "    def wish(name,msg):\n",
    "        print(\"Hello\",name,msg)\n",
    "    wish(\"Nikhil\",\"GoodMorning\") ==>valid\n",
    "    wish(\"Nikhil\",msg=\"GoodMorning\") ==>valid\n",
    "    wish(name=\"Nikhil\",\"GoodMorning\") ==>invalid\n",
    "    SyntaxError: positional argument follows keyword argument"
   ]
  },
  {
   "cell_type": "markdown",
   "id": "d6776c56",
   "metadata": {},
   "source": [
    "### 3. Default Arguments:\n",
    "Sometimes we can provide default values for our positional arguments."
   ]
  },
  {
   "cell_type": "code",
   "execution_count": 66,
   "id": "fd8ea49f",
   "metadata": {},
   "outputs": [
    {
     "name": "stdout",
     "output_type": "stream",
     "text": [
      "Hello Nikhil Good Morning\n",
      "Hello Prakriti Good Morning\n"
     ]
    }
   ],
   "source": [
    "# Eg:\n",
    "def wish(name=\"Prakriti\"):\n",
    "    print(\"Hello\",name,\"Good Morning\")\n",
    "wish(\"Nikhil\")\n",
    "wish() "
   ]
  },
  {
   "cell_type": "markdown",
   "id": "d111931e",
   "metadata": {},
   "source": [
    "___If we are not passing any name then only default value will be considered.___\n",
    "#### Note:\n",
    "After default arguments we should not take non default arguments\n",
    "    \n",
    "    def wish(name=\"Prakriti\",msg=\"Good Morning\"): ===>Valid\n",
    "    def wish(name,msg=\"Good Morning\"): ===>Valid\n",
    "    def wish(name=\"Prakriti\",msg): ==>Invalid\n",
    "    SyntaxError: non-default argument follows default argument"
   ]
  },
  {
   "cell_type": "markdown",
   "id": "26630c12",
   "metadata": {},
   "source": [
    "### 4. Variable length arguments:\n",
    "Sometimes we can pass variable number of arguments to our function,such type of arguments are called variable length arguments.\n",
    "\n",
    "We can declare a variable length argument with * symbol as follows\n",
    "    \n",
    "    def f1(*n):\n",
    "We can call this function by passing any number of arguments including zero number.\n",
    "Internally all these values represented in the form of tuple."
   ]
  },
  {
   "cell_type": "code",
   "execution_count": 67,
   "id": "7bf992a5",
   "metadata": {},
   "outputs": [
    {
     "name": "stdout",
     "output_type": "stream",
     "text": [
      "The Sum = 0\n",
      "The Sum = 10\n",
      "The Sum = 30\n",
      "The Sum = 100\n"
     ]
    }
   ],
   "source": [
    "# Eg:\n",
    "def sum(*n):\n",
    "    total=0\n",
    "    for n1 in n:\n",
    "        total=total+n1\n",
    "    print(\"The Sum =\",total) \n",
    "    \n",
    "sum()\n",
    "sum(10)\n",
    "sum(10,20)\n",
    "sum(10,20,30,40) "
   ]
  },
  {
   "cell_type": "markdown",
   "id": "9fdf5c3c",
   "metadata": {},
   "source": [
    "___Note: We can mix variable length arguments with positional arguments.___"
   ]
  },
  {
   "cell_type": "code",
   "execution_count": 68,
   "id": "6a2fbeec",
   "metadata": {},
   "outputs": [
    {
     "name": "stdout",
     "output_type": "stream",
     "text": [
      "10\n",
      "10\n",
      "20\n",
      "30\n",
      "40\n",
      "10\n",
      "A\n",
      "30\n",
      "B\n"
     ]
    }
   ],
   "source": [
    "# Eg:\n",
    "def f1(n1,*s):\n",
    "    print(n1)\n",
    "    for s1 in s:\n",
    "        print(s1)\n",
    "\n",
    "f1(10)\n",
    "f1(10,20,30,40)\n",
    "f1(10,\"A\",30,\"B\") "
   ]
  },
  {
   "cell_type": "markdown",
   "id": "b3d308bc",
   "metadata": {},
   "source": [
    "___Note: After variable length argument,if we are taking any other arguments then we\n",
    "should provide values as keyword arguments.___"
   ]
  },
  {
   "cell_type": "code",
   "execution_count": 69,
   "id": "e0bd27da",
   "metadata": {},
   "outputs": [
    {
     "name": "stdout",
     "output_type": "stream",
     "text": [
      "A\n",
      "B\n",
      "10\n"
     ]
    }
   ],
   "source": [
    "# Eg:\n",
    "def f1(*s,n1):\n",
    "    for s1 in s:\n",
    "        print(s1)\n",
    "    print(n1)\n",
    "\n",
    "f1(\"A\",\"B\",n1=10)"
   ]
  },
  {
   "cell_type": "markdown",
   "id": "d9bd7222",
   "metadata": {},
   "source": [
    "    f1(\"A\",\"B\",10) ==>Invalid\n",
    "    TypeError: f1() missing 1 required keyword-only argument: 'n1'\n",
    "___Note: We can declare key word variable length arguments also.\n",
    "For this we have to use **.___\n",
    "    \n",
    "    def f1(**n):"
   ]
  },
  {
   "cell_type": "markdown",
   "id": "e73bdd10",
   "metadata": {},
   "source": [
    "We can call this function by passing any number of keyword arguments. Internally these\n",
    "keyword arguments will be stored inside a dictionary."
   ]
  },
  {
   "cell_type": "code",
   "execution_count": 70,
   "id": "c6327d4f",
   "metadata": {},
   "outputs": [
    {
     "name": "stdout",
     "output_type": "stream",
     "text": [
      "n1 = 10\n",
      "n2 = 20\n",
      "n3 = 30\n",
      "rno = 100\n",
      "name = Nikhil\n",
      "marks = 70\n",
      "subject = Machine Learning\n"
     ]
    }
   ],
   "source": [
    "# Eg:\n",
    "def display(**kwargs):\n",
    "    for k,v in kwargs.items():\n",
    "        print(k,\"=\",v)\n",
    "display(n1=10,n2=20,n3=30)\n",
    "display(rno=100,name=\"Nikhil\",marks=70,subject=\"Machine Learning\") "
   ]
  },
  {
   "cell_type": "markdown",
   "id": "163eeb20",
   "metadata": {},
   "source": [
    "### Case Study:\n",
    "    def f(arg1,arg2,arg3=4,arg4=8):\n",
    "        print(arg1,arg2,arg3,arg4)\n",
    "\n",
    "    1. f(3,2) ==> 3 2 4 8\n",
    "    2. f(10,20,30,40) ===>10 20 30 40\n",
    "    3. f(25,50,arg4=100) ==>25 50 4 100\n",
    "    4. f(arg4=2,arg1=3,arg2=4)===>3 4 4 2\n",
    "    5. f()===>Invalid\n",
    "TypeError: f() missing 2 required positional arguments: 'arg1' and 'arg2'\n",
    "\n",
    "    6. f(arg3=10,arg4=20,30,40) ==>Invalid\n",
    " SyntaxError: positional argument follows keyword argument\n",
    " \n",
    " [After keyword arguments we should not take positional arguments]\n",
    "    \n",
    "    7. f(4,5,arg2=6)==>Invalid\n",
    " TypeError: f() got multiple values for argument 'arg2'\n",
    "    \n",
    "    8. f(4,5,arg3=5,arg5=6)==>Invalid\n",
    " TypeError: f() got an unexpected keyword argument 'arg5'"
   ]
  },
  {
   "cell_type": "markdown",
   "id": "4cecc00c",
   "metadata": {},
   "source": [
    "#### Note: Function vs Module vs Library:\n",
    "\n",
    "1. A group of lines with some name is called a function\n",
    "2. A group of functions saved to a file , is called Module\n",
    "3. A group of Modules is nothing but Library"
   ]
  },
  {
   "cell_type": "markdown",
   "id": "a8adc026",
   "metadata": {},
   "source": [
    "![](images\\lib_fun.jpg)"
   ]
  },
  {
   "cell_type": "markdown",
   "id": "c7674661",
   "metadata": {},
   "source": [
    "### Types of Variables\n",
    "Python supports 2 types of variables.\n",
    "\n",
    "1. Global Variables\n",
    "2. Local Variables\n",
    "\n",
    "#### 1. Global Variables\n",
    "\n",
    "The variables which are declared outside of function are called global variables.\n",
    "\n",
    "These variables can be accessed in all functions of that module."
   ]
  },
  {
   "cell_type": "code",
   "execution_count": 71,
   "id": "6427b5c4",
   "metadata": {},
   "outputs": [
    {
     "name": "stdout",
     "output_type": "stream",
     "text": [
      "10\n",
      "10\n"
     ]
    }
   ],
   "source": [
    "# Eg:\n",
    "a=10 # global variable\n",
    "def f1():\n",
    "    print(a)\n",
    "\n",
    "def f2():\n",
    "    print(a)\n",
    "\n",
    "f1()\n",
    "f2() "
   ]
  },
  {
   "cell_type": "markdown",
   "id": "7461aa34",
   "metadata": {},
   "source": [
    "#### 2. Local Variables:\n",
    "The variables which are declared inside a function are called local variables.\n",
    "\n",
    "Local variables are available only for the function in which we declared it.i.e from outside\n",
    "of function we cannot access.\n"
   ]
  },
  {
   "cell_type": "raw",
   "id": "ca098ad4",
   "metadata": {},
   "source": [
    "# Eg:\n",
    "def f():\n",
    "    s = \"I love AI\"\n",
    "    print(\"Inside Function:\", s)\n",
    "f()\n",
    "print(s)\n",
    "\n",
    "NameError: name 's' is not defined"
   ]
  },
  {
   "cell_type": "markdown",
   "id": "580210f9",
   "metadata": {},
   "source": [
    "#### global keyword:\n",
    "We can use global keyword for the following 2 purposes:\n",
    "\n",
    "1. To declare global variable inside function\n",
    "2. To make global variable available to the function so that we can perform required modifications\n"
   ]
  },
  {
   "cell_type": "code",
   "execution_count": 72,
   "id": "b6048a4b",
   "metadata": {},
   "outputs": [
    {
     "name": "stdout",
     "output_type": "stream",
     "text": [
      "777\n",
      "10\n"
     ]
    }
   ],
   "source": [
    "# Eg 1:\n",
    "a=10\n",
    "def f1():\n",
    "    a=777\n",
    "    print(a)\n",
    "def f2():\n",
    "    print(a)\n",
    "f1()\n",
    "f2() "
   ]
  },
  {
   "cell_type": "code",
   "execution_count": 73,
   "id": "f2dde2d9",
   "metadata": {},
   "outputs": [
    {
     "name": "stdout",
     "output_type": "stream",
     "text": [
      "555\n",
      "555\n"
     ]
    }
   ],
   "source": [
    "# Eg 2:\n",
    "a=10\n",
    "def f1():\n",
    "    global a\n",
    "    a=555\n",
    "    print(a)\n",
    "def f2():\n",
    "    print(a)\n",
    "f1()\n",
    "f2()"
   ]
  },
  {
   "cell_type": "raw",
   "id": "3980908f",
   "metadata": {},
   "source": [
    "# Eg 3:\n",
    "def f1():\n",
    "    a=10\n",
    "    print(a)\n",
    "def f2():\n",
    "    print(a)\n",
    "f1()\n",
    "f2()\n",
    "\n",
    "NameError: name 'a' is not defined "
   ]
  },
  {
   "cell_type": "markdown",
   "id": "631ef212",
   "metadata": {},
   "source": [
    "___Note: If global variable and local variable having the same name then we can access\n",
    "global variable inside a function as follows___"
   ]
  },
  {
   "cell_type": "code",
   "execution_count": 74,
   "id": "b3b99d2b",
   "metadata": {},
   "outputs": [
    {
     "name": "stdout",
     "output_type": "stream",
     "text": [
      "777\n",
      "10\n"
     ]
    }
   ],
   "source": [
    "a=10 #global variable\n",
    "def f1():\n",
    "    a=777 #local variable\n",
    "    print(a)\n",
    "    print(globals()['a'])\n",
    "f1()"
   ]
  },
  {
   "cell_type": "markdown",
   "id": "a6406d73",
   "metadata": {},
   "source": [
    "### Recursive Functions\n",
    "A function that calls itself is known as Recursive Function.\n"
   ]
  },
  {
   "cell_type": "raw",
   "id": "f661ae83",
   "metadata": {},
   "source": [
    "Eg:\n",
    "factorial(3)=3*factorial(2)\n",
    "     =3*2*factorial(1)\n",
    "     =3*2*1*factorial(0)\n",
    "     =3*2*1*1\n",
    "     =6\n",
    "factorial(n)= n*factorial(n-1)\n",
    "\n",
    "The main advantages of recursive functions are:\n",
    "1. We can reduce length of the code and improves readability\n",
    "2. We can solve complex problems very easily."
   ]
  },
  {
   "cell_type": "markdown",
   "id": "7bdb9269",
   "metadata": {},
   "source": [
    "#### Q. Write a Python Function to find factorial of given number with recursion."
   ]
  },
  {
   "cell_type": "code",
   "execution_count": 75,
   "id": "d332dda0",
   "metadata": {},
   "outputs": [
    {
     "name": "stdout",
     "output_type": "stream",
     "text": [
      "Factorial of 4 is : 6\n",
      "Factorial of 5 is : 120\n"
     ]
    }
   ],
   "source": [
    "def factorial(n):\n",
    "    if n==0:\n",
    "        result=1\n",
    "    else:\n",
    "        result=n*factorial(n-1)\n",
    "    return result\n",
    "print(\"Factorial of 4 is :\",factorial(3))\n",
    "print(\"Factorial of 5 is :\",factorial(5)) "
   ]
  },
  {
   "cell_type": "markdown",
   "id": "2e3ab7cb",
   "metadata": {},
   "source": [
    "### Anonymous Functions:\n",
    "Sometimes we can declare a function without using dif or any name,such type of nameless functions are called anonymous functions or lambda functions.\n",
    "\n",
    "The main purpose of anonymous function is just for instant use(i.e for one time usage)\n",
    "\n",
    "### Normal Function:\n",
    "We can define by using def keyword.\n",
    "\n",
    "    def squareIt(n):\n",
    "     return n*n\n",
    "     \n",
    "### lambda Function:\n",
    "We can define by using lambda keyword lambda n:n*n\n",
    "\n",
    "### Syntax of lambda Function:\n",
    "\n",
    "    lambda parameter_list : expression\n",
    "___Note: By using Lambda Functions we can write very concise code so that readability of the program will be improved.___\n",
    "\n",
    "Lambda function return a function and hence they should be assigned to a function as: \n",
    "    \n",
    "    f = lambda x : x*x\n",
    "\n",
    "Here, 'f' is the function name to which the lambda expression is assigned. Now, if we call the function f() as:\n",
    "\n",
    "    value = f(5)\n",
    "    \n",
    "Now, 'value' contains the square value of 5, i.e. 25. "
   ]
  },
  {
   "cell_type": "code",
   "execution_count": 76,
   "id": "e0d9d850",
   "metadata": {},
   "outputs": [],
   "source": [
    "f = lambda x : x*x"
   ]
  },
  {
   "cell_type": "code",
   "execution_count": 77,
   "id": "b3790ab8",
   "metadata": {},
   "outputs": [
    {
     "data": {
      "text/plain": [
       "25"
      ]
     },
     "execution_count": 77,
     "metadata": {},
     "output_type": "execute_result"
    }
   ],
   "source": [
    "f(5)"
   ]
  },
  {
   "cell_type": "markdown",
   "id": "7ae5721f",
   "metadata": {},
   "source": [
    "#### Q. Write a program to create a lambda function to find square of given number?"
   ]
  },
  {
   "cell_type": "code",
   "execution_count": 78,
   "id": "5298e87f",
   "metadata": {},
   "outputs": [
    {
     "name": "stdout",
     "output_type": "stream",
     "text": [
      "The Square of 4 is : 25\n",
      "The Square of 5 is : 64\n"
     ]
    }
   ],
   "source": [
    "s = lambda n:n*n\n",
    "print(\"The Square of 4 is :\",s(5))\n",
    "print(\"The Square of 5 is :\",s(8)) "
   ]
  },
  {
   "cell_type": "markdown",
   "id": "ba42384b",
   "metadata": {},
   "source": [
    "#### Q. Lambda function to find sum of 2 given numbers"
   ]
  },
  {
   "cell_type": "code",
   "execution_count": 79,
   "id": "ded635ef",
   "metadata": {},
   "outputs": [
    {
     "name": "stdout",
     "output_type": "stream",
     "text": [
      "The Sum of 10,20 is: 50\n",
      "The Sum of 50,200 is: 250\n"
     ]
    }
   ],
   "source": [
    "s=lambda a,b:a+b\n",
    "print(\"The Sum of 10,20 is:\",s(30,20))\n",
    "print(\"The Sum of 50,200 is:\",s(50,200))"
   ]
  },
  {
   "cell_type": "markdown",
   "id": "61cd568f",
   "metadata": {},
   "source": [
    "#### Q. Lambda Function to find biggest of given values."
   ]
  },
  {
   "cell_type": "code",
   "execution_count": 80,
   "id": "6be4bb15",
   "metadata": {},
   "outputs": [
    {
     "name": "stdout",
     "output_type": "stream",
     "text": [
      "The Biggest of 10,40 is: 40\n",
      "The Biggest of 300,200 is: 300\n"
     ]
    }
   ],
   "source": [
    "s=lambda a,b:a if a>b else b\n",
    "print(\"The Biggest of 10,40 is:\",s(10,40))\n",
    "print(\"The Biggest of 300,200 is:\",s(200,300)) "
   ]
  },
  {
   "cell_type": "code",
   "execution_count": 81,
   "id": "669be402",
   "metadata": {},
   "outputs": [],
   "source": [
    "grade = lambda x: 'A+' if x>7 else 'A' if x>=5 and x<=7 else 'B'"
   ]
  },
  {
   "cell_type": "code",
   "execution_count": 82,
   "id": "ec889f5f",
   "metadata": {},
   "outputs": [
    {
     "data": {
      "text/plain": [
       "'A+'"
      ]
     },
     "execution_count": 82,
     "metadata": {},
     "output_type": "execute_result"
    }
   ],
   "source": [
    "grade(8)"
   ]
  },
  {
   "cell_type": "code",
   "execution_count": 83,
   "id": "f71335ba",
   "metadata": {},
   "outputs": [
    {
     "data": {
      "text/plain": [
       "<function __main__.<lambda>(num)>"
      ]
     },
     "execution_count": 83,
     "metadata": {},
     "output_type": "execute_result"
    }
   ],
   "source": [
    "lambda num: num**2"
   ]
  },
  {
   "cell_type": "markdown",
   "id": "7385c6d8",
   "metadata": {},
   "source": [
    "#### Note:\n",
    "Lambda Function internally returns expression value and we are not required to write\n",
    "return statement explicitly.\n",
    "#### Note: \n",
    "Sometimes we can pass function as argument to another function. In such cases\n",
    "lambda functions are best choice.\n",
    "\n",
    "We can use lambda functions very commonly with filter(),map() and reduce() functions,b'z\n",
    "these functions expect function as argument."
   ]
  },
  {
   "cell_type": "markdown",
   "id": "9ba6e783",
   "metadata": {},
   "source": [
    "### filter() function:\n",
    "The filter function is useful to filter out the elements os a sequence depending on the result of a function.\n",
    "\n",
    "We can use filter() function to filter values from the given sequence based on some\n",
    "condition.\n",
    "    \n",
    "    filter(function,sequence)\n",
    "Where function argument is responsible to perform conditional check sequence can be list or tuple or string or set.\n"
   ]
  },
  {
   "cell_type": "code",
   "execution_count": 84,
   "id": "9dcbb313",
   "metadata": {},
   "outputs": [
    {
     "name": "stdout",
     "output_type": "stream",
     "text": [
      "('a', 'e', 'i', 'o')\n"
     ]
    }
   ],
   "source": [
    "# Ex\n",
    "letters = ['a', 'b', 'd', 'e', 'i', 'j', 'o']\n",
    "\n",
    "# a function that returns True if letter is vowel\n",
    "def filter_vowels(letter):\n",
    "    vowels = ['a', 'e', 'i', 'o', 'u']\n",
    "    return True if letter in vowels else False\n",
    "\n",
    "filtered_vowels = filter(filter_vowels, letters)\n",
    "\n",
    "# converting to tuple 'mandatory'\n",
    "vowels = tuple(filtered_vowels)\n",
    "print(vowels)"
   ]
  },
  {
   "cell_type": "code",
   "execution_count": 85,
   "id": "560dbcd2",
   "metadata": {},
   "outputs": [],
   "source": [
    "def is_even(x):\n",
    "    if x%2==0:\n",
    "        return \"Correct\"\n",
    "    # We can also apply multiple condition to filter out the elements\n",
    "    else:\n",
    "        return False"
   ]
  },
  {
   "cell_type": "code",
   "execution_count": 91,
   "id": "ab3b8716",
   "metadata": {},
   "outputs": [
    {
     "data": {
      "text/plain": [
       "False"
      ]
     },
     "execution_count": 91,
     "metadata": {},
     "output_type": "execute_result"
    }
   ],
   "source": [
    "is_even(3)"
   ]
  },
  {
   "cell_type": "code",
   "execution_count": 92,
   "id": "b50e78c0",
   "metadata": {},
   "outputs": [
    {
     "name": "stdout",
     "output_type": "stream",
     "text": [
      "(2, 4, 6, 8, 10, 12, 14, 16)\n"
     ]
    }
   ],
   "source": [
    "numbers = [1,2,3,4,5,6,7,8,9,10,11,12,13,14,15,16]\n",
    "even_no = tuple(filter(is_even,numbers))\n",
    "print(even_no)"
   ]
  },
  {
   "cell_type": "markdown",
   "id": "d10c3f2d",
   "metadata": {},
   "source": [
    "### map() function:\n",
    "The map() function is similar to filter() function but it acts on each element of the sequence and perhaps changes the elements.\n",
    "\n",
    "For every element present in the given sequence,apply some functionality and generate\n",
    "new element with the required modification. For this requirement we should go for\n",
    "map() function.\n",
    "\n",
    "___Eg: For every element present in the list perform double and generate new list of doubles.___\n",
    "#### Syntax:\n",
    "    \n",
    "    map(function,sequence)\n",
    "The function can be applied on each element of sequence and generates new sequence."
   ]
  },
  {
   "cell_type": "code",
   "execution_count": 94,
   "id": "1a4c91ba",
   "metadata": {},
   "outputs": [
    {
     "name": "stdout",
     "output_type": "stream",
     "text": [
      "(2, 4, 6)\n"
     ]
    }
   ],
   "source": [
    "numbers = [1, 2, 3, 4, 5, 6, 7]\n",
    "\n",
    "# the lambda function returns True for even numbers \n",
    "f = lambda x: (x%2 == 0)\n",
    "even_numbers_iterator = filter(f, numbers)\n",
    "\n",
    "# converting to list\n",
    "even_numbers = tuple(even_numbers_iterator)\n",
    "\n",
    "print(even_numbers)"
   ]
  },
  {
   "cell_type": "markdown",
   "id": "a064e3af",
   "metadata": {},
   "source": [
    "#### Without lambda"
   ]
  },
  {
   "cell_type": "code",
   "execution_count": 96,
   "id": "7fbbfb3e",
   "metadata": {},
   "outputs": [
    {
     "name": "stdout",
     "output_type": "stream",
     "text": [
      "(2, 4, 6, 8, 10)\n"
     ]
    }
   ],
   "source": [
    "# Ex-2\n",
    "listt=[1,2,3,4,5]\n",
    "def doubleIt(x):\n",
    "    return 2*x\n",
    "l1=tuple(map(doubleIt,listt))\n",
    "print(l1) "
   ]
  },
  {
   "cell_type": "markdown",
   "id": "c13707d3",
   "metadata": {},
   "source": [
    "#### with lambda"
   ]
  },
  {
   "cell_type": "code",
   "execution_count": 97,
   "id": "bebf51e9",
   "metadata": {},
   "outputs": [
    {
     "name": "stdout",
     "output_type": "stream",
     "text": [
      "(2, 4, 6, 8, 10)\n"
     ]
    }
   ],
   "source": [
    "l=[1,2,3,4,5]\n",
    "f = lambda x:2*x\n",
    "l1=tuple(map(f,l))\n",
    "print(l1) "
   ]
  },
  {
   "cell_type": "markdown",
   "id": "17a856ee",
   "metadata": {},
   "source": [
    "#### Eg 2: To find square of given numbers"
   ]
  },
  {
   "cell_type": "code",
   "execution_count": 98,
   "id": "bee7fc28",
   "metadata": {},
   "outputs": [
    {
     "name": "stdout",
     "output_type": "stream",
     "text": [
      "(1, 4, 9, 16, 25)\n"
     ]
    }
   ],
   "source": [
    "l=[1,2,3,4,5]\n",
    "l1=tuple(map(lambda x:x*x,l))\n",
    "print(l1)"
   ]
  },
  {
   "cell_type": "markdown",
   "id": "d4f5aa2a",
   "metadata": {},
   "source": [
    "#### We can apply map() function on multiple lists also.But make sure all list should have same length. if the length ar'ent same than it work on the less list sequence of elements.\n",
    "\n",
    "    Syntax: map(lambda x,y:x*y,l1,l2))\n",
    "     x is from l1 and y is from l2"
   ]
  },
  {
   "cell_type": "code",
   "execution_count": 99,
   "id": "af92bf0d",
   "metadata": {},
   "outputs": [
    {
     "name": "stdout",
     "output_type": "stream",
     "text": [
      "(2, 6, 12, 20)\n"
     ]
    }
   ],
   "source": [
    "# Eg:\n",
    "l1=[1,2,3,4]\n",
    "l2=[2,3,4,5,]\n",
    "l3=tuple(map(lambda x,y:x*y,l1,l2))\n",
    "print(l3)"
   ]
  },
  {
   "cell_type": "markdown",
   "id": "c483c6d2",
   "metadata": {},
   "source": [
    "### reduce() function:\n",
    "reduce() function reduces sequence of elements into a single element by applying the specified function.\n",
    "\n",
    "Here, the reduce function reduces the list to a final value as indicated by the lambda function.\n",
    "\n",
    "\n",
    "    reduce(function,sequence)\n",
    "\n",
    "___reduce() function present in functools module and hence we should write import statement.___\n"
   ]
  },
  {
   "cell_type": "code",
   "execution_count": 100,
   "id": "36e25193",
   "metadata": {},
   "outputs": [
    {
     "name": "stdout",
     "output_type": "stream",
     "text": [
      "150\n"
     ]
    }
   ],
   "source": [
    "# import module and reduce fun\n",
    "from functools import *\n",
    "\n",
    "# Eg\n",
    "l=[10,20,30,40,50]\n",
    "result=reduce(lambda x,y:x+y,l)\n",
    "print(result)"
   ]
  },
  {
   "cell_type": "code",
   "execution_count": 101,
   "id": "4faf2bbf",
   "metadata": {},
   "outputs": [
    {
     "name": "stdout",
     "output_type": "stream",
     "text": [
      "12000000\n",
      "5050\n"
     ]
    }
   ],
   "source": [
    "# Eg:\n",
    "result=reduce(lambda x,y:x*y,l)\n",
    "print(result) \n",
    "\n",
    "# Eg:\n",
    "from functools import *\n",
    "result=reduce(lambda x,y:x+y,range(1,101))\n",
    "print(result)  "
   ]
  },
  {
   "cell_type": "markdown",
   "id": "e9f6c581",
   "metadata": {},
   "source": [
    "#### Note:\n",
    "- In Python every thing is treated as object.\n",
    "- Even functions also internally treated as objects only."
   ]
  },
  {
   "cell_type": "code",
   "execution_count": 102,
   "id": "c4300808",
   "metadata": {},
   "outputs": [
    {
     "name": "stdout",
     "output_type": "stream",
     "text": [
      "<function f1 at 0x0000021DC58A35E0>\n",
      "2326891476448\n"
     ]
    }
   ],
   "source": [
    "# Eg:\n",
    "def f1():\n",
    "    print(\"Hello\")\n",
    "print(f1)\n",
    "print(id(f1)) "
   ]
  },
  {
   "cell_type": "markdown",
   "id": "d7c8b8ea",
   "metadata": {},
   "source": [
    "### Function Aliasing:\n",
    "For the existing function we can give another name, which is nothing but function aliasing. "
   ]
  },
  {
   "cell_type": "code",
   "execution_count": 103,
   "id": "a49c211f",
   "metadata": {},
   "outputs": [
    {
     "name": "stdout",
     "output_type": "stream",
     "text": [
      "2326891475872\n",
      "2326891475872\n",
      "Good Morning: Nikhil\n",
      "Good Morning: Prakriti\n"
     ]
    }
   ],
   "source": [
    "# Eg:\n",
    "def wish(name):\n",
    "    print(\"Good Morning:\",name)\n",
    "greeting=wish\n",
    "print(id(wish))\n",
    "print(id(greeting))\n",
    "greeting('Nikhil')\n",
    "wish('Prakriti') "
   ]
  },
  {
   "cell_type": "markdown",
   "id": "d370192c",
   "metadata": {},
   "source": [
    "#### Note: \n",
    "In the above example only one function is available but we can call that function by using\n",
    "either wish name or greeting name.\n",
    "\n",
    "If we delete one name still we can access that function by using alias name"
   ]
  },
  {
   "cell_type": "code",
   "execution_count": 104,
   "id": "249c369e",
   "metadata": {},
   "outputs": [
    {
     "name": "stdout",
     "output_type": "stream",
     "text": [
      "Good Morning: Nikhil\n",
      "Good Morning: Prakriti\n",
      "Good Morning: Yadav Ji\n"
     ]
    }
   ],
   "source": [
    "# Eg:\n",
    "def wish(name):\n",
    "    print(\"Good Morning:\",name) \n",
    "greeting=wish\n",
    "greeting('Nikhil')\n",
    "wish('Prakriti')\n",
    "del wish\n",
    "            #wish('Nikhil') ==>NameError: name 'wish' is not defined\n",
    "greeting('Yadav Ji')"
   ]
  },
  {
   "cell_type": "markdown",
   "id": "aa8a6093",
   "metadata": {},
   "source": [
    "### Nested Functions:\n",
    "We can declare a function inside another function, such type of functions are called Nested functions.\n"
   ]
  },
  {
   "cell_type": "code",
   "execution_count": 105,
   "id": "fd1c77e1",
   "metadata": {},
   "outputs": [
    {
     "name": "stdout",
     "output_type": "stream",
     "text": [
      "outer function started\n",
      "outer function calling inner function\n",
      "inner function execution\n"
     ]
    }
   ],
   "source": [
    "# Eg:\n",
    "def outer():\n",
    "    print(\"outer function started\")\n",
    "    def inner():\n",
    "        print(\"inner function execution\")\n",
    "    print(\"outer function calling inner function\")\n",
    "    inner()\n",
    "outer()\n",
    "#inner() ==>NameError: name 'inner' is not defined "
   ]
  },
  {
   "cell_type": "markdown",
   "id": "1dcd6abf",
   "metadata": {},
   "source": [
    "In the above example inner() function is local to outer() function and hence it is not possible to call\n",
    "directly from outside of outer() function.\n",
    "\n",
    "___Note: A function can return another function.___"
   ]
  },
  {
   "cell_type": "code",
   "execution_count": 106,
   "id": "a43abe60",
   "metadata": {},
   "outputs": [
    {
     "name": "stdout",
     "output_type": "stream",
     "text": [
      "outer function started\n",
      "outer function returning inner function\n",
      "inner function execution\n",
      "inner function execution\n",
      "inner function execution\n"
     ]
    }
   ],
   "source": [
    "# Eg:\n",
    "def outer():\n",
    "    print(\"outer function started\")\n",
    "    def inner():\n",
    "        print(\"inner function execution\") \n",
    "    print(\"outer function returning inner function\")\n",
    "    return inner\n",
    "f1=outer()\n",
    "f1()\n",
    "f1()\n",
    "f1() "
   ]
  },
  {
   "cell_type": "markdown",
   "id": "d8830795",
   "metadata": {},
   "source": [
    "#### Q. What is the differenece between the following lines?\n",
    " \n",
    "    f1 = outer\n",
    "    f1 = outer()\n",
    "    \n",
    "- In the first case for the outer() function we are providing another name f1(function aliasing).\n",
    "- But in the second case we calling outer() function,which returns inner function.For that inner function() we are providing another name f1\n",
    "\n",
    "___Note: We can pass function as argument to another function___\n",
    "\n",
    "    Eg: filter(function,sequence)\n",
    "        map(function,sequence)\n",
    "        reduce(function,sequence)"
   ]
  },
  {
   "cell_type": "markdown",
   "id": "5f41c3ec",
   "metadata": {},
   "source": [
    "### Function Decorators:\n",
    "Decorator is a function which can take a function as argument and extend its functionality\n",
    "and returns modified function with extended functionality."
   ]
  },
  {
   "cell_type": "markdown",
   "id": "72c0c8ed",
   "metadata": {},
   "source": [
    "![](images\\fun.jpg)"
   ]
  },
  {
   "cell_type": "markdown",
   "id": "13b86cd8",
   "metadata": {},
   "source": [
    "The main objective of decorator functions is we can extend the functionality of existing functions without modifies that function.\n",
    "\n",
    "- We should define a decorator function with ___another function name as parameter___ as an example, let's define a decorator function decor() with 'fun'  as parameter.\n",
    "\n",
    "        def decor(fun):"
   ]
  },
  {
   "cell_type": "code",
   "execution_count": 107,
   "id": "48ae7f17",
   "metadata": {},
   "outputs": [],
   "source": [
    "def wish(name):\n",
    "    print(\"Hello\",name,\"Good Morning\") \n",
    "    \n",
    "# This function can always print same output for any name"
   ]
  },
  {
   "cell_type": "markdown",
   "id": "88c1d853",
   "metadata": {},
   "source": [
    "But we want to modify this function to provide different message if name is Sunny.\n",
    "- We can do this without touching wish() function by using decorator.\n",
    "- So, the '@' symbol is useful to call the associated decorator internally.\n"
   ]
  },
  {
   "cell_type": "code",
   "execution_count": 108,
   "id": "f325ea02",
   "metadata": {},
   "outputs": [
    {
     "name": "stdout",
     "output_type": "stream",
     "text": [
      "Hello Nikhil Good Morning\n",
      "Hello Prakriti Good Morning\n",
      "Hello Sunny Bad Morning\n"
     ]
    }
   ],
   "source": [
    "# Eg: If we used different parameter name of a main function than we should use @decor for associated\n",
    "\n",
    "def decor(func):    # (wish == func) - func is a main function is wish(), which is passing as parameter is the decor function.\n",
    "    def inner(name):\n",
    "        if name==\"Sunny\":\n",
    "            print(\"Hello Sunny Bad Morning\")\n",
    "        else:\n",
    "            func(name)    # arguments\n",
    "    return inner\n",
    "@decor\n",
    "def wish(name): # parameter\n",
    "    print(\"Hello\",name,\"Good Morning\")\n",
    "wish(\"Nikhil\")\n",
    "wish(\"Prakriti\")\n",
    "wish(\"Sunny\") "
   ]
  },
  {
   "cell_type": "code",
   "execution_count": 109,
   "id": "0f42c120",
   "metadata": {},
   "outputs": [
    {
     "name": "stdout",
     "output_type": "stream",
     "text": [
      "Hello Nikhil Good Morning\n",
      "Hello Prakriti Good Morning\n",
      "Hello Sunny Good Morning\n"
     ]
    }
   ],
   "source": [
    "# Eg: If we used parameter name same as a main function name than we should not use @decor for associated\n",
    "\n",
    "def decor(wish):  \n",
    "    def inner(name):\n",
    "        if name==\"Sunny\":\n",
    "            print(\"Hello Sunny Bad Morning\")\n",
    "        else:\n",
    "            wish(name)    # arguments\n",
    "    return inner\n",
    "\n",
    "def wish(name): # parameter\n",
    "    print(\"Hello\",name,\"Good Morning\")\n",
    "wish(\"Nikhil\")\n",
    "wish(\"Prakriti\")\n",
    "wish(\"Sunny\") "
   ]
  },
  {
   "cell_type": "markdown",
   "id": "5277e88a",
   "metadata": {},
   "source": [
    "- In the above program whenever we call wish() function automatically decor function will\n",
    "be executed."
   ]
  },
  {
   "cell_type": "markdown",
   "id": "9a4f44ad",
   "metadata": {},
   "source": [
    "#### How to call same function with decorator and without decorator:\n",
    "\n",
    "#### We should not use @decor\n"
   ]
  },
  {
   "cell_type": "code",
   "execution_count": 110,
   "id": "60a71392",
   "metadata": {},
   "outputs": [
    {
     "name": "stdout",
     "output_type": "stream",
     "text": [
      "Hello Prakriti Good Morning\n",
      "Hello Prakriti Good Morning\n",
      "Hello Prakriti Good Morning\n",
      "Hello Sunny Bad Morning\n"
     ]
    }
   ],
   "source": [
    "def decor(func):     # func is a main function is wish(), which is passing as parameter is the decor fun\n",
    "    def inner(name):\n",
    "        if name==\"Sunny\":\n",
    "            print(\"Hello Sunny Bad Morning\")\n",
    "        else:\n",
    "            func(name) \n",
    "    return inner\n",
    "\n",
    "def wish(jh):\n",
    "    print(\"Hello\",name,\"Good Morning\")\n",
    "    \n",
    "decorfunction=decor(wish)\n",
    "\n",
    "wish(\"Nikhil\") #decorator wont be executed\n",
    "wish(\"Prakriti\") #decorator wont be executed\n",
    "decorfunction(\"Nikhil\") #decorator will be executed\n",
    "decorfunction(\"Sunny\") #decorator will be executed "
   ]
  },
  {
   "cell_type": "code",
   "execution_count": 111,
   "id": "28547a89",
   "metadata": {},
   "outputs": [
    {
     "name": "stdout",
     "output_type": "stream",
     "text": [
      "We are dividing 20 with 2\n",
      "10.0\n",
      "We are dividing 20 with 0\n",
      "OOPS...You cannot divide\n",
      "None\n"
     ]
    }
   ],
   "source": [
    "# Eg 2:\n",
    "def smart_division(func):\n",
    "    def inner(a,b):\n",
    "        print(\"We are dividing\",a,\"with\",b)\n",
    "        if b==0:\n",
    "            print(\"OOPS...You cannot divide\")\n",
    "        else:\n",
    "            return func(a,b) \n",
    "    return inner\n",
    "\n",
    "@smart_division\n",
    "def division(a,b):\n",
    "    return a/b\n",
    "print(division(20,2))\n",
    "print(division(20,0)) "
   ]
  },
  {
   "cell_type": "markdown",
   "id": "d9c84859",
   "metadata": {},
   "source": [
    "#### with decorator we won't get any error. In this case output is:\n",
    "\n",
    "    We are dividing 20 with 2\n",
    "    10.0\n",
    "    We are dividing 20 with 0\n",
    "    OOPS...cannot divide\n",
    "    None\n"
   ]
  },
  {
   "cell_type": "markdown",
   "id": "3abdaff1",
   "metadata": {},
   "source": [
    "### Decorator Chaining\n",
    "We can define multiple decorators for the same function and all these decorators will\n",
    "form Decorator Chaining."
   ]
  },
  {
   "cell_type": "raw",
   "id": "6c164e40",
   "metadata": {},
   "source": [
    "# Eg:\n",
    "@decor1\n",
    "@decor\n",
    "def num():\n",
    "\n",
    "For num() function we are applying 2 decorator functions. First inner decorator will work and then outer decorator."
   ]
  },
  {
   "cell_type": "code",
   "execution_count": 112,
   "id": "2fa27b10",
   "metadata": {},
   "outputs": [
    {
     "name": "stdout",
     "output_type": "stream",
     "text": [
      "400\n"
     ]
    }
   ],
   "source": [
    "# Eg:\n",
    "def decor1(func):\n",
    "    def inner():\n",
    "        x=func()\n",
    "        return x*x  \n",
    "    return inner\n",
    "def decor(func):\n",
    "    def inner():\n",
    "        x=func()\n",
    "        return 2*x\n",
    "    return inner\n",
    "\n",
    "@decor1\n",
    "@decor\n",
    "def num():\n",
    "    return 10\n",
    "print(num()) "
   ]
  },
  {
   "cell_type": "markdown",
   "id": "f2a9c6b4",
   "metadata": {},
   "source": [
    "#### Demo Program for decorator Chaining:"
   ]
  },
  {
   "cell_type": "code",
   "execution_count": 113,
   "id": "2f369513",
   "metadata": {},
   "outputs": [
    {
     "name": "stdout",
     "output_type": "stream",
     "text": [
      "Second Decor(decor1) Execution\n",
      "First Decor(decor) Function Execution\n",
      "Hello Nikhil Good Morning\n"
     ]
    }
   ],
   "source": [
    "def decor(func):\n",
    "    def inner(name):\n",
    "        print(\"First Decor(decor) Function Execution\")\n",
    "        func(name)\n",
    "    return inner\n",
    "\n",
    "def decor1(func):\n",
    "    def inner(name):\n",
    "        print(\"Second Decor(decor1) Execution\")\n",
    "        func(name)\n",
    "    return inner\n",
    "@decor1\n",
    "@decor\n",
    "def wish(name):\n",
    "    print(\"Hello\",name,\"Good Morning\")\n",
    "wish(\"Nikhil\") "
   ]
  },
  {
   "cell_type": "markdown",
   "id": "dd5a888b",
   "metadata": {},
   "source": [
    "### Generators\n",
    "Generator is a function which is responsible to generate a sequence of values.\n",
    "\n",
    "We can write generator functions just like ordinary functions, but it uses yield keyword to\n",
    "return values."
   ]
  },
  {
   "cell_type": "raw",
   "id": "b95f65c8",
   "metadata": {},
   "source": [
    "    Generator ------> A Sequence of Values\n",
    "        :\n",
    "        :\n",
    "        :\n",
    "      Yield"
   ]
  },
  {
   "cell_type": "code",
   "execution_count": 114,
   "id": "136ecf7d",
   "metadata": {},
   "outputs": [
    {
     "name": "stdout",
     "output_type": "stream",
     "text": [
      "<class 'generator'>\n",
      "A\n",
      "B\n",
      "C\n"
     ]
    },
    {
     "ename": "StopIteration",
     "evalue": "",
     "output_type": "error",
     "traceback": [
      "\u001b[1;31m---------------------------------------------------------------------------\u001b[0m",
      "\u001b[1;31mStopIteration\u001b[0m                             Traceback (most recent call last)",
      "Input \u001b[1;32mIn [114]\u001b[0m, in \u001b[0;36m<cell line: 13>\u001b[1;34m()\u001b[0m\n\u001b[0;32m     11\u001b[0m \u001b[38;5;28mprint\u001b[39m(\u001b[38;5;28mnext\u001b[39m(g))\n\u001b[0;32m     12\u001b[0m \u001b[38;5;28mprint\u001b[39m(\u001b[38;5;28mnext\u001b[39m(g))\n\u001b[1;32m---> 13\u001b[0m \u001b[38;5;28mprint\u001b[39m(\u001b[38;5;28;43mnext\u001b[39;49m\u001b[43m(\u001b[49m\u001b[43mg\u001b[49m\u001b[43m)\u001b[49m)\n",
      "\u001b[1;31mStopIteration\u001b[0m: "
     ]
    }
   ],
   "source": [
    "# Eg 1:\n",
    "def mygen():\n",
    "    yield 'A'\n",
    "    yield 'B'\n",
    "    yield 'C'\n",
    "\n",
    "g=mygen()\n",
    "print(type(g))\n",
    "\n",
    "print(next(g))\n",
    "print(next(g))\n",
    "print(next(g))\n",
    "print(next(g)) "
   ]
  },
  {
   "cell_type": "code",
   "execution_count": 115,
   "id": "f344bfbe",
   "metadata": {},
   "outputs": [
    {
     "name": "stdout",
     "output_type": "stream",
     "text": [
      "1\n",
      "2\n",
      "3\n"
     ]
    }
   ],
   "source": [
    "# Eg 2: To generate first n numbers:\n",
    "def firstn(num):\n",
    "    n=1\n",
    "    while n<=num:\n",
    "        yield n\n",
    "        n=n+1\n",
    "values=firstn(5)\n",
    "print(next(values))\n",
    "print(next(values))\n",
    "print(next(values))"
   ]
  },
  {
   "cell_type": "code",
   "execution_count": 117,
   "id": "0d0b608c",
   "metadata": {},
   "outputs": [
    {
     "name": "stdout",
     "output_type": "stream",
     "text": [
      "(1, 2, 3, 4, 5, 6, 7, 8, 9, 10)\n"
     ]
    }
   ],
   "source": [
    "# We can convert generator into list as follows:\n",
    "values=firstn(10)\n",
    "l1=tuple(values)\n",
    "print(l1)"
   ]
  },
  {
   "cell_type": "markdown",
   "id": "6ce02d20",
   "metadata": {},
   "source": [
    "### Advantages of Generator Functions:\n",
    "\n",
    "1. when compared with class level iterators, generators are very easy to use\n",
    "2. Improves memory utilization and performance.\n",
    "3. Generators are best suitable for reading data from large number of large files\n",
    "4. Generators work great for web scraping and crawling.\n"
   ]
  },
  {
   "cell_type": "markdown",
   "id": "09c8cffe",
   "metadata": {},
   "source": [
    "### Generators vs Normal Collections wrt Utilization:\n",
    "\n",
    "#### Normal Collection:\n",
    "    l=[x*x for x in range(10000000000000000)]\n",
    "    print(l[0])\n",
    "We will get MemoryError in this case because all these values are required to store in the memory.\n",
    "#### Generators:\n",
    "    g=(x*x for x in range(10000000000000000))\n",
    "    print(next(g))\n",
    "Output: 0\n",
    "\n",
    "We won't get any MemoryError because the values won't be stored at the beginning"
   ]
  },
  {
   "cell_type": "markdown",
   "id": "9a89962e",
   "metadata": {},
   "source": [
    "## Modules"
   ]
  },
  {
   "cell_type": "markdown",
   "id": "d33d43de",
   "metadata": {},
   "source": [
    "### Math Module\n",
    "\n",
    "Python has a built-in math module that can handle these complex calculations. Both simple mathematical calculations like addition (+), and subtraction (-), and advanced mathematical calculations like trigonometric operations, and logarithmic operations can be performed by the functions in the math module."
   ]
  },
  {
   "cell_type": "code",
   "execution_count": 118,
   "id": "98a5f07d",
   "metadata": {},
   "outputs": [
    {
     "name": "stdout",
     "output_type": "stream",
     "text": [
      "3.0\n"
     ]
    }
   ],
   "source": [
    "# This program will show the calculation of square root using the math module  \n",
    "# importing the math module  \n",
    "import math  \n",
    "print(math.sqrt( 9 ))  "
   ]
  },
  {
   "cell_type": "markdown",
   "id": "2b7d7391",
   "metadata": {},
   "source": [
    "### Constants in Math Module\n",
    "    \n",
    "    pi    - The mathematical constant n=3.141592 with high precision.\n",
    "    e     - The mathematical constant e=2.718281 with high precision.\n",
    "    tau   - Ratio of the circumference of a circle to the radius of a circle.\n",
    "    inf   - A floating-point positive infinity. (For negative infinity, use -math.inf).\n",
    "    nan   - A floating-point \"not a number\" (NaN) value. Equivalent to the output of float('nam')."
   ]
  },
  {
   "cell_type": "code",
   "execution_count": 119,
   "id": "02581288",
   "metadata": {},
   "outputs": [
    {
     "name": "stdout",
     "output_type": "stream",
     "text": [
      "2.718281828459045\n",
      "3.141592653589793\n",
      "6.283185307179586\n",
      "inf\n",
      "nan\n"
     ]
    }
   ],
   "source": [
    "print(math.e)\n",
    "print(math.pi)\n",
    "print(math.tau)\n",
    "print(math.inf)\n",
    "print(math.nan)"
   ]
  },
  {
   "cell_type": "markdown",
   "id": "c462be62",
   "metadata": {},
   "source": [
    "### Description of all the Functions in Python Math Module\n",
    "Here is a list of all the properties and functions specified in the math module, along with a brief description of what each one does."
   ]
  },
  {
   "cell_type": "markdown",
   "id": "f05fc014",
   "metadata": {},
   "source": [
    "    Function    ---->    Description\n",
    "    \n",
    "    ceil(x)    ---->    The lowest integer bigger than or equal to x is returned.\n",
    "    copysign(x, y)    ---->    gives x back with the sign of y.\n",
    "    fabs(x)    ---->    gives x's absolute value back.\n",
    "    factorial(x)    ---->    provides the x factorial back.\n",
    "    floor(x)    ---->    gives back the biggest integer that is less than or equal to x.\n",
    "    fmod(x, y)    ---->    returns the leftover value after dividing x by y.\n",
    "    frexp(x)    ---->    returns the pair of the mantissa and exponent of x. (m, e)\n",
    "    fsum(iterable)    ---->    returns the iterable's correct floating point sum of all values.\n",
    "    isfinite(x)    ---->    If x is neither an infinity nor a NaN, it returns True (Not a Number)\n",
    "    isinf(x)    ---->    If x is a positive or negative infinity, it returns True.\n",
    "    isnan(x)    ---->    If x is a NaN, it returns True.\n",
    "    ldexp(x, i)    ---->    gives back x * (2**i).\n",
    "    modf(x)    ---->    gives x's fractional and integer components back.\n",
    "    trunc(x)    ---->    x's shortened integer value is returned.\n",
    "    exp(x)    ---->    delivers e**x\n",
    "    expm1(x)    ---->    yields e**x - 1\n",
    "    log(x[, b])    ---->    gives back the x logarithm in base b. (defaults to e)\n",
    "    log1p(x)    ---->    the natural logarithm of 1 + x is returned.\n",
    "    log2(x)    ---->    gives x's base-2 logarithm back.\n",
    "    log10(x)    ---->    provides x's base-10 logarithm.\n",
    "    pow(x, y)    ---->    gives x raised to the power of y back.\n",
    "    sqrt(x)    ---->    gives x's square root back.\n",
    "    acos(x)    ---->    gives the arc cosine of x back.\n",
    "    asin(x)    ---->    gives the arc sine of x back.\n",
    "    atan(x)    ---->    gives the arc tangent of x back.\n",
    "    atan2(y, x)    ---->    gives back atan(y / x).\n",
    "    cos(x)    ---->    returns the x's cosine.\n",
    "    hypot(x, y)    ---->    returns sqrt(x*x + y*y), the Euclidean norm.\n",
    "    sin(x)    ---->    gives the sine of x back.\n",
    "    tan(x)    ---->    gives the tangent of x back.\n",
    "    degrees(x)    ---->    Angle x is transformed from radians to degrees.\n",
    "    radians(x)    ---->    Angle x is transformed from degrees to radians.\n",
    "    acosh(x)    ---->    x's inverse hyperbolic cosine is returned.\n",
    "    asinh(x)    ---->    x's inverse hyperbolic sine is returned.\n",
    "    atanh(x)    ---->    x's inverse hyperbolic tangent is returned.\n",
    "    cosh(x)    ---->    gives x's hyperbolic cosine.\n",
    "    sinh(x)    ---->    gives x's hyperbolic cosine.\n",
    "    tanh(x)    ---->    gives x's hyperbolic tangent back.\n",
    "    erf(x)    ---->    the error function at x is returned.\n",
    "    erfc(x)    ---->    a function that gives the complementary error at x\n",
    "    gamma(x)    ---->    the Gamma function at x is returned.\n",
    "    lgamma(x)    ---->    gives the natural logarithm of the gamma function's absolute value at x.\n",
    "    pi    ---->    The ratio of a circle's circumference to its diameter is a mathematical constant (3.14159...)\n",
    "    e    ---->    e is a constant in mathematics (2.71828...)"
   ]
  },
  {
   "cell_type": "markdown",
   "id": "6fac2230",
   "metadata": {},
   "source": [
    "A group of functions, variables and classes saved to a file, which is nothing but module.\n",
    " Every Python file (.py) acts as a module."
   ]
  },
  {
   "cell_type": "code",
   "execution_count": 120,
   "id": "bfbad7da",
   "metadata": {},
   "outputs": [],
   "source": [
    "# Ex- module.py\n",
    "x=800200\n",
    "def add(a,b):\n",
    "    print(\"The Sum:\",a+b)\n",
    "def product(a,b):\n",
    "    print(\"The Product:\",a*b)"
   ]
  },
  {
   "cell_type": "code",
   "execution_count": 121,
   "id": "a6a17965",
   "metadata": {},
   "outputs": [
    {
     "name": "stdout",
     "output_type": "stream",
     "text": [
      "The Sum: 15\n"
     ]
    }
   ],
   "source": [
    "import module as nikmod\n",
    "nikmod.add(10,5)"
   ]
  },
  {
   "cell_type": "markdown",
   "id": "590f3157",
   "metadata": {},
   "source": [
    "This module contains one variable and 2 functions.\n",
    "If we want to use members of module in our program then we should import that module.\n",
    "#### import modulename\n",
    "We can access members by using module name.\n",
    "\n",
    "    modulename.variable\n",
    "    modulename.function()"
   ]
  },
  {
   "cell_type": "code",
   "execution_count": 122,
   "id": "e4594f2c",
   "metadata": {},
   "outputs": [
    {
     "name": "stdout",
     "output_type": "stream",
     "text": [
      "The Sum: 30\n",
      "The Product: 200\n"
     ]
    }
   ],
   "source": [
    "# test.py\n",
    "import module\n",
    "\n",
    "module.add(10,20)\n",
    "module.product(10,20)"
   ]
  },
  {
   "cell_type": "markdown",
   "id": "7267db11",
   "metadata": {},
   "source": [
    "#### Note:\n",
    "whenever we are using a module in our program, for that module compiled file will be\n",
    "generated and stored in the hard disk permanently.\n",
    "Renaming a module at the time of import (module aliasing):\n",
    "#### Eg:\n",
    "\n",
    "    import module as m\n",
    "- Here, module is original module name and m is alias name.\n",
    "- We can access members by using alias name m"
   ]
  },
  {
   "cell_type": "raw",
   "id": "68382430",
   "metadata": {},
   "source": [
    "# test.py:\n",
    "import module as m\n",
    "print(m.x)\n",
    "m.add(10,20)\n",
    "m.product(10,20)"
   ]
  },
  {
   "cell_type": "markdown",
   "id": "c7e5b7d3",
   "metadata": {},
   "source": [
    "#### from ... import:\n",
    "We can import particular members of module by using from ... import .\n",
    "\n",
    "The main advantage of this is we can access members directly without using module\n",
    "name.\n",
    "#### Eg:\n",
    "    from module import x,add\n",
    "    print(x)\n",
    "    add(10,20)\n",
    "    product(10,20)==> NameError: name 'product' is not defined\n",
    "We can import all members of a module as follows\n",
    "from nikhilmath import *"
   ]
  },
  {
   "cell_type": "markdown",
   "id": "28bcc2f6",
   "metadata": {},
   "source": [
    "### Various possibilties of import:\n",
    "\n",
    "    import modulename\n",
    "    import module1,module2,module3\n",
    "    import module1 as m\n",
    "    import module1 as m1,module2 as m2,module3\n",
    "    from module import member\n",
    "    from module import member1,member2,memebr3\n",
    "    from module import memeber1 as x\n",
    "    from module import *"
   ]
  },
  {
   "cell_type": "markdown",
   "id": "f39845a0",
   "metadata": {},
   "source": [
    "#### Finding members of module by using dir() function:\n",
    "Python provides inbuilt function dir() to list out all members of current module or a specified module.\n",
    "\n",
    "    dir() ===>To list out all members of current module\n",
    "    dir(moduleName)==>To list out all members of specified module"
   ]
  },
  {
   "cell_type": "raw",
   "id": "e1324f10",
   "metadata": {},
   "source": [
    "# Eg 1: test.py\n",
    "x=10\n",
    "y=20\n",
    "def f1():\n",
    "    print(\"Hello\")\n",
    "print(dir()) # To print all members of current module\n",
    "\n",
    "Output\n",
    "['__annotations__', '__builtins__', '__cached__', '__doc__', '__file__', '__loader__', '__name__', '__package__', '__spec__', 'f1', 'x', 'y']"
   ]
  },
  {
   "cell_type": "markdown",
   "id": "164e6f29",
   "metadata": {},
   "source": [
    "### The Special variable __name__:\n",
    "For every Python program , a special variable __name__ will be added internally.\n",
    "This variable stores information regarding whether the program is executed as an individual program or as a module.\n",
    "\n",
    "If the program executed as an individual program then the value of this variable is\n",
    "__main__\n",
    "\n",
    "If the program executed as a module from some other program then the value of this variable is the name of module where it is defined.\n",
    "\n",
    "Hence by using this __name__ variable we can identify whether the program executed directly or as a module.\n",
    "\n",
    "#### Demo program:"
   ]
  },
  {
   "cell_type": "code",
   "execution_count": 123,
   "id": "7e1053c0",
   "metadata": {},
   "outputs": [
    {
     "name": "stdout",
     "output_type": "stream",
     "text": [
      "The code executed as a program\n"
     ]
    }
   ],
   "source": [
    "# module1.py:\n",
    "def f1():\n",
    "    if __name__=='__main__':\n",
    "        print(\"The code executed as a program\")\n",
    "    else:\n",
    "        print(\"The code executed as a module from some other program\")\n",
    "f1() "
   ]
  },
  {
   "cell_type": "markdown",
   "id": "605582e2",
   "metadata": {},
   "source": [
    "### Note:\n",
    "We can find help for any module by using help() function\n",
    "    \n",
    "    Eg:\n",
    "    import math\n",
    "    help(math)\n",
    "\n",
    "### Working with random module:\n",
    "This module defines several functions to generate random numbers.\n",
    "We can use these functions while developing games,in cryptography and to generate random numbers on fly for authentication.\n",
    "\n",
    "### 1. random() function:\n",
    " This function always generate some float value between 0 and 1 ( not inclusive)\n",
    " \n",
    "     0<x<1"
   ]
  },
  {
   "cell_type": "code",
   "execution_count": 124,
   "id": "bce1f1f0",
   "metadata": {},
   "outputs": [
    {
     "name": "stdout",
     "output_type": "stream",
     "text": [
      "0.6837957913051469\n",
      "0.832112246743524\n",
      "0.30097866221791647\n",
      "0.840248970525521\n",
      "0.3265443692975978\n"
     ]
    }
   ],
   "source": [
    "# Eg:\n",
    "from random import *\n",
    "for i in range(5):\n",
    "    print(random()) "
   ]
  },
  {
   "cell_type": "markdown",
   "id": "80ec3365",
   "metadata": {},
   "source": [
    "### 2. randint() function:\n",
    "To generate random integer beween two given numbers(inclusive)\n"
   ]
  },
  {
   "cell_type": "code",
   "execution_count": 125,
   "id": "e9618e13",
   "metadata": {},
   "outputs": [
    {
     "name": "stdout",
     "output_type": "stream",
     "text": [
      "4\n",
      "100\n",
      "1\n",
      "68\n",
      "17\n",
      "84\n",
      "12\n",
      "89\n",
      "82\n",
      "55\n"
     ]
    }
   ],
   "source": [
    "# Eg:\n",
    "from random import *\n",
    "for i in range(10):\n",
    "    print(randint(1,100)) # generate random int value between 1 and 100(inclusive) "
   ]
  },
  {
   "cell_type": "markdown",
   "id": "5d1e5907",
   "metadata": {},
   "source": [
    "### 3. uniform():\n",
    "It returns random float values between 2 given numbers(not inclusive)"
   ]
  },
  {
   "cell_type": "code",
   "execution_count": 126,
   "id": "c4a37ed8",
   "metadata": {},
   "outputs": [
    {
     "name": "stdout",
     "output_type": "stream",
     "text": [
      "6.516221300776864\n",
      "2.4601237902281854\n",
      "7.788057082873847\n",
      "6.630052157510197\n",
      "2.2792601835163637\n"
     ]
    }
   ],
   "source": [
    "# Eg:\n",
    "from random import *\n",
    "for i in range(5):\n",
    "    print(uniform(1,10)) "
   ]
  },
  {
   "cell_type": "markdown",
   "id": "2779e315",
   "metadata": {},
   "source": [
    "    random() ===>in between 0 and 1 (not inclusive)\n",
    "    randint(x,y) ==>in between x and y ( inclusive)\n",
    "    uniform(x,y) ==> in between x and y ( not inclusive)\n",
    "    \n",
    "### 4. randrange([start],stop,[step])\n",
    "\n",
    "    returns a random number from range\n",
    "        start<= x < stop\n",
    "         start argument is optional and default value is 0\n",
    "         step argument is optional and default value is 1\n",
    "         \n",
    "    randrange(10)-->generates a number from 0 to 9\n",
    "    randrange(1,11)-->generates a number from 1 to 10\n",
    "    randrange(1,11,2)-->generates a number from 1,3,5,7,9"
   ]
  },
  {
   "cell_type": "code",
   "execution_count": 127,
   "id": "c319056f",
   "metadata": {},
   "outputs": [
    {
     "name": "stdout",
     "output_type": "stream",
     "text": [
      "5\n",
      "6\n",
      "0\n",
      "6\n",
      "6\n"
     ]
    }
   ],
   "source": [
    "# Eg 1:\n",
    "from random import *\n",
    "for i in range(5):\n",
    "    print(randrange(10)) "
   ]
  },
  {
   "cell_type": "code",
   "execution_count": 128,
   "id": "e0058f4e",
   "metadata": {},
   "outputs": [
    {
     "name": "stdout",
     "output_type": "stream",
     "text": [
      "9\n",
      "9\n",
      "10\n",
      "8\n",
      "8\n"
     ]
    }
   ],
   "source": [
    "# Eg 2:\n",
    "from random import *\n",
    "for i in range(5):\n",
    "    print(randrange(1,11))"
   ]
  },
  {
   "cell_type": "code",
   "execution_count": 129,
   "id": "467365b6",
   "metadata": {},
   "outputs": [
    {
     "name": "stdout",
     "output_type": "stream",
     "text": [
      "3\n",
      "3\n",
      "5\n",
      "9\n",
      "1\n"
     ]
    }
   ],
   "source": [
    "# Eg 3:\n",
    "from random import *\n",
    "for i in range(5):\n",
    "    print(randrange(1,11,2)) "
   ]
  },
  {
   "cell_type": "markdown",
   "id": "a3cf054d",
   "metadata": {},
   "source": [
    "### 5. choice() function:\n",
    "- It wont return random number.\n",
    "- It will return a random object from the given list or tuple."
   ]
  },
  {
   "cell_type": "code",
   "execution_count": 130,
   "id": "dabf77e1",
   "metadata": {},
   "outputs": [
    {
     "name": "stdout",
     "output_type": "stream",
     "text": [
      "Happy\n",
      "Happy\n",
      "Nikhil\n",
      "Akhil\n",
      "Akhil\n",
      "Happy\n",
      "Prakriti\n",
      "Akhil\n"
     ]
    }
   ],
   "source": [
    "# Eg:\n",
    "from random import *\n",
    "list=[\"Nikhil\",\"Akhil\",\"Prakriti\",\"Happy\",\"Akhil\"]\n",
    "for i in range(8):\n",
    "    print(choice(list)) "
   ]
  }
 ],
 "metadata": {
  "kernelspec": {
   "display_name": "Python 3 (ipykernel)",
   "language": "python",
   "name": "python3"
  },
  "language_info": {
   "codemirror_mode": {
    "name": "ipython",
    "version": 3
   },
   "file_extension": ".py",
   "mimetype": "text/x-python",
   "name": "python",
   "nbconvert_exporter": "python",
   "pygments_lexer": "ipython3",
   "version": "3.9.13"
  }
 },
 "nbformat": 4,
 "nbformat_minor": 5
}
