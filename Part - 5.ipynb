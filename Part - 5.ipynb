{
 "cells": [
  {
   "cell_type": "markdown",
   "id": "3db897a5",
   "metadata": {},
   "source": [
    "## Regular Expressions\n",
    "If we want to represent a group of Strings according to a particular format/pattern then we should go for Regular Expressions.\n",
    "\n",
    "i.e Regualr Expressions is a declarative mechanism to represent a group of Strings accroding to \n",
    "particular format/pattern.\n",
    "- Eg 1: We can write a regular expression to represent all mobile numbers\n",
    "- Eg 2: We can write a regular expression to represent all mail ids."
   ]
  },
  {
   "cell_type": "code",
   "execution_count": 1,
   "id": "b9afb3da",
   "metadata": {},
   "outputs": [
    {
     "name": "stdout",
     "output_type": "stream",
     "text": [
      "Enter Your mail: yadavnikhilrao@gmail.com\n",
      "Valid Mail\n"
     ]
    }
   ],
   "source": [
    "# Check emial valid or not valid.\n",
    "import re\n",
    "\n",
    "pattern = \"[a-zA-Z0-9]+@[a-zA-Z]+\\.(com|edu|net)\"\n",
    "user = input(\"Enter Your mail: \")\n",
    "if re.search(pattern,user):\n",
    "    print(\"Valid Mail\")\n",
    "else:\n",
    "    print(\"Invalid Email\")"
   ]
  },
  {
   "cell_type": "markdown",
   "id": "f4769852",
   "metadata": {},
   "source": [
    "The main important application areas of Regular Expressions are\n",
    " 1. To develop validation frameworks/validation logic\n",
    " 2. To develop Pattern matching applications (ctrl-f in windows, grep in UNIX etc)\n",
    " 3. To develop Translators like compilers, interpreters etc\n",
    " 4. To develop digital circuits\n",
    " 5. To develop communication protocols like TCP/IP, UDP etc.\n",
    "\n",
    "We can develop Regular Expression Based applications by using python module: re\n",
    "\n",
    "This module contains several inbuilt functions to use Regular Expressions very easily in our \n",
    "applications.\n",
    "### 1. compile()\n",
    "re module contains compile() function to compile a pattern into RegexObject.\n",
    "    \n",
    "    pattern = re.compile(\"ab\")\n"
   ]
  },
  {
   "cell_type": "markdown",
   "id": "46c67354",
   "metadata": {},
   "source": [
    "    \n",
    "### 2. finditer():\n",
    "Returns an Iterator object which yields Match object for every Match\n",
    "    \n",
    "    matcher = pattern.finditer(\"abaababa\")\n",
    "    \n",
    "On Match object we can call the following methods.\n",
    "1. start() ---> Returns start index of the match\n",
    "2. end() ---> Returns (end +1) index of the match\n",
    "3. group() ---> Returns the matched string\n"
   ]
  },
  {
   "cell_type": "code",
   "execution_count": 2,
   "id": "3cfd7177",
   "metadata": {},
   "outputs": [
    {
     "name": "stdout",
     "output_type": "stream",
     "text": [
      "0 ... 2 ... nk\n",
      "2 ... 4 ... nk\n",
      "5 ... 7 ... nk\n",
      "The number of occurrences:  3\n",
      "<re.Match object; span=(5, 7), match='nk'>\n"
     ]
    }
   ],
   "source": [
    "# Eg:\n",
    "import re \n",
    "count=0 \n",
    "\n",
    "pattern=re.compile(\"nk\") \n",
    "\n",
    "# find this pattern and save all paterns with start and end point of the pattern in a created variable. \n",
    "matcher=pattern.finditer(\"nknkknk\") \n",
    "\n",
    "for match in matcher: \n",
    "    count+=1 \n",
    "    print(match.start(),\"...\",match.end(),\"...\",match.group()) \n",
    "print(\"The number of occurrences: \",count)\n",
    "\n",
    "# This shows all these three things \n",
    "print(match)"
   ]
  },
  {
   "cell_type": "code",
   "execution_count": 3,
   "id": "d0f164f1",
   "metadata": {},
   "outputs": [
    {
     "data": {
      "text/plain": [
       "<callable_iterator at 0x1aa616df610>"
      ]
     },
     "execution_count": 3,
     "metadata": {},
     "output_type": "execute_result"
    }
   ],
   "source": [
    "matcher"
   ]
  },
  {
   "cell_type": "markdown",
   "id": "bc7b5405",
   "metadata": {},
   "source": [
    "#### Note: \n",
    "We can pass pattern directly as argument to finditer() function."
   ]
  },
  {
   "cell_type": "code",
   "execution_count": 4,
   "id": "6f17543e",
   "metadata": {},
   "outputs": [
    {
     "name": "stdout",
     "output_type": "stream",
     "text": [
      "0 ... 2 ... nk\n",
      "2 ... 4 ... nk\n",
      "5 ... 7 ... nk\n",
      "The number of occurrences:  3\n"
     ]
    }
   ],
   "source": [
    "# Eg:\n",
    "import re \n",
    "count=0 \n",
    "matcher=re.finditer(\"nk\",\"nknkknknn\") \n",
    "for match in matcher: \n",
    "    count+=1 \n",
    "    print(match.start(),\"...\",match.end(),\"...\",match.group()) \n",
    "print(\"The number of occurrences: \",count) "
   ]
  },
  {
   "cell_type": "markdown",
   "id": "094011ef",
   "metadata": {},
   "source": [
    "### Character classes:\n",
    "We can use character classes to search a group of characters\n",
    "1. [abc] ---> Either a or b or c\n",
    "2. [^abc] ---> Except a and b and c\n",
    "3. [a-z] ---> Any Lower case alphabet symbol\n",
    "4. [A-Z] ---> Any upper case alphabet symbol\n",
    "5. [a-zA-Z] ---> Any alphabet symbol\n",
    "6. [0-9] ---> Any digit from 0 to 9\n",
    "7. [a-zA-Z0-9] ---> Any alphanumeric character\n",
    "8. [^a-zA-Z0-9] ---> Except alphanumeric characters(Special Characters)\n"
   ]
  },
  {
   "cell_type": "code",
   "execution_count": 5,
   "id": "68b9dbb3",
   "metadata": {},
   "outputs": [
    {
     "name": "stdout",
     "output_type": "stream",
     "text": [
      "0 ...... a\n"
     ]
    }
   ],
   "source": [
    "# Eg:\n",
    "import re \n",
    "matcher=re.finditer(\"a\",\"a7b@k9z\") \n",
    "for match in matcher: \n",
    "    print(match.start(),\"......\",match.group()) "
   ]
  },
  {
   "cell_type": "markdown",
   "id": "f4b18b9e",
   "metadata": {},
   "source": [
    "    x = [abc]\n",
    "    0 ...... a\n",
    "    2 ...... b\n",
    "    \n",
    "    x = [^abc]\n",
    "    1 ...... 7\n",
    "    3 ...... @\n",
    "    4 ...... k\n",
    "    5 ...... 9\n",
    "    6 ...... z\n",
    "    \n",
    "    x = [a-z]\n",
    "    0 ...... a\n",
    "    2 ...... b\n",
    "    4 ...... k\n",
    "    6 ...... z\n",
    "    \n",
    "    x = [0-9]\n",
    "    1 ...... 7\n",
    "    5 ...... 9\n",
    "    \n",
    "    x = [a-zA-Z0-9]\n",
    "    0 ...... a\n",
    "    1 ...... 7\n",
    "    2 ...... b\n",
    "    4 ...... k\n",
    "    5 ...... 9\n",
    "    6 ...... z\n",
    "    \n",
    "    x = [^a-zA-Z0-9]\n",
    "    3 ...... @\n",
    "    \n",
    "### Pre defined Character classes:\n",
    "\n",
    "    \\s ---> Space character\n",
    "    \\S ---> Any character except space character\n",
    "    \\d ---> Any digit from 0 to 9\n",
    "    \\D ---> Any character except digit\n",
    "    \\w ---> Any word character [a-zA-Z0-9]\n",
    "    \\W ---> Any character except word character (Special Characters)\n",
    "     . ---> Any character including special characters\n"
   ]
  },
  {
   "cell_type": "code",
   "execution_count": 6,
   "id": "cc293352",
   "metadata": {},
   "outputs": [],
   "source": [
    "# Eg:\n",
    "import re \n",
    "matcher=re.finditer(\"x\",\"a7b k@9z\") \n",
    "for match in matcher: \n",
    "    print(match.start(),\"......\",match.group()) "
   ]
  },
  {
   "cell_type": "markdown",
   "id": "c4570aed",
   "metadata": {},
   "source": [
    "    x = \\s:\n",
    "    3 ...... \n",
    "    \n",
    "    x = \\S:\n",
    "    0 ...... a\n",
    "    1 ...... 7\n",
    "    2 ...... b\n",
    "    4 ...... k\n",
    "    5 ...... @\n",
    "    6 ...... 9\n",
    "    7 ...... z\n",
    "    \n",
    "    x = \\d:\n",
    "    1 ...... 7\n",
    "    6 ...... 9\n",
    "    \n",
    "    x = \\D:\n",
    "    0 ...... a\n",
    "    2 ...... b\n",
    "    3 ......\n",
    "    4 ...... k\n",
    "    5 ...... @\n",
    "    7 ...... z\n",
    "    \n",
    "    x = \\w:\n",
    "    0 ...... a\n",
    "    1 ...... 7\n",
    "    2 ...... b\n",
    "    4 ...... k\n",
    "    6 ...... 9\n",
    "    7 ...... z\n",
    "    \n",
    "    x = \\W:\n",
    "    3 ......\n",
    "    5 ...... @\n",
    "    \n",
    "    x = .\n",
    "    0 ...... a\n",
    "    1 ...... 7\n",
    "    2 ...... b\n",
    "    3 ......\n",
    "    4 ...... k\n",
    "    5 ...... @\n",
    "    6 ...... 9\n",
    "    7 ...... z\n",
    "    "
   ]
  },
  {
   "cell_type": "code",
   "execution_count": 7,
   "id": "0f90a606",
   "metadata": {},
   "outputs": [
    {
     "data": {
      "application/javascript": [
       "\n",
       "        if (window._pyforest_update_imports_cell) { window._pyforest_update_imports_cell('import pandas as pd'); }\n",
       "    "
      ],
      "text/plain": [
       "<IPython.core.display.Javascript object>"
      ]
     },
     "metadata": {},
     "output_type": "display_data"
    },
    {
     "name": "stdout",
     "output_type": "stream",
     "text": [
      "KellyMrJames\n",
      "WilkesMrsJamesEllenNeeds\n",
      "MylesMrThomasFrancis\n",
      "WirzMrAlbert\n",
      "HirvonenMrsAlexanderHelgaELindqvist\n",
      "SvenssonMrJohanCervin\n",
      "ConnollyMissKate\n",
      "CaldwellMrAlbertFrancis\n",
      "AbrahimMrsJosephSophieHalautEasu\n",
      "DaviesMrJohnSamuel\n",
      "IlieffMrYlio\n",
      "JonesMrCharlesCresson\n",
      "SnyderMrsJohnPillsburyNelleStevenson\n",
      "HowardMrBenjamin\n",
      "ChaffeeMrsHerbertFullerCarrieConstanceToogood\n",
      "delCarloMrsSebastianoArgeniaGenovesi\n",
      "KeaneMrDaniel\n",
      "AssafMrGerios\n",
      "IlmakangasMissIdaLivija\n",
      "AssafKhalilMrsMarianaMiriam\n",
      "RothschildMrMartin\n",
      "OlsenMasterArturKarl\n",
      "FlegenheimMrsAlfredAntoinette\n",
      "WilliamsMrRichardNorrisII\n",
      "RyersonMrsArthurLarnedEmilyMariaBorie\n",
      "RobinsMrAlexanderA\n",
      "OstbyMissHeleneRagnhild\n",
      "DaherMrShedid\n",
      "BradyMrJohnBertram\n",
      "SamaanMrElias\n",
      "LouchMrCharlesAlexander\n",
      "JefferysMrCliffordThomas\n",
      "DeanMrsBertramEvaGeorgettaLight\n",
      "JohnstonMrsAndrewGElizabethLilyWatson\n",
      "MockMrPhilippEdmund\n",
      "KatavelasMrVassiliosCatavelasVassilios\n",
      "RothMissSarahA\n",
      "CacicMissManda\n",
      "SapMrJulius\n",
      "HeeMrLing\n",
      "KarunMrFranz\n",
      "FranklinMrThomasParham\n",
      "GoldsmithMrNathan\n",
      "CorbettMrsWalterHIreneColvin\n",
      "KimballMrsEdwinNelsonJrGertrudeParsons\n",
      "PeltomakiMrNikolaiJohannes\n",
      "ChevreMrPaulRomaine\n",
      "ShaughnessyMrPatrick\n",
      "BucknellMrsWilliamRobertEmmaElizaWard\n",
      "CouttsMrsWilliamWinnieMinnieTreanor\n",
      "SmithMrLucienPhilip\n",
      "PulbaumMrFranz\n",
      "HockingMissEllenNellie\n",
      "FortuneMissEthelFlora\n",
      "MangiavacchiMrSerafinoEmilio\n",
      "RiceMasterAlbert\n",
      "CorMrBartol\n",
      "AbelsethMrOlausJorgensen\n",
      "DavisonMrThomasHenry\n",
      "ChaudansonMissVictorine\n",
      "DikaMrMirko\n",
      "McCraeMrArthurGordon\n",
      "BjorklundMrErnstHerbert\n",
      "BradleyMissBridgetDelia\n",
      "RyersonMasterJohnBorie\n",
      "CoreyMrsPercyCMaryPhyllisElizabethMiller\n",
      "BurnsMissMaryDelia\n",
      "MooreMrClarenceBloomfield\n",
      "TuckerMrGilbertMilliganJr\n",
      "FortuneMrsMarkMaryMcDougald\n",
      "MulvihillMissBerthaE\n",
      "MinkoffMrLazar\n",
      "NieminenMissMantaJosefina\n",
      "OviesyRodriguezMrServando\n",
      "GeigerMissAmalie\n",
      "KeepingMrEdwin\n",
      "MilesMrFrank\n",
      "CornellMrsRobertCliffordMalvinaHelenLamson\n",
      "AldworthMrCharlesAugustus\n",
      "DoyleMissElizabeth\n",
      "BoulosMasterAkar\n",
      "StrausMrIsidor\n",
      "CaseMrHowardBrown\n",
      "DemetriMrMarinko\n",
      "LambMrJohnJoseph\n",
      "KhalilMrBetros\n",
      "BarryMissJulia\n",
      "BadmanMissEmilyLouisa\n",
      "ODonoghueMsBridget\n",
      "WellsMasterRalphLester\n",
      "DykerMrsAdolfFredrikAnnaElisabethJudithAndersson\n",
      "PedersenMrOlaf\n",
      "DavidsonMrsThorntonOrianHays\n",
      "GuestMrRobert\n",
      "BirnbaumMrJakob\n",
      "TenglinMrGunnarIsidor\n",
      "CavendishMrsTyrellWilliamJuliaFlorenceSiegel\n",
      "MakinenMrKalleEdvard\n",
      "BrafMissElinEsterMaria\n",
      "NancarrowMrWilliamHenry\n",
      "StengelMrsCharlesEmilHenryAnnieMayMorris\n",
      "WeiszMrLeopold\n",
      "FoleyMrWilliam\n",
      "JohanssonPalmquistMrOskarLeander\n",
      "ThomasMrsAlexanderThamineThelma\n",
      "HolthenMrJohanMartin\n",
      "BuckleyMrDaniel\n",
      "RyanMrEdward\n",
      "WillerMrAaronAbiWeller\n",
      "SwaneMrGeorge\n",
      "StantonMrSamuelWard\n",
      "ShineMissEllenNatalia\n",
      "EvansMissEdithCorse\n",
      "BuckleyMissKatherine\n",
      "StrausMrsIsidorRosalieIdaBlun\n",
      "ChronopoulosMrDemetrios\n",
      "ThomasMrJohn\n",
      "SandstromMissBeatriceIrene\n",
      "BeattieMrThomson\n",
      "ChapmanMrsJohnHenrySaraElizabethLawry\n",
      "WattMissBerthaJ\n",
      "KiernanMrJohn\n",
      "SchabertMrsPaulEmmaMock\n",
      "CarverMrAlfredJohn\n",
      "KennedyMrJohn\n",
      "CribbMissLauraAlice\n",
      "BrobeckMrKarlRudolf\n",
      "McCoyMissAlicia\n",
      "BowenurMrSolomon\n",
      "PetersenMrMarius\n",
      "SpinnerMrHenryJohn\n",
      "GracieColArchibaldIV\n",
      "LefebreMrsFrankFrances\n",
      "ThomasMrCharlesP\n",
      "DintcheffMrValtcho\n",
      "CarlssonMrCarlRobert\n",
      "ZakarianMrMapriededer\n",
      "SchmidtMrAugust\n",
      "DrapkinMissJennie\n",
      "GoodwinMrCharlesFrederick\n",
      "GoodwinMissJessieAllis\n",
      "DanielsMissSarah\n",
      "RyersonMrArthurLarned\n",
      "BeauchampMrHenryJames\n",
      "LindebergLindMrErikGustafMrEdwardLingrey\n",
      "VanderPlankeMrJulius\n",
      "HilliardMrHerbertHenry\n",
      "DaviesMrEvan\n",
      "CraftonMrJohnBertram\n",
      "LahtinenRevWilliam\n",
      "EarnshawMrsBoultonOlivePotter\n",
      "MatinoffMrNicola\n",
      "StoreyMrThomas\n",
      "KlasenMrsHuldaKristinaEugeniaLofqvist\n",
      "AsplundMasterFilipOscar\n",
      "DuqueminMrJoseph\n",
      "BirdMissEllen\n",
      "LundinMissOlgaElida\n",
      "BorebankMrJohnJames\n",
      "PeacockMrsBenjaminEdithNile\n",
      "SmythMissJulia\n",
      "ToumaMasterGeorgesYoussef\n",
      "WrightMissMarion\n",
      "PearceMrErnest\n",
      "PeruschitzRevJosephMaria\n",
      "KinkHeilmannMrsAntonLuiseHeilmann\n",
      "BrandeisMrEmil\n",
      "FordMrEdwardWatson\n",
      "CassebeerMrsHenryArthurJrEleanorGenevieveFosdick\n",
      "HellstromMissHildaMaria\n",
      "LithmanMrSimon\n",
      "ZakarianMrOrtin\n",
      "DykerMrAdolfFredrik\n",
      "TorfaMrAssad\n",
      "AsplundMrCarlOscarVilhelmGustafsson\n",
      "BrownMissEdithEileen\n",
      "SincockMissMaude\n",
      "StengelMrCharlesEmilHenry\n",
      "BeckerMrsAllenOliverNellieEBaumgardner\n",
      "ComptonMrsAlexanderTaylorMaryElizaIngersoll\n",
      "McCrieMrJamesMatthew\n",
      "ComptonMrAlexanderTaylorJr\n",
      "MarvinMrsDanielWarnerMaryGrahamCarmichaelFarquarson\n",
      "LaneMrPatrick\n",
      "DouglasMrsFrederickCharlesMaryHeleneBaxter\n",
      "MayberyMrFrankHubert\n",
      "PhillipsMissAliceFrancesLouisa\n",
      "DaviesMrJoseph\n",
      "SageMissAda\n",
      "VealMrJames\n",
      "AngleMrWilliamA\n",
      "SalomonMrAbrahamL\n",
      "vanBilliardMasterWalterJohn\n",
      "LinganeMrJohn\n",
      "DrewMasterMarshallBrines\n",
      "KarlssonMrJuliusKonradEugen\n",
      "SpeddenMasterRobertDouglas\n",
      "NilssonMissBertaOlivia\n",
      "BaimbriggeMrCharlesRobert\n",
      "RasmussenMrsLenaJacobsenSolvang\n",
      "MurphyMissNora\n",
      "DanbomMasterGilbertSigvardEmanuel\n",
      "AstorColJohnJacob\n",
      "QuickMissWinifredVera\n",
      "AndrewMrFrankThomas\n",
      "OmontMrAlfredFernand\n",
      "McGowanMissKatherine\n",
      "CollettMrSidneyCStuart\n",
      "RosenbaumMissEdithLouise\n",
      "DelalicMrRedjo\n",
      "AndersenMrAlbertKarvin\n",
      "FinoliMrLuigi\n",
      "DeaconMrPercyWilliam\n",
      "HowardMrsBenjaminEllenTrueloveArman\n",
      "AnderssonMissIdaAugustaMargareta\n",
      "HeadMrChristopher\n",
      "MahonMissBridgetDelia\n",
      "WickMrGeorgeDennick\n",
      "WidenerMrsGeorgeDuntonEleanorElkins\n",
      "ThomsonMrAlexanderMorrison\n",
      "DuranyMoreMissFlorentina\n",
      "ReynoldsMrHaroldJ\n",
      "CookMrsSelenaRogers\n",
      "KarlssonMrEinarGervasius\n",
      "CandeeMrsEdwardHelenChurchillHungerford\n",
      "MoubarekMrsGeorgeOmineAmeniaAlexander\n",
      "AsplundMrJohanCharles\n",
      "McNeillMissBridget\n",
      "EverettMrThomasJames\n",
      "HockingMrSamuelJamesMetcalfe\n",
      "SweetMrGeorgeFrederick\n",
      "WillardMissConstance\n",
      "WiklundMrKarlJohan\n",
      "LinehanMrMichael\n",
      "CumingsMrJohnBradley\n",
      "VendelMrOlofEdvin\n",
      "WarrenMrFrankManley\n",
      "BaccosMrRaffull\n",
      "HiltunenMissMarta\n",
      "DouglasMrsWalterDonaldMahalaDutton\n",
      "LindstromMrsCarlJohanSigridPosse\n",
      "ChristyMrsAliceFrances\n",
      "SpeddenMrFredericOakley\n",
      "HymanMrAbraham\n",
      "JohnstonMasterWilliamArthurWillie\n",
      "KenyonMrFrederickR\n",
      "KarnesMrsJFrankClaireBennett\n",
      "DrewMrJamesVivian\n",
      "HoldMrsStephenAnnieMargaretHill\n",
      "KhalilMrsBetrosZahieMariaElias\n",
      "WestMissBarbaraJ\n",
      "AbrahamssonMrAbrahamAugustJohannes\n",
      "ClarkMrWalterMiller\n",
      "SalanderMrKarlJohan\n",
      "WenzelMrLinhart\n",
      "MacKayMrGeorgeWilliam\n",
      "MahonMrJohn\n",
      "NiklassonMrSamuel\n",
      "BenthamMissLilianW\n",
      "MidtsjoMrKarlAlbert\n",
      "deMessemaekerMrGuillaumeJoseph\n",
      "NilssonMrAugustFerdinand\n",
      "WellsMrsArthurHenryAddieDartTrevaskis\n",
      "KlasenMissGertrudEmilia\n",
      "PortaluppiMrEmilioIlarioGiuseppe\n",
      "LyntakoffMrStanko\n",
      "ChisholmMrRoderickRobertCrispin\n",
      "WarrenMrCharlesWilliam\n",
      "HowardMissMayElizabeth\n",
      "PokrnicMrMate\n",
      "McCaffryMrThomasFrancis\n",
      "FoxMrPatrick\n",
      "ClarkMrsWalterMillerVirginiaMcDowell\n",
      "LennonMissMary\n",
      "SaadeMrJeanNassr\n",
      "BryhlMissDagmarJennyIngeborg\n",
      "ParkerMrCliffordRichard\n",
      "FaunthorpeMrHarry\n",
      "WareMrJohnJames\n",
      "OxenhamMrPercyThomas\n",
      "OreskovicMissJelka\n",
      "PeacockMasterAlfredEdward\n",
      "FlemingMissHonora\n",
      "ToumaMissMariaYoussef\n",
      "RosblomMissSalliHelena\n",
      "DennisMrWilliam\n",
      "FranklinMrCharlesCharlesFardon\n",
      "SnyderMrJohnPillsbury\n",
      "MardirosianMrSarkis\n",
      "FordMrArthur\n",
      "RheimsMrGeorgeAlexanderLucien\n",
      "DalyMissMargaretMarcellaMaggie\n",
      "NasrMrMustafa\n",
      "DodgeDrWashington\n",
      "WittevrongelMrCamille\n",
      "AngheloffMrMinko\n",
      "LarocheMissLouise\n",
      "SamaanMrHanna\n",
      "LoringMrJosephHolland\n",
      "JohanssonMrNils\n",
      "OlssonMrOscarWilhelm\n",
      "MalachardMrNoel\n",
      "PhillipsMrEscottRobert\n",
      "PokrnicMrTome\n",
      "McCarthyMissCatherineKatie\n",
      "CrosbyMrsEdwardGiffordCatherineElizabethHalstead\n",
      "AllisonMrHudsonJoshuaCreighton\n",
      "AksMasterPhilipFrank\n",
      "HaysMrCharlesMelville\n",
      "HansenMrsClausPeterJennieLHoward\n",
      "CacicMrJegoGrga\n",
      "VartanianMrDavid\n",
      "SadowitzMrHarry\n",
      "CarrMissJeannie\n",
      "WhiteMrsJohnStuartEllaHolmes\n",
      "HagardonMissKate\n",
      "SpencerMrWilliamAugustus\n",
      "RogersMrReginaldHarry\n",
      "JonssonMrNilsHilding\n",
      "JefferysMrErnestWilfred\n",
      "AnderssonMrJohanSamuel\n",
      "KrekorianMrNeshan\n",
      "NessonMrIsrael\n",
      "RoweMrAlfredG\n",
      "KreuchenMissEmilie\n",
      "AssamMrAli\n",
      "BeckerMissRuthElizabeth\n",
      "RosenshineMrGeorgeMrGeorgeThorne\n",
      "ClarkeMrCharlesValentine\n",
      "EnanderMrIngvar\n",
      "DaviesMrsJohnMorganElizabethAgnesMaryWhite\n",
      "DullesMrWilliamCrothers\n",
      "ThomasMrTannous\n",
      "NakidMrsSaidWaikaMaryMowad\n",
      "CorMrIvan\n",
      "MaguireMrJohnEdward\n",
      "deBritoMrJoseJoaquim\n",
      "EliasMrJoseph\n",
      "DenburyMrHerbert\n",
      "BetrosMasterSeman\n",
      "FillbrookMrJosephCharles\n",
      "LundstromMrThureEdvin\n",
      "SageMrJohnGeorge\n",
      "CardezaMrsJamesWarburtonMartinezCharlotteWardleDrake\n",
      "vanBilliardMasterJamesWilliam\n",
      "AbelsethMissKarenMarie\n",
      "BotsfordMrWilliamHull\n",
      "WhabeeMrsGeorgeJosephShawneeneAbiSaab\n",
      "GilesMrRalph\n",
      "WalcroftMissNellie\n",
      "GreenfieldMrsLeoDavidBlancheStrouse\n",
      "StokesMrPhilipJoseph\n",
      "DibdenMrWilliam\n",
      "HermanMrSamuel\n",
      "DeanMissElizabethGladysMillvina\n",
      "JulianMrHenryForbes\n",
      "BrownMrsJohnMurrayCarolineLaneLamson\n",
      "LockyerMrEdward\n",
      "OKeefeMrPatrick\n",
      "LindellMrsEdvardBengtssonElinGerdaPersson\n",
      "SageMasterWilliamHenry\n",
      "MalletMrsAlbertAntoinetteMagnin\n",
      "WareMrsJohnJamesFlorenceLouiseLong\n",
      "StrilicMrIvan\n",
      "HarderMrsGeorgeAchillesDorothyAnnan\n",
      "SageMrsJohnAnnieBullen\n",
      "CaramMrJoseph\n",
      "RiihivouriMissSusannaJuhantytarSanni\n",
      "GibsonMrsLeonardPaulineCBoeson\n",
      "PallasyCastelloMrEmilio\n",
      "GilesMrEdgar\n",
      "WilsonMissHelenAlice\n",
      "IsmayMrJosephBruce\n",
      "HarbeckMrWilliamH\n",
      "DodgeMrsWashingtonRuthVidaver\n",
      "BowenMissGraceScott\n",
      "KinkMissMaria\n",
      "CotterillMrHenryHarry\n",
      "HipkinsMrWilliamEdward\n",
      "AsplundMasterCarlEdgar\n",
      "OConnorMrPatrick\n",
      "FoleyMrJoseph\n",
      "RisienMrsSamuelEmma\n",
      "McNameeMrsNealEileenOLeary\n",
      "WheelerMrEdwinFrederick\n",
      "HermanMissKate\n",
      "AronssonMrErnstAxelAlgot\n",
      "AshbyMrJohn\n",
      "CanavanMrPatrick\n",
      "PalssonMasterPaulFolke\n",
      "PayneMrVivianPonsonby\n",
      "LinesMrsErnestHElizabethLindseyJames\n",
      "AbbottMasterEugeneJoseph\n",
      "GilbertMrWilliam\n",
      "KinkHeilmannMrAnton\n",
      "SmithMrsLucienPhilipMaryEloiseHughes\n",
      "ColbertMrPatrick\n",
      "FrolicherStehliMrsMaxmillianMargarethaEmerentiaStehli\n",
      "LarssonRondbergMrEdvardA\n",
      "ConlonMrThomasHenry\n",
      "BonnellMissCaroline\n",
      "GaleMrHarry\n",
      "GibsonMissDorothyWinifred\n",
      "CarrauMrJosePedro\n",
      "FrauenthalMrIsaacGerald\n",
      "NourneyMrAlfredBaronvonDrachstedt\n",
      "WareMrWilliamJeffery\n",
      "WidenerMrGeorgeDunton\n",
      "RiordanMissJohannaHannah\n",
      "PeacockMissTreasteall\n",
      "NaughtonMissHannah\n",
      "MinahanMrsWilliamEdwardLillianEThorpe\n",
      "HenrikssonMissJennyLovisa\n",
      "SpectorMrWoolf\n",
      "OlivayOcanaDonaFermina\n",
      "SaetherMrSimonSivertsen\n",
      "WareMrFrederick\n",
      "PeterMasterMichaelJ\n"
     ]
    }
   ],
   "source": [
    "data = pd.read_csv('tested.csv')\n",
    "for i in data[\"Name\"]:\n",
    "    print(re.sub(\"[^a-zA-Z0-9]\" , \"\" , i))"
   ]
  },
  {
   "cell_type": "markdown",
   "id": "cf149072",
   "metadata": {},
   "source": [
    "### Qunatifiers:\n",
    "We can use quantifiers to specify the number of occurrences to match.\n",
    "\n",
    "    a ---> Exactly one 'a'\n",
    "    a+ ---> Atleast one 'a'\n",
    "    a* ---> Any number of a's including zero number\n",
    "    a? ---> Atmost one 'a' ie either zero number or one number\n",
    "    a{m} ---> Exactly m number of a's\n",
    "    a{m,n} ---> Minimum m number of a's and Maximum n number of a's"
   ]
  },
  {
   "cell_type": "code",
   "execution_count": 8,
   "id": "a693ae67",
   "metadata": {},
   "outputs": [],
   "source": [
    "# Eg:\n",
    "import re \n",
    "matcher=re.finditer(\"x\",\"abaabaaab\") \n",
    "for match in matcher: \n",
    "    print(match.start(),\"......\",match.group()) "
   ]
  },
  {
   "cell_type": "markdown",
   "id": "4832b4b6",
   "metadata": {},
   "source": [
    "    x = a:\n",
    "    0 ...... a\n",
    "    2 ...... a\n",
    "    3 ...... a\n",
    "    5 ...... a\n",
    "    6 ...... a\n",
    "    7 ...... a\n",
    "    \n",
    "    x = a+:\n",
    "    0 ...... a\n",
    "    2 ...... aa\n",
    "    5 ...... aaa\n",
    "    \n",
    "    x = a*:\n",
    "    0 ...... a\n",
    "    1 ......\n",
    "    2 ...... aa\n",
    "    4 ......\n",
    "    5 ...... aaa\n",
    "    8 ......\n",
    "    9 ......\n",
    "    \n",
    "    x = a?:\n",
    "    0 ...... a\n",
    "    1 ......\n",
    "    2 ...... a\n",
    "    3 ...... a\n",
    "    4 ......\n",
    "    5 ...... a\n",
    "    6 ...... a\n",
    "    7 ...... a\n",
    "    8 ......\n",
    "    9 ......\n",
    "    \n",
    "    x = a{3}:\n",
    "    5 ...... aaa\n",
    "    \n",
    "    x = a{2,4}:\n",
    "    2 ...... aa\n",
    "    5 ...... aaa\n",
    "    \n",
    "#### Note:\n",
    "    ^x ---> It will check whether target string starts with x or not\n",
    "    x$ ---> It will check whether target string ends with x or not\n",
    "\n"
   ]
  },
  {
   "cell_type": "markdown",
   "id": "0af190bc",
   "metadata": {},
   "source": [
    "### Important functions of re module:\n",
    "\n",
    "1. match()\n",
    "2. fullmatch()\n",
    "3. search()\n",
    "4. findall()\n",
    "5. finditer()\n",
    "6. sub()\n",
    "7. subn()\n",
    "8. split()\n",
    "9. compile()\n",
    "\n",
    "### 1. match():\n",
    "\n",
    "We can use match function to check the given pattern at beginning of target string.\n",
    "\n",
    "If the match is available then we will get Match object, otherwise we will get None."
   ]
  },
  {
   "cell_type": "code",
   "execution_count": 9,
   "id": "26b0f76b",
   "metadata": {},
   "outputs": [
    {
     "name": "stdout",
     "output_type": "stream",
     "text": [
      "Enter pattern to check: b\n",
      "Match is not available at the beginning of the String\n"
     ]
    }
   ],
   "source": [
    "# Eg:\n",
    "import re \n",
    "s=input(\"Enter pattern to check: \") \n",
    "\n",
    "m=re.match(s,\"abcabdefg\") \n",
    "if m!= None: \n",
    "    print(\"Match is available at the beginning of the String\") \n",
    "    print(\"Start Index:\",m.start(), \"and End Index:\",m.end())\n",
    "else: \n",
    "    print(\"Match is not available at the beginning of the String\") "
   ]
  },
  {
   "cell_type": "markdown",
   "id": "5d94b021",
   "metadata": {},
   "source": [
    "### 2. fullmatch():\n",
    "We can use fullmatch() function to match a pattern to all of target string. i.e complete string \n",
    "should be matched according to given pattern.\n",
    "\n",
    "If complete string matched then this function returns Match object otherwise it returns None."
   ]
  },
  {
   "cell_type": "code",
   "execution_count": 10,
   "id": "4b61579a",
   "metadata": {},
   "outputs": [
    {
     "name": "stdout",
     "output_type": "stream",
     "text": [
      "Enter pattern to check: Prakriti Yadav\n",
      "Full String not Matched\n"
     ]
    }
   ],
   "source": [
    "# Eg:\n",
    "import re \n",
    "s=input(\"Enter pattern to check: \") \n",
    "m=re.fullmatch(s,\"ababab\") \n",
    "if m!= None: \n",
    "    print(\"Full String Matched\") \n",
    "else: \n",
    "    print(\"Full String not Matched\") "
   ]
  },
  {
   "cell_type": "markdown",
   "id": "7d8c2b71",
   "metadata": {},
   "source": [
    "### 3. search():\n",
    "We can use search() function to search the given pattern in the target string.\n",
    "\n",
    "If the match is available then it returns the Match object which represents first occurrence of the \n",
    "match.\n",
    "\n",
    "If the match is not available then it returns None\n"
   ]
  },
  {
   "cell_type": "code",
   "execution_count": 11,
   "id": "93987ce2",
   "metadata": {},
   "outputs": [
    {
     "name": "stdout",
     "output_type": "stream",
     "text": [
      "Enter pattern to check: a\n",
      "Match is available\n",
      "First Occurrence of match with start index: 0 and end index: 1\n"
     ]
    }
   ],
   "source": [
    "# Eg:\n",
    "import re \n",
    "s=input(\"Enter pattern to check: \") \n",
    "m=re.search(s,\"abaaaba\") \n",
    "if m!= None: \n",
    "    print(\"Match is available\") \n",
    "    print(\"First Occurrence of match with start index:\",m.start(),\"and end index:\",m.end()) \n",
    "else: \n",
    "    print(\"Match is not available\") "
   ]
  },
  {
   "cell_type": "markdown",
   "id": "9ffb89d0",
   "metadata": {},
   "source": [
    "### 4. findall():\n",
    "To find all occurrences of the match.\n",
    "\n",
    "This function returns a list object which contains all occurrences.\n"
   ]
  },
  {
   "cell_type": "code",
   "execution_count": 12,
   "id": "f61a5f80",
   "metadata": {},
   "outputs": [
    {
     "name": "stdout",
     "output_type": "stream",
     "text": [
      "['7', '9', '5']\n"
     ]
    }
   ],
   "source": [
    "# Eg:\n",
    "import re \n",
    "l=re.findall(\"[0-9]\",\"a7b9c5kz\") \n",
    "print(l)"
   ]
  },
  {
   "cell_type": "markdown",
   "id": "627c10ad",
   "metadata": {},
   "source": [
    "### 5. finditer():\n",
    "Returns the iterator yielding a match object for each match.\n",
    "\n",
    "On each match object we can call start(), end() and group() functions."
   ]
  },
  {
   "cell_type": "code",
   "execution_count": 13,
   "id": "f7fb07f8",
   "metadata": {},
   "outputs": [
    {
     "name": "stdout",
     "output_type": "stream",
     "text": [
      "0 ... 1 ... a\n",
      "2 ... 3 ... b\n",
      "4 ... 5 ... c\n",
      "6 ... 7 ... k\n",
      "8 ... 9 ... z\n"
     ]
    }
   ],
   "source": [
    "# Eg:\n",
    "import re \n",
    "itr=re.finditer(\"[a-z]\",\"a7b9c5k8z\") \n",
    "for m in itr: \n",
    "    print(m.start(),\"...\",m.end(),\"...\",m.group()) \n"
   ]
  },
  {
   "cell_type": "markdown",
   "id": "bac4599c",
   "metadata": {},
   "source": [
    "### 6. sub():\n",
    "sub means substitution or replacement\n",
    "    \n",
    "    re.sub(regex,replacement,targetstring)\n",
    "\n",
    "In the target string every matched pattern will be replaced with provided replacement.\n"
   ]
  },
  {
   "cell_type": "code",
   "execution_count": 14,
   "id": "15d86a33",
   "metadata": {},
   "outputs": [
    {
     "name": "stdout",
     "output_type": "stream",
     "text": [
      "#7#9#5#8#\n"
     ]
    }
   ],
   "source": [
    "# Eg:\n",
    "import re \n",
    "s=re.sub(\"[a-z]\",\"#\",\"a7b9c5k8z\") \n",
    "print(s) "
   ]
  },
  {
   "cell_type": "markdown",
   "id": "5befec25",
   "metadata": {},
   "source": [
    "Every alphabet symbol is replaced with # symbol\n"
   ]
  },
  {
   "cell_type": "markdown",
   "id": "7feda6c7",
   "metadata": {},
   "source": [
    "### 7. subn():\n",
    "It is exactly same as sub except it can also returns the number of replacements.\n",
    "\n",
    "This function returns a tuple where first element is result string and second element is number of \n",
    "replacements.\n",
    "    \n",
    "    (resultstring, number of replacements)\n"
   ]
  },
  {
   "cell_type": "code",
   "execution_count": 15,
   "id": "fab70a60",
   "metadata": {},
   "outputs": [
    {
     "name": "stdout",
     "output_type": "stream",
     "text": [
      "('#7#9#5#8#', 5)\n",
      "The Result String: #7#9#5#8#\n",
      "The number of replacements: 5\n"
     ]
    }
   ],
   "source": [
    "# Eg:\n",
    "import re \n",
    "t=re.subn(\"[a-z]\",\"#\",\"a7b9c5k8z\") \n",
    "print(t) \n",
    "print(\"The Result String:\",t[0]) \n",
    "print(\"The number of replacements:\",t[1])"
   ]
  },
  {
   "cell_type": "markdown",
   "id": "8d2cdcce",
   "metadata": {},
   "source": [
    "### 8. split():\n",
    "If we want to split the given target string according to a particular pattern then we should go for \n",
    "split() function.\n",
    "\n",
    "This function returns list of all tokens.\n"
   ]
  },
  {
   "cell_type": "code",
   "execution_count": 16,
   "id": "d33a2fc5",
   "metadata": {},
   "outputs": [
    {
     "name": "stdout",
     "output_type": "stream",
     "text": [
      "['nikhil', 'prakriti', 'chunmun', 'happy', 'akhil']\n",
      "nikhil\n",
      "prakriti\n",
      "chunmun\n",
      "happy\n",
      "akhil\n"
     ]
    }
   ],
   "source": [
    "# Eg:\n",
    "import re \n",
    "l=re.split(\",\",\"nikhil,prakriti,chunmun,happy,akhil\") \n",
    "print(l) \n",
    "for t in l: \n",
    "    print(t)"
   ]
  },
  {
   "cell_type": "markdown",
   "id": "b5dc59e3",
   "metadata": {},
   "source": [
    "### ^ symbol:\n",
    "We can use ^ symbol to check whether the given target string starts with our provided pattern or \n",
    "not.\n",
    "\n",
    "    Eg:\n",
    "    res=re.search(\"^Learn\",s)\n",
    "\n",
    "if the target string starts with Learn then it will return Match object,otherwise returns None.\n"
   ]
  },
  {
   "cell_type": "code",
   "execution_count": 17,
   "id": "dd599db5",
   "metadata": {},
   "outputs": [
    {
     "name": "stdout",
     "output_type": "stream",
     "text": [
      "Target String starts with Learn\n"
     ]
    }
   ],
   "source": [
    "# Eg\n",
    "import re \n",
    "s=\"Learning Python is Very Easy\" \n",
    "res=re.search(\"^Learn\",s) \n",
    "if res != None: \n",
    "    print(\"Target String starts with Learn\") \n",
    "else: \n",
    "    print(\"Target String Not starts with Learn\")"
   ]
  },
  {
   "cell_type": "markdown",
   "id": "5123fbe1",
   "metadata": {},
   "source": [
    "### $ symbol:\n",
    "\n",
    "We can use $ symbol to check whether the given target string ends with our provided pattern or \n",
    "not\n",
    "    \n",
    "    Eg: res=re.search(\"Easy$\",s)\n",
    "\n",
    "If the target string ends with Easy then it will return Match object,otherwise returns None."
   ]
  },
  {
   "cell_type": "code",
   "execution_count": 18,
   "id": "e19aceda",
   "metadata": {},
   "outputs": [
    {
     "name": "stdout",
     "output_type": "stream",
     "text": [
      "Target String ends with Easy\n"
     ]
    }
   ],
   "source": [
    "import re \n",
    "s=\"Learning Python is Very Easy\" \n",
    "res=re.search(\"Easy$\",s) \n",
    "if res != None: \n",
    "    print(\"Target String ends with Easy\") \n",
    "else: \n",
    "    print(\"Target String Not ends with Easy\")"
   ]
  },
  {
   "cell_type": "markdown",
   "id": "7f84f401",
   "metadata": {},
   "source": [
    "#### Note: \n",
    "If we want to ignore case then we have to pass 3rd argument re.IGNORECASE for search() \n",
    "function.\n",
    "    \n",
    "    Eg: res = re.search(\"easy$\",s,re.IGNORECASE)\n"
   ]
  },
  {
   "cell_type": "code",
   "execution_count": 19,
   "id": "1950718c",
   "metadata": {},
   "outputs": [
    {
     "name": "stdout",
     "output_type": "stream",
     "text": [
      "Target String ends with Easy by ignoring case\n"
     ]
    }
   ],
   "source": [
    "import re \n",
    "s=\"Learning Python is Very Easy\" \n",
    "res=re.search(\"easy$\",s,re.IGNORECASE) \n",
    "if res != None: \n",
    "    print(\"Target String ends with Easy by ignoring case\") \n",
    "else: \n",
    "    print(\"Target String Not ends with Easy by ignoring case\") \n"
   ]
  },
  {
   "cell_type": "markdown",
   "id": "dfc8edd7",
   "metadata": {},
   "source": [
    "#### App1: Write a Regular Expression to represent all Yava language identifiers\n",
    "\n",
    "Rules:\n",
    "1. The allowed characters are a-z,A-Z,0-9,#\n",
    "2. The first character should be a lower case alphabet symbol from a to k\n",
    "3. The second character should be a digit divisible by 3\n",
    "4. The length of identifier should be atleast 2.\n",
    "\n",
    "    [a-k][0369][a-zA-Z0-9#]*"
   ]
  },
  {
   "cell_type": "markdown",
   "id": "e98d92e8",
   "metadata": {},
   "source": [
    "#### App2: Write a python program to check whether the given string is Yava language identifier or not?\n"
   ]
  },
  {
   "cell_type": "code",
   "execution_count": 20,
   "id": "f23f5c4c",
   "metadata": {},
   "outputs": [
    {
     "name": "stdout",
     "output_type": "stream",
     "text": [
      "Enter Identifier:_name\n",
      "_name is invalid Yava Identifier\n"
     ]
    }
   ],
   "source": [
    "import re \n",
    "s=input(\"Enter Identifier:\") \n",
    "m=re.fullmatch(\"[a-k][0369][a-zA-Z0-9#]*\",s) \n",
    "if m!= None: \n",
    "    print(s,\"is valid Yava Identifier\") \n",
    "else: \n",
    "    print(s,\"is invalid Yava Identifier\") "
   ]
  },
  {
   "cell_type": "markdown",
   "id": "8f4adcd0",
   "metadata": {},
   "source": [
    "#### App3: Write a Regular Expression to represent all 10 digit mobile numbers.\n",
    "\n",
    "Rules: \n",
    "\n",
    "1. Every number should contains exactly 10 digits\n",
    "2. The first digit should be 7 or 8 or 9\n",
    "\n",
    "- [7-9][0-9][0-9][0-9][0-9][0-9][0-9][0-9][0-9][0-9]\n",
    " \n",
    " or\n",
    " \n",
    "- [7-9][0-9]{9}\n",
    "\n",
    " or\n",
    " \n",
    "- [7-9]\\d{9}\n",
    "#### App4: Write a Python Program to check whether the given number is valid mobile number or not?"
   ]
  },
  {
   "cell_type": "code",
   "execution_count": 21,
   "id": "cad12392",
   "metadata": {},
   "outputs": [
    {
     "name": "stdout",
     "output_type": "stream",
     "text": [
      "Enter number:9027802892\n",
      "Valid Mobile Number\n"
     ]
    }
   ],
   "source": [
    "import re \n",
    "n=input(\"Enter number:\") \n",
    "m=re.fullmatch(\"[7-9]\\d{9}\",n) \n",
    "if m!= None: \n",
    "    print(\"Valid Mobile Number\") \n",
    "else: \n",
    "    print(\"Invalid Mobile Number\")"
   ]
  },
  {
   "cell_type": "markdown",
   "id": "fb2840a3",
   "metadata": {},
   "source": [
    "## Web Scraping by using Regular Expressions:\n",
    "The process of collecting information from web pages is called web scraping. In web scraping to match our required patterns like mail ids, mobile numbers we can use regular expressions.\n"
   ]
  },
  {
   "cell_type": "code",
   "execution_count": 23,
   "id": "28e38565",
   "metadata": {},
   "outputs": [
    {
     "name": "stdout",
     "output_type": "stream",
     "text": [
      "['google', 'rediff']\n",
      "Searching... google\n",
      "<title>Google</title>\n",
      "Searching... rediff\n",
      "<title>Rediff.com: News | Rediffmail | Stock Quotes | Shopping</title>\n"
     ]
    }
   ],
   "source": [
    "# Eg:\n",
    "import re,urllib \n",
    "import urllib.request \n",
    "sites=\"google rediff\".split() \n",
    "print(sites) \n",
    "for s in sites: \n",
    "    print(\"Searching...\",s) \n",
    "    u=urllib.request.urlopen(\"http://\"+s+\".com\") \n",
    "    text=u.read() \n",
    "    title=re.findall(\"<title>.*</title>\",str(text),re.I) \n",
    "    print(title[0]) "
   ]
  },
  {
   "cell_type": "markdown",
   "id": "762858eb",
   "metadata": {},
   "source": [
    "#### Eg: Program to get all phone numbers of redbus.in by using web scraping and regular expressions"
   ]
  },
  {
   "cell_type": "code",
   "execution_count": 24,
   "id": "3bdca7cf",
   "metadata": {},
   "outputs": [
    {
     "name": "stdout",
     "output_type": "stream",
     "text": [
      "919945600000\n",
      "919945600000\n"
     ]
    }
   ],
   "source": [
    "import re,urllib \n",
    "import urllib.request \n",
    "u=urllib.request.urlopen(\"https://www.redbus.in/info/contactus\") \n",
    "text=u.read() \n",
    "numbers=re.findall(\"[0-9-]{7}[0-9-]+\",str(text),re.I) \n",
    "for n in numbers: \n",
    "    print(n)"
   ]
  },
  {
   "cell_type": "markdown",
   "id": "cbe0697c",
   "metadata": {},
   "source": [
    "#### Q. Write a Python Program to check whether the given mail id is  valid gmail id or not?\n"
   ]
  },
  {
   "cell_type": "code",
   "execution_count": 26,
   "id": "f2415f59",
   "metadata": {},
   "outputs": [
    {
     "name": "stdout",
     "output_type": "stream",
     "text": [
      "Enter Mail id:yadavnikhilrao@gmail.com\n",
      "Valid Mail Id\n"
     ]
    }
   ],
   "source": [
    "import re \n",
    "s=input(\"Enter Mail id:\") \n",
    "m=re.fullmatch(\"\\w[a-zA-Z0-9_.]*@gmail[.]com\",s) \n",
    "if m!=None: \n",
    "    print(\"Valid Mail Id\"); \n",
    "else: \n",
    "    print(\"Invalid Mail id\")"
   ]
  },
  {
   "cell_type": "markdown",
   "id": "159866ab",
   "metadata": {},
   "source": [
    "#### Q. Write a python program to check whether given car registration number is valid Uttar Pradesh State Registration number or not?\n"
   ]
  },
  {
   "cell_type": "code",
   "execution_count": 27,
   "id": "6892199e",
   "metadata": {},
   "outputs": [
    {
     "name": "stdout",
     "output_type": "stream",
     "text": [
      "Enter Vehicle Registration Number: UP13AY6366\n",
      "Valid Vehicle Registration Number\n"
     ]
    }
   ],
   "source": [
    "import re \n",
    "s=input(\"Enter Vehicle Registration Number: \") \n",
    "m=re.fullmatch(\"UP[012][0-9][A-Z]{2}\\d{4}\",s) \n",
    "if m!=None: \n",
    "    print(\"Valid Vehicle Registration Number\"); \n",
    "else: \n",
    "    print(\"Invalid Vehicle Registration Number\") "
   ]
  },
  {
   "cell_type": "markdown",
   "id": "5958a612",
   "metadata": {},
   "source": [
    "#### Q. Python Program to check whether the given mobile number is valid OR not (10 digit OR 11 digit OR 12 digit)"
   ]
  },
  {
   "cell_type": "code",
   "execution_count": 28,
   "id": "2c2c4083",
   "metadata": {},
   "outputs": [
    {
     "name": "stdout",
     "output_type": "stream",
     "text": [
      "Enter Mobile Number:0902780020\n",
      "Invalid Mobile Number\n"
     ]
    }
   ],
   "source": [
    "import re \n",
    "s=input(\"Enter Mobile Number:\") \n",
    "m=re.fullmatch(\"(0|91)?[7-9][0-9]{9}\",s) \n",
    "if m!=None: \n",
    "    print(\"Valid Mobile Number\"); \n",
    "else: \n",
    "    print(\"Invalid Mobile Number\") "
   ]
  },
  {
   "cell_type": "code",
   "execution_count": null,
   "id": "5d85b18b",
   "metadata": {},
   "outputs": [],
   "source": []
  },
  {
   "cell_type": "markdown",
   "id": "fcc8da70",
   "metadata": {},
   "source": [
    "# Exception Handling"
   ]
  },
  {
   "cell_type": "markdown",
   "id": "06b51b96",
   "metadata": {},
   "source": [
    "In any programming language there are 2 types of errors are possible.\n",
    "\n",
    " 1. Syntax Errors\n",
    " 2. Runtime Errors\n",
    " \n",
    "## 1. Syntax Errors:\n",
    "\n",
    "The errors which occurs because of invalid syntax are called syntax errors.\n",
    "\n",
    "    Eg 1:\n",
    "    x=10\n",
    "    if x==10\n",
    "     print(\"Hello\")\n",
    "     \n",
    "    SyntaxError: invalid syntax\n",
    "\n",
    "    Eg 2:\n",
    "    print \"Hello\"\n",
    "    \n",
    "    SyntaxError: Missing parentheses in call to 'print'\n",
    "\n",
    "___Note: Programmer is responsible to correct these syntax errors. Once all syntax errors are corrected then only program execution will be started.___\n",
    "\n",
    "## 2. Runtime Errors:\n",
    "\n",
    "- Also known as exceptions.\n",
    "\n",
    "While executing the program if something goes wrong because of end user input or programming logic or memory problems etc then we will get Runtime Errors.\n",
    "\n",
    "    Eg: \n",
    "     print(10/0) ==>ZeroDivisionError: division by zero\n",
    "     print(10/\"ten\") ==>TypeError: unsupported operand type(s) for /: 'int' and 'str'\n",
    "     x=int(input(\"Enter Number:\"))\n",
    "     print(x)\n",
    "    \n",
    "    Output- Enter Number:ten\n",
    "     \n",
    "     ValueError: invalid literal for int() with base 10: 'ten\n",
    "     \n",
    "___Note: Exception Handling concept applicable for Runtime Errors but not for syntax errors___\n",
    "\n",
    "#### What is Exception:\n",
    "An unwanted and unexpected event that disturbs normal flow of program is called exception.\n",
    "\n",
    "    Eg:\n",
    "    ZeroDivisionError\n",
    "    TypeError\n",
    "    ValueError\n",
    "    FileNotFoundError\n",
    "    EOFError\n",
    "    SleepingError\n",
    "    TyrePuncturedError\n",
    "    \n",
    "It is highly recommended to handle exceptions. The main objective of exception handling is Graceful Termination of the program(i.e we should not block our resources and we should not miss anything)\n",
    "\n",
    "\n",
    "Exception handling does not mean repairing exception. We have to define alternative way to continue rest of the program normally.\n",
    "\n",
    "\n",
    "For example our programming requirement is reading data from remote file locating at London. At runtime if london file is not available then the program should not be terminated abnormally. We have to provide local file to continue rest of the program \n",
    "normally. This way of defining alternative is nothing but exception handling.\n",
    "\n",
    "    try:\n",
    "     read data from remote file locating at london\n",
    "    \n",
    "    except FileNotFoundError:\n",
    "    \n",
    "     use local file and continue rest of the program normally\n",
    "     \n",
    "- Q. What is an Exception?\n",
    "- Q. What is the purpose of Exception Handling?\n",
    "- Q. What is the meaning of Exception Handling?\n",
    "\n",
    "#### Default Exception Handing in Python:\n",
    "\n",
    "Every exception in Python is an object. For every exception type the corresponding classes are available.\n",
    "\n",
    "Whevever an exception occurs PVM will create the corresponding exception object and will check for handling code. If handling code is not available then Python interpreter terminates the program abnormally and prints corresponding exception information to the console.\n",
    "\n",
    "\n",
    "The rest of the program won't be executed."
   ]
  },
  {
   "cell_type": "code",
   "execution_count": 29,
   "id": "a405f28f",
   "metadata": {},
   "outputs": [
    {
     "name": "stdout",
     "output_type": "stream",
     "text": [
      "Hello\n"
     ]
    },
    {
     "ename": "ZeroDivisionError",
     "evalue": "division by zero",
     "output_type": "error",
     "traceback": [
      "\u001b[1;31m---------------------------------------------------------------------------\u001b[0m",
      "\u001b[1;31mZeroDivisionError\u001b[0m                         Traceback (most recent call last)",
      "Input \u001b[1;32mIn [29]\u001b[0m, in \u001b[0;36m<cell line: 3>\u001b[1;34m()\u001b[0m\n\u001b[0;32m      1\u001b[0m \u001b[38;5;66;03m# Eg:\u001b[39;00m\n\u001b[0;32m      2\u001b[0m \u001b[38;5;28mprint\u001b[39m(\u001b[38;5;124m\"\u001b[39m\u001b[38;5;124mHello\u001b[39m\u001b[38;5;124m\"\u001b[39m) \n\u001b[1;32m----> 3\u001b[0m \u001b[38;5;28mprint\u001b[39m(\u001b[38;5;241;43m10\u001b[39;49m\u001b[38;5;241;43m/\u001b[39;49m\u001b[38;5;241;43m0\u001b[39;49m) \n\u001b[0;32m      4\u001b[0m \u001b[38;5;28mprint\u001b[39m(\u001b[38;5;124m\"\u001b[39m\u001b[38;5;124mHi\u001b[39m\u001b[38;5;124m\"\u001b[39m)\n",
      "\u001b[1;31mZeroDivisionError\u001b[0m: division by zero"
     ]
    }
   ],
   "source": [
    "# Eg:\n",
    "print(\"Hello\") \n",
    "print(10/0) \n",
    "print(\"Hi\") "
   ]
  },
  {
   "cell_type": "markdown",
   "id": "32b9c84e",
   "metadata": {},
   "source": [
    "![](images\\\\exception_her.jpg)"
   ]
  },
  {
   "cell_type": "markdown",
   "id": "b5fd89a9",
   "metadata": {},
   "source": [
    "Every Exception in Python is a class. \n",
    "\n",
    "\n",
    "All exception classes are child classes of BaseException.i.e every exception class extends BaseException either directly orindirectly. Hence BaseException acts as root for Python Exception Hierarchy.\n",
    "\n",
    "\n",
    "Most of the times being a programmer we have to concentrate Exception and its child classes.\n",
    "\n",
    "\n",
    "#### Customized Exception Handling by using try-except:\n",
    "It is highly recommended to handle exceptions.\n",
    "\n",
    "The code which may raise exception is called risky code and we have to take risky code inside try block. The corresponding handling code we have to take inside except block."
   ]
  },
  {
   "cell_type": "code",
   "execution_count": 30,
   "id": "42f749dc",
   "metadata": {},
   "outputs": [
    {
     "ename": "SyntaxError",
     "evalue": "invalid syntax (1947946909.py, line 2)",
     "output_type": "error",
     "traceback": [
      "\u001b[1;36m  Input \u001b[1;32mIn [30]\u001b[1;36m\u001b[0m\n\u001b[1;33m    Risky Code\u001b[0m\n\u001b[1;37m          ^\u001b[0m\n\u001b[1;31mSyntaxError\u001b[0m\u001b[1;31m:\u001b[0m invalid syntax\n"
     ]
    }
   ],
   "source": [
    "try:\n",
    "    Risky Code\n",
    "    \n",
    "except XXX:\n",
    "    Handling code/Alternative Code"
   ]
  },
  {
   "cell_type": "markdown",
   "id": "d89270c1",
   "metadata": {},
   "source": [
    "#### without try-except:"
   ]
  },
  {
   "cell_type": "code",
   "execution_count": 31,
   "id": "21f6e742",
   "metadata": {},
   "outputs": [
    {
     "name": "stdout",
     "output_type": "stream",
     "text": [
      "stmt-1\n"
     ]
    },
    {
     "ename": "ZeroDivisionError",
     "evalue": "division by zero",
     "output_type": "error",
     "traceback": [
      "\u001b[1;31m---------------------------------------------------------------------------\u001b[0m",
      "\u001b[1;31mZeroDivisionError\u001b[0m                         Traceback (most recent call last)",
      "Input \u001b[1;32mIn [31]\u001b[0m, in \u001b[0;36m<cell line: 2>\u001b[1;34m()\u001b[0m\n\u001b[0;32m      1\u001b[0m \u001b[38;5;28mprint\u001b[39m(\u001b[38;5;124m\"\u001b[39m\u001b[38;5;124mstmt-1\u001b[39m\u001b[38;5;124m\"\u001b[39m) \n\u001b[1;32m----> 2\u001b[0m \u001b[38;5;28mprint\u001b[39m(\u001b[38;5;241;43m10\u001b[39;49m\u001b[38;5;241;43m/\u001b[39;49m\u001b[38;5;241;43m0\u001b[39;49m) \n\u001b[0;32m      3\u001b[0m \u001b[38;5;28mprint\u001b[39m(\u001b[38;5;124m\"\u001b[39m\u001b[38;5;124mstmt-3\u001b[39m\u001b[38;5;124m\"\u001b[39m)\n",
      "\u001b[1;31mZeroDivisionError\u001b[0m: division by zero"
     ]
    }
   ],
   "source": [
    "print(\"stmt-1\") \n",
    "print(10/0) \n",
    "print(\"stmt-3\") "
   ]
  },
  {
   "cell_type": "markdown",
   "id": "5128e1f2",
   "metadata": {},
   "source": [
    "Abnormal termination/Non-Graceful Termination\n",
    "#### with try-except:"
   ]
  },
  {
   "cell_type": "code",
   "execution_count": 32,
   "id": "90d4cdd8",
   "metadata": {},
   "outputs": [
    {
     "name": "stdout",
     "output_type": "stream",
     "text": [
      "stmt-1\n",
      "5.0\n",
      "stmt-3\n"
     ]
    }
   ],
   "source": [
    "print(\"stmt-1\") \n",
    "try: \n",
    "    print(10/0) \n",
    "except ZeroDivisionError: \n",
    "    print(10/2) \n",
    "    print(\"stmt-3\") "
   ]
  },
  {
   "cell_type": "markdown",
   "id": "6dd43870",
   "metadata": {},
   "source": [
    "Normal termination/Graceful Termination\n",
    "#### Control Flow in try-except:\n",
    "\n",
    "    try:\n",
    "        stmt-1\n",
    "        stmt-2\n",
    "        stmt-3\n",
    "    except XXX:\n",
    "        stmt-4\n",
    "        stmt-5"
   ]
  },
  {
   "cell_type": "markdown",
   "id": "84b4cd32",
   "metadata": {},
   "source": [
    "___case-1:___ If there is no exception 1,2,3,5 and Normal Termination\n",
    "\n",
    "\n",
    "___case-2:___ If an exception raised at stmt-2 and corresponding except block matched 1,4,5 Normal Termination\n",
    "\n",
    "\n",
    "___case-3:___ If an exception raised at stmt-2 and corresponding except block not matched 1, Abnormal Termination\n",
    "\n",
    "\n",
    "___case-4:___ If an exception raised at stmt-4 or at stmt-5 then it is always abnormal termination.\n",
    "\n",
    "### Conclusions:\n",
    "\n",
    "1. within the try block if anywhere exception raised then rest of the try block wont be executed eventhough we handled that exception. Hence we have to take only risky code inside try block and length of the try block should be as less as possible.\n",
    "\n",
    "2. In addition to try block,there may be a chance of raising exceptions inside except and finally blocks also.\n",
    "\n",
    "3. If any statement which is not part of try block raises an exception then it is always abnormal termination.\n",
    "#### How to print exception information:"
   ]
  },
  {
   "cell_type": "code",
   "execution_count": 33,
   "id": "c206b3d4",
   "metadata": {},
   "outputs": [
    {
     "name": "stdout",
     "output_type": "stream",
     "text": [
      "exception raised and its description is: division by zero\n"
     ]
    }
   ],
   "source": [
    "try:\n",
    "    print(10/0) \n",
    "except ZeroDivisionError as msg: \n",
    "    print(\"exception raised and its description is:\",msg)"
   ]
  },
  {
   "cell_type": "markdown",
   "id": "95976e7b",
   "metadata": {},
   "source": [
    "#### try with multiple except blocks:\n",
    "\n",
    "The way of handling exception is varied from exception to exception.Hence for every exception type a seperate except block we have to provide. i.e try with multiple except blocks is possible and recommended to use.\n",
    "\n",
    "    Eg:\n",
    "    try:\n",
    "     -------\n",
    "     -------\n",
    "     -------\n",
    "    except ZeroDivisionError:\n",
    "     perform alternative \n",
    "     arithmetic operations\n",
    "     except FileNotFoundError:\n",
    "         use local file instead of remote file\n",
    "         \n",
    "If try with multiple except blocks available then based on raised exception the corresponding except block will be executed."
   ]
  },
  {
   "cell_type": "code",
   "execution_count": 35,
   "id": "009fc194",
   "metadata": {},
   "outputs": [
    {
     "name": "stdout",
     "output_type": "stream",
     "text": [
      "Enter First Number: 12\n",
      "Enter Second Number: 0\n",
      "Can't Divide with Zero\n"
     ]
    }
   ],
   "source": [
    "try: \n",
    "    x=int(input(\"Enter First Number: \")) \n",
    "    y=int(input(\"Enter Second Number: \")) \n",
    "    print(x/y) \n",
    "except ZeroDivisionError : \n",
    "    print(\"Can't Divide with Zero\") \n",
    "except ValueError: \n",
    "    print(\"please provide int value only\") "
   ]
  },
  {
   "cell_type": "markdown",
   "id": "3555cbcf",
   "metadata": {},
   "source": [
    "If try with multiple except blocks available then the order of these except blocks is \n",
    "important .Python interpreter will always consider from top to bottom until matched \n",
    "except block identified"
   ]
  },
  {
   "cell_type": "code",
   "execution_count": 36,
   "id": "7678a8e3",
   "metadata": {},
   "outputs": [
    {
     "name": "stdout",
     "output_type": "stream",
     "text": [
      "Enter First Number: 13\n",
      "Enter Second Number: 0\n",
      "ArithmeticError\n"
     ]
    }
   ],
   "source": [
    "try: \n",
    "    x=int(input(\"Enter First Number: \")) \n",
    "    y=int(input(\"Enter Second Number: \")) \n",
    "    print(x/y) \n",
    "except ArithmeticError : \n",
    "    print(\"ArithmeticError\") \n",
    "except ZeroDivisionError: \n",
    "    print(\"ZeroDivisionError\")"
   ]
  },
  {
   "cell_type": "markdown",
   "id": "1cbc2f1e",
   "metadata": {},
   "source": [
    "#### Single except block that can handle multiple exceptions:\n",
    "\n",
    "We can write a single except block that can handle multiple different types of exceptions.\n",
    "\n",
    "    except (Exception1,Exception2,exception3,..): or\n",
    "    except (Exception1,Exception2,exception3,..) as msg : \n",
    "\n",
    "Parenthesis are mandatory and this group of exceptions internally considered as tuple."
   ]
  },
  {
   "cell_type": "code",
   "execution_count": 37,
   "id": "76327273",
   "metadata": {},
   "outputs": [
    {
     "name": "stdout",
     "output_type": "stream",
     "text": [
      "Enter First Number: 10\n",
      "Enter Second Number: 0\n",
      "Plz Provide valid numbers only and problem is:  division by zero\n"
     ]
    }
   ],
   "source": [
    "try: \n",
    "    x=int(input(\"Enter First Number: \")) \n",
    "    y=int(input(\"Enter Second Number: \")) \n",
    "    print(x/y) \n",
    "except (ZeroDivisionError,ValueError) as msg: \n",
    "    print(\"Plz Provide valid numbers only and problem is: \",msg)"
   ]
  },
  {
   "cell_type": "markdown",
   "id": "33bf20c2",
   "metadata": {},
   "source": [
    "#### Default except block:\n",
    "We can use default except block to handle any type of exceptions.\n",
    "In default except block generally we can print normal error messages.\n",
    "    \n",
    "    Syntax: \n",
    "    \n",
    "     except:\n",
    "         statements"
   ]
  },
  {
   "cell_type": "code",
   "execution_count": 38,
   "id": "9990f3f5",
   "metadata": {},
   "outputs": [
    {
     "name": "stdout",
     "output_type": "stream",
     "text": [
      "Enter First Number: 10\n",
      "Enter Second Number: 2\n",
      "5.0\n"
     ]
    }
   ],
   "source": [
    "try: \n",
    "    x=int(input(\"Enter First Number: \")) \n",
    "    y=int(input(\"Enter Second Number: \")) \n",
    "    print(x/y) \n",
    "except ZeroDivisionError: \n",
    "    print(\"ZeroDivisionError:Can't divide with zero\") \n",
    "except: \n",
    "    print(\"Default Except:Plz provide valid input only\")"
   ]
  },
  {
   "cell_type": "markdown",
   "id": "7d872466",
   "metadata": {},
   "source": [
    "___Note: If try with multiple except blocks available then default except block should be last,otherwise we will get SyntaxError.___\n"
   ]
  },
  {
   "cell_type": "code",
   "execution_count": 39,
   "id": "a6df0b98",
   "metadata": {},
   "outputs": [
    {
     "ename": "SyntaxError",
     "evalue": "default 'except:' must be last (3132157646.py, line 3)",
     "output_type": "error",
     "traceback": [
      "\u001b[1;36m  Input \u001b[1;32mIn [39]\u001b[1;36m\u001b[0m\n\u001b[1;33m    print(10/0)\u001b[0m\n\u001b[1;37m    ^\u001b[0m\n\u001b[1;31mSyntaxError\u001b[0m\u001b[1;31m:\u001b[0m default 'except:' must be last\n"
     ]
    }
   ],
   "source": [
    "# Eg:\n",
    "try: \n",
    "    print(10/0) \n",
    "except: \n",
    "    print(\"Default Except\") \n",
    "except ZeroDivisionError: \n",
    "    print(\"ZeroDivisionError\")"
   ]
  },
  {
   "cell_type": "markdown",
   "id": "63cd6eff",
   "metadata": {},
   "source": [
    "#### Note:\n",
    "The following are various possible combinations of except blocks\n",
    "\n",
    "1. except ZeroDivisionError:\n",
    "1. except ZeroDivisionError as msg:\n",
    "3. except (ZeroDivisionError,ValueError) :\n",
    "4. except (ZeroDivisionError,ValueError) as msg:\n",
    "5. except :\n",
    "\n",
    "#### finally block:\n",
    "1. It is not recommended to maintain clean up code(Resource Deallocating Code or Resource Releasing code) inside try block because there is no guarentee for the execution of every statement inside try block always.\n",
    "\n",
    "2. It is not recommended to maintain clean up code inside except block, because if there is no exception then except block won't be executed.\n"
   ]
  },
  {
   "cell_type": "markdown",
   "id": "83bbf437",
   "metadata": {},
   "source": [
    "Hence we required some place to maintain clean up code which should be executed always irrespective of whether exception raised or not raised and whether exception handled or not handled. Such type of best place is nothing but finally block.\n",
    "\n",
    "Hence the main purpose of finally block is to maintain clean up code.\n",
    "\n",
    "    try:\n",
    "     Risky Code\n",
    "    except: \n",
    "     Handling Code\n",
    "    finally:\n",
    "     Cleanup code\n",
    "     \n",
    "The speciality of finally block is it will be executed always whether exception raised or not raised and whether exception handled or not handled.\n",
    "\n",
    "#### Case-1: If there is no exception"
   ]
  },
  {
   "cell_type": "code",
   "execution_count": 40,
   "id": "d7d8592d",
   "metadata": {},
   "outputs": [
    {
     "name": "stdout",
     "output_type": "stream",
     "text": [
      "try\n",
      "finally\n"
     ]
    }
   ],
   "source": [
    "try: \n",
    "    print(\"try\") \n",
    "except: \n",
    "    print(\"except\") \n",
    "finally: \n",
    "    print(\"finally\") "
   ]
  },
  {
   "cell_type": "markdown",
   "id": "f9760593",
   "metadata": {},
   "source": [
    "#### Case-2: If there is an exception raised but handled:"
   ]
  },
  {
   "cell_type": "code",
   "execution_count": 41,
   "id": "92c002b5",
   "metadata": {},
   "outputs": [
    {
     "name": "stdout",
     "output_type": "stream",
     "text": [
      "try\n",
      "except\n",
      "finally\n"
     ]
    }
   ],
   "source": [
    "try: \n",
    "    print(\"try\") \n",
    "    print(10/0) \n",
    "except ZeroDivisionError: \n",
    "    print(\"except\") \n",
    "finally: \n",
    "    print(\"finally\")"
   ]
  },
  {
   "cell_type": "markdown",
   "id": "c95a26a0",
   "metadata": {},
   "source": [
    "#### Case-3: If there is an exception raised but not handled:"
   ]
  },
  {
   "cell_type": "code",
   "execution_count": 42,
   "id": "c85e608e",
   "metadata": {},
   "outputs": [
    {
     "name": "stdout",
     "output_type": "stream",
     "text": [
      "try\n",
      "finally\n"
     ]
    },
    {
     "ename": "ZeroDivisionError",
     "evalue": "division by zero",
     "output_type": "error",
     "traceback": [
      "\u001b[1;31m---------------------------------------------------------------------------\u001b[0m",
      "\u001b[1;31mZeroDivisionError\u001b[0m                         Traceback (most recent call last)",
      "Input \u001b[1;32mIn [42]\u001b[0m, in \u001b[0;36m<cell line: 1>\u001b[1;34m()\u001b[0m\n\u001b[0;32m      1\u001b[0m \u001b[38;5;28;01mtry\u001b[39;00m: \n\u001b[0;32m      2\u001b[0m     \u001b[38;5;28mprint\u001b[39m(\u001b[38;5;124m\"\u001b[39m\u001b[38;5;124mtry\u001b[39m\u001b[38;5;124m\"\u001b[39m) \n\u001b[1;32m----> 3\u001b[0m     \u001b[38;5;28mprint\u001b[39m(\u001b[38;5;241;43m10\u001b[39;49m\u001b[38;5;241;43m/\u001b[39;49m\u001b[38;5;241;43m0\u001b[39;49m) \n\u001b[0;32m      4\u001b[0m \u001b[38;5;28;01mexcept\u001b[39;00m \u001b[38;5;167;01mNameError\u001b[39;00m: \n\u001b[0;32m      5\u001b[0m     \u001b[38;5;28mprint\u001b[39m(\u001b[38;5;124m\"\u001b[39m\u001b[38;5;124mexcept\u001b[39m\u001b[38;5;124m\"\u001b[39m) \n",
      "\u001b[1;31mZeroDivisionError\u001b[0m: division by zero"
     ]
    }
   ],
   "source": [
    "try: \n",
    "    print(\"try\") \n",
    "    print(10/0) \n",
    "except NameError: \n",
    "    print(\"except\") \n",
    "finally: \n",
    "    print(\"finally\")"
   ]
  },
  {
   "cell_type": "markdown",
   "id": "ac40a507",
   "metadata": {},
   "source": [
    "___Note: There is only one situation where finally block won't be executed ie whenever \n",
    "we are using os._exit(0) function.___\n",
    "\n",
    "Whenever we are using os._exit(0) function then Python Virtual Machine itself will be \n",
    "shutdown.In this particular case finally won't be executed.\n"
   ]
  },
  {
   "cell_type": "code",
   "execution_count": null,
   "id": "2da41d06",
   "metadata": {},
   "outputs": [
    {
     "name": "stdout",
     "output_type": "stream",
     "text": [
      "try\n"
     ]
    }
   ],
   "source": [
    "try: \n",
    "    print(\"try\") \n",
    "    os._exit(0) \n",
    "except NameError: \n",
    "    print(\"except\") \n",
    "finally: \n",
    "    print(\"finally\") "
   ]
  },
  {
   "cell_type": "markdown",
   "id": "f65d666a",
   "metadata": {},
   "source": [
    "#### Note:\n",
    "    os._exit(0)\n",
    "     where 0 represents status code and it indicates normal termination\n",
    "     There are multiple status codes are possible.\n",
    "     \n",
    "#### Control flow in try-except-finally:\n",
    "    try:\n",
    "        stmt-1\n",
    "        stmt-2\n",
    "        stmt-3\n",
    "    except:\n",
    "        stmt-4\n",
    "    finally:\n",
    "        stmt-5\n",
    "        stmt6\n",
    "        \n",
    "___Case-1:___ If there is no exception\n",
    "    \n",
    "    1,2,3,5,6 Normal Termination\n",
    "    \n",
    "___Case-2:___ If an exception raised at stmt2 and the corresponding except block matched\n",
    "    \n",
    "    1,4,5,6 Normal Termination\n",
    "    \n",
    "___Case-3:___ If an exception raised at stmt2 but the corresponding except block not matched\n",
    "    \n",
    "    1,5 Abnormal Termination\n",
    "    \n",
    "___Case-4:___ If an exception raised at stmt4 then it is always abnormal termination but before that finally block will be executed.\n",
    "\n",
    "___Case-5:___ If an exception raised at stmt-5 or at stmt-6 then it is always abnormal termination\n",
    "\n",
    "#### Nested try-except-finally blocks:\n",
    "We can take try-except-finally blocks inside try or except or finally blocks.i.e nesting of try\u0002except-finally is possible.\n",
    "\n",
    "    try:\n",
    "     ----------\n",
    "     ----------\n",
    "     ----------\n",
    "     try:\n",
    "     -------------\n",
    "     --------------\n",
    "     --------------\n",
    "     except:\n",
    "     --------------\n",
    "     --------------\n",
    "     --------------\n",
    "     ------------\n",
    "    except:\n",
    "     -----------\n",
    "     -----------\n",
    "     -----------\n",
    "     \n",
    "General Risky code we have to take inside outer try block and too much risky code we \n",
    "have to take inside inner try block. Inside Inner try block if an exception raised then inner except block is responsible to handle. If it is unable to handle then outer except block is \n",
    "responsible to handle."
   ]
  },
  {
   "cell_type": "code",
   "execution_count": 1,
   "id": "851278b7",
   "metadata": {},
   "outputs": [
    {
     "name": "stdout",
     "output_type": "stream",
     "text": [
      "outer try block\n",
      "Inner try block\n",
      "Inner except block\n",
      "Inner finally block\n",
      "outer finally block\n"
     ]
    }
   ],
   "source": [
    "try: \n",
    "    print(\"outer try block\") \n",
    "    try: \n",
    "        print(\"Inner try block\") \n",
    "        print(10/0) \n",
    "    except ZeroDivisionError: \n",
    "        print(\"Inner except block\") \n",
    "    finally: \n",
    "        print(\"Inner finally block\") \n",
    "except: \n",
    "    print(\"outer except block\") \n",
    "finally: \n",
    "    print(\"outer finally block\") "
   ]
  },
  {
   "cell_type": "markdown",
   "id": "2a05a1aa",
   "metadata": {},
   "source": [
    "Control flow in nested try-except-finally:\n",
    "\n",
    "    try:\n",
    "        stmt-1\n",
    "        stmt-2\n",
    "        stmt-3\n",
    "        try:\n",
    "            stmt-4\n",
    "            stmt-5\n",
    "            stmt-6\n",
    "        except X:\n",
    "            stmt-7\n",
    "        finally:\n",
    "            stmt-8\n",
    "            stmt-9\n",
    "    except Y:\n",
    "        stmt-10\n",
    "    finally:\n",
    "        stmt-11\n",
    "        stmt-12\n"
   ]
  },
  {
   "cell_type": "markdown",
   "id": "b5e00c31",
   "metadata": {},
   "source": [
    "___case-1:___ If there is no exception\n",
    "     \n",
    "         \n",
    "         1,2,3,4,5,6,8,9,11,12 Normal Termination\n",
    "___case-2:___ If an exception raised at stmt-2 and the corresponding except block matched\n",
    "     \n",
    "     1,10,11,12 Normal Termination\n",
    "___case-3:___ If an exceptiion raised at stmt-2 and the corresponding except block not matched\n",
    "     \n",
    "     1,11,Abnormal Termination\n",
    "___case-4:___ If an exception raised at stmt-5 and inner except block matched \n",
    "    \n",
    "    1,2,3,4,7,8,9,11,12 Normal Termination\n",
    "___case-5:___ If an exception raised at stmt-5 and inner except block not matched but outer \n",
    "except block matched\n",
    "    \n",
    "    1,2,3,4,8,10,11,12,Normal Termination\n",
    "___case-6:___ If an exception raised at stmt-5 and both inner and outer except blocks are not \n",
    "matched \n",
    "    \n",
    "    1,2,3,4,8,11,Abnormal Termination\n",
    "___case-7:___ If an exception raised at stmt-7 and corresponding except block matched\n",
    "     \n",
    "     1,2,3,.,.,.,8,10,11,12,Normal Termination\n",
    "___case-8:___ If an exception raised at stmt-7 and corresponding except block not matched\n",
    "     \n",
    "     1,2,3,.,.,.,8,11,Abnormal Termination\n",
    "___case-9:___ If an exception raised at stmt-8 and corresponding except block matched\n",
    "    \n",
    "    1,2,3,.,.,.,.,10,11,12 Normal Termination\n",
    "___case-10:___ If an exception raised at stmt-8 and corresponding except block not matched\n",
    "    \n",
    "    1,2,3,.,.,.,.,11,Abnormal Termination\n",
    "___case-11:___ If an exception raised at stmt-9 and corresponding except block matched\n",
    "    \n",
    "    1,2,3,.,.,.,.,8,10,11,12,Normal Termination\n",
    "___case-12:___ If an exception raised at stmt-9 and corresponding except block not matched\n",
    "    \n",
    "    1,2,3,.,.,.,.,8,11,Abnormal Termination\n",
    "___case-13:___ If an exception raised at stmt-10 then it is always abonormal termination but \n",
    "before abnormal termination finally block(stmt-11) will be executed.\n",
    "\n",
    "___case-14:___ If an exception raised at stmt-11 or stmt-12 then it is always abnormal \n",
    "termination.\n",
    "\n",
    "#### Note:\n",
    "If the control entered into try block then compulsary finally block will be executed.\n",
    "If the control not entered into try block then finally block won't be executed.\n",
    "\n",
    "#### else block with try-except-finally:\n",
    "We can use else block with try-except-finally blocks.\n",
    "else block will be executed if and only if there are no exceptions inside try block.\n",
    "\n",
    "\n",
    "    try:\n",
    "        Risky Code\n",
    "    except:\n",
    "        will be executed if exception inside try\n",
    "    else:\n",
    "        will be executed if there is no exception inside try\n",
    "    finally:\n",
    "        will be executed whether exception raised or not raised and handled or not handled\n",
    "\n",
    "\n",
    "    Eg:\n",
    "    \n",
    "    try:\n",
    "        print(\"try\")\n",
    "        print(10/0)--->1\n",
    "    except:\n",
    "        print(\"except\")\n",
    "        else:\n",
    "        print(\"else\")\n",
    "    finally:\n",
    "        print(\"finally\")\n",
    "        \n",
    "If we comment line-1 then else block will be executed b'z there is no exception inside try.\n",
    "\n",
    "\n",
    "In this case the output is:\n",
    "\n",
    "    try\n",
    "    else\n",
    "    finally\n",
    "    \n",
    "If we are not commenting line-1 then else block won't be executed b'z there is exception \n",
    "inside try block. In this case output is:\n",
    "\n",
    "    try\n",
    "    except\n",
    "    finally\n",
    "\n",
    "#### Various possible combinations of try-except-else-finally:\n",
    "\n",
    "1. Whenever we are writing try block, compulsory we should write except or finally block.i.e without except or finally block we cannot write try block.\n",
    "\n",
    "\n",
    "2. Wheneever we are writing except block, compulsory we should write try block. i.e except without try is always invalid.\n",
    "\n",
    "\n",
    "3. Whenever we are writing finally block, compulsory we should write try block. i.e finally without try is always invalid.\n",
    "\n",
    "\n",
    "4. We can write multiple except blocks for the same try,but we cannot write multiple finally blocks for the same try\n",
    "\n",
    "\n",
    "5. Whenever we are writing else block compulsory except block should be there. i.e without except we cannot write else block.\n",
    "\n",
    "\n",
    "6. In try-except-else-finally order is important.\n",
    "\n",
    "\n",
    "7. We can define try-except-else-finally inside try,except,else and finally blocks. i.e nesting of try-except-else-finally is always possible.\n"
   ]
  },
  {
   "cell_type": "markdown",
   "id": "a2ee44f6",
   "metadata": {},
   "source": [
    "## Types of Exceptions:\n",
    "\n",
    "In Python there are 2 types of exceptions are possible.\n",
    "1. Predefined Exceptions\n",
    "2. User Definded Exceptions\n",
    "\n",
    "### 1. Predefined Exceptions:\n",
    "Also known as in-built exceptions\n",
    "The exceptions which are raised automatically by Python virtual machine whenver a particular event occurs, are called pre defined exceptions.\n",
    "\n",
    "\n",
    "Eg 1: Whenever we are trying to perform Division by zero, automatically Python will raise \n",
    "\n",
    "    ZeroDivisionError.\n",
    "        print(10/0)\n",
    "\n",
    "Eg 2: Whenever we are trying to convert input value to int type and if input value is not int value then Python will raise ValueError automatically\n",
    "    \n",
    "    x=int(\"ten\")===>ValueError\n",
    "\n",
    "### 2. User Defined Exceptions:\n",
    "Also known as Customized Exceptions or Programatic Exceptions\n",
    "\n",
    "Some time we have to define and raise exceptions explicitly to indicate that something \n",
    "goes wrong ,such type of exceptions are called User Defined Exceptions or Customized Exceptions\n",
    "\n",
    "Programmer is responsible to define these exceptions and Python not having any idea \n",
    "about these. Hence we have to raise explicitly based on our requirement by using \"raise\" \n",
    "keyword.\n",
    "\n",
    "    Eg:\n",
    "    InSufficientFundsException\n",
    "    InvalidInputException\n",
    "    TooYoungException\n",
    "    TooOldException\n",
    "\n",
    "#### How to Define and Raise Customized Exceptions:\n",
    "Every exception in Python is a class that extends Exception class either directly or indirectly.\n",
    "\n",
    "    Syntax:\n",
    "        class classname(predefined exception class name):\n",
    "        def __init__(self,arg):\n",
    "        self.msg=arg\n"
   ]
  },
  {
   "cell_type": "code",
   "execution_count": 2,
   "id": "79030d94",
   "metadata": {},
   "outputs": [],
   "source": [
    "class TooYoungException(Exception): \n",
    "    def __init__(self,arg): \n",
    "        self.msg=arg "
   ]
  },
  {
   "cell_type": "markdown",
   "id": "4d7ecaf9",
   "metadata": {},
   "source": [
    "TooYoungException is our class name which is the child class of Exception\n",
    "\n",
    "\n",
    "We can raise exception by using raise keyword as follows\n",
    "\n",
    "\n",
    "raise TooYoungException(\"message\")"
   ]
  },
  {
   "cell_type": "code",
   "execution_count": 3,
   "id": "d397aa66",
   "metadata": {},
   "outputs": [
    {
     "name": "stdout",
     "output_type": "stream",
     "text": [
      "Enter Age:20\n",
      "You will get match details soon by email!!!\n"
     ]
    }
   ],
   "source": [
    "class TooYoungException(Exception): \n",
    "    def __init__(self,arg): \n",
    "        self.msg=arg \n",
    "        \n",
    "class TooOldException(Exception): \n",
    "    def __init__(self,arg): \n",
    "        self.msg=arg \n",
    "\n",
    "age=int(input(\"Enter Age:\")) \n",
    "\n",
    "if age>60: \n",
    "    raise TooYoungException(\"Plz wait some more time you will get best match soon!!!\") \n",
    "elif age<18: \n",
    "    raise TooOldException(\"Your age already crossed marriage age...no chance of getting marriage\") \n",
    "else: \n",
    "    print(\"You will get match details soon by email!!!\") "
   ]
  },
  {
   "cell_type": "markdown",
   "id": "fc7137db",
   "metadata": {},
   "source": [
    "___Note: raise keyword is best suitable for customized exceptions but not for pre defined \n",
    "exceptions___\n"
   ]
  },
  {
   "cell_type": "markdown",
   "id": "c7b67518",
   "metadata": {},
   "source": [
    "## Logging the Exceptions:\n",
    "\n",
    "It is highly recommended to store complete application flow and exceptions information \n",
    "to a file. This process is called logging.\n",
    "\n",
    "The main advantages of logging are:\n",
    "1. We can use log files while performing debugging\n",
    "2. We can provide statistics like number of requests per day etc\n",
    "\n",
    "To implement logging, Python provides one inbuilt module logging.\n",
    "\n",
    "#### logging levels:\n",
    "Depending on type of information, logging data is divided according to the following 6 levels in Python.\n",
    "\n",
    "\n",
    "1. CRITICAL==>50==>Represents a very serious problem that needs high attention\n",
    "2. ERROR===>40===>Represents a serious error\n",
    "3. WARNING==>30==>Represents a warning message, some caution needed. It is alert to \n",
    "the programmer\n",
    "4. INFO===>20===>Represents a message with some important information\n",
    "5. DEBUG===>10==>Represents a message with debugging information\n",
    "6. NOTSET==>0==>Rrepresents that the level is not set.\n",
    "\n",
    "By default while executing Python program only WARNING and higher level messages will be displayed.\n",
    "\n",
    "#### How to implement logging:\n",
    "To perform logging, first we required to create a file to store messages and we have to specify which level messages we have to store.\n",
    "\n",
    "We can do this by using basicConfig() function of logging module.\n",
    "\n",
    "\n",
    "    logging.basicConfig(filename='log.txt',level=logging.WARNING)\n",
    "\n",
    "The above line will create a file log.txt and we can store either WARNING level or higher level messages to that file.\n",
    "\n",
    "\n",
    "After creating log file, we can write messages to that file by using the following methods.\n",
    "\n",
    "    logging.debug(message)\n",
    "    logging.info(message)\n",
    "    logging.warning(message)\n",
    "    logging.error(message)\n",
    "    logging.critical(message)\n",
    "\n",
    "#### Q.Write a Python program to create a log file and write WARNING and higher level messages?"
   ]
  },
  {
   "cell_type": "code",
   "execution_count": 4,
   "id": "2eb37b27",
   "metadata": {},
   "outputs": [
    {
     "name": "stdout",
     "output_type": "stream",
     "text": [
      "Logging Module Demo\n"
     ]
    }
   ],
   "source": [
    "import logging \n",
    "logging.basicConfig(filename='log.txt',level=logging.WARNING) \n",
    "print(\"Logging Module Demo\") \n",
    "logging.debug(\"This is debug message\") \n",
    "logging.info(\"This is info message\") \n",
    "logging.warning(\"This is warning message\") \n",
    "logging.error(\"This is error message\") \n",
    "logging.critical(\"This is critical message\")"
   ]
  },
  {
   "cell_type": "markdown",
   "id": "434bd10a",
   "metadata": {},
   "source": [
    "#### log.txt:\n",
    "\n",
    "    WARNING:root:This is warning message \n",
    "    ERROR:root:This is error message \n",
    "    CRITICAL:root:This is critical message \n",
    "    \n",
    "#### Note:\n",
    "In the above program only WARNING and higher level messages will be written to log file.\n",
    "\n",
    "\n",
    "If we set level as DEBUG then all messages will be written to log file."
   ]
  },
  {
   "cell_type": "code",
   "execution_count": 5,
   "id": "c0d58837",
   "metadata": {},
   "outputs": [
    {
     "name": "stdout",
     "output_type": "stream",
     "text": [
      "Logging Module Demo\n"
     ]
    }
   ],
   "source": [
    "import logging \n",
    "logging.basicConfig(filename='log.txt',level=logging.DEBUG) \n",
    "print(\"Logging Module Demo\") \n",
    "logging.debug(\"This is debug message\") \n",
    "logging.info(\"This is info message\") \n",
    "logging.warning(\"This is warning message\") \n",
    "logging.error(\"This is error message\") \n",
    "logging.critical(\"This is critical message\") "
   ]
  },
  {
   "cell_type": "markdown",
   "id": "23f51ea6",
   "metadata": {},
   "source": [
    "#### log.txt:\n",
    "    \n",
    "    DEBUG:root:This is debug message \n",
    "    INFO:root:This is info message\n",
    "    WARNING:root:This is warning message \n",
    "    ERROR:root:This is error message \n",
    "    CRITICAL:root:This is critical message \n",
    "    \n",
    "#### Note: We can format log messages to include date and time, ip address of the client etc at advanced level.\n",
    "\n",
    "#### How to write Python program exceptions to the log file:\n",
    "By using the following function we can write exceptions information to the log file.\n",
    "    \n",
    "    logging.exception(msg)\n",
    "    \n",
    "#### Q. Python Program to write exception information to the log file"
   ]
  },
  {
   "cell_type": "code",
   "execution_count": 6,
   "id": "0610c6a0",
   "metadata": {},
   "outputs": [
    {
     "name": "stdout",
     "output_type": "stream",
     "text": [
      "Enter First Number: 12\n",
      "Enter Second Number: 0\n",
      "cannot divide with zero\n"
     ]
    }
   ],
   "source": [
    "import logging \n",
    "logging.basicConfig(filename='mylog.txt',level=logging.INFO) \n",
    "logging.info(\"A New request Came:\") \n",
    "try: \n",
    "    x=int(input(\"Enter First Number: \")) \n",
    "    y=int(input(\"Enter Second Number: \")) \n",
    "    print(x/y) \n",
    "except ZeroDivisionError as msg: \n",
    "    print(\"cannot divide with zero\") \n",
    "    logging.exception(msg) \n",
    "except ValueError as msg: \n",
    "    print(\"Enter only int values\") \n",
    "    logging.exception(msg) \n",
    "logging.info(\"Request Processing Completed\") "
   ]
  },
  {
   "cell_type": "raw",
   "id": "cd6b4a05",
   "metadata": {},
   "source": [
    "# mylog.txt:\n",
    "\n",
    "INFO:root:A New request Came: \n",
    "INFO:root:Request Processing Completed \n",
    "INFO:root:A New request Came: \n",
    "ERROR:root:division by zero \n",
    "Traceback (most recent call last): \n",
    "File \"test.py\", line 7, in <module> \n",
    "print(x/y) \n",
    "ZeroDivisionError: division by zero \n",
    "INFO:root:Request Processing Completed \n",
    "INFO:root:A New request Came: \n",
    "ERROR:root:invalid literal for int() with base 10: 'ten' \n",
    "Traceback (most recent call last): \n",
    "File \"test.py\", line 6, in <module> \n",
    "y=int(input(\"Enter Second Number: \")) \n",
    "ValueError: invalid literal for int() with base 10: 'ten' \n",
    "INFO:root:Request Processing Completed "
   ]
  },
  {
   "cell_type": "markdown",
   "id": "cf114cc4",
   "metadata": {},
   "source": [
    "### Debugging Python Program by using assert keyword:\n",
    "\n",
    "The process of identifying and fixing the bug is called debugging.\n",
    "Very common way of debugging is to use print() statement. But the problem with the print() statement is after fixing the bug,compulsory we have to delete the extra added print() statments,otherwise these will be executed at runtime which creates performance problems and disturbs console output.\n",
    "\n",
    "\n",
    "To overcome this problem we should go for assert statement. The main advantage of \n",
    "assert statement over print() statement is after fixing bug we are not required to delete \n",
    "assert statements. Based on our requirement we can enable or disable assert statements.\n",
    "\n",
    "\n",
    "Hence the main purpose of assertions is to perform debugging. Usully we can perform \n",
    "debugging either in development or in test environments but not in production \n",
    "environment. Hence assertions concept is applicable only for dev and test environments \n",
    "but not for production environment.\n",
    "\n",
    "\n",
    "## Types of assert statements:\n",
    "There are 2 types of assert statements\n",
    "1. Simple Version\n",
    "2. Augmented Version\n",
    "\n",
    "### 1. Simple Version:\n",
    "\n",
    "    assert conditional_expression\n",
    "\n",
    "### 2. Augmented Version:\n",
    "    \n",
    "    assert conditional_expression,message\n",
    "\n",
    "conditional_expression will be evaluated and if it is true then the program will be continued.\n",
    "\n",
    "\n",
    "If it is false then the program will be terminated by raising AssertionError. \n",
    "\n",
    "\n",
    "By seeing AssertionError, programmer can analyze the code and can fix the problem."
   ]
  },
  {
   "cell_type": "code",
   "execution_count": 7,
   "id": "ac56585c",
   "metadata": {},
   "outputs": [
    {
     "ename": "AssertionError",
     "evalue": "The square of 3 should be 9",
     "output_type": "error",
     "traceback": [
      "\u001b[1;31m---------------------------------------------------------------------------\u001b[0m",
      "\u001b[1;31mAssertionError\u001b[0m                            Traceback (most recent call last)",
      "Input \u001b[1;32mIn [7]\u001b[0m, in \u001b[0;36m<cell line: 5>\u001b[1;34m()\u001b[0m\n\u001b[0;32m      3\u001b[0m     \u001b[38;5;28;01mreturn\u001b[39;00m x\u001b[38;5;241m*\u001b[39m\u001b[38;5;241m*\u001b[39mx \n\u001b[0;32m      4\u001b[0m \u001b[38;5;28;01massert\u001b[39;00m squareIt(\u001b[38;5;241m2\u001b[39m)\u001b[38;5;241m==\u001b[39m\u001b[38;5;241m4\u001b[39m,\u001b[38;5;124m\"\u001b[39m\u001b[38;5;124mThe square of 2 should be 4\u001b[39m\u001b[38;5;124m\"\u001b[39m \n\u001b[1;32m----> 5\u001b[0m \u001b[38;5;28;01massert\u001b[39;00m squareIt(\u001b[38;5;241m3\u001b[39m)\u001b[38;5;241m==\u001b[39m\u001b[38;5;241m9\u001b[39m,\u001b[38;5;124m\"\u001b[39m\u001b[38;5;124mThe square of 3 should be 9\u001b[39m\u001b[38;5;124m\"\u001b[39m \n\u001b[0;32m      6\u001b[0m \u001b[38;5;28;01massert\u001b[39;00m squareIt(\u001b[38;5;241m4\u001b[39m)\u001b[38;5;241m==\u001b[39m\u001b[38;5;241m16\u001b[39m,\u001b[38;5;124m\"\u001b[39m\u001b[38;5;124mThe square of 4 should be 16\u001b[39m\u001b[38;5;124m\"\u001b[39m \n\u001b[0;32m      7\u001b[0m \u001b[38;5;28mprint\u001b[39m(squareIt(\u001b[38;5;241m2\u001b[39m)) \n",
      "\u001b[1;31mAssertionError\u001b[0m: The square of 3 should be 9"
     ]
    }
   ],
   "source": [
    "# Eg:\n",
    "def squareIt(x): \n",
    "    return x**x \n",
    "assert squareIt(2)==4,\"The square of 2 should be 4\" \n",
    "assert squareIt(3)==9,\"The square of 3 should be 9\" \n",
    "assert squareIt(4)==16,\"The square of 4 should be 16\" \n",
    "print(squareIt(2)) \n",
    "print(squareIt(3)) \n",
    "print(squareIt(4)) "
   ]
  },
  {
   "cell_type": "code",
   "execution_count": 8,
   "id": "4e815e9b",
   "metadata": {},
   "outputs": [
    {
     "name": "stdout",
     "output_type": "stream",
     "text": [
      "4\n",
      "9\n",
      "16\n"
     ]
    }
   ],
   "source": [
    "def squareIt(x): \n",
    "    return x*x \n",
    "assert squareIt(2)==4,\"The square of 2 should be 4\" \n",
    "assert squareIt(3)==9,\"The square of 3 should be 9\" \n",
    "assert squareIt(4)==16,\"The square of 4 should be 16\" \n",
    "print(squareIt(2)) \n",
    "print(squareIt(3)) \n",
    "print(squareIt(4))"
   ]
  },
  {
   "cell_type": "markdown",
   "id": "b0ea2d0c",
   "metadata": {},
   "source": [
    "#### Exception Handling vs Assertions:\n",
    "Assertions concept can be used to alert programmer to resolve development time errors.\n",
    "Exception Handling can be used to handle runtime errors"
   ]
  },
  {
   "cell_type": "code",
   "execution_count": null,
   "id": "52628b1a",
   "metadata": {},
   "outputs": [],
   "source": []
  },
  {
   "cell_type": "markdown",
   "id": "86bd73cf",
   "metadata": {},
   "source": [
    "# Multi Threading\n",
    "\n",
    "Executing several tasks simultaneously is the concept of multitasking.\n",
    "\n",
    "\n",
    "## There are 2 types of Multi Tasking\n",
    " 1. Process based Multi Tasking\n",
    " 2. Thread based Multi Tasking\n",
    "\n",
    "## 1. Process based Multi Tasking:\n",
    "Executing several tasks simmultaneously where each task is a seperate independent process is \n",
    "called process based multi tasking.\n",
    "\n",
    "\n",
    "Eg: while typing python program in the editor we can listen mp3 audio songs from the same \n",
    "system. At the same time we can download a file from the internet. All these taks are executing \n",
    "simultaneously and independent of each other. Hence it is process based multi tasking.\n",
    "\n",
    "\n",
    "This type of multi tasking is best suitable at operating system level. \n",
    "\n",
    "## 2. Thread based MultiTasking:\n",
    "Executing several tasks simultaneously where each task is a seperate independent part of the same program, is called Thread based multi tasking, and each independent part is called a Thread.\n",
    "\n",
    "\n",
    "This type of multi tasking is best suitable at programmatic level.\n",
    "\n",
    "\n",
    "Note: Whether it is process based or thread based, the main advantage of multi tasking is to improve performance of the system by reducing response time.\n",
    "\n",
    "\n",
    "The main important application areas of multi threading are:\n",
    "1. To implement Multimedia graphics \n",
    "2. To develop animations\n",
    "3. To develop video games\n",
    "4. To develop web and application servers\n",
    "etc...\n",
    "\n",
    "\n",
    "Note: Where ever a group of independent jobs are available, then it is highly recommended to \n",
    "execute simultaneously instead of executing one by one.For such type of cases we should go for \n",
    "Multi Threading.\n",
    "Python provides one inbuilt module \"threading\" to provide support for developing threads. Hence \n",
    "developing multi threaded Programs is very easy in python.\n",
    "\n",
    "\n",
    "Every Python Program by default contains one thread which is nothing but MainThread.\n",
    "\n",
    "#### Q.Program to print name of current executing thread:"
   ]
  },
  {
   "cell_type": "code",
   "execution_count": 9,
   "id": "94008fcd",
   "metadata": {},
   "outputs": [
    {
     "ename": "AttributeError",
     "evalue": "'_MainThread' object has no attribute 'get'",
     "output_type": "error",
     "traceback": [
      "\u001b[1;31m---------------------------------------------------------------------------\u001b[0m",
      "\u001b[1;31mAttributeError\u001b[0m                            Traceback (most recent call last)",
      "Input \u001b[1;32mIn [9]\u001b[0m, in \u001b[0;36m<cell line: 2>\u001b[1;34m()\u001b[0m\n\u001b[0;32m      1\u001b[0m \u001b[38;5;28;01mimport\u001b[39;00m \u001b[38;5;21;01mthreading\u001b[39;00m\n\u001b[1;32m----> 2\u001b[0m \u001b[38;5;28mprint\u001b[39m(\u001b[38;5;124m\"\u001b[39m\u001b[38;5;124mCurrent Executing Thread: \u001b[39m\u001b[38;5;124m\"\u001b[39m, \u001b[43mthreading\u001b[49m\u001b[38;5;241;43m.\u001b[39;49m\u001b[43mcurrent_thread\u001b[49m\u001b[43m(\u001b[49m\u001b[43m)\u001b[49m\u001b[38;5;241;43m.\u001b[39;49m\u001b[43mget\u001b[49m\u001b[38;5;241m.\u001b[39mName())\n",
      "\u001b[1;31mAttributeError\u001b[0m: '_MainThread' object has no attribute 'get'"
     ]
    }
   ],
   "source": [
    "import threading\n",
    "print(\"Current Executing Thread: \", threading.current_thread().get.Name())"
   ]
  },
  {
   "cell_type": "markdown",
   "id": "57a597df",
   "metadata": {},
   "source": [
    "Note: threading module contains function current_thread() which returns the current executing Thread object. On this object if we call getName() method then we will get current executing thread name.\n",
    "\n",
    "#### The ways of Creating Thread in Python:\n",
    "We can create a thread in Python by using 3 ways\n",
    "1. Creating a Thread without using any class\n",
    "2. Creating a Thread by extending Thread class\n",
    "3. Creating a Thread without extending Thread class\n",
    "\n",
    "\n",
    "#### 1. Creating a Thread without using any class:"
   ]
  },
  {
   "cell_type": "code",
   "execution_count": 10,
   "id": "01b63863",
   "metadata": {},
   "outputs": [
    {
     "name": "stdout",
     "output_type": "stream",
     "text": [
      "Child Thread\n",
      "Child Thread\n",
      "Child Thread\n",
      "Child Thread\n",
      "Child Thread\n",
      "Child Thread\n",
      "Child Thread\n",
      "Child Thread\n",
      "Child Thread\n",
      "Child Thread\n",
      "Main Thread\n",
      "Main Thread\n",
      "Main Thread\n",
      "Main Thread\n"
     ]
    }
   ],
   "source": [
    "from threading import * \n",
    "def display(): \n",
    "    for i in range(1,11): \n",
    "        print(\"Child Thread\") \n",
    "t=Thread(target=display) #creating Thread object \n",
    "t.start() #starting of Thread \n",
    "for i in range(1,5): \n",
    "    print(\"Main Thread\")"
   ]
  },
  {
   "cell_type": "markdown",
   "id": "84493246",
   "metadata": {},
   "source": [
    "If multiple threads present in our program, then we cannot expect execution order and hence we \n",
    "cannot expect exact output for the multi threaded programs. B'z of this we cannot provide exact \n",
    "output for the above program.It is varied from machine to machine and run to run.\n",
    "\n",
    "\n",
    "Note: Thread is a pre defined class present in threading module which can be used to create our \n",
    "own Threads.\n",
    "\n",
    "\n",
    "#### 2. Creating a Thread by extending Thread class\n",
    "We have to create child class for Thread class. In that child class we have to override run() method \n",
    "with our required job. Whenever we call start() method then automatically run() method will be \n",
    "executed and performs our job."
   ]
  },
  {
   "cell_type": "code",
   "execution_count": 11,
   "id": "6d462b2b",
   "metadata": {},
   "outputs": [
    {
     "name": "stdout",
     "output_type": "stream",
     "text": [
      "Child Thread-1\n",
      "Child Thread-1\n",
      "Child Thread-1\n",
      "Child Thread-1\n",
      "Child Thread-1\n",
      "Child Thread-1\n",
      "Child Thread-1\n",
      "Child Thread-1\n",
      "Child Thread-1\n",
      "Child Thread-1\n",
      "Main Thread-1\n",
      "Main Thread-1\n",
      "Main Thread-1\n",
      "Main Thread-1\n",
      "Main Thread-1\n",
      "Main Thread-1\n",
      "Main Thread-1\n",
      "Main Thread-1\n",
      "Main Thread-1\n",
      "Main Thread-1\n"
     ]
    }
   ],
   "source": [
    "from threading import * \n",
    "class MyThread(Thread): \n",
    "    def run(self): \n",
    "        for i in range(10): \n",
    "            print(\"Child Thread-1\") \n",
    "t=MyThread() \n",
    "t.start() \n",
    "for i in range(10): \n",
    "    print(\"Main Thread-1\")"
   ]
  },
  {
   "cell_type": "markdown",
   "id": "1400107c",
   "metadata": {},
   "source": [
    "#### 3. Creating a Thread without extending Thread class:"
   ]
  },
  {
   "cell_type": "code",
   "execution_count": 12,
   "id": "58061d08",
   "metadata": {},
   "outputs": [
    {
     "name": "stdout",
     "output_type": "stream",
     "text": [
      "Child Thread-2\n",
      "Child Thread-2\n",
      "Child Thread-2\n",
      "Child Thread-2\n",
      "Child Thread-2\n",
      "Child Thread-2\n",
      "Child Thread-2\n",
      "Child Thread-2\n",
      "Child Thread-2\n",
      "Child Thread-2\n",
      "Main Thread-2\n",
      "Main Thread-2\n",
      "Main Thread-2\n",
      "Main Thread-2\n",
      "Main Thread-2\n",
      "Main Thread-2\n",
      "Main Thread-2\n",
      "Main Thread-2\n",
      "Main Thread-2\n",
      "Main Thread-2\n"
     ]
    }
   ],
   "source": [
    "from threading import * \n",
    "class Test: \n",
    "    def display(self): \n",
    "        for i in range(10): \n",
    "            print(\"Child Thread-2\") \n",
    "obj=Test() \n",
    "t=Thread(target=obj.display) \n",
    "t.start() \n",
    "for i in range(10): \n",
    "    print(\"Main Thread-2\")"
   ]
  },
  {
   "cell_type": "markdown",
   "id": "8abf7fe0",
   "metadata": {},
   "source": [
    "#### Without multi threading:"
   ]
  },
  {
   "cell_type": "code",
   "execution_count": 13,
   "id": "ed983103",
   "metadata": {},
   "outputs": [
    {
     "name": "stdout",
     "output_type": "stream",
     "text": [
      "Double: 2\n",
      "Double: 4\n",
      "Double: 6\n",
      "Double: 8\n",
      "Double: 10\n",
      "Double: 12\n",
      "Square: 1\n",
      "Square: 4\n",
      "Square: 9\n",
      "Square: 16\n",
      "Square: 25\n",
      "Square: 36\n",
      "The total time taken: 12.11800742149353\n"
     ]
    }
   ],
   "source": [
    "from threading import * \n",
    "import time \n",
    "def doubles(numbers): \n",
    "    for n in numbers: \n",
    "        time.sleep(1) \n",
    "        print(\"Double:\",2*n) \n",
    "def squares(numbers): \n",
    "    for n in numbers: \n",
    "        time.sleep(1) \n",
    "        print(\"Square:\",n*n) \n",
    "numbers=[1,2,3,4,5,6] \n",
    "begintime=time.time() \n",
    "doubles(numbers) \n",
    "squares(numbers) \n",
    "print(\"The total time taken:\",time.time()-begintime)"
   ]
  },
  {
   "cell_type": "markdown",
   "id": "5ce64dc6",
   "metadata": {},
   "source": [
    "#### With multithreading:"
   ]
  },
  {
   "cell_type": "code",
   "execution_count": 14,
   "id": "a025cbf0",
   "metadata": {},
   "outputs": [],
   "source": [
    "from threading import * \n",
    "import time \n",
    "def doubles(numbers): \n",
    "    for n in numbers: \n",
    "        time.sleep(1) \n",
    "        print(\"Double:\",2*n) \n",
    "def squares(numbers): \n",
    "    for n in numbers:\n",
    "        time.sleep(1) \n",
    "        print(\"Square:\",n*n) "
   ]
  },
  {
   "cell_type": "markdown",
   "id": "0c9b6d2f",
   "metadata": {},
   "source": [
    "#### Setting and Getting Name of a Thread:\n",
    "Every thread in python has name. It may be default name generated by Python or Customized \n",
    "Name provided by programmer.\n",
    "\n",
    "\n",
    "We can get and set name of thread by using the following Thread class methods.\n",
    "\n",
    "    t.getName()  Returns Name of Thread\n",
    "    t.setName(newName)  To set our own name\n",
    "\n",
    "Note: Every Thread has implicit variable \"name\" to represent name of Thread."
   ]
  },
  {
   "cell_type": "code",
   "execution_count": 15,
   "id": "526a5df4",
   "metadata": {},
   "outputs": [
    {
     "name": "stdout",
     "output_type": "stream",
     "text": [
      "MainThread\n",
      "Pawan Kalyan\n",
      "Pawan Kalyan\n"
     ]
    }
   ],
   "source": [
    "from threading import * \n",
    "print(current_thread().getName()) \n",
    "current_thread().setName(\"Pawan Kalyan\") \n",
    "print(current_thread().getName()) \n",
    "print(current_thread().name) "
   ]
  },
  {
   "cell_type": "markdown",
   "id": "8ce24c41",
   "metadata": {},
   "source": [
    "### Thread Identification Number (ident):\n",
    "For every thread internally a unique identification number is available. We can access this id by \n",
    "using implicit variable \"ident\""
   ]
  },
  {
   "cell_type": "code",
   "execution_count": 16,
   "id": "b88b5e99",
   "metadata": {},
   "outputs": [
    {
     "name": "stdout",
     "output_type": "stream",
     "text": [
      "Child Thread\n",
      "Main Thread Identification Number: 5284\n",
      "Child Thread Identification Number: 4644\n"
     ]
    }
   ],
   "source": [
    "from threading import * \n",
    "def test(): \n",
    "    print(\"Child Thread\") \n",
    "t=Thread(target=test) \n",
    "t.start() \n",
    "print(\"Main Thread Identification Number:\",current_thread().ident) \n",
    "print(\"Child Thread Identification Number:\",t.ident)"
   ]
  },
  {
   "cell_type": "markdown",
   "id": "3a12420f",
   "metadata": {},
   "source": [
    "#### active_count():\n",
    "This function returns the number of active threads currently running."
   ]
  },
  {
   "cell_type": "code",
   "execution_count": 17,
   "id": "19e777dd",
   "metadata": {},
   "outputs": [
    {
     "name": "stdout",
     "output_type": "stream",
     "text": [
      "The Number of active Threads: 6\n",
      "ChildThread1 ...started\n",
      "ChildThread2 ...started\n",
      "ChildThread3 ...started\n",
      "The Number of active Threads: 9\n",
      "ChildThread1 ...ended\n",
      "ChildThread3 ...ended\n",
      "ChildThread2 ...ended\n",
      "The Number of active Threads: 6\n"
     ]
    }
   ],
   "source": [
    "from threading import * \n",
    "import time \n",
    "def display(): \n",
    "    print(current_thread().getName(),\"...started\") \n",
    "    time.sleep(3) \n",
    "    print(current_thread().getName(),\"...ended\") \n",
    "print(\"The Number of active Threads:\",active_count()) \n",
    "t1=Thread(target=display,name=\"ChildThread1\") \n",
    "t2=Thread(target=display,name=\"ChildThread2\") \n",
    "t3=Thread(target=display,name=\"ChildThread3\") \n",
    "t1.start() \n",
    "t2.start() \n",
    "t3.start() \n",
    "print(\"The Number of active Threads:\",active_count()) \n",
    "time.sleep(5) \n",
    "print(\"The Number of active Threads:\",active_count())"
   ]
  },
  {
   "cell_type": "markdown",
   "id": "8cff6cb9",
   "metadata": {},
   "source": [
    "#### enumerate() function:\n",
    "This function returns a list of all active threads currently running.\n"
   ]
  },
  {
   "cell_type": "code",
   "execution_count": 18,
   "id": "4baff8bb",
   "metadata": {},
   "outputs": [
    {
     "name": "stdout",
     "output_type": "stream",
     "text": [
      "ChildThread1 ...started\n",
      "ChildThread2 ...started\n",
      "ChildThread3 ...started\n",
      "Thread Name: Pawan Kalyan\n",
      "Thread Name: IOPub\n",
      "Thread Name: Heartbeat\n",
      "Thread Name: Control\n",
      "Thread Name: IPythonHistorySavingThread\n",
      "Thread Name: Thread-4\n",
      "Thread Name: ChildThread1\n",
      "Thread Name: ChildThread2\n",
      "Thread Name: ChildThread3\n",
      "ChildThread3 ...ended\n",
      "ChildThread2 ...ended\n",
      "ChildThread1 ...ended\n",
      "Thread Name: Pawan Kalyan\n",
      "Thread Name: IOPub\n",
      "Thread Name: Heartbeat\n",
      "Thread Name: Control\n",
      "Thread Name: IPythonHistorySavingThread\n",
      "Thread Name: Thread-4\n"
     ]
    }
   ],
   "source": [
    "from threading import * \n",
    "import time \n",
    "def display(): \n",
    "    print(current_thread().getName(),\"...started\") \n",
    "    time.sleep(3) \n",
    "    print(current_thread().getName(),\"...ended\") \n",
    "t1=Thread(target=display,name=\"ChildThread1\") \n",
    "t2=Thread(target=display,name=\"ChildThread2\") \n",
    "t3=Thread(target=display,name=\"ChildThread3\") \n",
    "t1.start() \n",
    "t2.start() \n",
    "t3.start() \n",
    "l=enumerate() \n",
    "for t in l: \n",
    "    print(\"Thread Name:\",t.name) \n",
    "time.sleep(5) \n",
    "l=enumerate() \n",
    "for t in l: \n",
    "    print(\"Thread Name:\",t.name)"
   ]
  },
  {
   "cell_type": "markdown",
   "id": "12396387",
   "metadata": {},
   "source": [
    "#### isAlive():\n",
    "isAlive() method checks whether a thread is still executing or not."
   ]
  },
  {
   "cell_type": "raw",
   "id": "076dcdd4",
   "metadata": {},
   "source": [
    "from threading import * \n",
    "import time \n",
    "def display(): \n",
    "    print(current_thread().getName(),\"...started\") \n",
    "    time.sleep(3) \n",
    "    print(current_thread().getName(),\"...ended\") \n",
    "    \n",
    "t1=Thread(target=display,name=\"ChildThread1\") \n",
    "t2=Thread(target=display,name=\"ChildThread2\") \n",
    "t1.start() \n",
    "t2.start() \n",
    "\n",
    "print(t1.name,\"is Alive :\",t1.isAlive()) \n",
    "print(t2.name,\"is Alive :\",t2.isAlive()) \n",
    "time.sleep(5) \n",
    "print(t1.name,\"is Alive :\",t1.isAlive()) \n",
    "print(t2.name,\"is Alive :\",t2.isAlive())\n",
    "\n",
    "Output-\n",
    "ChildThread1 ...started\n",
    "ChildThread2 ...started\n",
    "ChildThread1 is Alive : True\n",
    "ChildThread2 is Alive : True\n",
    "ChildThread1 ...ended\n",
    "ChildThread2 ...ended\n",
    "ChildThread1 is Alive : False\n",
    "ChildThread2 is Alive : False"
   ]
  },
  {
   "cell_type": "markdown",
   "id": "d3a79f27",
   "metadata": {},
   "source": [
    "#### join() method:\n",
    "If a thread wants to wait until completing some other thread then we should go for join() method."
   ]
  },
  {
   "cell_type": "code",
   "execution_count": 19,
   "id": "b90478fc",
   "metadata": {},
   "outputs": [
    {
     "name": "stdout",
     "output_type": "stream",
     "text": [
      "Seetha Thread\n",
      "Seetha Thread\n",
      "Seetha Thread\n",
      "Seetha Thread\n",
      "Seetha Thread\n",
      "Seetha Thread\n",
      "Seetha Thread\n",
      "Seetha Thread\n",
      "Seetha Thread\n",
      "Seetha Thread\n",
      "Rama Thread\n",
      "Rama Thread\n",
      "Rama Thread\n",
      "Rama Thread\n",
      "Rama Thread\n",
      "Rama Thread\n",
      "Rama Thread\n",
      "Rama Thread\n",
      "Rama Thread\n",
      "Rama Thread\n"
     ]
    }
   ],
   "source": [
    "from threading import * \n",
    "import time \n",
    "def display(): \n",
    "    for i in range(10): \n",
    "        print(\"Seetha Thread\") \n",
    "        time.sleep(2) \n",
    "\n",
    "t=Thread(target=display) \n",
    "t.start() \n",
    "t.join()#This Line executed by Main Thread \n",
    "for i in range(10): \n",
    "    print(\"Rama Thread\")"
   ]
  },
  {
   "cell_type": "markdown",
   "id": "ad434fc5",
   "metadata": {},
   "source": [
    "Note: We can call join() method with time period also.\n",
    "\n",
    "    t.join(seconds)\n",
    "In this case thread will wait only specified amount of time. "
   ]
  },
  {
   "cell_type": "code",
   "execution_count": 20,
   "id": "2a9ae0c0",
   "metadata": {},
   "outputs": [
    {
     "name": "stdout",
     "output_type": "stream",
     "text": [
      "Seetha Thread\n",
      "Seetha Thread\n",
      "Seetha Thread\n",
      "Rama Thread\n",
      "Rama Thread\n",
      "Rama Thread\n",
      "Rama Thread\n",
      "Rama Thread\n",
      "Rama Thread\n",
      "Rama Thread\n",
      "Rama Thread\n",
      "Rama Thread\n",
      "Rama Thread\n"
     ]
    }
   ],
   "source": [
    "from threading import * \n",
    "import time \n",
    "def display(): \n",
    "    for i in range(10): \n",
    "        print(\"Seetha Thread\") \n",
    "        time.sleep(2) \n",
    "\n",
    "t=Thread(target=display) \n",
    "t.start() \n",
    "t.join(5)#This Line executed by Main Thread \n",
    "for i in range(10): \n",
    "    print(\"Rama Thread\")\n",
    "    \n",
    "    ## In this case Main Thread waited only 5 seconds."
   ]
  },
  {
   "cell_type": "markdown",
   "id": "1583975b",
   "metadata": {},
   "source": [
    "Summary of all methods related to threading module and Thread"
   ]
  },
  {
   "cell_type": "markdown",
   "id": "e03c32a8",
   "metadata": {},
   "source": [
    "## Daemon Threads:\n",
    "The threads which are running in the background are called Daemon Threads.\n",
    "\n",
    "\n",
    "The main objective of Daemon Threads is to provide support for Non Daemon Threads( like main \n",
    "thread)\n",
    "\n",
    "\n",
    "Eg: Garbage Collector\n",
    "\n",
    "    \n",
    "Whenever Main Thread runs with low memory, immediately PVM runs Garbage Collector to \n",
    "destroy useless objects and to provide free memory,so that Main Thread can continue its \n",
    "execution without having any memory problems.\n",
    "\n",
    "\n",
    "We can check whether thread is Daemon or not by using t.isDaemon() method of Thread class or \n",
    "by using daemon property"
   ]
  },
  {
   "cell_type": "code",
   "execution_count": 21,
   "id": "df9f9369",
   "metadata": {},
   "outputs": [
    {
     "name": "stdout",
     "output_type": "stream",
     "text": [
      "False\n",
      "False\n"
     ]
    }
   ],
   "source": [
    "from threading import * \n",
    "print(current_thread().isDaemon()) \n",
    "print(current_thread().daemon) "
   ]
  },
  {
   "cell_type": "markdown",
   "id": "8afd70ab",
   "metadata": {},
   "source": [
    "We can change Daemon nature by using setDaemon() method of Thread class.\n",
    "\n",
    "    t.setDaemon(True)\n",
    "But we can use this method before starting of Thread.i.e once thread started,we cannot change its \n",
    "Daemon nature,otherwise we will get \n",
    "\n",
    "\n",
    "    RuntimeException:cannot set daemon status of active thread"
   ]
  },
  {
   "cell_type": "code",
   "execution_count": 22,
   "id": "6385f39e",
   "metadata": {},
   "outputs": [
    {
     "name": "stdout",
     "output_type": "stream",
     "text": [
      "False\n"
     ]
    },
    {
     "ename": "RuntimeError",
     "evalue": "cannot set daemon status of active thread",
     "output_type": "error",
     "traceback": [
      "\u001b[1;31m---------------------------------------------------------------------------\u001b[0m",
      "\u001b[1;31mRuntimeError\u001b[0m                              Traceback (most recent call last)",
      "Input \u001b[1;32mIn [22]\u001b[0m, in \u001b[0;36m<cell line: 3>\u001b[1;34m()\u001b[0m\n\u001b[0;32m      1\u001b[0m \u001b[38;5;28;01mfrom\u001b[39;00m \u001b[38;5;21;01mthreading\u001b[39;00m \u001b[38;5;28;01mimport\u001b[39;00m \u001b[38;5;241m*\u001b[39m \n\u001b[0;32m      2\u001b[0m \u001b[38;5;28mprint\u001b[39m(current_thread()\u001b[38;5;241m.\u001b[39misDaemon()) \n\u001b[1;32m----> 3\u001b[0m \u001b[43mcurrent_thread\u001b[49m\u001b[43m(\u001b[49m\u001b[43m)\u001b[49m\u001b[38;5;241;43m.\u001b[39;49m\u001b[43msetDaemon\u001b[49m\u001b[43m(\u001b[49m\u001b[38;5;28;43;01mTrue\u001b[39;49;00m\u001b[43m)\u001b[49m\n",
      "File \u001b[1;32m~\\anaconda3\\lib\\threading.py:1174\u001b[0m, in \u001b[0;36mThread.setDaemon\u001b[1;34m(self, daemonic)\u001b[0m\n\u001b[0;32m   1173\u001b[0m \u001b[38;5;28;01mdef\u001b[39;00m \u001b[38;5;21msetDaemon\u001b[39m(\u001b[38;5;28mself\u001b[39m, daemonic):\n\u001b[1;32m-> 1174\u001b[0m     \u001b[38;5;28mself\u001b[39m\u001b[38;5;241m.\u001b[39mdaemon \u001b[38;5;241m=\u001b[39m daemonic\n",
      "File \u001b[1;32m~\\anaconda3\\lib\\threading.py:1167\u001b[0m, in \u001b[0;36mThread.daemon\u001b[1;34m(self, daemonic)\u001b[0m\n\u001b[0;32m   1165\u001b[0m     \u001b[38;5;28;01mraise\u001b[39;00m \u001b[38;5;167;01mRuntimeError\u001b[39;00m(\u001b[38;5;124m\"\u001b[39m\u001b[38;5;124mThread.__init__() not called\u001b[39m\u001b[38;5;124m\"\u001b[39m)\n\u001b[0;32m   1166\u001b[0m \u001b[38;5;28;01mif\u001b[39;00m \u001b[38;5;28mself\u001b[39m\u001b[38;5;241m.\u001b[39m_started\u001b[38;5;241m.\u001b[39mis_set():\n\u001b[1;32m-> 1167\u001b[0m     \u001b[38;5;28;01mraise\u001b[39;00m \u001b[38;5;167;01mRuntimeError\u001b[39;00m(\u001b[38;5;124m\"\u001b[39m\u001b[38;5;124mcannot set daemon status of active thread\u001b[39m\u001b[38;5;124m\"\u001b[39m)\n\u001b[0;32m   1168\u001b[0m \u001b[38;5;28mself\u001b[39m\u001b[38;5;241m.\u001b[39m_daemonic \u001b[38;5;241m=\u001b[39m daemonic\n",
      "\u001b[1;31mRuntimeError\u001b[0m: cannot set daemon status of active thread"
     ]
    }
   ],
   "source": [
    "from threading import * \n",
    "print(current_thread().isDaemon()) \n",
    "current_thread().setDaemon(True)"
   ]
  },
  {
   "cell_type": "markdown",
   "id": "ce6de8bc",
   "metadata": {},
   "source": [
    "### Default Nature:\n",
    "By default Main Thread is always non-daemon.But for the remaining threads Daemon nature will \n",
    "be inherited from parent to child.i.e if the Parent Thread is Daemon then child thread is also \n",
    "Daemon and if the Parent Thread is Non Daemon then ChildThread is also Non Daemon."
   ]
  },
  {
   "cell_type": "code",
   "execution_count": null,
   "id": "39aaae77",
   "metadata": {},
   "outputs": [],
   "source": [
    "from threading import * \n",
    "def job(): \n",
    "    print(\"Child Thread\") \n",
    "t=Thread(target=job) \n",
    "print(t.isDaemon())#False \n",
    "t.setDaemon(True) \n",
    "print(t.isDaemon()) #True"
   ]
  },
  {
   "cell_type": "markdown",
   "id": "3ee66a2b",
   "metadata": {},
   "source": [
    "Note: Main Thread is always Non-Daemon and we cannot change its Daemon Nature b'z it is \n",
    "already started at the beginning only.\n",
    "\n",
    "\n",
    "Whenever the last Non-Daemon Thread terminates automatically all Daemon Threads will be \n",
    "terminated."
   ]
  },
  {
   "cell_type": "code",
   "execution_count": null,
   "id": "121f6e24",
   "metadata": {},
   "outputs": [],
   "source": [
    "from threading import * \n",
    "import time \n",
    "def job(): \n",
    "    for i in range(10): \n",
    "        print(\"Lazy Thread\") \n",
    "        time.sleep(2) \n",
    "\n",
    "t=Thread(target=job) \n",
    "#t.setDaemon(True)===>Line-1 \n",
    "t.start() \n",
    "time.sleep(5) \n",
    "print(\"End Of Main Thread\")"
   ]
  },
  {
   "cell_type": "markdown",
   "id": "ac94c4a4",
   "metadata": {},
   "source": [
    "In the above program if we comment Line-1 then both Main Thread and Child Threads are Non \n",
    "Daemon and hence both will be executed until their completion. \n",
    "\n",
    "\n",
    "If we are not commenting Line-1 then Main Thread is Non-Daemon and Child Thread is Daemon. \n",
    "Hence whenever MainThread terminates automatically child thread will be terminated."
   ]
  },
  {
   "cell_type": "markdown",
   "id": "a857b323",
   "metadata": {},
   "source": [
    "### Synchronization:\n",
    "If multiple threads are executing simultaneously then there may be a chance of data inconsistency \n",
    "problems."
   ]
  },
  {
   "cell_type": "code",
   "execution_count": null,
   "id": "18a5a8d7",
   "metadata": {},
   "outputs": [],
   "source": [
    "from threading import * \n",
    "import time \n",
    "def wish(name): \n",
    "    for i in range(10): \n",
    "        print(\"Good Evening:\",end='') \n",
    "        time.sleep(2) \n",
    "        print(name) \n",
    "t1=Thread(target=wish,args=(\"Dhoni\",)) \n",
    "t2=Thread(target=wish,args=(\"Yuvraj\",)) \n",
    "t1.start() \n",
    "t2.start()"
   ]
  },
  {
   "cell_type": "markdown",
   "id": "b037003e",
   "metadata": {},
   "source": [
    "We are getting irregular output b'z both threads are executing simultaneously wish() function.\n",
    "\n",
    "\n",
    "To overcome this problem we should go for synchronization.\n",
    "\n",
    "In synchronization the threads will be executed one by one so that we can overcome data inconsistency problems. \n",
    "\n",
    "\n",
    "Synchronization means at a time only one Thread\n",
    "\n",
    "\n",
    "The main application areas of synchronization are\n",
    "1. Online Reservation system\n",
    "2. Funds Transfer from joint accounts\n",
    "etc\n",
    "\n",
    "\n",
    "In Python, we can implement synchronization by using the following \n",
    "1. Lock\n",
    "2. RLock\n",
    "3. Semaphore\n",
    "\n",
    "### Synchronization By using Lock concept:\n",
    "Locks are the most fundamental synchronization mechanism provided by threading module.\n",
    "We can create Lock object as follows\n",
    "\n",
    "    l=Lock()\n",
    "\n",
    "\n",
    "The Lock object can be hold by only one thread at a time.If any other thread required the same \n",
    "lock then it will wait until thread releases lock.(similar to common wash rooms,public telephone \n",
    "booth etc)\n",
    "\n",
    "\n",
    "A Thread can acquire the lock by using acquire() method.\n",
    "    \n",
    "    l.acquire()\n",
    "\n",
    "\n",
    "A Thread can release the lock by using release() method.\n",
    "    \n",
    "    l.release()\n",
    "\n",
    "\n",
    "Note: To call release() method compulsory thread should be owner of that lock.i.e thread should \n",
    "has the lock already,otherwise we will get Runtime Exception saying\n",
    "    \n",
    "    RuntimeError: release unlocked lock"
   ]
  },
  {
   "cell_type": "code",
   "execution_count": null,
   "id": "cd1cd9d0",
   "metadata": {},
   "outputs": [],
   "source": [
    "from threading import * \n",
    "l=Lock() \n",
    "#l.acquire() ==>1 \n",
    "l.release()"
   ]
  },
  {
   "cell_type": "code",
   "execution_count": null,
   "id": "399e3a9e",
   "metadata": {
    "scrolled": true
   },
   "outputs": [],
   "source": [
    "from threading import *\n",
    "import time \n",
    "l=Lock() \n",
    "def wish(name): \n",
    "    l.acquire() \n",
    "    for i in range(10): \n",
    "        print(\"Good Evening:\",end='') \n",
    "        time.sleep(2) \n",
    "        print(name) \n",
    "    l.release() \n",
    "\n",
    "t1=Thread(target=wish,args=(\"Dhoni\",)) \n",
    "t2=Thread(target=wish,args=(\"Yuvraj\",)) \n",
    "t3=Thread(target=wish,args=(\"Kohli\",)) \n",
    "t1.start() \n",
    "t2.start() \n",
    "t3.start()"
   ]
  },
  {
   "cell_type": "markdown",
   "id": "410f56a9",
   "metadata": {},
   "source": [
    "In the above program at a time only one thread is allowed to execute wish() method and hence we \n",
    "will get regular output.\n",
    "#### Problem with Simple Lock:\n",
    "The standard Lock object does not care which thread is currently holding that lock.If the lock is \n",
    "held and any thread attempts to acquire lock, then it will be blocked,even the same thread is \n",
    "already holding that lock."
   ]
  },
  {
   "cell_type": "code",
   "execution_count": null,
   "id": "f7f6c4e3",
   "metadata": {},
   "outputs": [],
   "source": [
    "from threading import * \n",
    "l=Lock() \n",
    "print(\"Main Thread trying to acquire Lock\") \n",
    "l.acquire() \n",
    "print(\"Main Thread trying to acquire Lock Again\") \n",
    "l.acquire()"
   ]
  },
  {
   "cell_type": "markdown",
   "id": "8b034945",
   "metadata": {},
   "source": [
    "In the above Program main thread will be blocked b'z it is trying to acquire the lock second time.\n",
    "\n",
    "\n",
    "Note: To kill the blocking thread from windows command prompt we have to use ctrl+break. Here \n",
    "ctrl+C won't work.\n",
    "\n",
    "\n",
    "If the Thread calls recursive functions or nested access to resources,then the thread may trying to \n",
    "acquire the same lock again and again,which may block our thread"
   ]
  },
  {
   "cell_type": "markdown",
   "id": "a78a9547",
   "metadata": {},
   "source": [
    "Hence Traditional Locking mechanism won't work for executing recursive functions.\n",
    "\n",
    "\n",
    "To overcome this problem, we should go for RLock(Reentrant Lock). Reentrant means the thread \n",
    "can acquire the same lock again and again.If the lock is held by other threads then only the thread \n",
    "will be blocked.\n",
    "\n",
    "\n",
    "Reentrant facility is available only for owner thread but not for other threads."
   ]
  },
  {
   "cell_type": "code",
   "execution_count": null,
   "id": "019a7959",
   "metadata": {},
   "outputs": [],
   "source": [
    "from threading import * \n",
    "l=RLock() \n",
    "print(\"Main Thread trying to acquire Lock\") \n",
    "l.acquire() \n",
    "print(\"Main Thread trying to acquire Lock Again\") \n",
    "l.acquire()"
   ]
  },
  {
   "cell_type": "markdown",
   "id": "c53ff590",
   "metadata": {},
   "source": [
    "In this case Main Thread won't be Locked b'z thread can acquire the lock any number of times.\n",
    "\n",
    "\n",
    "This RLock keeps track of recursion level and hence for every acquire() call compulsory release() \n",
    "call should be available. i.e the number of acquire() calls and release() calls should be matched \n",
    "then only lock will be released."
   ]
  },
  {
   "cell_type": "raw",
   "id": "8950c020",
   "metadata": {},
   "source": [
    "Eg:\n",
    "l=RLock()\n",
    "l.acquire()\n",
    "l.acquire()\n",
    "l.release()\n",
    "l.release()\n",
    "\n",
    "After 2 release() calls only the Lock will be released."
   ]
  },
  {
   "cell_type": "markdown",
   "id": "da1b3629",
   "metadata": {},
   "source": [
    "Note:\n",
    "1. Only owner thread can acquire the lock multiple times\n",
    "2. The number of acquire() calls and release() calls should be matched.\n",
    "\n",
    "#### Demo Program for synchronization by using RLock:"
   ]
  },
  {
   "cell_type": "code",
   "execution_count": null,
   "id": "51b1b3ed",
   "metadata": {},
   "outputs": [],
   "source": [
    "from threading import * \n",
    "import time \n",
    "l=RLock() \n",
    "def factorial(n): \n",
    "    l.acquire() \n",
    "    if n==0: \n",
    "        result=1 \n",
    "    else: \n",
    "        result=n*factorial(n-1) \n",
    "    l.release() \n",
    "    return result\n",
    "\n",
    "def results(n): \n",
    "    print(\"The Factorial of\",n,\"is:\",factorial(n)) \n",
    "\n",
    "t1=Thread(target=results,args=(5,)) \n",
    "t2=Thread(target=results,args=(9,)) \n",
    "t1.start() \n",
    "t2.start()"
   ]
  },
  {
   "cell_type": "markdown",
   "id": "6c2a6393",
   "metadata": {},
   "source": [
    "In the above program instead of RLock if we use normal Lock then the thread will be blocked.\n",
    "### Difference between Lock and RLock:\n",
    "table\n",
    "#### Lock:\n",
    "1. Lock object can be acquired by only one thread at a time.Even owner thread also cannot acquire multiple times. \n",
    "2. Not suitable to execute recursive functions and nested access calls \n",
    "3. In this case Lock object will takes care only Locked or unlocked and it never takes care about owner thread and recursion level.\n",
    "\n",
    "\n",
    "#### RLock:\n",
    "1. RLock object can be acquired by only one thread at a time, but owner thread can acquire same lock object multiple times.\n",
    "2. Best suitable to execute recursive functions and nested access calls\n",
    "3. In this case RLock object will takes care whether Locked or unlocked and owner thread information, recursiion level.\n",
    "\n",
    "\n",
    "### Synchronization by using Semaphore:\n",
    "In the case of Lock and RLock,at a time only one thread is allowed to execute.\n",
    "\n",
    "\n",
    "Sometimes our requirement is at a time a particular number of threads are allowed to access(like \n",
    "at a time 10 memebers are allowed to access database server,4 members are allowed to access \n",
    "Network connection etc).To handle this requirement we cannot use Lock and RLock concepts and \n",
    "we should go for Semaphore concept.\n",
    "\n",
    "\n",
    "Semaphore can be used to limit the access to the shared resources with limited capacity.\n",
    "\n",
    "\n",
    "Semaphore is advanced Synchronization Mechanism\n",
    "\n",
    "We can create Semaphore object as follows.\n",
    "\n",
    "- s=Semaphore(counter)\n",
    "\n",
    "Here counter represents the maximum number of threads are allowed to access simultaneously. \n",
    "The default value of counter is 1.\n",
    "\n",
    "\n",
    "Whenever thread executes acquire() method,then the counter value will be decremented by 1 and \n",
    "if thread executes release() method then the counter value will be incremented by 1.\n",
    "\n",
    "\n",
    "i.e for every acquire() call counter value will be decremented and for every release() call counter \n",
    "value will be incremented.\n",
    "\n",
    "\n",
    "- Case-1: s=Semaphore()\n",
    "In this case counter value is 1 and at a time only one thread is allowed to access. It is exactly same \n",
    "as Lock concept.\n",
    "\n",
    "\n",
    "- Case-2: s=Semaphore(3)\n",
    "In this case Semaphore object can be accessed by 3 threads at a time.The remaining threads have \n",
    "to wait until releasing the semaphore."
   ]
  },
  {
   "cell_type": "code",
   "execution_count": null,
   "id": "c350460f",
   "metadata": {},
   "outputs": [
    {
     "name": "stdout",
     "output_type": "stream",
     "text": [
      "Seetha Thread\n",
      "Seetha Thread\n",
      "Seetha Thread\n",
      "Seetha Thread\n",
      "Seetha Thread\n",
      "Seetha Thread\n",
      "Seetha Thread\n"
     ]
    }
   ],
   "source": [
    "from threading import * \n",
    "import time \n",
    "s=Semaphore(2) \n",
    "def wish(name): \n",
    "    s.acquire() \n",
    "    for i in range(10): \n",
    "        print(\"Good Evening:\",end='') \n",
    "        time.sleep(2) \n",
    "        print(name) \n",
    "    s.release() \n",
    "\n",
    "t1=Thread(target=wish,args=(\"Dhoni\",)) \n",
    "t2=Thread(target=wish,args=(\"Yuvraj\",)) \n",
    "t3=Thread(target=wish,args=(\"Kohli\",)) \n",
    "t4=Thread(target=wish,args=(\"Rohit\",)) \n",
    "t5=Thread(target=wish,args=(\"Pandya\",)) \n",
    "t1.start() \n",
    "t2.start() \n",
    "t3.start() \n",
    "t4.start() \n",
    "t5.start()"
   ]
  },
  {
   "cell_type": "markdown",
   "id": "7fde6440",
   "metadata": {},
   "source": [
    "In the above program at a time 2 threads are allowed to access semaphore and hence 2 threads \n",
    "are allowed to execute wish() function\n",
    "\n",
    "### BoundedSemaphore:\n",
    "Normal Semaphore is an unlimited semaphore which allows us to call release() method any \n",
    "number of times to increment counter.The number of release() calls can exceed the number of \n",
    "acquire() calls also.\n"
   ]
  },
  {
   "cell_type": "code",
   "execution_count": 23,
   "id": "193b7601",
   "metadata": {},
   "outputs": [
    {
     "name": "stdout",
     "output_type": "stream",
     "text": [
      "End\n"
     ]
    }
   ],
   "source": [
    "from threading import * \n",
    "s=Semaphore(2) \n",
    "s.acquire() \n",
    "s.acquire() \n",
    "s.release() \n",
    "s.release() \n",
    "s.release() \n",
    "s.release() \n",
    "print(\"End\")"
   ]
  },
  {
   "cell_type": "markdown",
   "id": "384df3a1",
   "metadata": {},
   "source": [
    "It is valid because in normal semaphore we can call release() any number of times.\n",
    "\n",
    "\n",
    "BounedSemaphore is exactly same as Semaphore except that the number of release() calls should \n",
    "not exceed the number of acquire() calls,otherwise we will get\n",
    "\n",
    "\n",
    "ValueError: Semaphore released too many times"
   ]
  },
  {
   "cell_type": "code",
   "execution_count": 24,
   "id": "2fa09159",
   "metadata": {},
   "outputs": [
    {
     "ename": "ValueError",
     "evalue": "Semaphore released too many times",
     "output_type": "error",
     "traceback": [
      "\u001b[1;31m---------------------------------------------------------------------------\u001b[0m",
      "\u001b[1;31mValueError\u001b[0m                                Traceback (most recent call last)",
      "Input \u001b[1;32mIn [24]\u001b[0m, in \u001b[0;36m<cell line: 7>\u001b[1;34m()\u001b[0m\n\u001b[0;32m      5\u001b[0m s\u001b[38;5;241m.\u001b[39mrelease() \n\u001b[0;32m      6\u001b[0m s\u001b[38;5;241m.\u001b[39mrelease() \n\u001b[1;32m----> 7\u001b[0m \u001b[43ms\u001b[49m\u001b[38;5;241;43m.\u001b[39;49m\u001b[43mrelease\u001b[49m\u001b[43m(\u001b[49m\u001b[43m)\u001b[49m \n\u001b[0;32m      8\u001b[0m s\u001b[38;5;241m.\u001b[39mrelease() \n\u001b[0;32m      9\u001b[0m \u001b[38;5;28mprint\u001b[39m(\u001b[38;5;124m\"\u001b[39m\u001b[38;5;124mEnd\u001b[39m\u001b[38;5;124m\"\u001b[39m)\n",
      "File \u001b[1;32m~\\anaconda3\\lib\\threading.py:511\u001b[0m, in \u001b[0;36mBoundedSemaphore.release\u001b[1;34m(self, n)\u001b[0m\n\u001b[0;32m    509\u001b[0m \u001b[38;5;28;01mwith\u001b[39;00m \u001b[38;5;28mself\u001b[39m\u001b[38;5;241m.\u001b[39m_cond:\n\u001b[0;32m    510\u001b[0m     \u001b[38;5;28;01mif\u001b[39;00m \u001b[38;5;28mself\u001b[39m\u001b[38;5;241m.\u001b[39m_value \u001b[38;5;241m+\u001b[39m n \u001b[38;5;241m>\u001b[39m \u001b[38;5;28mself\u001b[39m\u001b[38;5;241m.\u001b[39m_initial_value:\n\u001b[1;32m--> 511\u001b[0m         \u001b[38;5;28;01mraise\u001b[39;00m \u001b[38;5;167;01mValueError\u001b[39;00m(\u001b[38;5;124m\"\u001b[39m\u001b[38;5;124mSemaphore released too many times\u001b[39m\u001b[38;5;124m\"\u001b[39m)\n\u001b[0;32m    512\u001b[0m     \u001b[38;5;28mself\u001b[39m\u001b[38;5;241m.\u001b[39m_value \u001b[38;5;241m+\u001b[39m\u001b[38;5;241m=\u001b[39m n\n\u001b[0;32m    513\u001b[0m     \u001b[38;5;28;01mfor\u001b[39;00m i \u001b[38;5;129;01min\u001b[39;00m \u001b[38;5;28mrange\u001b[39m(n):\n",
      "\u001b[1;31mValueError\u001b[0m: Semaphore released too many times"
     ]
    }
   ],
   "source": [
    "from threading import * \n",
    "s=BoundedSemaphore(2) \n",
    "s.acquire() \n",
    "s.acquire() \n",
    "s.release() \n",
    "s.release() \n",
    "s.release() \n",
    "s.release() \n",
    "print(\"End\") "
   ]
  },
  {
   "cell_type": "markdown",
   "id": "ba415e6e",
   "metadata": {},
   "source": [
    "It is invalid b'z the number of release() calls should not exceed the number of acquire() calls in \n",
    "BoundedSemaphore.\n",
    "\n",
    "\n",
    "Note: To prevent simple programming mistakes, it is recommended to use BoundedSemaphore \n",
    "over normal Semaphore."
   ]
  },
  {
   "cell_type": "markdown",
   "id": "df09ea5b",
   "metadata": {},
   "source": [
    "## Difference between Lock and Semaphore:\n",
    "At a time Lock object can be acquired by only one thread, but Semaphore object can be acquired \n",
    "by fixed number of threads specified by counter value.\n",
    "### Conclusion:\n",
    "The main advantage of synchronization is we can overcome data inconsistency problems.But the \n",
    "main disadvantage of synchronization is it increases waiting time of threads and creates \n",
    "performance problems. Hence if there is no specific requirement then it is not recommended to \n",
    "use synchronization.\n",
    "## Inter Thread Communication:\n",
    "Some times as the part of programming requirement, threads are required to communicate with \n",
    "each other. This concept is nothing but interthread communication.\n",
    "\n",
    "\n",
    "Eg: After producing items Producer thread has to communicate with Consumer thread to notify \n",
    "about new item.Then consumer thread can consume that new item.\n",
    "\n",
    "\n",
    "In Python, we can implement interthread communication by using the following ways\n",
    "1. Event\n",
    "2. Condition\n",
    "3. Queue \n",
    "etc\n",
    "## Interthread communication by using Event Objects:\n",
    "Event object is the simplest communication mechanism between the threads. One thread signals \n",
    "an event and other thereds wait for it.\n",
    "\n",
    "\n",
    "We can create Event object as follows...\n",
    "\n",
    "    event = threading.Event()\n",
    "Event manages an internal flag that can set() or clear()\n",
    "\n",
    "\n",
    "Threads can wait until event set.\n",
    "### Methods of Event class:\n",
    "\n",
    "1. set() ---> internal flag value will become True and it represents GREEN signal for all waiting threads.\n",
    "2. clear() ---> inernal flag value will become False and it represents RED signal for all waiting threads.\n",
    "3. isSet() ---> This method can be used whether the event is set or not\n",
    "4. wait()|wait(seconds)  Thread can wait until event is set\n",
    "\n",
    "### Pseudo Code:\n",
    "    \n",
    "    event = threading.Event()\n",
    "\n",
    "#consumer thread has to wait until event is set\n",
    "    \n",
    "    event.wait()\n",
    "#producer thread can set or clear event\n",
    "    \n",
    "    event.set()\n",
    "    event.clear()\n",
    "#### Demo Program-1:"
   ]
  },
  {
   "cell_type": "code",
   "execution_count": 25,
   "id": "93684e8f",
   "metadata": {},
   "outputs": [
    {
     "name": "stdout",
     "output_type": "stream",
     "text": [
      "Consumer thread is waiting for updation\n"
     ]
    }
   ],
   "source": [
    "from threading import * \n",
    "import time \n",
    "def producer(): \n",
    "    time.sleep(5) \n",
    "    print(\"Producer thread producing items:\") \n",
    "    print(\"Producer thread giving notification by setting event\") \n",
    "    event.set() \n",
    "def consumer(): \n",
    "    print(\"Consumer thread is waiting for updation\") \n",
    "    event.wait() \n",
    "    print(\"Consumer thread got notification and consuming items\")\n",
    "    \n",
    "event=Event() \n",
    "t1=Thread(target=producer) \n",
    "t2=Thread(target=consumer) \n",
    "t1.start() \n",
    "t2.start()"
   ]
  },
  {
   "cell_type": "markdown",
   "id": "fa0b1685",
   "metadata": {},
   "source": [
    "### Interthread communication by using Condition Object:\n",
    "Condition is the more advanced version of Event object for interthread communication.A \n",
    "condition represents some kind of state change in the application like producing item or \n",
    "consuming item. Threads can wait for that condition and threads can be notified once condition \n",
    "happend.i.e Condition object allows one or more threads to wait until notified by another thread. \n",
    "\n",
    "\n",
    "Condition is always associated with a lock (ReentrantLock).\n",
    "A condition has acquire() and release() methods that call the corresponding methods of the \n",
    "associated lock.\n",
    "\n",
    "\n",
    "We can create Condition object as follows\n",
    "    \n",
    "    condition = threading.Condition()\n",
    "### Methods of Condition:\n",
    "1. acquire() ---> To acquire Condition object before producing or consuming items.i.e thread acquiring internal lock.\n",
    "2. release() ---> To release Condition object after producing or consuming items. i.e thread releases internal lock\n",
    "3. wait()|wait(time) ---> To wait until getting Notification or time expired\n",
    "4. notify() ---> To give notification for one waiting thread\n",
    "5. notifyAll() ---> To give notification for all waiting threads\n",
    "\n",
    "#### Case Study:\n",
    "The producing thread needs to acquire the Condition before producing item to the resource and \n",
    "notifying the consumers.\n",
    "\n",
    "    #Producer Thread\n",
    "    ...generate item..\n",
    "    condition.acquire()\n",
    "    ...add item to the resource...\n",
    "    condition.notify()#signal that a new item is available(notifyAll())\n",
    "    condition.release()\n",
    "\n",
    "The Consumer must acquire the Condition and then it can consume items from the resource\n",
    "\n",
    "    #Consumer Thread\n",
    "    condition.acquire()\n",
    "    condition.wait()\n",
    "    consume item\n",
    "    condition.release()\n",
    "#### Demo Program-1"
   ]
  },
  {
   "cell_type": "code",
   "execution_count": 26,
   "id": "2873a5c3",
   "metadata": {},
   "outputs": [
    {
     "name": "stdout",
     "output_type": "stream",
     "text": [
      "Consumer waiting for updation\n",
      "Producer Producing Items\n",
      "Producer giving Notification\n",
      "Consumer got notification & consuming the item\n"
     ]
    }
   ],
   "source": [
    "from threading import * \n",
    "def consume(c): \n",
    "    c.acquire() \n",
    "    print(\"Consumer waiting for updation\") \n",
    "    c.wait() \n",
    "    print(\"Consumer got notification & consuming the item\") \n",
    "    c.release() \n",
    "def produce(c): \n",
    "    c.acquire() \n",
    "    print(\"Producer Producing Items\") \n",
    "    print(\"Producer giving Notification\") \n",
    "    c.notify() \n",
    "    c.release()\n",
    "\n",
    "c=Condition() \n",
    "t1=Thread(target=consume,args=(c,)) \n",
    "t2=Thread(target=produce,args=(c,)) \n",
    "t1.start() \n",
    "t2.start()"
   ]
  },
  {
   "cell_type": "markdown",
   "id": "f2cc3204",
   "metadata": {},
   "source": [
    "### Interthread communication by using Queue:\n",
    "Queues Concept is the most enhanced Mechanism for interthread communication and to share \n",
    "data between threads.\n",
    "\n",
    "\n",
    "Queue internally has Condition and that Condition has Lock.Hence whenever we are using Queue \n",
    "we are not required to worry about Synchronization.\n",
    "\n",
    "\n",
    "If we want to use Queues first we should import queue module.\n",
    "\n",
    "\n",
    "    import queue\n",
    "\n",
    "We can create Queue object as follows\n",
    "    \n",
    "    q = queue.Queue()\n",
    "Important Methods of Queue:\n",
    "1. put(): Put an item into the queue.\n",
    "2. get(): Remove and return an item from the queue.\n",
    "Producer Thread uses put() method to insert data in the queue. Internally this method has logic to \n",
    "acquire the lock before inserting data into queue. After inserting data lock will be released \n",
    "automatically.\n",
    "\n",
    "\n",
    "put() method also checks whether the queue is full or not and if queue is full then the Producer \n",
    "thread will entered in to waiting state by calling wait() method internally.\n",
    "\n",
    "\n",
    "Consumer Thread uses get() method to remove and get data from the queue. Internally this \n",
    "method has logic to acquire the lock before removing data from the queue.Once removal \n",
    "completed then the lock will be released automatically. \n",
    "\n",
    "\n",
    "If the queue is empty then consumer thread will entered into waiting state by calling wait() \n",
    "method internally.Once queue updated with data then the thread will be notified automatically.\n",
    "\n",
    "\n",
    "Note:\n",
    "The queue module takes care of locking for us which is a great advantage."
   ]
  },
  {
   "cell_type": "code",
   "execution_count": 27,
   "id": "cdf21c09",
   "metadata": {},
   "outputs": [
    {
     "name": "stdout",
     "output_type": "stream",
     "text": [
      "Consumer waiting for updationProducer Producing Item: 8\n",
      "Producer giving Notification\n",
      "\n",
      "Consumer consumed the item: 8\n"
     ]
    }
   ],
   "source": [
    "from threading import * \n",
    "import time \n",
    "import random \n",
    "import queue \n",
    "def produce(q):\n",
    "    while True: \n",
    "        item=random.randint(1,100) \n",
    "        print(\"Producer Producing Item:\",item) \n",
    "        q.put(item) \n",
    "        print(\"Producer giving Notification\") \n",
    "        time.sleep(5) \n",
    "def consume(q): \n",
    "    while True: \n",
    "        print(\"Consumer waiting for updation\") \n",
    "        print(\"Consumer consumed the item:\",q.get()) \n",
    "        time.sleep(5) \n",
    "        \n",
    "q=queue.Queue() \n",
    "t1=Thread(target=consume,args=(q,)) \n",
    "t2=Thread(target=produce,args=(q,)) \n",
    "t1.start() \n",
    "t2.start()"
   ]
  },
  {
   "cell_type": "markdown",
   "id": "13062356",
   "metadata": {},
   "source": [
    "## Types of Queues:\n",
    "Python Supports 3 Types of Queues.\n",
    "\n",
    "### 1. FIFO Queue:\n",
    "    \n",
    "        q = queue.Queue()\n",
    "        \n",
    "        \n",
    "This is Default Behaviour. In which order we put items in the queue, in the same order the items \n",
    "will come out (FIFO-First In First Out)."
   ]
  },
  {
   "cell_type": "code",
   "execution_count": 28,
   "id": "3ffc4cdf",
   "metadata": {},
   "outputs": [
    {
     "name": "stdout",
     "output_type": "stream",
     "text": [
      "10 5 20 15 "
     ]
    }
   ],
   "source": [
    "import queue \n",
    "q=queue.Queue() \n",
    "q.put(10) \n",
    "q.put(5) \n",
    "q.put(20) \n",
    "q.put(15) \n",
    "while not q.empty(): \n",
    "    print(q.get(),end=' ') "
   ]
  },
  {
   "cell_type": "markdown",
   "id": "cd8fe6b6",
   "metadata": {},
   "source": [
    "### 2. LIFO Queue:\n",
    "The removal will be happend in the reverse order of insertion(Last In First Out)"
   ]
  },
  {
   "cell_type": "code",
   "execution_count": 29,
   "id": "f80ac3dd",
   "metadata": {},
   "outputs": [
    {
     "name": "stdout",
     "output_type": "stream",
     "text": [
      "15 20 5 10 "
     ]
    }
   ],
   "source": [
    "\n",
    "import queue \n",
    "q=queue.LifoQueue() \n",
    "q.put(10) \n",
    "q.put(5) \n",
    "q.put(20) \n",
    "q.put(15) \n",
    "while not q.empty(): \n",
    "    print(q.get(),end=' ')"
   ]
  },
  {
   "cell_type": "markdown",
   "id": "c024727f",
   "metadata": {},
   "source": [
    "### 3. Priority Queue:\n",
    "The elements will be inserted based on some priority order."
   ]
  },
  {
   "cell_type": "code",
   "execution_count": 30,
   "id": "6090a960",
   "metadata": {},
   "outputs": [
    {
     "name": "stdout",
     "output_type": "stream",
     "text": [
      "5 10 15 20 "
     ]
    }
   ],
   "source": [
    "\n",
    "import queue \n",
    "q=queue.PriorityQueue() \n",
    "q.put(10) \n",
    "q.put(5) \n",
    "q.put(20) \n",
    "q.put(15) \n",
    "while not q.empty(): \n",
    "    print(q.get(),end=' ') "
   ]
  },
  {
   "cell_type": "markdown",
   "id": "17d9f00b",
   "metadata": {},
   "source": [
    "Eg 2: If the data is non-numeric, then we have to provide our data in the form of tuple.\n",
    "\n",
    "    (x,y) \n",
    "    x is priority\n",
    "    y is our element\n"
   ]
  },
  {
   "cell_type": "code",
   "execution_count": 31,
   "id": "2c3ff0ea",
   "metadata": {},
   "outputs": [
    {
     "name": "stdout",
     "output_type": "stream",
     "text": [
      "AAA BBB CCC DDD "
     ]
    }
   ],
   "source": [
    "import queue \n",
    "q=queue.PriorityQueue() \n",
    "q.put((1,\"AAA\")) \n",
    "q.put((3,\"CCC\")) \n",
    "q.put((2,\"BBB\")) \n",
    "q.put((4,\"DDD\")) \n",
    "while not q.empty(): \n",
    "    print(q.get()[1],end=' ')"
   ]
  },
  {
   "cell_type": "markdown",
   "id": "bbad73ca",
   "metadata": {},
   "source": [
    "#### Good Programming Practices with usage of Locks:\n",
    "#### Case-1:\n",
    "It is highly recommended to write code of releasing locks inside finally block.The advantage is lock \n",
    "will be released always whether exception raised or not raised and whether handled or not \n",
    "handled.\n",
    "    \n",
    "    l=threading.Lock()\n",
    "    l.acquire()\n",
    "    try:\n",
    "        perform required safe operations\n",
    "    finally:\n",
    "        l.release()\n",
    "#### Demo Program"
   ]
  },
  {
   "cell_type": "code",
   "execution_count": 32,
   "id": "f1969482",
   "metadata": {},
   "outputs": [
    {
     "name": "stdout",
     "output_type": "stream",
     "text": [
      "Good Evening:"
     ]
    }
   ],
   "source": [
    "from threading import * \n",
    "import time \n",
    "l=Lock() \n",
    "def wish(name): \n",
    "    l.acquire() \n",
    "    try: \n",
    "        for i in range(10): \n",
    "            print(\"Good Evening:\",end='') \n",
    "            time.sleep(2) \n",
    "            print(name) \n",
    "    finally: \n",
    "        l.release() \n",
    "                \n",
    "t1=Thread(target=wish,args=(\"Dhoni\",)) \n",
    "t2=Thread(target=wish,args=(\"Yuvraj\",)) \n",
    "t3=Thread(target=wish,args=(\"Kohli\",)) \n",
    "t1.start() \n",
    "t2.start() \n",
    "t3.start()"
   ]
  },
  {
   "cell_type": "markdown",
   "id": "a8843751",
   "metadata": {},
   "source": [
    "#### Case-2:\n",
    "It is highly recommended to acquire lock by using with statement. The main advantage of with \n",
    "statement is the lock will be released automatically once control reaches end of with block and we \n",
    "are not required to release explicitly.\n",
    "\n",
    "\n",
    "This is exactly same as usage of with statement for files.\n",
    "\n",
    "#### Example for File:\n",
    "\n",
    "    with open('demo.txt','w') as f:\n",
    "        f.write(\"Hello...\")\n",
    "#### Example for Lock:\n",
    "\n",
    "    lock=threading.Lock()\n",
    "    with lock:\n",
    "        perform required safe operations\n",
    "        lock will be released automatically\n"
   ]
  },
  {
   "cell_type": "code",
   "execution_count": 33,
   "id": "9a7eaa12",
   "metadata": {},
   "outputs": [
    {
     "name": "stdout",
     "output_type": "stream",
     "text": [
      "Producer thread producing items:\n",
      "Producer thread giving notification by setting event\n",
      "Consumer thread got notification and consuming items\n",
      "Good Evening:Consumer waiting for updationProducer Producing Item: 31\n",
      "Producer giving Notification\n",
      "\n",
      "Consumer consumed the item: 31\n",
      "Dhoni\n",
      "Good Evening:Dhoni\n",
      "Good Evening:Dhoni\n",
      "Good Evening:Dhoni\n",
      "Good Evening:Dhoni\n",
      "Good Evening:Dhoni\n",
      "Good Evening:Producer Producing Item:Consumer waiting for updation\n",
      " 68\n",
      "Producer giving Notification\n",
      "Consumer consumed the item: 68\n",
      "Dhoni\n",
      "Good Evening:Dhoni\n",
      "Good Evening:Dhoni\n",
      "Good Evening:Dhoni\n",
      "Good Evening:Consumer waiting for updationProducer Producing Item: 7\n",
      "Producer giving Notification\n",
      "\n",
      "Consumer consumed the item: 7\n",
      "Dhoni\n",
      "Good Evening:Dhoni\n",
      "Good Evening:Dhoni\n",
      "Good Evening:Dhoni\n",
      "Good Evening:Dhoni\n",
      "Good Evening:Dhoni\n",
      "Good Evening:Consumer waiting for updation\n",
      "Producer Producing Item: 30\n",
      "Producer giving Notification\n",
      "Consumer consumed the item: 30\n",
      "Dhoni\n",
      "Good Evening:Dhoni\n",
      "Good Evening:Dhoni\n",
      "Good Evening:Dhoni\n",
      "Good Evening:Consumer waiting for updationProducer Producing Item: 64\n",
      "Producer giving Notification\n",
      "\n",
      "Consumer consumed the item: 64\n",
      "Yuvraj\n",
      "Good Evening:Yuvraj\n",
      "Good Evening:Yuvraj\n",
      "Good Evening:Yuvraj\n",
      "Good Evening:Yuvraj\n",
      "Good Evening:Yuvraj\n",
      "Good Evening:Consumer waiting for updation\n",
      "Producer Producing Item: 94\n",
      "Producer giving Notification\n",
      "Consumer consumed the item: 94\n",
      "Yuvraj\n",
      "Good Evening:Yuvraj\n",
      "Good Evening:Yuvraj\n",
      "Good Evening:Yuvraj\n",
      "Good Evening:Producer Producing Item:Consumer waiting for updation\n",
      " 93\n",
      "Producer giving Notification\n",
      "Consumer consumed the item: 93\n",
      "Yuvraj\n",
      "Good Evening:Yuvraj\n",
      "Good Evening:Yuvraj\n",
      "Good Evening:Yuvraj\n",
      "Good Evening:Yuvraj\n",
      "Good Evening:Yuvraj\n",
      "Good Evening:Consumer waiting for updation\n",
      "Producer Producing Item: 19\n",
      "Producer giving Notification\n",
      "Consumer consumed the item: 19\n",
      "Yuvraj\n",
      "Good Evening:Yuvraj\n",
      "Good Evening:Yuvraj\n",
      "Good Evening:Yuvraj\n",
      "Good Evening:Consumer waiting for updationProducer Producing Item: 95\n",
      "Producer giving Notification\n",
      "\n",
      "Consumer consumed the item: 95\n",
      "Kohli\n",
      "Good Evening:Kohli\n",
      "Good Evening:Kohli\n",
      "Good Evening:Kohli\n",
      "Good Evening:Kohli\n",
      "Good Evening:Kohli\n",
      "Good Evening:Producer Producing Item: 1\n",
      "Producer giving Notification\n",
      "Consumer waiting for updation\n",
      "Consumer consumed the item: 1\n",
      "Kohli\n",
      "Good Evening:Kohli\n",
      "Good Evening:Kohli\n",
      "Good Evening:Kohli\n",
      "Good Evening:Producer Producing Item:Consumer waiting for updation\n",
      " 11\n",
      "Producer giving Notification\n",
      "Consumer consumed the item: 11\n",
      "Kohli\n",
      "Good Evening:Kohli\n",
      "Good Evening:Kohli\n",
      "Good Evening:Kohli\n",
      "Good Evening:Kohli\n",
      "Good Evening:Kohli\n",
      "Good Evening:Producer Producing Item: 90\n",
      "Producer giving Notification\n",
      "Consumer waiting for updation\n",
      "Consumer consumed the item: 90\n",
      "Kohli\n",
      "Good Evening:Kohli\n",
      "Good Evening:Kohli\n",
      "Kohli\n",
      "Producer Producing Item:Consumer waiting for updation\n",
      " 8\n",
      "Producer giving Notification\n",
      "Consumer consumed the item: 8\n",
      "Consumer waiting for updationProducer Producing Item: 8\n",
      "Producer giving Notification\n",
      "\n",
      "Consumer consumed the item: 8\n",
      "Producer Producing Item:Consumer waiting for updation\n",
      " 56\n",
      "Producer giving Notification\n",
      "Consumer consumed the item: 56\n",
      "Producer Producing Item:Consumer waiting for updation\n",
      " 29\n",
      "Producer giving Notification\n",
      "Consumer consumed the item: 29\n",
      "Consumer waiting for updationProducer Producing Item: 36\n",
      "Producer giving Notification\n",
      "\n",
      "Consumer consumed the item: 36\n",
      "Consumer waiting for updationProducer Producing Item: 3\n",
      "Producer giving Notification\n",
      "\n",
      "Consumer consumed the item: 3\n",
      "Consumer waiting for updationProducer Producing Item: 53\n",
      "Producer giving Notification\n",
      "\n",
      "Consumer consumed the item: 53\n",
      "Consumer waiting for updationProducer Producing Item: 34\n",
      "Producer giving Notification\n",
      "\n",
      "Consumer consumed the item: 34\n",
      "Consumer waiting for updationProducer Producing Item: 26\n",
      "Producer giving Notification\n",
      "\n",
      "Consumer consumed the item: 26\n",
      "Producer Producing Item:Consumer waiting for updation\n",
      " 1\n",
      "Producer giving Notification\n",
      "Consumer consumed the item: 1\n",
      "Consumer waiting for updationProducer Producing Item: 57\n",
      "Producer giving Notification\n",
      "\n",
      "Consumer consumed the item: 57\n",
      "Producer Producing Item:Consumer waiting for updation\n",
      " 22\n",
      "Producer giving Notification\n",
      "Consumer consumed the item: 22\n",
      "Producer Producing Item:Consumer waiting for updation\n",
      " 25\n",
      "Producer giving Notification\n",
      "Consumer consumed the item: 25\n",
      "Consumer waiting for updationProducer Producing Item: 57\n",
      "Producer giving Notification\n",
      "\n",
      "Consumer consumed the item: 57\n",
      "Producer Producing Item:Consumer waiting for updation\n",
      " 43\n",
      "Producer giving Notification\n",
      "Consumer consumed the item: 43\n",
      "Consumer waiting for updationProducer Producing Item: 18\n",
      "Producer giving Notification\n",
      "\n",
      "Consumer consumed the item: 18\n",
      "Consumer waiting for updationProducer Producing Item: 18\n",
      "Producer giving Notification\n",
      "\n",
      "Consumer consumed the item: 18\n",
      "Consumer waiting for updationProducer Producing Item: 26\n",
      "Producer giving Notification\n",
      "\n",
      "Consumer consumed the item: 26\n",
      "Consumer waiting for updationProducer Producing Item: 86\n",
      "Producer giving Notification\n",
      "\n",
      "Consumer consumed the item: 86\n",
      "Producer Producing Item:Consumer waiting for updation\n",
      " 55\n",
      "Producer giving Notification\n",
      "Consumer consumed the item: 55\n",
      "Consumer waiting for updationProducer Producing Item: 93\n",
      "Producer giving Notification\n",
      "\n",
      "Consumer consumed the item: 93\n",
      "Producer Producing Item:Consumer waiting for updation\n",
      " 3\n",
      "Producer giving Notification\n",
      "Consumer consumed the item: 3\n",
      "Producer Producing Item:Consumer waiting for updation\n",
      " 50\n",
      "Producer giving Notification\n",
      "Consumer consumed the item: 50\n",
      "Producer Producing Item:Consumer waiting for updation\n",
      " 3\n",
      "Producer giving Notification\n",
      "Consumer consumed the item: 3\n",
      "Producer Producing Item:Consumer waiting for updation\n",
      " 82\n",
      "Producer giving Notification\n",
      "Consumer consumed the item: 82\n",
      "Consumer waiting for updationProducer Producing Item: 22\n",
      "Producer giving Notification\n",
      "\n",
      "Consumer consumed the item: 22\n",
      "Consumer waiting for updationProducer Producing Item: 75\n",
      "Producer giving Notification\n",
      "\n",
      "Consumer consumed the item: 75\n",
      "Consumer waiting for updationProducer Producing Item: 44\n",
      "Producer giving Notification\n",
      "\n",
      "Consumer consumed the item: 44\n",
      "Consumer waiting for updationProducer Producing Item: 97\n",
      "Producer giving Notification\n",
      "\n",
      "Consumer consumed the item: 97\n",
      "Consumer waiting for updationProducer Producing Item: 48\n",
      "Producer giving Notification\n",
      "\n",
      "Consumer consumed the item: 48\n",
      "Consumer waiting for updationProducer Producing Item: 77\n",
      "Producer giving Notification\n",
      "\n",
      "Consumer consumed the item: 77\n",
      "Consumer waiting for updationProducer Producing Item: 49\n",
      "Producer giving Notification\n",
      "\n",
      "Consumer consumed the item: 49\n",
      "Consumer waiting for updationProducer Producing Item: 27\n",
      "Producer giving Notification\n",
      "\n",
      "Consumer consumed the item: 27\n",
      "Consumer waiting for updationProducer Producing Item: 31\n",
      "Producer giving Notification\n",
      "\n",
      "Consumer consumed the item: 31\n",
      "Producer Producing Item:Consumer waiting for updation\n",
      " 73\n",
      "Producer giving Notification\n",
      "Consumer consumed the item: 73\n",
      "Consumer waiting for updationProducer Producing Item: 83\n",
      "Producer giving Notification\n",
      "\n",
      "Consumer consumed the item: 83\n",
      "Producer Producing Item:Consumer waiting for updation\n",
      " 16\n",
      "Producer giving Notification\n",
      "Consumer consumed the item: 16\n",
      "Producer Producing Item:Consumer waiting for updation\n",
      " 45\n",
      "Producer giving Notification\n",
      "Consumer consumed the item: 45\n",
      "Producer Producing Item:Consumer waiting for updation\n",
      " 77\n",
      "Producer giving Notification\n",
      "Consumer consumed the item: 77\n"
     ]
    }
   ],
   "source": [
    "\n",
    "from threading import * \n",
    "import time \n",
    "lock=Lock() \n",
    "def wish(name): \n",
    "    with lock: \n",
    "        for i in range(10): \n",
    "            print(\"Good Evening:\",end='') \n",
    "            time.sleep(2) \n",
    "            print(name) \n",
    "t1=Thread(target=wish,args=(\"Dhoni\",)) \n",
    "t2=Thread(target=wish,args=(\"Yuvraj\",)) \n",
    "t3=Thread(target=wish,args=(\"Kohli\",)) \n",
    "t1.start() \n",
    "t2.start() \n",
    "t3.start()"
   ]
  },
  {
   "cell_type": "markdown",
   "id": "92485892",
   "metadata": {},
   "source": [
    "#### Q. What is the advantage of using with statement to acquire a lock in threading?\n",
    "Lock will be released automatically once control reaches end of with block and We are not \n",
    "required to release explicitly.\n",
    "\n",
    "\n",
    "Note: We can use with statement in multithreading for the following cases:\n",
    "1. Lock\n",
    "2. RLock\n",
    "3. Semaphore\n",
    "4. Condition\n"
   ]
  }
 ],
 "metadata": {
  "kernelspec": {
   "display_name": "Python 3 (ipykernel)",
   "language": "python",
   "name": "python3"
  },
  "language_info": {
   "codemirror_mode": {
    "name": "ipython",
    "version": 3
   },
   "file_extension": ".py",
   "mimetype": "text/x-python",
   "name": "python",
   "nbconvert_exporter": "python",
   "pygments_lexer": "ipython3",
   "version": "3.9.13"
  }
 },
 "nbformat": 4,
 "nbformat_minor": 5
}
