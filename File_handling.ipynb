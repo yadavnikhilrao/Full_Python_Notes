{
 "cells": [
  {
   "cell_type": "markdown",
   "id": "5eacb76e",
   "metadata": {},
   "source": [
    "# File handling in Python  "
   ]
  },
  {
   "cell_type": "raw",
   "id": "18540a97",
   "metadata": {},
   "source": [
    "File handling in Python (also known as Python I/O) involves the reading and writing process and many other file handling options. The built-in Python methods can manage two file types, text and binary files, but they encode data differently.\n",
    "\n",
    "- Add image in notebook first is upload a image in notebook and then type----> ![](file.jpg) <--- in markdown"
   ]
  },
  {
   "cell_type": "markdown",
   "id": "273f882b",
   "metadata": {},
   "source": [
    "![](images\\file.jpg)"
   ]
  },
  {
   "cell_type": "raw",
   "id": "ac20d167",
   "metadata": {},
   "source": [
    "- Modes \n",
    "• read() ---> \"r\" (Opening a file to read)\n",
    "• write() ---> \"w\" (Writing to a file)\n",
    "• append() ---> \"a\" (Appending a file)\n",
    "• close() ----> (Closing a file)"
   ]
  },
  {
   "cell_type": "code",
   "execution_count": 3,
   "id": "69e67eb9",
   "metadata": {},
   "outputs": [
    {
     "name": "stdout",
     "output_type": "stream",
     "text": [
      "Hii, I'm Nikhil yadav\n"
     ]
    }
   ],
   "source": [
    "# Syntax ( note- if we run one time in write mode old file will be deleted so make a copy of a file ):-\n",
    "\n",
    "file=open(\"f1.txt\",\"r\")\n",
    "v=file.read()\n",
    "print(v)"
   ]
  },
  {
   "cell_type": "code",
   "execution_count": 6,
   "id": "0ec44354",
   "metadata": {},
   "outputs": [
    {
     "data": {
      "text/plain": [
       "'Hello, Nikhil !! \\nHow are you?'"
      ]
     },
     "execution_count": 6,
     "metadata": {},
     "output_type": "execute_result"
    }
   ],
   "source": [
    "file=open(\"f2.txt\",\"r\")\n",
    "v=file.read()\n",
    "v"
   ]
  },
  {
   "cell_type": "code",
   "execution_count": 7,
   "id": "5bec2199",
   "metadata": {},
   "outputs": [
    {
     "name": "stdout",
     "output_type": "stream",
     "text": [
      "file dosen't same\n"
     ]
    }
   ],
   "source": [
    "f1=open(\"f1.txt\",\"r\")\n",
    "f2=open(\"f2.txt\",\"r\")\n",
    "if f1==f2:\n",
    "    print(\"file is same\")\n",
    "else:\n",
    "    print(\"file dosen't same\")"
   ]
  },
  {
   "cell_type": "code",
   "execution_count": 10,
   "id": "f7a1a2ad",
   "metadata": {},
   "outputs": [],
   "source": [
    "file=open(\"f2.txt\",\"w\")\n",
    "file.write(\"My name is nikhil yadav\\nand her name is prakriti yadav\")\n",
    "file.close()"
   ]
  },
  {
   "cell_type": "code",
   "execution_count": 11,
   "id": "6461c06f",
   "metadata": {},
   "outputs": [
    {
     "name": "stdout",
     "output_type": "stream",
     "text": [
      "My name is nikhil yadav\n",
      "and her name is prakriti yadav\n"
     ]
    }
   ],
   "source": [
    "file=open(\"f2.txt\",\"r\")\n",
    "v=file.read()\n",
    "print(v)"
   ]
  },
  {
   "cell_type": "code",
   "execution_count": 13,
   "id": "7ba2c817",
   "metadata": {},
   "outputs": [],
   "source": [
    "# print tabel in file by write a file\n",
    "\n",
    "tabel=open(\"tabel.txt\",\"w\")\n",
    "for i in range(1,11):\n",
    "    tabel.write(str(2*i)+\"\\n\")\n",
    "tabel.close()"
   ]
  },
  {
   "cell_type": "code",
   "execution_count": 16,
   "id": "baa67b84",
   "metadata": {},
   "outputs": [
    {
     "name": "stdout",
     "output_type": "stream",
     "text": [
      "110\n"
     ]
    }
   ],
   "source": [
    "# add all char of this tabel\n",
    "\n",
    "file=open(\"tabel.txt\",\"r\")\n",
    "s=0\n",
    "for i in file:\n",
    "    s=s+int(i)\n",
    "print(s)"
   ]
  },
  {
   "cell_type": "code",
   "execution_count": 18,
   "id": "d8c3712f",
   "metadata": {},
   "outputs": [],
   "source": [
    "# replace \"a\" with \"i\" in file\n",
    "\n",
    "file=open(\"f2.txt\",\"r\")\n",
    "for i in file:\n",
    "    x=i.replace(\"a\",\"i\")\n",
    "file=open(\"f2.txt\",\"w\")\n",
    "file.write(x)\n",
    "file.close()"
   ]
  },
  {
   "cell_type": "code",
   "execution_count": 21,
   "id": "7ebcd802",
   "metadata": {},
   "outputs": [
    {
     "name": "stdout",
     "output_type": "stream",
     "text": [
      "Hii, I'm Nikhil yadav 4\n",
      "[\"Hii, I'm Nikhil yadav   4\"]\n"
     ]
    }
   ],
   "source": [
    "file=open(\"f1.txt\",\"r\")\n",
    "l=[]\n",
    "for i in file:\n",
    "    print(i,len(i.split()))\n",
    "    l.append(i.replace(\"\\n\",\" \")+\"   \"+str(len(i.split())))\n",
    "print(l)"
   ]
  },
  {
   "cell_type": "code",
   "execution_count": 22,
   "id": "1d3a1db4",
   "metadata": {},
   "outputs": [],
   "source": [
    "# one file data append in other file\n",
    "file1 = open(\"f1.txt\",\"r\")\n",
    "file2 = open(\"f2.txt\",\"a\")\n",
    "a = file1.read()\n",
    "file2.write(\"\\n\"+a)\n",
    "file2.close()"
   ]
  },
  {
   "cell_type": "code",
   "execution_count": 23,
   "id": "f04e5e2e",
   "metadata": {},
   "outputs": [
    {
     "name": "stdout",
     "output_type": "stream",
     "text": [
      "ind her nime is prikriti yidiv\n",
      "Hii, I'm Nikhil yadav\n"
     ]
    }
   ],
   "source": [
    "file = open(\"f2.txt\",\"r\")\n",
    "x = file.read()\n",
    "print(x)"
   ]
  },
  {
   "cell_type": "code",
   "execution_count": 25,
   "id": "023b36a7",
   "metadata": {},
   "outputs": [
    {
     "name": "stdout",
     "output_type": "stream",
     "text": [
      "enter the file: nik\n"
     ]
    }
   ],
   "source": [
    "# make a files by user input \n",
    "x = input(\"enter the file: \")\n",
    "file = open(\"\"+x+\".txt\",\"w\")\n",
    "file.write(x)\n",
    "file.close()"
   ]
  },
  {
   "cell_type": "code",
   "execution_count": 26,
   "id": "342c0c65",
   "metadata": {},
   "outputs": [
    {
     "name": "stdout",
     "output_type": "stream",
     "text": [
      "entar the file number:2\n"
     ]
    }
   ],
   "source": [
    "# create multiple files by user input\n",
    "x = int(input(\"entar the file number:\"))\n",
    "for i in range(1,x+1):\n",
    "    file = open(\"d:\"+str(i)+\".txt\",\"w\")\n",
    "    file.write(str(i))\n",
    "    file.close()"
   ]
  },
  {
   "cell_type": "code",
   "execution_count": 29,
   "id": "6d9cb475",
   "metadata": {},
   "outputs": [
    {
     "name": "stdout",
     "output_type": "stream",
     "text": [
      "enter the file number: nik\n",
      "nik\n"
     ]
    }
   ],
   "source": [
    "# read a file by user input\n",
    "x = input(\"enter the file number: \")\n",
    "file = open(\"\"+x+\".txt\",\"r\")\n",
    "v = file.read()\n",
    "print(v)"
   ]
  },
  {
   "cell_type": "code",
   "execution_count": 30,
   "id": "55a9aadc",
   "metadata": {},
   "outputs": [],
   "source": [
    "# print tabel 1 to 10 in seprate file \n",
    "# (note - if we open a file in write mode old data will be automatic deleted and the new data save)\n",
    "for i in range(1,11):\n",
    "    file=open('d:'+str(i)+'.txt','w')\n",
    "    for  j in range(1,11):\n",
    "        file.write(str(i*j)+'\\n')\n",
    "    file.close()"
   ]
  },
  {
   "cell_type": "code",
   "execution_count": 31,
   "id": "d21bb8d2",
   "metadata": {},
   "outputs": [],
   "source": [
    "# print a triangle pattern in file\n",
    "file=open('d:pattern.txt','w')\n",
    "n=0\n",
    "for i in range(4,-1,-1):\n",
    "    file.write(' '*i+'*'+' *'*n+'\\n')\n",
    "    n=n+1\n",
    "file.close()"
   ]
  },
  {
   "cell_type": "code",
   "execution_count": 32,
   "id": "794ab220",
   "metadata": {},
   "outputs": [],
   "source": [
    "# print alphabets a to z \n",
    "file=open('d:abc.txt','w')\n",
    "n=122\n",
    "for i in range(97,123):\n",
    "    file.write(chr(i)+'\\n')\n",
    "    n=n-1\n",
    "file.close()"
   ]
  },
  {
   "cell_type": "code",
   "execution_count": 33,
   "id": "fcd68f99",
   "metadata": {},
   "outputs": [],
   "source": [
    "# print alphabets a to z and 2nd in reverse way\n",
    "file=open('d:abc.txt','w')\n",
    "n=122\n",
    "for i in range(97,123):\n",
    "    file.write(chr(i)+chr(n)+'\\n')\n",
    "    n=n-1\n",
    "file.close()"
   ]
  },
  {
   "cell_type": "code",
   "execution_count": 34,
   "id": "f16d8005",
   "metadata": {},
   "outputs": [
    {
     "name": "stdout",
     "output_type": "stream",
     "text": [
      "qblfri"
     ]
    }
   ],
   "source": [
    "# print the these chr's first letter and 2nd's next letter\n",
    "r='ramesh'\n",
    "w=-1\n",
    "for i in range(len(r)):\n",
    "    print(chr(ord(r[i])+w),end='')\n",
    "    w=w*(-1)"
   ]
  },
  {
   "cell_type": "code",
   "execution_count": 35,
   "id": "a9986844",
   "metadata": {},
   "outputs": [
    {
     "name": "stdout",
     "output_type": "stream",
     "text": [
      "-1\n"
     ]
    }
   ],
   "source": [
    "w=1\n",
    "for i in range(w):\n",
    "    w=w*(-1)\n",
    "    print(w)    "
   ]
  },
  {
   "cell_type": "code",
   "execution_count": 36,
   "id": "fd602595",
   "metadata": {},
   "outputs": [
    {
     "name": "stdout",
     "output_type": "stream",
     "text": [
      "r\n"
     ]
    }
   ],
   "source": [
    "print(chr(114))"
   ]
  },
  {
   "cell_type": "code",
   "execution_count": 37,
   "id": "607217a2",
   "metadata": {},
   "outputs": [
    {
     "name": "stdout",
     "output_type": "stream",
     "text": [
      "e\n"
     ]
    }
   ],
   "source": [
    "a=\"ababcdcdef\"\n",
    "for i in a:\n",
    "    if a.count(i)==1:\n",
    "        print(i)\n",
    "        break"
   ]
  },
  {
   "cell_type": "code",
   "execution_count": 38,
   "id": "626f7472",
   "metadata": {},
   "outputs": [
    {
     "name": "stdout",
     "output_type": "stream",
     "text": [
      "a\n",
      "b\n",
      "c\n",
      "d\n",
      "e\n",
      "f\n",
      "g\n",
      "h\n",
      "i\n",
      "j\n",
      "k\n",
      "l\n",
      "m\n",
      "n\n",
      "o\n",
      "p\n",
      "q\n",
      "r\n",
      "s\n",
      "t\n",
      "u\n",
      "v\n",
      "w\n",
      "x\n",
      "y\n",
      "z\n"
     ]
    }
   ],
   "source": [
    "for i in range(97,123):\n",
    "    print(chr(i))"
   ]
  },
  {
   "cell_type": "code",
   "execution_count": 39,
   "id": "bccf4734",
   "metadata": {},
   "outputs": [
    {
     "name": "stdout",
     "output_type": "stream",
     "text": [
      "A\n",
      "B\n",
      "C\n",
      "D\n",
      "E\n",
      "F\n",
      "G\n",
      "H\n",
      "I\n",
      "J\n",
      "K\n",
      "L\n",
      "M\n",
      "N\n",
      "O\n",
      "P\n",
      "Q\n",
      "R\n",
      "S\n",
      "T\n",
      "U\n",
      "V\n",
      "W\n",
      "X\n",
      "Y\n",
      "Z\n"
     ]
    }
   ],
   "source": [
    "for i in range(65,91):\n",
    "    print(chr(i))"
   ]
  },
  {
   "cell_type": "code",
   "execution_count": 42,
   "id": "8fa4624e",
   "metadata": {},
   "outputs": [],
   "source": [
    "# reverse all the elemennts presence in the file\n",
    "file = open(\"hello.txt\",\"r\")\n",
    "x=[]\n",
    "for i in file:\n",
    "    c=(i[::-1].replace('\\n',''))\n",
    "    x.append(c)\n",
    "file2=open(\"hello.txt\",\"w\")\n",
    "for i in x:    \n",
    "    file2.write(i+\"\\n\")\n",
    "file2.close()\n",
    "    "
   ]
  },
  {
   "cell_type": "code",
   "execution_count": 44,
   "id": "c4a1b388",
   "metadata": {},
   "outputs": [
    {
     "name": "stdout",
     "output_type": "stream",
     "text": [
      "total number of line  0\n",
      "total number of words 0\n",
      "total number of character 0\n"
     ]
    }
   ],
   "source": [
    "# count all lines, words and chraracters\n",
    "f1=open(\"hello.txt\",\"r\")\n",
    "l=0\n",
    "w=0\n",
    "c=0\n",
    "for i in f1:\n",
    "    l=l+1\n",
    "    for j in i.split():\n",
    "        w=w+1\n",
    "        for k in j:\n",
    "            c=c+1\n",
    "print(\"total number of line \",l)\n",
    "print(\"total number of words\",w)\n",
    "print(\"total number of character\",c)"
   ]
  },
  {
   "cell_type": "code",
   "execution_count": 46,
   "id": "e5765292",
   "metadata": {},
   "outputs": [
    {
     "name": "stdout",
     "output_type": "stream",
     "text": [
      "enter sno.2\n",
      "not found\n"
     ]
    }
   ],
   "source": [
    "file = open(\"tu.txt\",'r')\n",
    "a=file.read()\n",
    "b=input(\"enter sno.\")\n",
    "flag=0\n",
    "v=[]\n",
    "for i in file:\n",
    "    v.append(i)\n",
    "for j in v:\n",
    "    if(i.split(',')[0]==b):\n",
    "        i.split(',')[1]=input('enter name')\n",
    "        flag=1\n",
    "file1=open(\"tu.txt\",'w')\n",
    "for k in v:\n",
    "    file1.write(k+'\\n')\n",
    "file1.close()\n",
    "\n",
    "if(flag==0):\n",
    "    print('not found')\n",
    "   \n",
    "    "
   ]
  },
  {
   "cell_type": "code",
   "execution_count": 47,
   "id": "19f9a1f0",
   "metadata": {},
   "outputs": [
    {
     "ename": "IndexError",
     "evalue": "list index out of range",
     "output_type": "error",
     "traceback": [
      "\u001b[1;31m---------------------------------------------------------------------------\u001b[0m",
      "\u001b[1;31mIndexError\u001b[0m                                Traceback (most recent call last)",
      "Input \u001b[1;32mIn [47]\u001b[0m, in \u001b[0;36m<cell line: 1>\u001b[1;34m()\u001b[0m\n\u001b[1;32m----> 1\u001b[0m \u001b[43mv\u001b[49m\u001b[43m[\u001b[49m\u001b[43mj\u001b[49m\u001b[43m]\u001b[49m\u001b[38;5;241m.\u001b[39msplit(\u001b[38;5;124m'\u001b[39m\u001b[38;5;124m,\u001b[39m\u001b[38;5;124m'\u001b[39m)[\u001b[38;5;241m1\u001b[39m]\n",
      "\u001b[1;31mIndexError\u001b[0m: list index out of range"
     ]
    }
   ],
   "source": [
    "v[j].split(',')[1]"
   ]
  },
  {
   "cell_type": "code",
   "execution_count": 49,
   "id": "0421157a",
   "metadata": {},
   "outputs": [
    {
     "name": "stdout",
     "output_type": "stream",
     "text": [
      "Enter course: MCA\n"
     ]
    }
   ],
   "source": [
    "file=open('hi.txt','r')\n",
    "v=[]\n",
    "for i in file:\n",
    "    v.append(i)\n",
    "dn=input('Enter course: ')\n",
    "for j in range(len(v)):\n",
    "    if(v[j].split(',')[0]==dn):\n",
    "        v[j].split(',')[1].input(\"Enter name\")"
   ]
  },
  {
   "cell_type": "code",
   "execution_count": 50,
   "id": "5634f58b",
   "metadata": {},
   "outputs": [],
   "source": [
    "file = open('d:filhn.txt','w')"
   ]
  },
  {
   "cell_type": "code",
   "execution_count": 51,
   "id": "f349041f",
   "metadata": {},
   "outputs": [],
   "source": [
    "file.write('This is my india \\n I love my india \\n india')\n",
    "file.close()"
   ]
  },
  {
   "cell_type": "code",
   "execution_count": 52,
   "id": "5cfb92c2",
   "metadata": {},
   "outputs": [],
   "source": [
    "file = open('d:filhn.txt','r')\n",
    "val = file.read()\n",
    "val = val.replace('india','USA')\n",
    "f = open(\"d:filhn.txt\",'w')\n",
    "f.write(val)\n",
    "f.close()"
   ]
  },
  {
   "cell_type": "code",
   "execution_count": 53,
   "id": "623a03a3",
   "metadata": {},
   "outputs": [
    {
     "name": "stdout",
     "output_type": "stream",
     "text": [
      "This is my USA \n",
      " I love my USA \n",
      " USA\n"
     ]
    }
   ],
   "source": [
    "file = open('d:filhn.txt','r')\n",
    "val = file.read()\n",
    "print(val)"
   ]
  },
  {
   "cell_type": "code",
   "execution_count": 54,
   "id": "88ab16c4",
   "metadata": {},
   "outputs": [],
   "source": [
    "file = open('d:table5.txt','w')\n",
    "for i in range(1,11):\n",
    "    file.write(str(i*5))\n",
    "    file.write('\\n')\n",
    "file.close()"
   ]
  },
  {
   "cell_type": "code",
   "execution_count": 55,
   "id": "91c4eeec",
   "metadata": {},
   "outputs": [
    {
     "name": "stdout",
     "output_type": "stream",
     "text": [
      "5\n",
      "10\n",
      "15\n",
      "20\n",
      "25\n",
      "30\n",
      "35\n",
      "40\n",
      "45\n",
      "50\n",
      "\n"
     ]
    }
   ],
   "source": [
    "file = open('d:table5.txt','r')\n",
    "table = file.read()\n",
    "print(table)"
   ]
  },
  {
   "cell_type": "raw",
   "id": "c9d165e3",
   "metadata": {},
   "source": [
    "import re\n",
    "file = open(\"cleanfile.txt\",'w')\n",
    "val = file.write(\"my% #name? is# n$ikhi#l f#r@om B$sr\")\n",
    "temp = re.sub('[^a-z]','',val)\n",
    "f = open('cleanfile.txt','w')\n",
    "f.write(temp)\n",
    "f.close()"
   ]
  },
  {
   "cell_type": "code",
   "execution_count": 71,
   "id": "fc5e7411",
   "metadata": {},
   "outputs": [],
   "source": [
    "# create file\n",
    "file = open(\"filehnd.txt\",\"w\")\n",
    "# read file\n",
    "file = open(\"filehnd.txt\",\"r\")"
   ]
  },
  {
   "cell_type": "code",
   "execution_count": 72,
   "id": "bd1aec83",
   "metadata": {},
   "outputs": [
    {
     "data": {
      "text/plain": [
       "''"
      ]
     },
     "execution_count": 72,
     "metadata": {},
     "output_type": "execute_result"
    }
   ],
   "source": [
    "file.read()"
   ]
  },
  {
   "cell_type": "code",
   "execution_count": 73,
   "id": "065588c3",
   "metadata": {},
   "outputs": [
    {
     "name": "stdout",
     "output_type": "stream",
     "text": [
      "Enter the Text: hii\n"
     ]
    }
   ],
   "source": [
    "file = open(\"filehnd.txt\",\"w\")\n",
    "txt = input(\"Enter the Text: \")\n",
    "file.write(txt)\n",
    "file.close()"
   ]
  },
  {
   "cell_type": "code",
   "execution_count": 74,
   "id": "d29b9ed2",
   "metadata": {},
   "outputs": [
    {
     "data": {
      "text/plain": [
       "'hii'"
      ]
     },
     "execution_count": 74,
     "metadata": {},
     "output_type": "execute_result"
    }
   ],
   "source": [
    "file = open(\"filehnd.txt\",\"r\")\n",
    "file.read()"
   ]
  },
  {
   "cell_type": "code",
   "execution_count": null,
   "id": "feca4190",
   "metadata": {},
   "outputs": [],
   "source": []
  }
 ],
 "metadata": {
  "kernelspec": {
   "display_name": "Python 3 (ipykernel)",
   "language": "python",
   "name": "python3"
  },
  "language_info": {
   "codemirror_mode": {
    "name": "ipython",
    "version": 3
   },
   "file_extension": ".py",
   "mimetype": "text/x-python",
   "name": "python",
   "nbconvert_exporter": "python",
   "pygments_lexer": "ipython3",
   "version": "3.9.13"
  }
 },
 "nbformat": 4,
 "nbformat_minor": 5
}
